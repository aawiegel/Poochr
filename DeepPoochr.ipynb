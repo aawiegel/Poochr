{
 "cells": [
  {
   "cell_type": "code",
   "execution_count": 15,
   "metadata": {},
   "outputs": [],
   "source": [
    "import pandas as pd\n",
    "import numpy as np\n",
    "import pymongo\n",
    "from sklearn.feature_extraction.text import CountVectorizer, TfidfVectorizer\n",
    "from sklearn.metrics.pairwise import cosine_similarity\n",
    "from bs4 import BeautifulSoup\n",
    "\n",
    "import nltk\n",
    "import gensim"
   ]
  },
  {
   "cell_type": "code",
   "execution_count": 3,
   "metadata": {},
   "outputs": [
    {
     "name": "stdout",
     "output_type": "stream",
     "text": [
      "--2017-10-27 14:14:11--  https://s3.amazonaws.com/mordecai-geo/GoogleNews-vectors-negative300.bin.gz\n",
      "Resolving s3.amazonaws.com (s3.amazonaws.com)... 52.216.161.157\n",
      "Connecting to s3.amazonaws.com (s3.amazonaws.com)|52.216.161.157|:443... connected.\n",
      "HTTP request sent, awaiting response... 200 OK\n",
      "Length: 1647046227 (1.5G) [application/octet-stream]\n",
      "Saving to: ‘GoogleNews-vectors-negative300.bin.gz’\n",
      "\n",
      "GoogleNews-vectors- 100%[===================>]   1.53G  1.52MB/s    in 13m 25s \n",
      "\n",
      "2017-10-27 14:27:37 (1.95 MB/s) - ‘GoogleNews-vectors-negative300.bin.gz’ saved [1647046227/1647046227]\n",
      "\n"
     ]
    }
   ],
   "source": [
    "#Get pretrained vectors for word2vec\n",
    "\n",
    "!wget https://s3.amazonaws.com/mordecai-geo/GoogleNews-vectors-negative300.bin.gz"
   ]
  },
  {
   "cell_type": "markdown",
   "metadata": {},
   "source": [
    "## Load pretrained word2vec model"
   ]
  },
  {
   "cell_type": "code",
   "execution_count": 6,
   "metadata": {
    "collapsed": true
   },
   "outputs": [],
   "source": [
    "gnews_w2v = gensim.models.KeyedVectors.load_word2vec_format('GoogleNews-vectors-negative300.bin.gz', binary=True)"
   ]
  },
  {
   "cell_type": "code",
   "execution_count": 8,
   "metadata": {},
   "outputs": [
    {
     "data": {
      "text/plain": [
       "[('queen', 0.7118192911148071),\n",
       " ('monarch', 0.6189674139022827),\n",
       " ('princess', 0.5902431607246399),\n",
       " ('crown_prince', 0.5499460697174072),\n",
       " ('prince', 0.5377321243286133),\n",
       " ('kings', 0.5236844420433044),\n",
       " ('Queen_Consort', 0.5235945582389832),\n",
       " ('queens', 0.5181134343147278),\n",
       " ('sultan', 0.5098593235015869),\n",
       " ('monarchy', 0.5087411999702454)]"
      ]
     },
     "execution_count": 8,
     "metadata": {},
     "output_type": "execute_result"
    }
   ],
   "source": [
    "gnews_w2v.most_similar(positive=['woman', 'king'], negative=['man'])"
   ]
  },
  {
   "cell_type": "code",
   "execution_count": 22,
   "metadata": {},
   "outputs": [
    {
     "data": {
      "text/plain": [
       "[('apartment_complex', 0.7893964052200317),\n",
       " ('townhouse', 0.7727404236793518),\n",
       " ('apartments', 0.7152601480484009),\n",
       " ('bedroom', 0.7045778632164001),\n",
       " ('Apartments', 0.6661036014556885),\n",
       " ('house', 0.6628996133804321),\n",
       " ('duplex', 0.6575543880462646),\n",
       " ('rooming_house', 0.6564425230026245),\n",
       " ('townhome', 0.6522176265716553),\n",
       " ('fourplex', 0.648613691329956)]"
      ]
     },
     "execution_count": 22,
     "metadata": {},
     "output_type": "execute_result"
    }
   ],
   "source": [
    "gnews_w2v.most_similar(positive=['apartment'])"
   ]
  },
  {
   "cell_type": "code",
   "execution_count": 34,
   "metadata": {},
   "outputs": [
    {
     "data": {
      "text/plain": [
       "array([[ 0.11135036]], dtype=float32)"
      ]
     },
     "execution_count": 34,
     "metadata": {},
     "output_type": "execute_result"
    }
   ],
   "source": [
    "cosine_similarity(gnews_w2v['dog'].reshape(1, -1), gnews_w2v['small'].reshape(1, -1))"
   ]
  },
  {
   "cell_type": "markdown",
   "metadata": {},
   "source": [
    "## Load pre-trained GloVe model"
   ]
  },
  {
   "cell_type": "code",
   "execution_count": 2,
   "metadata": {
    "collapsed": true
   },
   "outputs": [],
   "source": [
    "wiki_w2v = gensim.models.KeyedVectors.load_word2vec_format('./data/glove_w2v_small.txt')"
   ]
  },
  {
   "cell_type": "code",
   "execution_count": 12,
   "metadata": {},
   "outputs": [
    {
     "data": {
      "text/plain": [
       "array([[ 0.70083666]], dtype=float32)"
      ]
     },
     "execution_count": 12,
     "metadata": {},
     "output_type": "execute_result"
    }
   ],
   "source": [
    "cosine_similarity(wiki_w2v['small'].reshape(1, -1), wiki_w2v['big'].reshape(1, -1))"
   ]
  },
  {
   "cell_type": "code",
   "execution_count": 4,
   "metadata": {},
   "outputs": [
    {
     "data": {
      "text/plain": [
       "array([ 0.11008   , -0.38780999, -0.57615   , -0.27713999,  0.70520997,\n",
       "        0.53994   , -1.07860005, -0.40145999,  1.15040004, -0.56779999,\n",
       "        0.0038977 ,  0.52877998,  0.64560997,  0.47262001,  0.48548999,\n",
       "       -0.18407001,  0.18009999,  0.91396999, -1.19790006, -0.57779998,\n",
       "       -0.37985   ,  0.33605999,  0.77200001,  0.75555003,  0.45506001,\n",
       "       -1.76709998, -1.0503    ,  0.42566001,  0.41892999, -0.68326998,\n",
       "        1.56729996,  0.27684999, -0.61707997,  0.64638001, -0.076996  ,\n",
       "        0.37118   ,  0.13079999, -0.45137   ,  0.25398001, -0.74392003,\n",
       "       -0.086199  ,  0.24067999, -0.64819002,  0.83548999,  1.25020003,\n",
       "       -0.51379001,  0.04224   , -0.88117999,  0.71579999,  0.38519001], dtype=float32)"
      ]
     },
     "execution_count": 4,
     "metadata": {},
     "output_type": "execute_result"
    }
   ],
   "source": [
    "wiki_w2v['dog']"
   ]
  },
  {
   "cell_type": "markdown",
   "metadata": {},
   "source": [
    "## Generate dog vectors"
   ]
  },
  {
   "cell_type": "code",
   "execution_count": 14,
   "metadata": {
    "collapsed": true
   },
   "outputs": [],
   "source": [
    "def generate_text_from_num(dogtime_html, synonyms, antonyms):\n",
    "    \"\"\"\n",
    "    Given a BeautifulSoup object dogtime_html generated from the dogtime website,\n",
    "    generate text from numeric features using synonym and antonym dictionaries\n",
    "    \"\"\"\n",
    "    dog_text = ''\n",
    "    \n",
    "    char_dict = dict()\n",
    "    for characteristic in dogtime_html.find_all(class_=\"characteristic item-trigger-title\"):\n",
    "        char_dict[characteristic.text.strip()] =\\\n",
    "                int(characteristic.find_next().find_next()['class'][1].split('-')[-1])\n",
    "    \n",
    "    for trait, value in char_dict.items():\n",
    "        if value > 3:\n",
    "            factor = value - 3\n",
    "\n",
    "            dog_text += factor*(synonyms[trait]+' ')\n",
    "            \n",
    "        elif value < 3:\n",
    "            factor = 3 - value\n",
    "            \n",
    "            dog_text += factor*(antonyms[trait]+' ')\n",
    "    \n",
    "    return dog_text"
   ]
  },
  {
   "cell_type": "code",
   "execution_count": 6,
   "metadata": {
    "collapsed": true
   },
   "outputs": [],
   "source": [
    "client = pymongo.MongoClient(\"mongodb://54.67.82.182/dogbreeds\")\n",
    "db = client.dogbreeds"
   ]
  },
  {
   "cell_type": "code",
   "execution_count": 11,
   "metadata": {
    "collapsed": true
   },
   "outputs": [],
   "source": [
    "trait_synonyms = dict()\n",
    "trait_synonyms['Adaptability'] = 'adaptable'\n",
    "trait_synonyms['Adapts Well to Apartment Living'] = 'apartment'\n",
    "trait_synonyms['Affectionate with Family'] = 'cuddly'\n",
    "trait_synonyms['All Around Friendliness'] = 'friendly'\n",
    "trait_synonyms['Amount Of Shedding'] = ''\n",
    "trait_synonyms['Dog Friendly'] = 'other dogs'\n",
    "trait_synonyms['Drooling Potential'] = ''\n",
    "trait_synonyms['Easy To Groom'] = 'grooming'\n",
    "trait_synonyms['Easy To Train'] = 'trainable'\n",
    "trait_synonyms['Energy Level'] = 'energetic'\n",
    "trait_synonyms['Exercise Needs'] = 'active'\n",
    "trait_synonyms['Friendly Toward Strangers'] = 'friendly'\n",
    "trait_synonyms['General Health'] = 'healthy'\n",
    "trait_synonyms['Good For Novice Owners'] = 'novice'\n",
    "trait_synonyms['Health Grooming'] = 'healthy'\n",
    "trait_synonyms['Incredibly Kid Friendly Dogs'] = 'children'\n",
    "trait_synonyms['Intelligence'] = 'intelligent'\n",
    "trait_synonyms['Intensity'] = ''\n",
    "trait_synonyms['Potential For Mouthiness'] = 'fetch'\n",
    "trait_synonyms['Potential For Playfulness'] = 'playful'\n",
    "trait_synonyms['Potential For Weight Gain'] = ''\n",
    "trait_synonyms['Prey Drive'] = 'hunting'\n",
    "trait_synonyms['Sensitivity Level'] = ''\n",
    "trait_synonyms['Size'] = 'big'\n",
    "trait_synonyms['Tendency To Bark Or Howl'] = ''\n",
    "trait_synonyms['Tolerates Being Alone'] = 'alone'\n",
    "trait_synonyms['Tolerates Cold Weather'] = 'cold'\n",
    "trait_synonyms['Tolerates Hot Weather'] = 'hot'\n",
    "trait_synonyms['Trainability'] = 'trainable'\n",
    "trait_synonyms['Wanderlust Potential'] = ''"
   ]
  },
  {
   "cell_type": "code",
   "execution_count": 13,
   "metadata": {
    "collapsed": true
   },
   "outputs": [],
   "source": [
    "trait_antonyms = dict()\n",
    "trait_antonyms['Adaptability'] = ''\n",
    "trait_antonyms['Adapts Well to Apartment Living'] = 'yard'\n",
    "trait_antonyms['Affectionate with Family'] = ''\n",
    "trait_antonyms['All Around Friendliness'] = ''\n",
    "trait_antonyms['Amount Of Shedding'] = 'clean'\n",
    "trait_antonyms['Dog Friendly'] = 'protective'\n",
    "trait_antonyms['Drooling Potential'] = 'clean'\n",
    "trait_antonyms['Easy To Groom'] = ''\n",
    "trait_antonyms['Easy To Train'] = ''\n",
    "trait_antonyms['Energy Level'] = 'calm'\n",
    "trait_antonyms['Exercise Needs'] = 'lazy'\n",
    "trait_antonyms['Friendly Toward Strangers'] = 'security'\n",
    "trait_antonyms['General Health'] = ''\n",
    "trait_antonyms['Good For Novice Owners'] = ''\n",
    "trait_antonyms['Health Grooming'] = ''\n",
    "trait_antonyms['Incredibly Kid Friendly Dogs'] = ''\n",
    "trait_antonyms['Intelligence'] = ''\n",
    "trait_antonyms['Intensity'] = 'relaxed'\n",
    "trait_antonyms['Potential For Mouthiness'] = 'safe'\n",
    "trait_antonyms['Potential For Playfulness'] = 'aloof'\n",
    "trait_antonyms['Potential For Weight Gain'] = 'thin'\n",
    "trait_antonyms['Prey Drive'] = ''\n",
    "trait_antonyms['Sensitivity Level'] = 'adaptable'\n",
    "trait_antonyms['Size'] = 'small'\n",
    "trait_antonyms['Tendency To Bark Or Howl'] = 'quiet'\n",
    "trait_antonyms['Tolerates Being Alone'] = ''\n",
    "trait_antonyms['Tolerates Cold Weather'] = ''\n",
    "trait_antonyms['Tolerates Hot Weather'] = ''\n",
    "trait_antonyms['Trainability'] = ''\n",
    "trait_antonyms['Wanderlust Potential'] = 'homebody'"
   ]
  },
  {
   "cell_type": "code",
   "execution_count": null,
   "metadata": {
    "collapsed": true
   },
   "outputs": [],
   "source": []
  }
 ],
 "metadata": {
  "kernelspec": {
   "display_name": "Python 3",
   "language": "python",
   "name": "python3"
  },
  "language_info": {
   "codemirror_mode": {
    "name": "ipython",
    "version": 3
   },
   "file_extension": ".py",
   "mimetype": "text/x-python",
   "name": "python",
   "nbconvert_exporter": "python",
   "pygments_lexer": "ipython3",
   "version": "3.6.3"
  }
 },
 "nbformat": 4,
 "nbformat_minor": 2
}
