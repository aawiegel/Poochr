{
 "cells": [
  {
   "cell_type": "code",
   "execution_count": 1,
   "metadata": {
    "collapsed": true
   },
   "outputs": [],
   "source": [
    "import pandas as pd\n",
    "import numpy as np\n",
    "from bs4 import BeautifulSoup\n",
    "import requests\n",
    "import random\n",
    "import os\n",
    "import re\n",
    "import time\n",
    "import matplotlib.pyplot as plt\n",
    "import seaborn as sns\n",
    "from fake_useragent import UserAgent\n",
    "import pymongo\n",
    "\n",
    "%matplotlib inline\n",
    "\n",
    "data_dir = os.path.join(os.path.curdir, \"data\")"
   ]
  },
  {
   "cell_type": "markdown",
   "metadata": {},
   "source": [
    "### Download Stanford dogs to start"
   ]
  },
  {
   "cell_type": "code",
   "execution_count": 3,
   "metadata": {
    "collapsed": true
   },
   "outputs": [],
   "source": [
    "if not os.path.exists(data_dir):\n",
    "    os.makedirs(data_dir)"
   ]
  },
  {
   "cell_type": "code",
   "execution_count": 5,
   "metadata": {},
   "outputs": [
    {
     "name": "stdout",
     "output_type": "stream",
     "text": [
      "--2017-09-01 23:00:16--  http://vision.stanford.edu/aditya86/ImageNetDogs/images.tar\n",
      "Resolving vision.stanford.edu (vision.stanford.edu)... 171.64.68.10\n",
      "Connecting to vision.stanford.edu (vision.stanford.edu)|171.64.68.10|:80... connected.\n",
      "HTTP request sent, awaiting response... 200 OK\n",
      "Length: 793579520 (757M) [application/x-tar]\n",
      "Saving to: ‘./data/images.tar’\n",
      "\n",
      "images.tar          100%[===================>] 756.82M  49.7MB/s    in 34s     \n",
      "\n",
      "2017-09-01 23:00:50 (22.3 MB/s) - ‘./data/images.tar’ saved [793579520/793579520]\n",
      "\n"
     ]
    }
   ],
   "source": [
    "!wget -P ./data/ http://vision.stanford.edu/aditya86/ImageNetDogs/images.tar "
   ]
  },
  {
   "cell_type": "code",
   "execution_count": 6,
   "metadata": {},
   "outputs": [
    {
     "name": "stdout",
     "output_type": "stream",
     "text": [
      "--2017-09-01 23:01:02--  http://vision.stanford.edu/aditya86/ImageNetDogs/annotation.tar\n",
      "Resolving vision.stanford.edu (vision.stanford.edu)... 171.64.68.10\n",
      "Connecting to vision.stanford.edu (vision.stanford.edu)|171.64.68.10|:80... connected.\n",
      "HTTP request sent, awaiting response... 200 OK\n",
      "Length: 21852160 (21M) [application/x-tar]\n",
      "Saving to: ‘./data/annotation.tar’\n",
      "\n",
      "annotation.tar      100%[===================>]  20.84M  22.5MB/s    in 0.9s    \n",
      "\n",
      "2017-09-01 23:01:03 (22.5 MB/s) - ‘./data/annotation.tar’ saved [21852160/21852160]\n",
      "\n"
     ]
    }
   ],
   "source": [
    "!wget -P ./data http://vision.stanford.edu/aditya86/ImageNetDogs/annotation.tar"
   ]
  },
  {
   "cell_type": "code",
   "execution_count": 7,
   "metadata": {},
   "outputs": [
    {
     "name": "stdout",
     "output_type": "stream",
     "text": [
      "--2017-09-01 23:01:20--  http://vision.stanford.edu/aditya86/ImageNetDogs/lists.tar\n",
      "Resolving vision.stanford.edu (vision.stanford.edu)... 171.64.68.10\n",
      "Connecting to vision.stanford.edu (vision.stanford.edu)|171.64.68.10|:80... connected.\n",
      "HTTP request sent, awaiting response... 200 OK\n",
      "Length: 481280 (470K) [application/x-tar]\n",
      "Saving to: ‘./data/lists.tar’\n",
      "\n",
      "lists.tar           100%[===================>] 470.00K  --.-KB/s    in 0.1s    \n",
      "\n",
      "2017-09-01 23:01:20 (3.60 MB/s) - ‘./data/lists.tar’ saved [481280/481280]\n",
      "\n"
     ]
    }
   ],
   "source": [
    "!wget -P ./data http://vision.stanford.edu/aditya86/ImageNetDogs/lists.tar"
   ]
  },
  {
   "cell_type": "code",
   "execution_count": 9,
   "metadata": {
    "collapsed": true
   },
   "outputs": [],
   "source": [
    "!tar -xf ./data/images.tar -C ./data/"
   ]
  },
  {
   "cell_type": "code",
   "execution_count": 10,
   "metadata": {
    "collapsed": true
   },
   "outputs": [],
   "source": [
    "!tar -xf ./data/annotation.tar -C ./data/"
   ]
  },
  {
   "cell_type": "code",
   "execution_count": 11,
   "metadata": {
    "collapsed": true
   },
   "outputs": [],
   "source": [
    "!tar -xf ./data/lists.tar -C ./data/"
   ]
  },
  {
   "cell_type": "markdown",
   "metadata": {},
   "source": [
    "### Gather names of dog breeds"
   ]
  },
  {
   "cell_type": "code",
   "execution_count": 2,
   "metadata": {
    "collapsed": true
   },
   "outputs": [],
   "source": [
    "image_dir = os.path.join(data_dir, 'Images')"
   ]
  },
  {
   "cell_type": "code",
   "execution_count": 3,
   "metadata": {
    "collapsed": true
   },
   "outputs": [],
   "source": [
    "dog_dirs = [direct for direct in os.listdir(image_dir)\\\n",
    "            if os.path.isdir(os.path.join(image_dir, direct))]"
   ]
  },
  {
   "cell_type": "code",
   "execution_count": 4,
   "metadata": {
    "collapsed": true
   },
   "outputs": [],
   "source": [
    "dog_breeds = sorted([dog.split('-', 1)[1].lower() for dog in dog_dirs])"
   ]
  },
  {
   "cell_type": "code",
   "execution_count": 5,
   "metadata": {
    "scrolled": true
   },
   "outputs": [
    {
     "data": {
      "text/plain": [
       "[(0, 'affenpinscher'),\n",
       " (1, 'afghan_hound'),\n",
       " (2, 'african_hunting_dog'),\n",
       " (3, 'airedale'),\n",
       " (4, 'american_staffordshire_terrier'),\n",
       " (5, 'appenzeller'),\n",
       " (6, 'australian_terrier'),\n",
       " (7, 'basenji'),\n",
       " (8, 'basset'),\n",
       " (9, 'beagle'),\n",
       " (10, 'bedlington_terrier'),\n",
       " (11, 'bernese_mountain_dog'),\n",
       " (12, 'black-and-tan_coonhound'),\n",
       " (13, 'blenheim_spaniel'),\n",
       " (14, 'bloodhound'),\n",
       " (15, 'bluetick'),\n",
       " (16, 'border_collie'),\n",
       " (17, 'border_terrier'),\n",
       " (18, 'borzoi'),\n",
       " (19, 'boston_bull'),\n",
       " (20, 'bouvier_des_flandres'),\n",
       " (21, 'boxer'),\n",
       " (22, 'brabancon_griffon'),\n",
       " (23, 'briard'),\n",
       " (24, 'brittany_spaniel'),\n",
       " (25, 'bull_mastiff'),\n",
       " (26, 'cairn'),\n",
       " (27, 'cardigan'),\n",
       " (28, 'chesapeake_bay_retriever'),\n",
       " (29, 'chihuahua'),\n",
       " (30, 'chow'),\n",
       " (31, 'clumber'),\n",
       " (32, 'cocker_spaniel'),\n",
       " (33, 'collie'),\n",
       " (34, 'curly-coated_retriever'),\n",
       " (35, 'dandie_dinmont'),\n",
       " (36, 'dhole'),\n",
       " (37, 'dingo'),\n",
       " (38, 'doberman'),\n",
       " (39, 'english_foxhound'),\n",
       " (40, 'english_setter'),\n",
       " (41, 'english_springer'),\n",
       " (42, 'entlebucher'),\n",
       " (43, 'eskimo_dog'),\n",
       " (44, 'flat-coated_retriever'),\n",
       " (45, 'french_bulldog'),\n",
       " (46, 'german_shepherd'),\n",
       " (47, 'german_short-haired_pointer'),\n",
       " (48, 'giant_schnauzer'),\n",
       " (49, 'golden_retriever'),\n",
       " (50, 'gordon_setter'),\n",
       " (51, 'great_dane'),\n",
       " (52, 'great_pyrenees'),\n",
       " (53, 'greater_swiss_mountain_dog'),\n",
       " (54, 'groenendael'),\n",
       " (55, 'ibizan_hound'),\n",
       " (56, 'irish_setter'),\n",
       " (57, 'irish_terrier'),\n",
       " (58, 'irish_water_spaniel'),\n",
       " (59, 'irish_wolfhound'),\n",
       " (60, 'italian_greyhound'),\n",
       " (61, 'japanese_spaniel'),\n",
       " (62, 'keeshond'),\n",
       " (63, 'kelpie'),\n",
       " (64, 'kerry_blue_terrier'),\n",
       " (65, 'komondor'),\n",
       " (66, 'kuvasz'),\n",
       " (67, 'labrador_retriever'),\n",
       " (68, 'lakeland_terrier'),\n",
       " (69, 'leonberg'),\n",
       " (70, 'lhasa'),\n",
       " (71, 'malamute'),\n",
       " (72, 'malinois'),\n",
       " (73, 'maltese_dog'),\n",
       " (74, 'mexican_hairless'),\n",
       " (75, 'miniature_pinscher'),\n",
       " (76, 'miniature_poodle'),\n",
       " (77, 'miniature_schnauzer'),\n",
       " (78, 'newfoundland'),\n",
       " (79, 'norfolk_terrier'),\n",
       " (80, 'norwegian_elkhound'),\n",
       " (81, 'norwich_terrier'),\n",
       " (82, 'old_english_sheepdog'),\n",
       " (83, 'otterhound'),\n",
       " (84, 'papillon'),\n",
       " (85, 'pekinese'),\n",
       " (86, 'pembroke'),\n",
       " (87, 'pomeranian'),\n",
       " (88, 'pug'),\n",
       " (89, 'redbone'),\n",
       " (90, 'rhodesian_ridgeback'),\n",
       " (91, 'rottweiler'),\n",
       " (92, 'saint_bernard'),\n",
       " (93, 'saluki'),\n",
       " (94, 'samoyed'),\n",
       " (95, 'schipperke'),\n",
       " (96, 'scotch_terrier'),\n",
       " (97, 'scottish_deerhound'),\n",
       " (98, 'sealyham_terrier'),\n",
       " (99, 'shetland_sheepdog'),\n",
       " (100, 'shih-tzu'),\n",
       " (101, 'siberian_husky'),\n",
       " (102, 'silky_terrier'),\n",
       " (103, 'soft-coated_wheaten_terrier'),\n",
       " (104, 'staffordshire_bullterrier'),\n",
       " (105, 'standard_poodle'),\n",
       " (106, 'standard_schnauzer'),\n",
       " (107, 'sussex_spaniel'),\n",
       " (108, 'tibetan_mastiff'),\n",
       " (109, 'tibetan_terrier'),\n",
       " (110, 'toy_poodle'),\n",
       " (111, 'toy_terrier'),\n",
       " (112, 'vizsla'),\n",
       " (113, 'walker_hound'),\n",
       " (114, 'weimaraner'),\n",
       " (115, 'welsh_springer_spaniel'),\n",
       " (116, 'west_highland_white_terrier'),\n",
       " (117, 'whippet'),\n",
       " (118, 'wire-haired_fox_terrier'),\n",
       " (119, 'yorkshire_terrier')]"
      ]
     },
     "execution_count": 5,
     "metadata": {},
     "output_type": "execute_result"
    }
   ],
   "source": [
    "list(enumerate(dog_breeds))"
   ]
  },
  {
   "cell_type": "markdown",
   "metadata": {},
   "source": [
    "These need to be adjusted for each website to be scraped, but will be used as keys for mongodb."
   ]
  },
  {
   "cell_type": "markdown",
   "metadata": {},
   "source": [
    "### Scrape Dogtime"
   ]
  },
  {
   "cell_type": "code",
   "execution_count": 7,
   "metadata": {
    "collapsed": true
   },
   "outputs": [],
   "source": [
    "dogtime_breeds = [breed.replace(\"_\", \"-\") for breed in dog_breeds]\n",
    "dogtime_breeds[3] += \"-terrier\"\n",
    "dogtime_breeds[5] += \"-sennenhunde\"\n",
    "dogtime_breeds[8] += \"-hound\"\n",
    "dogtime_breeds[13] = \"cavalier-king-charles-spaniel\"\n",
    "dogtime_breeds[15] += \"-coonhound\"\n",
    "dogtime_breeds[19] = \"boston-terrier\"\n",
    "dogtime_breeds[22] = \"brussels-griffon\"\n",
    "dogtime_breeds[24] = \"brittany\"\n",
    "dogtime_breeds[25] = \"\".join(dogtime_breeds[25].split('-'))\n",
    "dogtime_breeds[26] += \"-terrier\"\n",
    "dogtime_breeds[27] += \"-welsh-corgi\"\n",
    "dogtime_breeds[30] += \"-chow\"\n",
    "dogtime_breeds[31] += \"-spaniel\"\n",
    "dogtime_breeds[35] += \"-terrier\"\n",
    "dogtime_breeds[38] += \"-pinscher\"\n",
    "dogtime_breeds[41] += \"-spaniel\"\n",
    "dogtime_breeds[42] += \"-mountain-dog\"\n",
    "dogtime_breeds[43] = \"american-eskimo-dog\"\n",
    "dogtime_breeds[44] += \"-dog\"\n",
    "dogtime_breeds[47] = \"german-shorthaired-pointer\"\n",
    "dogtime_breeds[54] = \"belgian-sheepdog\"\n",
    "dogtime_breeds[61] = \"japanese-chin\"\n",
    "dogtime_breeds[69] += \"er\"\n",
    "dogtime_breeds[70] += \"-apso\"\n",
    "dogtime_breeds[71] = \"alaskan-malamute\"\n",
    "dogtime_breeds[72] = \"belgian-malinois\"\n",
    "dogtime_breeds[73] = \"maltese\"\n",
    "dogtime_breeds[74] = \"xoloitzcuintli\"\n",
    "dogtime_breeds[85] = \"pekingese\"\n",
    "dogtime_breeds[86] += \"-welsh-corgi\"\n",
    "dogtime_breeds[89] += \"-coonhound\"\n",
    "dogtime_breeds[96] = \"scottish-terrier\"\n",
    "dogtime_breeds[105] = \"poodle\"\n",
    "dogtime_breeds[111] = \"toy-fox-terrier\"\n",
    "dogtime_breeds[113] = \"treeing-walker-coonhound\"\n",
    "dogtime_breeds[118] = \"fox-terrier\""
   ]
  },
  {
   "cell_type": "code",
   "execution_count": 8,
   "metadata": {},
   "outputs": [
    {
     "data": {
      "text/plain": [
       "[(0, 'affenpinscher'),\n",
       " (1, 'afghan-hound'),\n",
       " (2, 'african-hunting-dog'),\n",
       " (3, 'airedale-terrier'),\n",
       " (4, 'american-staffordshire-terrier'),\n",
       " (5, 'appenzeller-sennenhunde'),\n",
       " (6, 'australian-terrier'),\n",
       " (7, 'basenji'),\n",
       " (8, 'basset-hound'),\n",
       " (9, 'beagle'),\n",
       " (10, 'bedlington-terrier'),\n",
       " (11, 'bernese-mountain-dog'),\n",
       " (12, 'black-and-tan-coonhound'),\n",
       " (13, 'cavalier-king-charles-spaniel'),\n",
       " (14, 'bloodhound'),\n",
       " (15, 'bluetick-coonhound'),\n",
       " (16, 'border-collie'),\n",
       " (17, 'border-terrier'),\n",
       " (18, 'borzoi'),\n",
       " (19, 'boston-terrier'),\n",
       " (20, 'bouvier-des-flandres'),\n",
       " (21, 'boxer'),\n",
       " (22, 'brussels-griffon'),\n",
       " (23, 'briard'),\n",
       " (24, 'brittany'),\n",
       " (25, 'bullmastiff'),\n",
       " (26, 'cairn-terrier'),\n",
       " (27, 'cardigan-welsh-corgi'),\n",
       " (28, 'chesapeake-bay-retriever'),\n",
       " (29, 'chihuahua'),\n",
       " (30, 'chow-chow'),\n",
       " (31, 'clumber-spaniel'),\n",
       " (32, 'cocker-spaniel'),\n",
       " (33, 'collie'),\n",
       " (34, 'curly-coated-retriever'),\n",
       " (35, 'dandie-dinmont-terrier'),\n",
       " (36, 'dhole'),\n",
       " (37, 'dingo'),\n",
       " (38, 'doberman-pinscher'),\n",
       " (39, 'english-foxhound'),\n",
       " (40, 'english-setter'),\n",
       " (41, 'english-springer-spaniel'),\n",
       " (42, 'entlebucher-mountain-dog'),\n",
       " (43, 'american-eskimo-dog'),\n",
       " (44, 'flat-coated-retriever-dog'),\n",
       " (45, 'french-bulldog'),\n",
       " (46, 'german-shepherd'),\n",
       " (47, 'german-shorthaired-pointer'),\n",
       " (48, 'giant-schnauzer'),\n",
       " (49, 'golden-retriever'),\n",
       " (50, 'gordon-setter'),\n",
       " (51, 'great-dane'),\n",
       " (52, 'great-pyrenees'),\n",
       " (53, 'greater-swiss-mountain-dog'),\n",
       " (54, 'belgian-sheepdog'),\n",
       " (55, 'ibizan-hound'),\n",
       " (56, 'irish-setter'),\n",
       " (57, 'irish-terrier'),\n",
       " (58, 'irish-water-spaniel'),\n",
       " (59, 'irish-wolfhound'),\n",
       " (60, 'italian-greyhound'),\n",
       " (61, 'japanese-chin'),\n",
       " (62, 'keeshond'),\n",
       " (63, 'kelpie'),\n",
       " (64, 'kerry-blue-terrier'),\n",
       " (65, 'komondor'),\n",
       " (66, 'kuvasz'),\n",
       " (67, 'labrador-retriever'),\n",
       " (68, 'lakeland-terrier'),\n",
       " (69, 'leonberger'),\n",
       " (70, 'lhasa-apso'),\n",
       " (71, 'alaskan-malamute'),\n",
       " (72, 'belgian-malinois'),\n",
       " (73, 'maltese'),\n",
       " (74, 'xoloitzcuintli'),\n",
       " (75, 'miniature-pinscher'),\n",
       " (76, 'miniature-poodle'),\n",
       " (77, 'miniature-schnauzer'),\n",
       " (78, 'newfoundland'),\n",
       " (79, 'norfolk-terrier'),\n",
       " (80, 'norwegian-elkhound'),\n",
       " (81, 'norwich-terrier'),\n",
       " (82, 'old-english-sheepdog'),\n",
       " (83, 'otterhound'),\n",
       " (84, 'papillon'),\n",
       " (85, 'pekingese'),\n",
       " (86, 'pembroke-welsh-corgi'),\n",
       " (87, 'pomeranian'),\n",
       " (88, 'pug'),\n",
       " (89, 'redbone-coonhound'),\n",
       " (90, 'rhodesian-ridgeback'),\n",
       " (91, 'rottweiler'),\n",
       " (92, 'saint-bernard'),\n",
       " (93, 'saluki'),\n",
       " (94, 'samoyed'),\n",
       " (95, 'schipperke'),\n",
       " (96, 'scottish-terrier'),\n",
       " (97, 'scottish-deerhound'),\n",
       " (98, 'sealyham-terrier'),\n",
       " (99, 'shetland-sheepdog'),\n",
       " (100, 'shih-tzu'),\n",
       " (101, 'siberian-husky'),\n",
       " (102, 'silky-terrier'),\n",
       " (103, 'soft-coated-wheaten-terrier'),\n",
       " (104, 'staffordshire-bullterrier'),\n",
       " (105, 'poodle'),\n",
       " (106, 'standard-schnauzer'),\n",
       " (107, 'sussex-spaniel'),\n",
       " (108, 'tibetan-mastiff'),\n",
       " (109, 'tibetan-terrier'),\n",
       " (110, 'toy-poodle'),\n",
       " (111, 'toy-fox-terrier'),\n",
       " (112, 'vizsla'),\n",
       " (113, 'treeing-walker-coonhound'),\n",
       " (114, 'weimaraner'),\n",
       " (115, 'welsh-springer-spaniel'),\n",
       " (116, 'west-highland-white-terrier'),\n",
       " (117, 'whippet'),\n",
       " (118, 'fox-terrier'),\n",
       " (119, 'yorkshire-terrier')]"
      ]
     },
     "execution_count": 8,
     "metadata": {},
     "output_type": "execute_result"
    }
   ],
   "source": [
    "list(enumerate(dogtime_breeds))"
   ]
  },
  {
   "cell_type": "code",
   "execution_count": 9,
   "metadata": {},
   "outputs": [],
   "source": [
    "dogtime_unused = [dogtime_breeds.pop(110),\n",
    "                    dogtime_breeds.pop(76),\n",
    "                    dogtime_breeds.pop(63),\n",
    "                    dogtime_breeds.pop(37),\n",
    "                    dogtime_breeds.pop(36),\n",
    "                    dogtime_breeds.pop(4),\n",
    "                    dogtime_breeds.pop(2)]"
   ]
  },
  {
   "cell_type": "code",
   "execution_count": 10,
   "metadata": {},
   "outputs": [
    {
     "data": {
      "text/plain": [
       "['toy-poodle',\n",
       " 'miniature-poodle',\n",
       " 'kelpie',\n",
       " 'dingo',\n",
       " 'dhole',\n",
       " 'american-staffordshire-terrier',\n",
       " 'african-hunting-dog']"
      ]
     },
     "execution_count": 10,
     "metadata": {},
     "output_type": "execute_result"
    }
   ],
   "source": [
    "dogtime_unused"
   ]
  },
  {
   "cell_type": "markdown",
   "metadata": {},
   "source": [
    "Remove non-akc breads"
   ]
  },
  {
   "cell_type": "code",
   "execution_count": 35,
   "metadata": {
    "collapsed": true
   },
   "outputs": [],
   "source": [
    "dogtime_breed_url = \"http://dogtime.com/dog-breeds\"\n",
    "\n",
    "r = requests.get(dogtime_breed_url)\n",
    "\n",
    "dog_soup = BeautifulSoup(r.text, \"lxml\")"
   ]
  },
  {
   "cell_type": "code",
   "execution_count": 47,
   "metadata": {
    "collapsed": true
   },
   "outputs": [],
   "source": [
    "link = dog_soup.find_all(class_='group-list-item')[0].find('a')['href']\n",
    "image = dog_soup.find_all(class_='group-list-item')[0].find('img')['src']"
   ]
  },
  {
   "cell_type": "code",
   "execution_count": 48,
   "metadata": {},
   "outputs": [
    {
     "data": {
      "text/plain": [
       "('http://dogtime.com/dog-breeds/affenpinscher',\n",
       " 'http://cdn3-www.dogtime.com/assets/uploads/2011/01/file_23096_affenpinscher-300x189.jpg')"
      ]
     },
     "execution_count": 48,
     "metadata": {},
     "output_type": "execute_result"
    }
   ],
   "source": [
    "link, image"
   ]
  },
  {
   "cell_type": "code",
   "execution_count": null,
   "metadata": {
    "collapsed": true
   },
   "outputs": [],
   "source": []
  }
 ],
 "metadata": {
  "kernelspec": {
   "display_name": "Python 3",
   "language": "python",
   "name": "python3"
  },
  "language_info": {
   "codemirror_mode": {
    "name": "ipython",
    "version": 3
   },
   "file_extension": ".py",
   "mimetype": "text/x-python",
   "name": "python",
   "nbconvert_exporter": "python",
   "pygments_lexer": "ipython3",
   "version": "3.6.1"
  }
 },
 "nbformat": 4,
 "nbformat_minor": 2
}
