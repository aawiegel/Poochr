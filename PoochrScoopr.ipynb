{
 "cells": [
  {
   "cell_type": "code",
   "execution_count": 1,
   "metadata": {
    "collapsed": true
   },
   "outputs": [],
   "source": [
    "import pandas as pd\n",
    "import numpy as np\n",
    "from bs4 import BeautifulSoup\n",
    "import requests\n",
    "import random\n",
    "import os\n",
    "import re\n",
    "import time\n",
    "import matplotlib.pyplot as plt\n",
    "import seaborn as sns\n",
    "from fake_useragent import UserAgent\n",
    "import pymongo\n",
    "from sklearn.base import BaseEstimator, TransformerMixin\n",
    "from sklearn import pipeline, preprocessing\n",
    "from sklearn.feature_extraction.text import CountVectorizer, TfidfVectorizer\n",
    "from sklearn.feature_extraction import text\n",
    "from sklearn.metrics.pairwise import cosine_similarity\n",
    "from sklearn.decomposition import TruncatedSVD\n",
    "import pickle\n",
    "from scipy import sparse\n",
    "\n",
    "%matplotlib inline\n",
    "\n",
    "data_dir = os.path.join(os.path.curdir, \"data\")"
   ]
  },
  {
   "cell_type": "markdown",
   "metadata": {},
   "source": [
    "### Download Stanford dogs to start"
   ]
  },
  {
   "cell_type": "code",
   "execution_count": 3,
   "metadata": {
    "collapsed": true
   },
   "outputs": [],
   "source": [
    "if not os.path.exists(data_dir):\n",
    "    os.makedirs(data_dir)"
   ]
  },
  {
   "cell_type": "code",
   "execution_count": 5,
   "metadata": {},
   "outputs": [
    {
     "name": "stdout",
     "output_type": "stream",
     "text": [
      "--2017-09-01 23:00:16--  http://vision.stanford.edu/aditya86/ImageNetDogs/images.tar\n",
      "Resolving vision.stanford.edu (vision.stanford.edu)... 171.64.68.10\n",
      "Connecting to vision.stanford.edu (vision.stanford.edu)|171.64.68.10|:80... connected.\n",
      "HTTP request sent, awaiting response... 200 OK\n",
      "Length: 793579520 (757M) [application/x-tar]\n",
      "Saving to: ‘./data/images.tar’\n",
      "\n",
      "images.tar          100%[===================>] 756.82M  49.7MB/s    in 34s     \n",
      "\n",
      "2017-09-01 23:00:50 (22.3 MB/s) - ‘./data/images.tar’ saved [793579520/793579520]\n",
      "\n"
     ]
    }
   ],
   "source": [
    "!wget -P ./data/ http://vision.stanford.edu/aditya86/ImageNetDogs/images.tar "
   ]
  },
  {
   "cell_type": "code",
   "execution_count": 6,
   "metadata": {},
   "outputs": [
    {
     "name": "stdout",
     "output_type": "stream",
     "text": [
      "--2017-09-01 23:01:02--  http://vision.stanford.edu/aditya86/ImageNetDogs/annotation.tar\n",
      "Resolving vision.stanford.edu (vision.stanford.edu)... 171.64.68.10\n",
      "Connecting to vision.stanford.edu (vision.stanford.edu)|171.64.68.10|:80... connected.\n",
      "HTTP request sent, awaiting response... 200 OK\n",
      "Length: 21852160 (21M) [application/x-tar]\n",
      "Saving to: ‘./data/annotation.tar’\n",
      "\n",
      "annotation.tar      100%[===================>]  20.84M  22.5MB/s    in 0.9s    \n",
      "\n",
      "2017-09-01 23:01:03 (22.5 MB/s) - ‘./data/annotation.tar’ saved [21852160/21852160]\n",
      "\n"
     ]
    }
   ],
   "source": [
    "!wget -P ./data http://vision.stanford.edu/aditya86/ImageNetDogs/annotation.tar"
   ]
  },
  {
   "cell_type": "code",
   "execution_count": 7,
   "metadata": {},
   "outputs": [
    {
     "name": "stdout",
     "output_type": "stream",
     "text": [
      "--2017-09-01 23:01:20--  http://vision.stanford.edu/aditya86/ImageNetDogs/lists.tar\n",
      "Resolving vision.stanford.edu (vision.stanford.edu)... 171.64.68.10\n",
      "Connecting to vision.stanford.edu (vision.stanford.edu)|171.64.68.10|:80... connected.\n",
      "HTTP request sent, awaiting response... 200 OK\n",
      "Length: 481280 (470K) [application/x-tar]\n",
      "Saving to: ‘./data/lists.tar’\n",
      "\n",
      "lists.tar           100%[===================>] 470.00K  --.-KB/s    in 0.1s    \n",
      "\n",
      "2017-09-01 23:01:20 (3.60 MB/s) - ‘./data/lists.tar’ saved [481280/481280]\n",
      "\n"
     ]
    }
   ],
   "source": [
    "!wget -P ./data http://vision.stanford.edu/aditya86/ImageNetDogs/lists.tar"
   ]
  },
  {
   "cell_type": "code",
   "execution_count": 9,
   "metadata": {
    "collapsed": true
   },
   "outputs": [],
   "source": [
    "!tar -xf ./data/images.tar -C ./data/"
   ]
  },
  {
   "cell_type": "code",
   "execution_count": 10,
   "metadata": {
    "collapsed": true
   },
   "outputs": [],
   "source": [
    "!tar -xf ./data/annotation.tar -C ./data/"
   ]
  },
  {
   "cell_type": "code",
   "execution_count": 11,
   "metadata": {
    "collapsed": true
   },
   "outputs": [],
   "source": [
    "!tar -xf ./data/lists.tar -C ./data/"
   ]
  },
  {
   "cell_type": "markdown",
   "metadata": {},
   "source": [
    "### Gather names of dog breeds"
   ]
  },
  {
   "cell_type": "code",
   "execution_count": 2,
   "metadata": {
    "collapsed": true
   },
   "outputs": [],
   "source": [
    "image_dir = os.path.join(data_dir, 'Images', 'test')"
   ]
  },
  {
   "cell_type": "code",
   "execution_count": 3,
   "metadata": {
    "collapsed": true
   },
   "outputs": [],
   "source": [
    "dog_dirs = [direct for direct in os.listdir(image_dir)\\\n",
    "            if os.path.isdir(os.path.join(image_dir, direct))]"
   ]
  },
  {
   "cell_type": "code",
   "execution_count": 4,
   "metadata": {
    "collapsed": true
   },
   "outputs": [],
   "source": [
    "dog_dirs.remove('not_dog')"
   ]
  },
  {
   "cell_type": "code",
   "execution_count": 5,
   "metadata": {
    "collapsed": true
   },
   "outputs": [],
   "source": [
    "dog_dirs = sorted(dog_dirs)"
   ]
  },
  {
   "cell_type": "code",
   "execution_count": 6,
   "metadata": {
    "collapsed": true
   },
   "outputs": [],
   "source": [
    "dog_breeds = sorted([dog.split('-', 1)[1].lower() for dog in dog_dirs])"
   ]
  },
  {
   "cell_type": "code",
   "execution_count": 7,
   "metadata": {
    "scrolled": true
   },
   "outputs": [
    {
     "data": {
      "text/plain": [
       "[(0, 'affenpinscher'),\n",
       " (1, 'afghan_hound'),\n",
       " (2, 'airedale'),\n",
       " (3, 'american_staffordshire_terrier'),\n",
       " (4, 'appenzeller'),\n",
       " (5, 'australian_terrier'),\n",
       " (6, 'basenji'),\n",
       " (7, 'basset'),\n",
       " (8, 'beagle'),\n",
       " (9, 'bedlington_terrier'),\n",
       " (10, 'bernese_mountain_dog'),\n",
       " (11, 'black-and-tan_coonhound'),\n",
       " (12, 'blenheim_spaniel'),\n",
       " (13, 'bloodhound'),\n",
       " (14, 'bluetick'),\n",
       " (15, 'border_collie'),\n",
       " (16, 'border_terrier'),\n",
       " (17, 'borzoi'),\n",
       " (18, 'boston_bull'),\n",
       " (19, 'bouvier_des_flandres'),\n",
       " (20, 'boxer'),\n",
       " (21, 'brabancon_griffon'),\n",
       " (22, 'briard'),\n",
       " (23, 'brittany_spaniel'),\n",
       " (24, 'bull_mastiff'),\n",
       " (25, 'cairn'),\n",
       " (26, 'cardigan'),\n",
       " (27, 'chesapeake_bay_retriever'),\n",
       " (28, 'chihuahua'),\n",
       " (29, 'chow'),\n",
       " (30, 'clumber'),\n",
       " (31, 'cocker_spaniel'),\n",
       " (32, 'collie'),\n",
       " (33, 'curly-coated_retriever'),\n",
       " (34, 'dandie_dinmont'),\n",
       " (35, 'doberman'),\n",
       " (36, 'english_foxhound'),\n",
       " (37, 'english_setter'),\n",
       " (38, 'english_springer'),\n",
       " (39, 'entlebucher'),\n",
       " (40, 'eskimo_dog'),\n",
       " (41, 'flat-coated_retriever'),\n",
       " (42, 'french_bulldog'),\n",
       " (43, 'german_shepherd'),\n",
       " (44, 'german_short-haired_pointer'),\n",
       " (45, 'giant_schnauzer'),\n",
       " (46, 'golden_retriever'),\n",
       " (47, 'gordon_setter'),\n",
       " (48, 'great_dane'),\n",
       " (49, 'great_pyrenees'),\n",
       " (50, 'greater_swiss_mountain_dog'),\n",
       " (51, 'groenendael'),\n",
       " (52, 'ibizan_hound'),\n",
       " (53, 'irish_setter'),\n",
       " (54, 'irish_terrier'),\n",
       " (55, 'irish_water_spaniel'),\n",
       " (56, 'irish_wolfhound'),\n",
       " (57, 'italian_greyhound'),\n",
       " (58, 'japanese_spaniel'),\n",
       " (59, 'keeshond'),\n",
       " (60, 'kerry_blue_terrier'),\n",
       " (61, 'komondor'),\n",
       " (62, 'kuvasz'),\n",
       " (63, 'labrador_retriever'),\n",
       " (64, 'lakeland_terrier'),\n",
       " (65, 'leonberg'),\n",
       " (66, 'lhasa'),\n",
       " (67, 'malamute'),\n",
       " (68, 'malinois'),\n",
       " (69, 'maltese_dog'),\n",
       " (70, 'mexican_hairless'),\n",
       " (71, 'miniature_pinscher'),\n",
       " (72, 'miniature_schnauzer'),\n",
       " (73, 'newfoundland'),\n",
       " (74, 'norfolk_terrier'),\n",
       " (75, 'norwegian_elkhound'),\n",
       " (76, 'norwich_terrier'),\n",
       " (77, 'old_english_sheepdog'),\n",
       " (78, 'otterhound'),\n",
       " (79, 'papillon'),\n",
       " (80, 'pekinese'),\n",
       " (81, 'pembroke'),\n",
       " (82, 'pomeranian'),\n",
       " (83, 'pug'),\n",
       " (84, 'redbone'),\n",
       " (85, 'rhodesian_ridgeback'),\n",
       " (86, 'rottweiler'),\n",
       " (87, 'saint_bernard'),\n",
       " (88, 'saluki'),\n",
       " (89, 'samoyed'),\n",
       " (90, 'schipperke'),\n",
       " (91, 'scotch_terrier'),\n",
       " (92, 'scottish_deerhound'),\n",
       " (93, 'sealyham_terrier'),\n",
       " (94, 'shetland_sheepdog'),\n",
       " (95, 'shih-tzu'),\n",
       " (96, 'siberian_husky'),\n",
       " (97, 'silky_terrier'),\n",
       " (98, 'soft-coated_wheaten_terrier'),\n",
       " (99, 'staffordshire_bullterrier'),\n",
       " (100, 'standard_poodle'),\n",
       " (101, 'standard_schnauzer'),\n",
       " (102, 'sussex_spaniel'),\n",
       " (103, 'tibetan_mastiff'),\n",
       " (104, 'tibetan_terrier'),\n",
       " (105, 'toy_terrier'),\n",
       " (106, 'vizsla'),\n",
       " (107, 'walker_hound'),\n",
       " (108, 'weimaraner'),\n",
       " (109, 'welsh_springer_spaniel'),\n",
       " (110, 'west_highland_white_terrier'),\n",
       " (111, 'whippet'),\n",
       " (112, 'wire-haired_fox_terrier'),\n",
       " (113, 'yorkshire_terrier')]"
      ]
     },
     "execution_count": 7,
     "metadata": {},
     "output_type": "execute_result"
    }
   ],
   "source": [
    "list(enumerate(dog_breeds))"
   ]
  },
  {
   "cell_type": "markdown",
   "metadata": {},
   "source": [
    "These need to be adjusted for each website to be scraped, but will be used as keys for mongodb."
   ]
  },
  {
   "cell_type": "markdown",
   "metadata": {},
   "source": [
    "### Scrape Dogtime"
   ]
  },
  {
   "cell_type": "code",
   "execution_count": 17,
   "metadata": {},
   "outputs": [
    {
     "ename": "IndexError",
     "evalue": "list assignment index out of range",
     "output_type": "error",
     "traceback": [
      "\u001b[0;31m---------------------------------------------------------------------------\u001b[0m",
      "\u001b[0;31mIndexError\u001b[0m                                Traceback (most recent call last)",
      "\u001b[0;32m<ipython-input-17-e973fc7b7d50>\u001b[0m in \u001b[0;36m<module>\u001b[0;34m()\u001b[0m\n\u001b[1;32m     37\u001b[0m \u001b[0mdogtime_breeds\u001b[0m\u001b[0;34m[\u001b[0m\u001b[0;36m111\u001b[0m\u001b[0;34m]\u001b[0m \u001b[0;34m=\u001b[0m \u001b[0;34m\"toy-fox-terrier\"\u001b[0m\u001b[0;34m\u001b[0m\u001b[0m\n\u001b[1;32m     38\u001b[0m \u001b[0mdogtime_breeds\u001b[0m\u001b[0;34m[\u001b[0m\u001b[0;36m113\u001b[0m\u001b[0;34m]\u001b[0m \u001b[0;34m=\u001b[0m \u001b[0;34m\"treeing-walker-coonhound\"\u001b[0m\u001b[0;34m\u001b[0m\u001b[0m\n\u001b[0;32m---> 39\u001b[0;31m \u001b[0mdogtime_breeds\u001b[0m\u001b[0;34m[\u001b[0m\u001b[0;36m118\u001b[0m\u001b[0;34m]\u001b[0m \u001b[0;34m=\u001b[0m \u001b[0;34m\"fox-terrier\"\u001b[0m\u001b[0;34m\u001b[0m\u001b[0m\n\u001b[0m",
      "\u001b[0;31mIndexError\u001b[0m: list assignment index out of range"
     ]
    }
   ],
   "source": [
    "dogtime_breeds = [breed.replace(\"_\", \"-\") for breed in dog_breeds]\n",
    "dogtime_breeds[3] += \"-terrier\"\n",
    "dogtime_breeds[4] = \"american-pit-bull-terrier\"\n",
    "dogtime_breeds[5] += \"-sennenhunde\"\n",
    "dogtime_breeds[8] += \"-hound\"\n",
    "dogtime_breeds[13] = \"cavalier-king-charles-spaniel\"\n",
    "dogtime_breeds[15] += \"-coonhound\"\n",
    "dogtime_breeds[19] = \"boston-terrier\"\n",
    "dogtime_breeds[22] = \"brussels-griffon\"\n",
    "dogtime_breeds[24] = \"brittany\"\n",
    "dogtime_breeds[25] = \"\".join(dogtime_breeds[25].split('-'))\n",
    "dogtime_breeds[26] += \"-terrier\"\n",
    "dogtime_breeds[27] += \"-welsh-corgi\"\n",
    "dogtime_breeds[30] += \"-chow\"\n",
    "dogtime_breeds[31] += \"-spaniel\"\n",
    "dogtime_breeds[35] += \"-terrier\"\n",
    "dogtime_breeds[38] += \"-pinscher\"\n",
    "dogtime_breeds[41] += \"-spaniel\"\n",
    "dogtime_breeds[42] += \"-mountain-dog\"\n",
    "dogtime_breeds[43] = \"american-eskimo-dog\"\n",
    "dogtime_breeds[46] += \"-dog\"\n",
    "dogtime_breeds[47] = \"german-shorthaired-pointer\"\n",
    "dogtime_breeds[54] = \"belgian-sheepdog\"\n",
    "dogtime_breeds[61] = \"japanese-chin\"\n",
    "dogtime_breeds[69] += \"er\"\n",
    "dogtime_breeds[70] += \"-apso\"\n",
    "dogtime_breeds[71] = \"alaskan-malamute\"\n",
    "dogtime_breeds[72] = \"belgian-malinois\"\n",
    "dogtime_breeds[73] = \"maltese\"\n",
    "dogtime_breeds[74] = \"xoloitzuintli\"\n",
    "dogtime_breeds[85] = \"pekingese\"\n",
    "dogtime_breeds[86] += \"-welsh-corgi\"\n",
    "dogtime_breeds[89] += \"-coonhound\"\n",
    "dogtime_breeds[96] = \"scottish-terrier\"\n",
    "dogtime_breeds[104] = \"staffordshire-bull-terrier\"\n",
    "dogtime_breeds[105] = \"poodle\"\n",
    "dogtime_breeds[111] = \"toy-fox-terrier\"\n",
    "dogtime_breeds[113] = \"treeing-walker-coonhound\"\n",
    "dogtime_breeds[118] = \"fox-terrier\""
   ]
  },
  {
   "cell_type": "code",
   "execution_count": 7,
   "metadata": {},
   "outputs": [
    {
     "data": {
      "text/plain": [
       "[(0, 'affenpinscher'),\n",
       " (1, 'afghan-hound'),\n",
       " (2, 'african-hunting-dog'),\n",
       " (3, 'airedale-terrier'),\n",
       " (4, 'american-pit-bull-terrier'),\n",
       " (5, 'appenzeller-sennenhunde'),\n",
       " (6, 'australian-terrier'),\n",
       " (7, 'basenji'),\n",
       " (8, 'basset-hound'),\n",
       " (9, 'beagle'),\n",
       " (10, 'bedlington-terrier'),\n",
       " (11, 'bernese-mountain-dog'),\n",
       " (12, 'black-and-tan-coonhound'),\n",
       " (13, 'cavalier-king-charles-spaniel'),\n",
       " (14, 'bloodhound'),\n",
       " (15, 'bluetick-coonhound'),\n",
       " (16, 'border-collie'),\n",
       " (17, 'border-terrier'),\n",
       " (18, 'borzoi'),\n",
       " (19, 'boston-terrier'),\n",
       " (20, 'bouvier-des-flandres'),\n",
       " (21, 'boxer'),\n",
       " (22, 'brussels-griffon'),\n",
       " (23, 'briard'),\n",
       " (24, 'brittany'),\n",
       " (25, 'bullmastiff'),\n",
       " (26, 'cairn-terrier'),\n",
       " (27, 'cardigan-welsh-corgi'),\n",
       " (28, 'chesapeake-bay-retriever'),\n",
       " (29, 'chihuahua'),\n",
       " (30, 'chow-chow'),\n",
       " (31, 'clumber-spaniel'),\n",
       " (32, 'cocker-spaniel'),\n",
       " (33, 'collie'),\n",
       " (34, 'curly-coated-retriever'),\n",
       " (35, 'dandie-dinmont-terrier'),\n",
       " (36, 'dhole'),\n",
       " (37, 'dingo'),\n",
       " (38, 'doberman-pinscher'),\n",
       " (39, 'english-foxhound'),\n",
       " (40, 'english-setter'),\n",
       " (41, 'english-springer-spaniel'),\n",
       " (42, 'entlebucher-mountain-dog'),\n",
       " (43, 'american-eskimo-dog'),\n",
       " (44, 'flat-coated-retriever'),\n",
       " (45, 'french-bulldog'),\n",
       " (46, 'german-shepherd-dog'),\n",
       " (47, 'german-shorthaired-pointer'),\n",
       " (48, 'giant-schnauzer'),\n",
       " (49, 'golden-retriever'),\n",
       " (50, 'gordon-setter'),\n",
       " (51, 'great-dane'),\n",
       " (52, 'great-pyrenees'),\n",
       " (53, 'greater-swiss-mountain-dog'),\n",
       " (54, 'belgian-sheepdog'),\n",
       " (55, 'ibizan-hound'),\n",
       " (56, 'irish-setter'),\n",
       " (57, 'irish-terrier'),\n",
       " (58, 'irish-water-spaniel'),\n",
       " (59, 'irish-wolfhound'),\n",
       " (60, 'italian-greyhound'),\n",
       " (61, 'japanese-chin'),\n",
       " (62, 'keeshond'),\n",
       " (63, 'kelpie'),\n",
       " (64, 'kerry-blue-terrier'),\n",
       " (65, 'komondor'),\n",
       " (66, 'kuvasz'),\n",
       " (67, 'labrador-retriever'),\n",
       " (68, 'lakeland-terrier'),\n",
       " (69, 'leonberger'),\n",
       " (70, 'lhasa-apso'),\n",
       " (71, 'alaskan-malamute'),\n",
       " (72, 'belgian-malinois'),\n",
       " (73, 'maltese'),\n",
       " (74, 'xoloitzuintli'),\n",
       " (75, 'miniature-pinscher'),\n",
       " (76, 'miniature-poodle'),\n",
       " (77, 'miniature-schnauzer'),\n",
       " (78, 'newfoundland'),\n",
       " (79, 'norfolk-terrier'),\n",
       " (80, 'norwegian-elkhound'),\n",
       " (81, 'norwich-terrier'),\n",
       " (82, 'old-english-sheepdog'),\n",
       " (83, 'otterhound'),\n",
       " (84, 'papillon'),\n",
       " (85, 'pekingese'),\n",
       " (86, 'pembroke-welsh-corgi'),\n",
       " (87, 'pomeranian'),\n",
       " (88, 'pug'),\n",
       " (89, 'redbone-coonhound'),\n",
       " (90, 'rhodesian-ridgeback'),\n",
       " (91, 'rottweiler'),\n",
       " (92, 'saint-bernard'),\n",
       " (93, 'saluki'),\n",
       " (94, 'samoyed'),\n",
       " (95, 'schipperke'),\n",
       " (96, 'scottish-terrier'),\n",
       " (97, 'scottish-deerhound'),\n",
       " (98, 'sealyham-terrier'),\n",
       " (99, 'shetland-sheepdog'),\n",
       " (100, 'shih-tzu'),\n",
       " (101, 'siberian-husky'),\n",
       " (102, 'silky-terrier'),\n",
       " (103, 'soft-coated-wheaten-terrier'),\n",
       " (104, 'staffordshire-bull-terrier'),\n",
       " (105, 'poodle'),\n",
       " (106, 'standard-schnauzer'),\n",
       " (107, 'sussex-spaniel'),\n",
       " (108, 'tibetan-mastiff'),\n",
       " (109, 'tibetan-terrier'),\n",
       " (110, 'toy-poodle'),\n",
       " (111, 'toy-fox-terrier'),\n",
       " (112, 'vizsla'),\n",
       " (113, 'treeing-walker-coonhound'),\n",
       " (114, 'weimaraner'),\n",
       " (115, 'welsh-springer-spaniel'),\n",
       " (116, 'west-highland-white-terrier'),\n",
       " (117, 'whippet'),\n",
       " (118, 'fox-terrier'),\n",
       " (119, 'yorkshire-terrier')]"
      ]
     },
     "execution_count": 7,
     "metadata": {},
     "output_type": "execute_result"
    }
   ],
   "source": [
    "list(enumerate(dogtime_breeds))"
   ]
  },
  {
   "cell_type": "code",
   "execution_count": 8,
   "metadata": {
    "collapsed": true
   },
   "outputs": [],
   "source": [
    "dogtime_unused = [dogtime_breeds.pop(110),\n",
    "                    dogtime_breeds.pop(76),\n",
    "                    dogtime_breeds.pop(63),\n",
    "                    dogtime_breeds.pop(37),\n",
    "                    dogtime_breeds.pop(36),\n",
    "                    dogtime_breeds.pop(2)]"
   ]
  },
  {
   "cell_type": "code",
   "execution_count": 9,
   "metadata": {},
   "outputs": [
    {
     "data": {
      "text/plain": [
       "['toy-poodle',\n",
       " 'miniature-poodle',\n",
       " 'kelpie',\n",
       " 'dingo',\n",
       " 'dhole',\n",
       " 'african-hunting-dog']"
      ]
     },
     "execution_count": 9,
     "metadata": {},
     "output_type": "execute_result"
    }
   ],
   "source": [
    "dogtime_unused"
   ]
  },
  {
   "cell_type": "code",
   "execution_count": 10,
   "metadata": {
    "collapsed": true
   },
   "outputs": [],
   "source": [
    "unused_dog_breeds = [dog_breeds.pop(110),\n",
    "                    dog_breeds.pop(76),\n",
    "                    dog_breeds.pop(63),\n",
    "                    dog_breeds.pop(37),\n",
    "                    dog_breeds.pop(36),\n",
    "                    dog_breeds.pop(2)]"
   ]
  },
  {
   "cell_type": "code",
   "execution_count": 11,
   "metadata": {},
   "outputs": [
    {
     "data": {
      "text/plain": [
       "['toy_poodle',\n",
       " 'miniature_poodle',\n",
       " 'kelpie',\n",
       " 'dingo',\n",
       " 'dhole',\n",
       " 'african_hunting_dog']"
      ]
     },
     "execution_count": 11,
     "metadata": {},
     "output_type": "execute_result"
    }
   ],
   "source": [
    "unused_dog_breeds"
   ]
  },
  {
   "cell_type": "code",
   "execution_count": 12,
   "metadata": {},
   "outputs": [
    {
     "data": {
      "text/plain": [
       "[(0, 'affenpinscher'),\n",
       " (1, 'afghan-hound'),\n",
       " (2, 'airedale-terrier'),\n",
       " (3, 'american-pit-bull-terrier'),\n",
       " (4, 'appenzeller-sennenhunde'),\n",
       " (5, 'australian-terrier'),\n",
       " (6, 'basenji'),\n",
       " (7, 'basset-hound'),\n",
       " (8, 'beagle'),\n",
       " (9, 'bedlington-terrier'),\n",
       " (10, 'bernese-mountain-dog'),\n",
       " (11, 'black-and-tan-coonhound'),\n",
       " (12, 'cavalier-king-charles-spaniel'),\n",
       " (13, 'bloodhound'),\n",
       " (14, 'bluetick-coonhound'),\n",
       " (15, 'border-collie'),\n",
       " (16, 'border-terrier'),\n",
       " (17, 'borzoi'),\n",
       " (18, 'boston-terrier'),\n",
       " (19, 'bouvier-des-flandres'),\n",
       " (20, 'boxer'),\n",
       " (21, 'brussels-griffon'),\n",
       " (22, 'briard'),\n",
       " (23, 'brittany'),\n",
       " (24, 'bullmastiff'),\n",
       " (25, 'cairn-terrier'),\n",
       " (26, 'cardigan-welsh-corgi'),\n",
       " (27, 'chesapeake-bay-retriever'),\n",
       " (28, 'chihuahua'),\n",
       " (29, 'chow-chow'),\n",
       " (30, 'clumber-spaniel'),\n",
       " (31, 'cocker-spaniel'),\n",
       " (32, 'collie'),\n",
       " (33, 'curly-coated-retriever'),\n",
       " (34, 'dandie-dinmont-terrier'),\n",
       " (35, 'doberman-pinscher'),\n",
       " (36, 'english-foxhound'),\n",
       " (37, 'english-setter'),\n",
       " (38, 'english-springer-spaniel'),\n",
       " (39, 'entlebucher-mountain-dog'),\n",
       " (40, 'american-eskimo-dog'),\n",
       " (41, 'flat-coated-retriever'),\n",
       " (42, 'french-bulldog'),\n",
       " (43, 'german-shepherd-dog'),\n",
       " (44, 'german-shorthaired-pointer'),\n",
       " (45, 'giant-schnauzer'),\n",
       " (46, 'golden-retriever'),\n",
       " (47, 'gordon-setter'),\n",
       " (48, 'great-dane'),\n",
       " (49, 'great-pyrenees'),\n",
       " (50, 'greater-swiss-mountain-dog'),\n",
       " (51, 'belgian-sheepdog'),\n",
       " (52, 'ibizan-hound'),\n",
       " (53, 'irish-setter'),\n",
       " (54, 'irish-terrier'),\n",
       " (55, 'irish-water-spaniel'),\n",
       " (56, 'irish-wolfhound'),\n",
       " (57, 'italian-greyhound'),\n",
       " (58, 'japanese-chin'),\n",
       " (59, 'keeshond'),\n",
       " (60, 'kerry-blue-terrier'),\n",
       " (61, 'komondor'),\n",
       " (62, 'kuvasz'),\n",
       " (63, 'labrador-retriever'),\n",
       " (64, 'lakeland-terrier'),\n",
       " (65, 'leonberger'),\n",
       " (66, 'lhasa-apso'),\n",
       " (67, 'alaskan-malamute'),\n",
       " (68, 'belgian-malinois'),\n",
       " (69, 'maltese'),\n",
       " (70, 'xoloitzuintli'),\n",
       " (71, 'miniature-pinscher'),\n",
       " (72, 'miniature-schnauzer'),\n",
       " (73, 'newfoundland'),\n",
       " (74, 'norfolk-terrier'),\n",
       " (75, 'norwegian-elkhound'),\n",
       " (76, 'norwich-terrier'),\n",
       " (77, 'old-english-sheepdog'),\n",
       " (78, 'otterhound'),\n",
       " (79, 'papillon'),\n",
       " (80, 'pekingese'),\n",
       " (81, 'pembroke-welsh-corgi'),\n",
       " (82, 'pomeranian'),\n",
       " (83, 'pug'),\n",
       " (84, 'redbone-coonhound'),\n",
       " (85, 'rhodesian-ridgeback'),\n",
       " (86, 'rottweiler'),\n",
       " (87, 'saint-bernard'),\n",
       " (88, 'saluki'),\n",
       " (89, 'samoyed'),\n",
       " (90, 'schipperke'),\n",
       " (91, 'scottish-terrier'),\n",
       " (92, 'scottish-deerhound'),\n",
       " (93, 'sealyham-terrier'),\n",
       " (94, 'shetland-sheepdog'),\n",
       " (95, 'shih-tzu'),\n",
       " (96, 'siberian-husky'),\n",
       " (97, 'silky-terrier'),\n",
       " (98, 'soft-coated-wheaten-terrier'),\n",
       " (99, 'staffordshire-bull-terrier'),\n",
       " (100, 'poodle'),\n",
       " (101, 'standard-schnauzer'),\n",
       " (102, 'sussex-spaniel'),\n",
       " (103, 'tibetan-mastiff'),\n",
       " (104, 'tibetan-terrier'),\n",
       " (105, 'toy-fox-terrier'),\n",
       " (106, 'vizsla'),\n",
       " (107, 'treeing-walker-coonhound'),\n",
       " (108, 'weimaraner'),\n",
       " (109, 'welsh-springer-spaniel'),\n",
       " (110, 'west-highland-white-terrier'),\n",
       " (111, 'whippet'),\n",
       " (112, 'fox-terrier'),\n",
       " (113, 'yorkshire-terrier')]"
      ]
     },
     "execution_count": 12,
     "metadata": {},
     "output_type": "execute_result"
    }
   ],
   "source": [
    "list(enumerate(dogtime_breeds))"
   ]
  },
  {
   "cell_type": "markdown",
   "metadata": {},
   "source": [
    "Remove unavailable breeds / wild dogs"
   ]
  },
  {
   "cell_type": "code",
   "execution_count": 31,
   "metadata": {
    "collapsed": true
   },
   "outputs": [],
   "source": [
    "dogtime_breed_url = \"http://dogtime.com/dog-breeds\"\n",
    "\n",
    "r = requests.get(dogtime_breed_url)\n",
    "\n",
    "dog_soup = BeautifulSoup(r.text, \"lxml\")"
   ]
  },
  {
   "cell_type": "code",
   "execution_count": 32,
   "metadata": {
    "collapsed": true
   },
   "outputs": [],
   "source": [
    "link = dog_soup.find_all(class_='group-list-item')[0].find('a')['href']\n",
    "image = dog_soup.find_all(class_='group-list-item')[0].find('img')['src']"
   ]
  },
  {
   "cell_type": "code",
   "execution_count": 33,
   "metadata": {},
   "outputs": [
    {
     "data": {
      "text/plain": [
       "('http://dogtime.com/dog-breeds/affenpinscher',\n",
       " 'http://cdn3-www.dogtime.com/assets/uploads/2011/01/file_23096_affenpinscher-300x189.jpg')"
      ]
     },
     "execution_count": 33,
     "metadata": {},
     "output_type": "execute_result"
    }
   ],
   "source": [
    "link, image"
   ]
  },
  {
   "cell_type": "code",
   "execution_count": 34,
   "metadata": {
    "collapsed": true
   },
   "outputs": [],
   "source": [
    "base_url = \"http://dogtime.com/dog-breeds/\"\n",
    "breed_links = [base_url+breed for breed in dogtime_breeds]"
   ]
  },
  {
   "cell_type": "code",
   "execution_count": 35,
   "metadata": {},
   "outputs": [
    {
     "data": {
      "text/plain": [
       "['http://dogtime.com/dog-breeds/affenpinscher',\n",
       " 'http://dogtime.com/dog-breeds/afghan-hound',\n",
       " 'http://dogtime.com/dog-breeds/american-pit-bull-terrier',\n",
       " 'http://dogtime.com/dog-breeds/airedale-terrier',\n",
       " 'http://dogtime.com/dog-breeds/appenzeller-sennenhunde',\n",
       " 'http://dogtime.com/dog-breeds/australian-terrier',\n",
       " 'http://dogtime.com/dog-breeds/basenji',\n",
       " 'http://dogtime.com/dog-breeds/basset-hound',\n",
       " 'http://dogtime.com/dog-breeds/beagle',\n",
       " 'http://dogtime.com/dog-breeds/bedlington-terrier']"
      ]
     },
     "execution_count": 35,
     "metadata": {},
     "output_type": "execute_result"
    }
   ],
   "source": [
    "breed_links[:10]"
   ]
  },
  {
   "cell_type": "code",
   "execution_count": 36,
   "metadata": {
    "collapsed": true
   },
   "outputs": [],
   "source": [
    "client = pymongo.MongoClient(\"mongodb://54.67.76.74/dogbreeds\")"
   ]
  },
  {
   "cell_type": "code",
   "execution_count": 37,
   "metadata": {
    "collapsed": true
   },
   "outputs": [],
   "source": [
    "db = client.dogbreeds"
   ]
  },
  {
   "cell_type": "code",
   "execution_count": 39,
   "metadata": {},
   "outputs": [
    {
     "data": {
      "text/plain": [
       "'http://dogtime.com/dog-breeds/american-pit-bull-terrier'"
      ]
     },
     "execution_count": 39,
     "metadata": {},
     "output_type": "execute_result"
    }
   ],
   "source": [
    "breed_links[2]"
   ]
  },
  {
   "cell_type": "code",
   "execution_count": 64,
   "metadata": {},
   "outputs": [
    {
     "data": {
      "text/plain": [
       "'american_staffordshire_terrier'"
      ]
     },
     "execution_count": 64,
     "metadata": {},
     "output_type": "execute_result"
    }
   ],
   "source": [
    "dog_breeds[3]"
   ]
  },
  {
   "cell_type": "code",
   "execution_count": 15,
   "metadata": {
    "collapsed": true
   },
   "outputs": [],
   "source": [
    "r = requests.get(breed_links[-1])\n",
    "dog_soup = BeautifulSoup(r.text, \"lxml\")"
   ]
  },
  {
   "cell_type": "code",
   "execution_count": 25,
   "metadata": {
    "collapsed": true
   },
   "outputs": [],
   "source": [
    "content = dog_soup.find(class_=\"category-article-main\")"
   ]
  },
  {
   "cell_type": "code",
   "execution_count": 253,
   "metadata": {
    "collapsed": true
   },
   "outputs": [],
   "source": [
    "failed_breeds = []\n",
    "for dog_breed, dogtime_breed in zip([dog_breeds[99]], [dogtime_breeds[99]]):\n",
    "    dog_url = base_url + dogtime_breed\n",
    "    try:\n",
    "        r = requests.get(dog_url)\n",
    "        r.raise_for_status()\n",
    "    except requests.exceptions.RequestException as e:\n",
    "        print(e)\n",
    "        print(dog_breed+\" failed!\")\n",
    "        failed_breeds.append(dogtime_breed)\n",
    "        time.sleep(random.uniform(3, 5))\n",
    "        continue\n",
    "    dog_soup = BeautifulSoup(r.text, \"lxml\")\n",
    "    dog_content = dog_soup.find(class_=\"category-article-main\")\n",
    "    db.dogbreeds.update_one({'breed' : dog_breed}, {\"$set\" : {'url' : dog_url,\n",
    "                            'dogtime_content' : str(dog_content)}}, upsert=True)\n",
    "    time.sleep(random.uniform(3, 5))\n",
    "        "
   ]
  },
  {
   "cell_type": "markdown",
   "metadata": {},
   "source": [
    "### Scrape dogbreedinfo"
   ]
  },
  {
   "cell_type": "code",
   "execution_count": 59,
   "metadata": {},
   "outputs": [
    {
     "data": {
      "text/plain": [
       "[(0, 'affenpinscher'),\n",
       " (1, 'afghan_hound'),\n",
       " (2, 'airedale'),\n",
       " (3, 'american_staffordshire_terrier'),\n",
       " (4, 'appenzeller'),\n",
       " (5, 'australian_terrier'),\n",
       " (6, 'basenji'),\n",
       " (7, 'basset'),\n",
       " (8, 'beagle'),\n",
       " (9, 'bedlington_terrier'),\n",
       " (10, 'bernese_mountain_dog'),\n",
       " (11, 'black-and-tan_coonhound'),\n",
       " (12, 'blenheim_spaniel'),\n",
       " (13, 'bloodhound'),\n",
       " (14, 'bluetick'),\n",
       " (15, 'border_collie'),\n",
       " (16, 'border_terrier'),\n",
       " (17, 'borzoi'),\n",
       " (18, 'boston_bull'),\n",
       " (19, 'bouvier_des_flandres'),\n",
       " (20, 'boxer'),\n",
       " (21, 'brabancon_griffon'),\n",
       " (22, 'briard'),\n",
       " (23, 'brittany_spaniel'),\n",
       " (24, 'bull_mastiff'),\n",
       " (25, 'cairn'),\n",
       " (26, 'cardigan'),\n",
       " (27, 'chesapeake_bay_retriever'),\n",
       " (28, 'chihuahua'),\n",
       " (29, 'chow'),\n",
       " (30, 'clumber'),\n",
       " (31, 'cocker_spaniel'),\n",
       " (32, 'collie'),\n",
       " (33, 'curly-coated_retriever'),\n",
       " (34, 'dandie_dinmont'),\n",
       " (35, 'doberman'),\n",
       " (36, 'english_foxhound'),\n",
       " (37, 'english_setter'),\n",
       " (38, 'english_springer'),\n",
       " (39, 'entlebucher'),\n",
       " (40, 'eskimo_dog'),\n",
       " (41, 'flat-coated_retriever'),\n",
       " (42, 'french_bulldog'),\n",
       " (43, 'german_shepherd'),\n",
       " (44, 'german_short-haired_pointer'),\n",
       " (45, 'giant_schnauzer'),\n",
       " (46, 'golden_retriever'),\n",
       " (47, 'gordon_setter'),\n",
       " (48, 'great_dane'),\n",
       " (49, 'great_pyrenees'),\n",
       " (50, 'greater_swiss_mountain_dog'),\n",
       " (51, 'groenendael'),\n",
       " (52, 'ibizan_hound'),\n",
       " (53, 'irish_setter'),\n",
       " (54, 'irish_terrier'),\n",
       " (55, 'irish_water_spaniel'),\n",
       " (56, 'irish_wolfhound'),\n",
       " (57, 'italian_greyhound'),\n",
       " (58, 'japanese_spaniel'),\n",
       " (59, 'keeshond'),\n",
       " (60, 'kerry_blue_terrier'),\n",
       " (61, 'komondor'),\n",
       " (62, 'kuvasz'),\n",
       " (63, 'labrador_retriever'),\n",
       " (64, 'lakeland_terrier'),\n",
       " (65, 'leonberg'),\n",
       " (66, 'lhasa'),\n",
       " (67, 'malamute'),\n",
       " (68, 'malinois'),\n",
       " (69, 'maltese_dog'),\n",
       " (70, 'mexican_hairless'),\n",
       " (71, 'miniature_pinscher'),\n",
       " (72, 'miniature_schnauzer'),\n",
       " (73, 'newfoundland'),\n",
       " (74, 'norfolk_terrier'),\n",
       " (75, 'norwegian_elkhound'),\n",
       " (76, 'norwich_terrier'),\n",
       " (77, 'old_english_sheepdog'),\n",
       " (78, 'otterhound'),\n",
       " (79, 'papillon'),\n",
       " (80, 'pekinese'),\n",
       " (81, 'pembroke'),\n",
       " (82, 'pomeranian'),\n",
       " (83, 'pug'),\n",
       " (84, 'redbone'),\n",
       " (85, 'rhodesian_ridgeback'),\n",
       " (86, 'rottweiler'),\n",
       " (87, 'saint_bernard'),\n",
       " (88, 'saluki'),\n",
       " (89, 'samoyed'),\n",
       " (90, 'schipperke'),\n",
       " (91, 'scotch_terrier'),\n",
       " (92, 'scottish_deerhound'),\n",
       " (93, 'sealyham_terrier'),\n",
       " (94, 'shetland_sheepdog'),\n",
       " (95, 'shih-tzu'),\n",
       " (96, 'siberian_husky'),\n",
       " (97, 'silky_terrier'),\n",
       " (98, 'soft-coated_wheaten_terrier'),\n",
       " (99, 'staffordshire_bullterrier'),\n",
       " (100, 'standard_poodle'),\n",
       " (101, 'standard_schnauzer'),\n",
       " (102, 'sussex_spaniel'),\n",
       " (103, 'tibetan_mastiff'),\n",
       " (104, 'tibetan_terrier'),\n",
       " (105, 'toy_terrier'),\n",
       " (106, 'vizsla'),\n",
       " (107, 'walker_hound'),\n",
       " (108, 'weimaraner'),\n",
       " (109, 'welsh_springer_spaniel'),\n",
       " (110, 'west_highland_white_terrier'),\n",
       " (111, 'whippet'),\n",
       " (112, 'wire-haired_fox_terrier'),\n",
       " (113, 'yorkshire_terrier')]"
      ]
     },
     "execution_count": 59,
     "metadata": {},
     "output_type": "execute_result"
    }
   ],
   "source": [
    "list(enumerate(dog_breeds))"
   ]
  },
  {
   "cell_type": "code",
   "execution_count": 66,
   "metadata": {
    "collapsed": true
   },
   "outputs": [],
   "source": [
    "dogbreedinfo_breeds = [breed.replace(\"-\", \"\").replace(\"_\", \"\") for breed in dog_breeds]\n",
    "dogbreedinfo_breeds[1] = 'afghan'\n",
    "dogbreedinfo_breeds[3] = 'americanstaffordshire'\n",
    "dogbreedinfo_breeds[4] = 'appenzell'\n",
    "dogbreedinfo_breeds[7] += 'hound'\n",
    "dogbreedinfo_breeds[10] = 'bernesemountain'\n",
    "dogbreedinfo_breeds[12] = 'cavalierkingcharlesspaniel'\n",
    "dogbreedinfo_breeds[18] = 'bostonterrier'\n",
    "dogbreedinfo_breeds[21] = 'griffon'\n",
    "dogbreedinfo_breeds[23] = 'brittany'\n",
    "dogbreedinfo_breeds[25] += 'terrier'\n",
    "dogbreedinfo_breeds[26] += 'corgi'\n",
    "dogbreedinfo_breeds[27] = 'chesapeakebay'\n",
    "dogbreedinfo_breeds[29] += 'chow'\n",
    "dogbreedinfo_breeds[30] += 'spaniel'\n",
    "dogbreedinfo_breeds[31] = 'cockers'\n",
    "dogbreedinfo_breeds[38] += 'spaniel'\n",
    "dogbreedinfo_breeds[40] = 'americaneskimo'\n",
    "dogbreedinfo_breeds[50] = 'greaterswissmountain'\n",
    "dogbreedinfo_breeds[51] = 'belgiangroenendael'\n",
    "dogbreedinfo_breeds[63] = 'labrador'\n",
    "dogbreedinfo_breeds[65] += 'er'\n",
    "dogbreedinfo_breeds[66] += 'apso'\n",
    "dogbreedinfo_breeds[67] = 'alaskanmalamute'\n",
    "dogbreedinfo_breeds[68] = 'belgianmalinois'\n",
    "dogbreedinfo_breeds[69] = 'maltese'\n",
    "dogbreedinfo_breeds[70] = 'xoloitzcuintle'\n",
    "dogbreedinfo_breeds[80] = 'pekingese'\n",
    "dogbreedinfo_breeds[81] += 'corgi'\n",
    "dogbreedinfo_breeds[84] += 'coonhound'\n",
    "dogbreedinfo_breeds[91] = 'scottishterrier'\n",
    "dogbreedinfo_breeds[102] = 'sussex'\n",
    "dogbreedinfo_breeds[105] = 'toyfoxterrier'\n",
    "dogbreedinfo_breeds[107] = 'treeingwalkercoonhound'\n",
    "dogbreedinfo_breeds[110] = 'westhighland'\n",
    "dogbreedinfo_breeds[112] = 'wirefoxterrier'"
   ]
  },
  {
   "cell_type": "code",
   "execution_count": 67,
   "metadata": {},
   "outputs": [
    {
     "data": {
      "text/plain": [
       "[('affenpinscher', 'affenpinscher'),\n",
       " ('afghan_hound', 'afghan'),\n",
       " ('airedale', 'airedale'),\n",
       " ('american_staffordshire_terrier', 'americanstaffordshire'),\n",
       " ('appenzeller', 'appenzell'),\n",
       " ('australian_terrier', 'australianterrier'),\n",
       " ('basenji', 'basenji'),\n",
       " ('basset', 'bassethound'),\n",
       " ('beagle', 'beagle'),\n",
       " ('bedlington_terrier', 'bedlingtonterrier'),\n",
       " ('bernese_mountain_dog', 'bernesemountain'),\n",
       " ('black-and-tan_coonhound', 'blackandtancoonhound'),\n",
       " ('blenheim_spaniel', 'cavalierkingcharlesspaniel'),\n",
       " ('bloodhound', 'bloodhound'),\n",
       " ('bluetick', 'bluetick'),\n",
       " ('border_collie', 'bordercollie'),\n",
       " ('border_terrier', 'borderterrier'),\n",
       " ('borzoi', 'borzoi'),\n",
       " ('boston_bull', 'bostonterrier'),\n",
       " ('bouvier_des_flandres', 'bouvierdesflandres'),\n",
       " ('boxer', 'boxer'),\n",
       " ('brabancon_griffon', 'griffon'),\n",
       " ('briard', 'briard'),\n",
       " ('brittany_spaniel', 'brittany'),\n",
       " ('bull_mastiff', 'bullmastiff'),\n",
       " ('cairn', 'cairnterrier'),\n",
       " ('cardigan', 'cardigancorgi'),\n",
       " ('chesapeake_bay_retriever', 'chesapeakebay'),\n",
       " ('chihuahua', 'chihuahua'),\n",
       " ('chow', 'chowchow'),\n",
       " ('clumber', 'clumberspaniel'),\n",
       " ('cocker_spaniel', 'cockers'),\n",
       " ('collie', 'collie'),\n",
       " ('curly-coated_retriever', 'curlycoatedretriever'),\n",
       " ('dandie_dinmont', 'dandiedinmont'),\n",
       " ('doberman', 'doberman'),\n",
       " ('english_foxhound', 'englishfoxhound'),\n",
       " ('english_setter', 'englishsetter'),\n",
       " ('english_springer', 'englishspringerspaniel'),\n",
       " ('entlebucher', 'entlebucher'),\n",
       " ('eskimo_dog', 'americaneskimo'),\n",
       " ('flat-coated_retriever', 'flatcoatedretriever'),\n",
       " ('french_bulldog', 'frenchbulldog'),\n",
       " ('german_shepherd', 'germanshepherd'),\n",
       " ('german_short-haired_pointer', 'germanshorthairedpointer'),\n",
       " ('giant_schnauzer', 'giantschnauzer'),\n",
       " ('golden_retriever', 'goldenretriever'),\n",
       " ('gordon_setter', 'gordonsetter'),\n",
       " ('great_dane', 'greatdane'),\n",
       " ('great_pyrenees', 'greatpyrenees'),\n",
       " ('greater_swiss_mountain_dog', 'greaterswissmountain'),\n",
       " ('groenendael', 'belgiangroenendael'),\n",
       " ('ibizan_hound', 'ibizanhound'),\n",
       " ('irish_setter', 'irishsetter'),\n",
       " ('irish_terrier', 'irishterrier'),\n",
       " ('irish_water_spaniel', 'irishwaterspaniel'),\n",
       " ('irish_wolfhound', 'irishwolfhound'),\n",
       " ('italian_greyhound', 'italiangreyhound'),\n",
       " ('japanese_spaniel', 'japanesespaniel'),\n",
       " ('keeshond', 'keeshond'),\n",
       " ('kerry_blue_terrier', 'kerryblueterrier'),\n",
       " ('komondor', 'komondor'),\n",
       " ('kuvasz', 'kuvasz'),\n",
       " ('labrador_retriever', 'labrador'),\n",
       " ('lakeland_terrier', 'lakelandterrier'),\n",
       " ('leonberg', 'leonberger'),\n",
       " ('lhasa', 'lhasaapso'),\n",
       " ('malamute', 'alaskanmalamute'),\n",
       " ('malinois', 'belgianmalinois'),\n",
       " ('maltese_dog', 'maltese'),\n",
       " ('mexican_hairless', 'xoloitzcuintle'),\n",
       " ('miniature_pinscher', 'miniaturepinscher'),\n",
       " ('miniature_schnauzer', 'miniatureschnauzer'),\n",
       " ('newfoundland', 'newfoundland'),\n",
       " ('norfolk_terrier', 'norfolkterrier'),\n",
       " ('norwegian_elkhound', 'norwegianelkhound'),\n",
       " ('norwich_terrier', 'norwichterrier'),\n",
       " ('old_english_sheepdog', 'oldenglishsheepdog'),\n",
       " ('otterhound', 'otterhound'),\n",
       " ('papillon', 'papillon'),\n",
       " ('pekinese', 'pekingese'),\n",
       " ('pembroke', 'pembrokecorgi'),\n",
       " ('pomeranian', 'pomeranian'),\n",
       " ('pug', 'pug'),\n",
       " ('redbone', 'redbonecoonhound'),\n",
       " ('rhodesian_ridgeback', 'rhodesianridgeback'),\n",
       " ('rottweiler', 'rottweiler'),\n",
       " ('saint_bernard', 'saintbernard'),\n",
       " ('saluki', 'saluki'),\n",
       " ('samoyed', 'samoyed'),\n",
       " ('schipperke', 'schipperke'),\n",
       " ('scotch_terrier', 'scottishterrier'),\n",
       " ('scottish_deerhound', 'scottishdeerhound'),\n",
       " ('sealyham_terrier', 'sealyhamterrier'),\n",
       " ('shetland_sheepdog', 'shetlandsheepdog'),\n",
       " ('shih-tzu', 'shihtzu'),\n",
       " ('siberian_husky', 'siberianhusky'),\n",
       " ('silky_terrier', 'silkyterrier'),\n",
       " ('soft-coated_wheaten_terrier', 'softcoatedwheatenterrier'),\n",
       " ('staffordshire_bullterrier', 'staffordshirebullterrier'),\n",
       " ('standard_poodle', 'standardpoodle'),\n",
       " ('standard_schnauzer', 'standardschnauzer'),\n",
       " ('sussex_spaniel', 'sussex'),\n",
       " ('tibetan_mastiff', 'tibetanmastiff'),\n",
       " ('tibetan_terrier', 'tibetanterrier'),\n",
       " ('toy_terrier', 'toyfoxterrier'),\n",
       " ('vizsla', 'vizsla'),\n",
       " ('walker_hound', 'treeingwalkercoonhound'),\n",
       " ('weimaraner', 'weimaraner'),\n",
       " ('welsh_springer_spaniel', 'welshspringerspaniel'),\n",
       " ('west_highland_white_terrier', 'westhighland'),\n",
       " ('whippet', 'whippet'),\n",
       " ('wire-haired_fox_terrier', 'wirefoxterrier'),\n",
       " ('yorkshire_terrier', 'yorkshireterrier')]"
      ]
     },
     "execution_count": 67,
     "metadata": {},
     "output_type": "execute_result"
    }
   ],
   "source": [
    "list(zip(dog_breeds, dogbreedinfo_breeds))"
   ]
  },
  {
   "cell_type": "code",
   "execution_count": 68,
   "metadata": {
    "collapsed": true
   },
   "outputs": [],
   "source": [
    "dogbreedinfo_url = \"https://www.dogbreedinfo.com/\"\n"
   ]
  },
  {
   "cell_type": "code",
   "execution_count": null,
   "metadata": {
    "collapsed": true
   },
   "outputs": [],
   "source": []
  },
  {
   "cell_type": "code",
   "execution_count": null,
   "metadata": {
    "collapsed": true
   },
   "outputs": [],
   "source": []
  },
  {
   "cell_type": "code",
   "execution_count": 187,
   "metadata": {
    "collapsed": true
   },
   "outputs": [],
   "source": [
    "failed_breeds = []\n",
    "for dog_breed, dogbreedinfo_breed in zip([dog_breeds[3]], [dogbreedinfo_breeds[3]]):\n",
    "    dog_url = dogbreedinfo_url + dogbreedinfo_breed + \".htm\"\n",
    "    try:\n",
    "        r = requests.get(dog_url)\n",
    "        r.raise_for_status()\n",
    "    except requests.exceptions.RequestException as e:\n",
    "        print(e)\n",
    "        print(dog_breed+\" failed!\")\n",
    "        failed_breeds.append(dogbreedinfo_breed)\n",
    "        time.sleep(random.uniform(3, 5))\n",
    "        continue\n",
    "    dog_soup = BeautifulSoup(r.text, \"lxml\")\n",
    "    dog_content = dog_soup.find(class_=\"mainArea\")\n",
    "    db.dogbreeds.update_one({'breed' : dog_breed},{\"$set\" : {'dogbreedinfo_url' : dog_url,\n",
    "                            'dogbreedinfo_content' : str(dog_content)}})\n",
    "    time.sleep(random.uniform(3, 5))    "
   ]
  },
  {
   "cell_type": "code",
   "execution_count": null,
   "metadata": {
    "collapsed": true
   },
   "outputs": [],
   "source": []
  },
  {
   "cell_type": "markdown",
   "metadata": {},
   "source": [
    "### Scrape wikipedia"
   ]
  },
  {
   "cell_type": "code",
   "execution_count": 70,
   "metadata": {},
   "outputs": [
    {
     "data": {
      "text/plain": [
       "[(0, 'affenpinscher'),\n",
       " (1, 'afghan_hound'),\n",
       " (2, 'airedale'),\n",
       " (3, 'american_staffordshire_terrier'),\n",
       " (4, 'appenzeller'),\n",
       " (5, 'australian_terrier'),\n",
       " (6, 'basenji'),\n",
       " (7, 'basset'),\n",
       " (8, 'beagle'),\n",
       " (9, 'bedlington_terrier'),\n",
       " (10, 'bernese_mountain_dog'),\n",
       " (11, 'black-and-tan_coonhound'),\n",
       " (12, 'blenheim_spaniel'),\n",
       " (13, 'bloodhound'),\n",
       " (14, 'bluetick'),\n",
       " (15, 'border_collie'),\n",
       " (16, 'border_terrier'),\n",
       " (17, 'borzoi'),\n",
       " (18, 'boston_bull'),\n",
       " (19, 'bouvier_des_flandres'),\n",
       " (20, 'boxer'),\n",
       " (21, 'brabancon_griffon'),\n",
       " (22, 'briard'),\n",
       " (23, 'brittany_spaniel'),\n",
       " (24, 'bull_mastiff'),\n",
       " (25, 'cairn'),\n",
       " (26, 'cardigan'),\n",
       " (27, 'chesapeake_bay_retriever'),\n",
       " (28, 'chihuahua'),\n",
       " (29, 'chow'),\n",
       " (30, 'clumber'),\n",
       " (31, 'cocker_spaniel'),\n",
       " (32, 'collie'),\n",
       " (33, 'curly-coated_retriever'),\n",
       " (34, 'dandie_dinmont'),\n",
       " (35, 'doberman'),\n",
       " (36, 'english_foxhound'),\n",
       " (37, 'english_setter'),\n",
       " (38, 'english_springer'),\n",
       " (39, 'entlebucher'),\n",
       " (40, 'eskimo_dog'),\n",
       " (41, 'flat-coated_retriever'),\n",
       " (42, 'french_bulldog'),\n",
       " (43, 'german_shepherd'),\n",
       " (44, 'german_short-haired_pointer'),\n",
       " (45, 'giant_schnauzer'),\n",
       " (46, 'golden_retriever'),\n",
       " (47, 'gordon_setter'),\n",
       " (48, 'great_dane'),\n",
       " (49, 'great_pyrenees'),\n",
       " (50, 'greater_swiss_mountain_dog'),\n",
       " (51, 'groenendael'),\n",
       " (52, 'ibizan_hound'),\n",
       " (53, 'irish_setter'),\n",
       " (54, 'irish_terrier'),\n",
       " (55, 'irish_water_spaniel'),\n",
       " (56, 'irish_wolfhound'),\n",
       " (57, 'italian_greyhound'),\n",
       " (58, 'japanese_spaniel'),\n",
       " (59, 'keeshond'),\n",
       " (60, 'kerry_blue_terrier'),\n",
       " (61, 'komondor'),\n",
       " (62, 'kuvasz'),\n",
       " (63, 'labrador_retriever'),\n",
       " (64, 'lakeland_terrier'),\n",
       " (65, 'leonberg'),\n",
       " (66, 'lhasa'),\n",
       " (67, 'malamute'),\n",
       " (68, 'malinois'),\n",
       " (69, 'maltese_dog'),\n",
       " (70, 'mexican_hairless'),\n",
       " (71, 'miniature_pinscher'),\n",
       " (72, 'miniature_schnauzer'),\n",
       " (73, 'newfoundland'),\n",
       " (74, 'norfolk_terrier'),\n",
       " (75, 'norwegian_elkhound'),\n",
       " (76, 'norwich_terrier'),\n",
       " (77, 'old_english_sheepdog'),\n",
       " (78, 'otterhound'),\n",
       " (79, 'papillon'),\n",
       " (80, 'pekinese'),\n",
       " (81, 'pembroke'),\n",
       " (82, 'pomeranian'),\n",
       " (83, 'pug'),\n",
       " (84, 'redbone'),\n",
       " (85, 'rhodesian_ridgeback'),\n",
       " (86, 'rottweiler'),\n",
       " (87, 'saint_bernard'),\n",
       " (88, 'saluki'),\n",
       " (89, 'samoyed'),\n",
       " (90, 'schipperke'),\n",
       " (91, 'scotch_terrier'),\n",
       " (92, 'scottish_deerhound'),\n",
       " (93, 'sealyham_terrier'),\n",
       " (94, 'shetland_sheepdog'),\n",
       " (95, 'shih-tzu'),\n",
       " (96, 'siberian_husky'),\n",
       " (97, 'silky_terrier'),\n",
       " (98, 'soft-coated_wheaten_terrier'),\n",
       " (99, 'staffordshire_bullterrier'),\n",
       " (100, 'standard_poodle'),\n",
       " (101, 'standard_schnauzer'),\n",
       " (102, 'sussex_spaniel'),\n",
       " (103, 'tibetan_mastiff'),\n",
       " (104, 'tibetan_terrier'),\n",
       " (105, 'toy_terrier'),\n",
       " (106, 'vizsla'),\n",
       " (107, 'walker_hound'),\n",
       " (108, 'weimaraner'),\n",
       " (109, 'welsh_springer_spaniel'),\n",
       " (110, 'west_highland_white_terrier'),\n",
       " (111, 'whippet'),\n",
       " (112, 'wire-haired_fox_terrier'),\n",
       " (113, 'yorkshire_terrier')]"
      ]
     },
     "execution_count": 70,
     "metadata": {},
     "output_type": "execute_result"
    }
   ],
   "source": [
    "list(enumerate(dog_breeds))"
   ]
  },
  {
   "cell_type": "code",
   "execution_count": 71,
   "metadata": {
    "collapsed": true
   },
   "outputs": [],
   "source": [
    "wikipedia_breeds = [breed.replace(\"-\", \"_\").title() for breed in dog_breeds]\n",
    "wikipedia_breeds[2] += \"_Terrier\"\n",
    "wikipedia_breeds[4] += \"_Sennenhund\"\n",
    "wikipedia_breeds[7] += \"_Hound\"\n",
    "wikipedia_breeds[12] = \"Cavalier_King_Charles_Spaniel\"\n",
    "wikipedia_breeds[14] += \"_Coonhound\"\n",
    "wikipedia_breeds[18] = \"Boston_Terrier\"\n",
    "wikipedia_breeds[19] = \"Bouvier_des_Flandres\"\n",
    "wikipedia_breeds[21] = \"Griffon_Bruxellois\"\n",
    "wikipedia_breeds[24] = \"Bullmastiff\"\n",
    "wikipedia_breeds[25] += \"_Terrier\"\n",
    "wikipedia_breeds[26] += \"_Welsh_Corgi\"\n",
    "wikipedia_breeds[29] += \"_Chow\"\n",
    "wikipedia_breeds[30] += \"_Spaniel\"\n",
    "wikipedia_breeds[31] = \"English_Cocker_Spaniel\"\n",
    "wikipedia_breeds[32] = \"Rough_Collie\"\n",
    "wikipedia_breeds[34] += \"_Terrier\"\n",
    "wikipedia_breeds[35] += \"_Pinscher\"\n",
    "wikipedia_breeds[38] += \"_Spaniel\"\n",
    "wikipedia_breeds[39] = \"Entlebucher_Mountain_Dog\"\n",
    "wikipedia_breeds[40] = \"American_Eskimo_Dog\"\n",
    "wikipedia_breeds[41] = \"Flat-Coated_Retriever\"\n",
    "wikipedia_breeds[44] = \"German_Shorthaired_Pointer\"\n",
    "wikipedia_breeds[51] += \"_dog\"\n",
    "wikipedia_breeds[58] = \"Japanese_Chin\"\n",
    "wikipedia_breeds[65] += \"er\"\n",
    "wikipedia_breeds[66] += \"_Apso\"\n",
    "wikipedia_breeds[67] = \"Alaskan_Malamute\"\n",
    "wikipedia_breeds[68] += \"_dog\"\n",
    "wikipedia_breeds[69] = \"Maltese_(dog)\"\n",
    "wikipedia_breeds[70] += \"_Dog\"\n",
    "wikipedia_breeds[79] += \"_(dog)\"\n",
    "wikipedia_breeds[80] = \"Pekingese\"\n",
    "wikipedia_breeds[81] += \"_Welsh_Corgi\"\n",
    "wikipedia_breeds[84] += \"_Coonhound\"\n",
    "wikipedia_breeds[87] = \"St._Bernard_(dog)\"\n",
    "wikipedia_breeds[89] += \"_(dog)\"\n",
    "wikipedia_breeds[91] = \"Scottish_Terrier\"\n",
    "wikipedia_breeds[97] = \"Australian_Silky_Terrier\"\n",
    "wikipedia_breeds[98] = \"Soft-Coated_Wheaten_Terrier\"\n",
    "wikipedia_breeds[99] = \"Staffordshire_Bull_Terrier\"\n",
    "wikipedia_breeds[100] = \"Poodle\"\n",
    "wikipedia_breeds[105] = \"Toy_Fox_Terrier\"\n",
    "wikipedia_breeds[107] = \"Treeing_Walker_Coonhound\"\n",
    "wikipedia_breeds[112] = \"Wire_Fox_Terrier\""
   ]
  },
  {
   "cell_type": "code",
   "execution_count": 72,
   "metadata": {},
   "outputs": [
    {
     "data": {
      "text/plain": [
       "[('affenpinscher', 'Affenpinscher'),\n",
       " ('afghan_hound', 'Afghan_Hound'),\n",
       " ('airedale', 'Airedale_Terrier'),\n",
       " ('american_staffordshire_terrier', 'American_Staffordshire_Terrier'),\n",
       " ('appenzeller', 'Appenzeller_Sennenhund'),\n",
       " ('australian_terrier', 'Australian_Terrier'),\n",
       " ('basenji', 'Basenji'),\n",
       " ('basset', 'Basset_Hound'),\n",
       " ('beagle', 'Beagle'),\n",
       " ('bedlington_terrier', 'Bedlington_Terrier'),\n",
       " ('bernese_mountain_dog', 'Bernese_Mountain_Dog'),\n",
       " ('black-and-tan_coonhound', 'Black_And_Tan_Coonhound'),\n",
       " ('blenheim_spaniel', 'Cavalier_King_Charles_Spaniel'),\n",
       " ('bloodhound', 'Bloodhound'),\n",
       " ('bluetick', 'Bluetick_Coonhound'),\n",
       " ('border_collie', 'Border_Collie'),\n",
       " ('border_terrier', 'Border_Terrier'),\n",
       " ('borzoi', 'Borzoi'),\n",
       " ('boston_bull', 'Boston_Terrier'),\n",
       " ('bouvier_des_flandres', 'Bouvier_des_Flandres'),\n",
       " ('boxer', 'Boxer'),\n",
       " ('brabancon_griffon', 'Griffon_Bruxellois'),\n",
       " ('briard', 'Briard'),\n",
       " ('brittany_spaniel', 'Brittany_Spaniel'),\n",
       " ('bull_mastiff', 'Bullmastiff'),\n",
       " ('cairn', 'Cairn_Terrier'),\n",
       " ('cardigan', 'Cardigan_Welsh_Corgi'),\n",
       " ('chesapeake_bay_retriever', 'Chesapeake_Bay_Retriever'),\n",
       " ('chihuahua', 'Chihuahua'),\n",
       " ('chow', 'Chow_Chow'),\n",
       " ('clumber', 'Clumber_Spaniel'),\n",
       " ('cocker_spaniel', 'English_Cocker_Spaniel'),\n",
       " ('collie', 'Rough_Collie'),\n",
       " ('curly-coated_retriever', 'Curly_Coated_Retriever'),\n",
       " ('dandie_dinmont', 'Dandie_Dinmont_Terrier'),\n",
       " ('doberman', 'Doberman_Pinscher'),\n",
       " ('english_foxhound', 'English_Foxhound'),\n",
       " ('english_setter', 'English_Setter'),\n",
       " ('english_springer', 'English_Springer_Spaniel'),\n",
       " ('entlebucher', 'Entlebucher_Mountain_Dog'),\n",
       " ('eskimo_dog', 'American_Eskimo_Dog'),\n",
       " ('flat-coated_retriever', 'Flat-Coated_Retriever'),\n",
       " ('french_bulldog', 'French_Bulldog'),\n",
       " ('german_shepherd', 'German_Shepherd'),\n",
       " ('german_short-haired_pointer', 'German_Shorthaired_Pointer'),\n",
       " ('giant_schnauzer', 'Giant_Schnauzer'),\n",
       " ('golden_retriever', 'Golden_Retriever'),\n",
       " ('gordon_setter', 'Gordon_Setter'),\n",
       " ('great_dane', 'Great_Dane'),\n",
       " ('great_pyrenees', 'Great_Pyrenees'),\n",
       " ('greater_swiss_mountain_dog', 'Greater_Swiss_Mountain_Dog'),\n",
       " ('groenendael', 'Groenendael_dog'),\n",
       " ('ibizan_hound', 'Ibizan_Hound'),\n",
       " ('irish_setter', 'Irish_Setter'),\n",
       " ('irish_terrier', 'Irish_Terrier'),\n",
       " ('irish_water_spaniel', 'Irish_Water_Spaniel'),\n",
       " ('irish_wolfhound', 'Irish_Wolfhound'),\n",
       " ('italian_greyhound', 'Italian_Greyhound'),\n",
       " ('japanese_spaniel', 'Japanese_Chin'),\n",
       " ('keeshond', 'Keeshond'),\n",
       " ('kerry_blue_terrier', 'Kerry_Blue_Terrier'),\n",
       " ('komondor', 'Komondor'),\n",
       " ('kuvasz', 'Kuvasz'),\n",
       " ('labrador_retriever', 'Labrador_Retriever'),\n",
       " ('lakeland_terrier', 'Lakeland_Terrier'),\n",
       " ('leonberg', 'Leonberger'),\n",
       " ('lhasa', 'Lhasa_Apso'),\n",
       " ('malamute', 'Alaskan_Malamute'),\n",
       " ('malinois', 'Malinois_dog'),\n",
       " ('maltese_dog', 'Maltese_(dog)'),\n",
       " ('mexican_hairless', 'Mexican_Hairless_Dog'),\n",
       " ('miniature_pinscher', 'Miniature_Pinscher'),\n",
       " ('miniature_schnauzer', 'Miniature_Schnauzer'),\n",
       " ('newfoundland', 'Newfoundland'),\n",
       " ('norfolk_terrier', 'Norfolk_Terrier'),\n",
       " ('norwegian_elkhound', 'Norwegian_Elkhound'),\n",
       " ('norwich_terrier', 'Norwich_Terrier'),\n",
       " ('old_english_sheepdog', 'Old_English_Sheepdog'),\n",
       " ('otterhound', 'Otterhound'),\n",
       " ('papillon', 'Papillon_(dog)'),\n",
       " ('pekinese', 'Pekingese'),\n",
       " ('pembroke', 'Pembroke_Welsh_Corgi'),\n",
       " ('pomeranian', 'Pomeranian'),\n",
       " ('pug', 'Pug'),\n",
       " ('redbone', 'Redbone_Coonhound'),\n",
       " ('rhodesian_ridgeback', 'Rhodesian_Ridgeback'),\n",
       " ('rottweiler', 'Rottweiler'),\n",
       " ('saint_bernard', 'St._Bernard_(dog)'),\n",
       " ('saluki', 'Saluki'),\n",
       " ('samoyed', 'Samoyed_(dog)'),\n",
       " ('schipperke', 'Schipperke'),\n",
       " ('scotch_terrier', 'Scottish_Terrier'),\n",
       " ('scottish_deerhound', 'Scottish_Deerhound'),\n",
       " ('sealyham_terrier', 'Sealyham_Terrier'),\n",
       " ('shetland_sheepdog', 'Shetland_Sheepdog'),\n",
       " ('shih-tzu', 'Shih_Tzu'),\n",
       " ('siberian_husky', 'Siberian_Husky'),\n",
       " ('silky_terrier', 'Australian_Silky_Terrier'),\n",
       " ('soft-coated_wheaten_terrier', 'Soft-Coated_Wheaten_Terrier'),\n",
       " ('staffordshire_bullterrier', 'Staffordshire_Bull_Terrier'),\n",
       " ('standard_poodle', 'Poodle'),\n",
       " ('standard_schnauzer', 'Standard_Schnauzer'),\n",
       " ('sussex_spaniel', 'Sussex_Spaniel'),\n",
       " ('tibetan_mastiff', 'Tibetan_Mastiff'),\n",
       " ('tibetan_terrier', 'Tibetan_Terrier'),\n",
       " ('toy_terrier', 'Toy_Fox_Terrier'),\n",
       " ('vizsla', 'Vizsla'),\n",
       " ('walker_hound', 'Treeing_Walker_Coonhound'),\n",
       " ('weimaraner', 'Weimaraner'),\n",
       " ('welsh_springer_spaniel', 'Welsh_Springer_Spaniel'),\n",
       " ('west_highland_white_terrier', 'West_Highland_White_Terrier'),\n",
       " ('whippet', 'Whippet'),\n",
       " ('wire-haired_fox_terrier', 'Wire_Fox_Terrier'),\n",
       " ('yorkshire_terrier', 'Yorkshire_Terrier')]"
      ]
     },
     "execution_count": 72,
     "metadata": {},
     "output_type": "execute_result"
    }
   ],
   "source": [
    "list(zip(dog_breeds, wikipedia_breeds))"
   ]
  },
  {
   "cell_type": "code",
   "execution_count": null,
   "metadata": {
    "collapsed": true
   },
   "outputs": [],
   "source": []
  },
  {
   "cell_type": "code",
   "execution_count": 188,
   "metadata": {
    "collapsed": true
   },
   "outputs": [],
   "source": [
    "headers = {\n",
    "    'User-Agent' : 'PoochrScoopr',\n",
    "    'From' : 'aawiegel@gmail.com'\n",
    "}"
   ]
  },
  {
   "cell_type": "code",
   "execution_count": 189,
   "metadata": {
    "collapsed": true
   },
   "outputs": [],
   "source": [
    "wikipedia_api = \"https://en.wikipedia.org/api/rest_v1/page/html/\" #Afghan_Hound?redirect=true\""
   ]
  },
  {
   "cell_type": "code",
   "execution_count": 190,
   "metadata": {
    "collapsed": true
   },
   "outputs": [],
   "source": [
    "failed_breeds = []\n",
    "for dog_breed, wikipedia_breed in zip([dog_breeds[3]], [wikipedia_breeds[3]]):\n",
    "    dog_url = wikipedia_api + wikipedia_breed + \"?redirect=true\"\n",
    "    try:\n",
    "        r = requests.get(dog_url, headers=headers)\n",
    "        r.raise_for_status()\n",
    "    except requests.exceptions.RequestException as e:\n",
    "        print(e)\n",
    "        print(dog_breed+\" failed!\")\n",
    "        failed_breeds.append(dogbreedinfo_breed)\n",
    "        time.sleep(random.uniform(1, 2))\n",
    "        continue\n",
    "    db.dogbreeds.update_one({'breed' : dog_breed},{\"$set\" : {'wikipedia_url' : dog_url,\n",
    "                            'wikipedia_content' : str(r.text)}})\n",
    "    time.sleep(random.uniform(1, 2)) "
   ]
  },
  {
   "cell_type": "code",
   "execution_count": null,
   "metadata": {
    "collapsed": true,
    "scrolled": true
   },
   "outputs": [],
   "source": []
  },
  {
   "cell_type": "markdown",
   "metadata": {
    "collapsed": true
   },
   "source": [
    "### Test data collection on one breed first"
   ]
  },
  {
   "cell_type": "code",
   "execution_count": 18,
   "metadata": {
    "collapsed": true
   },
   "outputs": [],
   "source": [
    "client = pymongo.MongoClient(\"mongodb://54.67.76.74/dogbreeds\")"
   ]
  },
  {
   "cell_type": "code",
   "execution_count": 19,
   "metadata": {
    "collapsed": true
   },
   "outputs": [],
   "source": [
    "db = client.dogbreeds"
   ]
  },
  {
   "cell_type": "code",
   "execution_count": 210,
   "metadata": {
    "collapsed": true,
    "scrolled": false
   },
   "outputs": [],
   "source": [
    "dogtime_test = db.dogbreeds.find_one({\"breed\" : \"flat-coated_retriever\"})"
   ]
  },
  {
   "cell_type": "code",
   "execution_count": 212,
   "metadata": {
    "collapsed": true,
    "scrolled": false
   },
   "outputs": [],
   "source": [
    "#dogtime_test"
   ]
  },
  {
   "cell_type": "code",
   "execution_count": 20,
   "metadata": {},
   "outputs": [
    {
     "ename": "ServerSelectionTimeoutError",
     "evalue": "54.67.76.74:27017: timed out",
     "output_type": "error",
     "traceback": [
      "\u001b[0;31m---------------------------------------------------------------------------\u001b[0m",
      "\u001b[0;31mServerSelectionTimeoutError\u001b[0m               Traceback (most recent call last)",
      "\u001b[0;32m<ipython-input-20-85e9ff53ccea>\u001b[0m in \u001b[0;36m<module>\u001b[0;34m()\u001b[0m\n\u001b[1;32m      8\u001b[0m \u001b[0;34m\u001b[0m\u001b[0m\n\u001b[1;32m      9\u001b[0m \u001b[0;34m\u001b[0m\u001b[0m\n\u001b[0;32m---> 10\u001b[0;31m \u001b[0mdogtime_test\u001b[0m \u001b[0;34m=\u001b[0m \u001b[0mdb\u001b[0m\u001b[0;34m.\u001b[0m\u001b[0mdogbreeds\u001b[0m\u001b[0;34m.\u001b[0m\u001b[0mfind_one\u001b[0m\u001b[0;34m(\u001b[0m\u001b[0;34m{\u001b[0m\u001b[0;34m\"breed\"\u001b[0m \u001b[0;34m:\u001b[0m \u001b[0;34m\"beagle\"\u001b[0m\u001b[0;34m}\u001b[0m\u001b[0;34m)\u001b[0m\u001b[0;34m[\u001b[0m\u001b[0;34m'dogtime_content'\u001b[0m\u001b[0;34m]\u001b[0m\u001b[0;34m\u001b[0m\u001b[0m\n\u001b[0m\u001b[1;32m     11\u001b[0m \u001b[0;34m\u001b[0m\u001b[0m\n\u001b[1;32m     12\u001b[0m \u001b[0;34m\u001b[0m\u001b[0m\n",
      "\u001b[0;32m~/anaconda3/lib/python3.6/site-packages/pymongo/collection.py\u001b[0m in \u001b[0;36mfind_one\u001b[0;34m(self, filter, *args, **kwargs)\u001b[0m\n\u001b[1;32m   1107\u001b[0m \u001b[0;34m\u001b[0m\u001b[0m\n\u001b[1;32m   1108\u001b[0m         \u001b[0mcursor\u001b[0m \u001b[0;34m=\u001b[0m \u001b[0mself\u001b[0m\u001b[0;34m.\u001b[0m\u001b[0mfind\u001b[0m\u001b[0;34m(\u001b[0m\u001b[0mfilter\u001b[0m\u001b[0;34m,\u001b[0m \u001b[0;34m*\u001b[0m\u001b[0margs\u001b[0m\u001b[0;34m,\u001b[0m \u001b[0;34m**\u001b[0m\u001b[0mkwargs\u001b[0m\u001b[0;34m)\u001b[0m\u001b[0;34m\u001b[0m\u001b[0m\n\u001b[0;32m-> 1109\u001b[0;31m         \u001b[0;32mfor\u001b[0m \u001b[0mresult\u001b[0m \u001b[0;32min\u001b[0m \u001b[0mcursor\u001b[0m\u001b[0;34m.\u001b[0m\u001b[0mlimit\u001b[0m\u001b[0;34m(\u001b[0m\u001b[0;34m-\u001b[0m\u001b[0;36m1\u001b[0m\u001b[0;34m)\u001b[0m\u001b[0;34m:\u001b[0m\u001b[0;34m\u001b[0m\u001b[0m\n\u001b[0m\u001b[1;32m   1110\u001b[0m             \u001b[0;32mreturn\u001b[0m \u001b[0mresult\u001b[0m\u001b[0;34m\u001b[0m\u001b[0m\n\u001b[1;32m   1111\u001b[0m         \u001b[0;32mreturn\u001b[0m \u001b[0;32mNone\u001b[0m\u001b[0;34m\u001b[0m\u001b[0m\n",
      "\u001b[0;32m~/anaconda3/lib/python3.6/site-packages/pymongo/cursor.py\u001b[0m in \u001b[0;36mnext\u001b[0;34m(self)\u001b[0m\n\u001b[1;32m   1132\u001b[0m         \u001b[0;32mif\u001b[0m \u001b[0mself\u001b[0m\u001b[0;34m.\u001b[0m\u001b[0m__empty\u001b[0m\u001b[0;34m:\u001b[0m\u001b[0;34m\u001b[0m\u001b[0m\n\u001b[1;32m   1133\u001b[0m             \u001b[0;32mraise\u001b[0m \u001b[0mStopIteration\u001b[0m\u001b[0;34m\u001b[0m\u001b[0m\n\u001b[0;32m-> 1134\u001b[0;31m         \u001b[0;32mif\u001b[0m \u001b[0mlen\u001b[0m\u001b[0;34m(\u001b[0m\u001b[0mself\u001b[0m\u001b[0;34m.\u001b[0m\u001b[0m__data\u001b[0m\u001b[0;34m)\u001b[0m \u001b[0;32mor\u001b[0m \u001b[0mself\u001b[0m\u001b[0;34m.\u001b[0m\u001b[0m_refresh\u001b[0m\u001b[0;34m(\u001b[0m\u001b[0;34m)\u001b[0m\u001b[0;34m:\u001b[0m\u001b[0;34m\u001b[0m\u001b[0m\n\u001b[0m\u001b[1;32m   1135\u001b[0m             \u001b[0;32mif\u001b[0m \u001b[0mself\u001b[0m\u001b[0;34m.\u001b[0m\u001b[0m__manipulate\u001b[0m\u001b[0;34m:\u001b[0m\u001b[0;34m\u001b[0m\u001b[0m\n\u001b[1;32m   1136\u001b[0m                 \u001b[0m_db\u001b[0m \u001b[0;34m=\u001b[0m \u001b[0mself\u001b[0m\u001b[0;34m.\u001b[0m\u001b[0m__collection\u001b[0m\u001b[0;34m.\u001b[0m\u001b[0mdatabase\u001b[0m\u001b[0;34m\u001b[0m\u001b[0m\n",
      "\u001b[0;32m~/anaconda3/lib/python3.6/site-packages/pymongo/cursor.py\u001b[0m in \u001b[0;36m_refresh\u001b[0;34m(self)\u001b[0m\n\u001b[1;32m   1055\u001b[0m                                        \u001b[0mself\u001b[0m\u001b[0;34m.\u001b[0m\u001b[0m__batch_size\u001b[0m\u001b[0;34m,\u001b[0m\u001b[0;34m\u001b[0m\u001b[0m\n\u001b[1;32m   1056\u001b[0m                                        \u001b[0mself\u001b[0m\u001b[0;34m.\u001b[0m\u001b[0m__read_concern\u001b[0m\u001b[0;34m,\u001b[0m\u001b[0;34m\u001b[0m\u001b[0m\n\u001b[0;32m-> 1057\u001b[0;31m                                        self.__collation))\n\u001b[0m\u001b[1;32m   1058\u001b[0m             \u001b[0;32mif\u001b[0m \u001b[0;32mnot\u001b[0m \u001b[0mself\u001b[0m\u001b[0;34m.\u001b[0m\u001b[0m__id\u001b[0m\u001b[0;34m:\u001b[0m\u001b[0;34m\u001b[0m\u001b[0m\n\u001b[1;32m   1059\u001b[0m                 \u001b[0mself\u001b[0m\u001b[0;34m.\u001b[0m\u001b[0m__killed\u001b[0m \u001b[0;34m=\u001b[0m \u001b[0;32mTrue\u001b[0m\u001b[0;34m\u001b[0m\u001b[0m\n",
      "\u001b[0;32m~/anaconda3/lib/python3.6/site-packages/pymongo/cursor.py\u001b[0m in \u001b[0;36m__send_message\u001b[0;34m(self, operation)\u001b[0m\n\u001b[1;32m    892\u001b[0m             \u001b[0;32mtry\u001b[0m\u001b[0;34m:\u001b[0m\u001b[0;34m\u001b[0m\u001b[0m\n\u001b[1;32m    893\u001b[0m                 response = client._send_message_with_response(operation,\n\u001b[0;32m--> 894\u001b[0;31m                                                               **kwargs)\n\u001b[0m\u001b[1;32m    895\u001b[0m                 \u001b[0mself\u001b[0m\u001b[0;34m.\u001b[0m\u001b[0m__address\u001b[0m \u001b[0;34m=\u001b[0m \u001b[0mresponse\u001b[0m\u001b[0;34m.\u001b[0m\u001b[0maddress\u001b[0m\u001b[0;34m\u001b[0m\u001b[0m\n\u001b[1;32m    896\u001b[0m                 \u001b[0;32mif\u001b[0m \u001b[0mself\u001b[0m\u001b[0;34m.\u001b[0m\u001b[0m__exhaust\u001b[0m\u001b[0;34m:\u001b[0m\u001b[0;34m\u001b[0m\u001b[0m\n",
      "\u001b[0;32m~/anaconda3/lib/python3.6/site-packages/pymongo/mongo_client.py\u001b[0m in \u001b[0;36m_send_message_with_response\u001b[0;34m(self, operation, read_preference, exhaust, address)\u001b[0m\n\u001b[1;32m    931\u001b[0m         \u001b[0;32melse\u001b[0m\u001b[0;34m:\u001b[0m\u001b[0;34m\u001b[0m\u001b[0m\n\u001b[1;32m    932\u001b[0m             \u001b[0mselector\u001b[0m \u001b[0;34m=\u001b[0m \u001b[0mread_preference\u001b[0m \u001b[0;32mor\u001b[0m \u001b[0mwritable_server_selector\u001b[0m\u001b[0;34m\u001b[0m\u001b[0m\n\u001b[0;32m--> 933\u001b[0;31m             \u001b[0mserver\u001b[0m \u001b[0;34m=\u001b[0m \u001b[0mtopology\u001b[0m\u001b[0;34m.\u001b[0m\u001b[0mselect_server\u001b[0m\u001b[0;34m(\u001b[0m\u001b[0mselector\u001b[0m\u001b[0;34m)\u001b[0m\u001b[0;34m\u001b[0m\u001b[0m\n\u001b[0m\u001b[1;32m    934\u001b[0m \u001b[0;34m\u001b[0m\u001b[0m\n\u001b[1;32m    935\u001b[0m         \u001b[0;31m# A _Query's slaveOk bit is already set for queries with non-primary\u001b[0m\u001b[0;34m\u001b[0m\u001b[0;34m\u001b[0m\u001b[0m\n",
      "\u001b[0;32m~/anaconda3/lib/python3.6/site-packages/pymongo/topology.py\u001b[0m in \u001b[0;36mselect_server\u001b[0;34m(self, selector, server_selection_timeout, address)\u001b[0m\n\u001b[1;32m    212\u001b[0m         return random.choice(self.select_servers(selector,\n\u001b[1;32m    213\u001b[0m                                                  \u001b[0mserver_selection_timeout\u001b[0m\u001b[0;34m,\u001b[0m\u001b[0;34m\u001b[0m\u001b[0m\n\u001b[0;32m--> 214\u001b[0;31m                                                  address))\n\u001b[0m\u001b[1;32m    215\u001b[0m \u001b[0;34m\u001b[0m\u001b[0m\n\u001b[1;32m    216\u001b[0m     def select_server_by_address(self, address,\n",
      "\u001b[0;32m~/anaconda3/lib/python3.6/site-packages/pymongo/topology.py\u001b[0m in \u001b[0;36mselect_servers\u001b[0;34m(self, selector, server_selection_timeout, address)\u001b[0m\n\u001b[1;32m    187\u001b[0m                 \u001b[0;32mif\u001b[0m \u001b[0mserver_timeout\u001b[0m \u001b[0;34m==\u001b[0m \u001b[0;36m0\u001b[0m \u001b[0;32mor\u001b[0m \u001b[0mnow\u001b[0m \u001b[0;34m>\u001b[0m \u001b[0mend_time\u001b[0m\u001b[0;34m:\u001b[0m\u001b[0;34m\u001b[0m\u001b[0m\n\u001b[1;32m    188\u001b[0m                     raise ServerSelectionTimeoutError(\n\u001b[0;32m--> 189\u001b[0;31m                         self._error_message(selector))\n\u001b[0m\u001b[1;32m    190\u001b[0m \u001b[0;34m\u001b[0m\u001b[0m\n\u001b[1;32m    191\u001b[0m                 \u001b[0mself\u001b[0m\u001b[0;34m.\u001b[0m\u001b[0m_ensure_opened\u001b[0m\u001b[0;34m(\u001b[0m\u001b[0;34m)\u001b[0m\u001b[0;34m\u001b[0m\u001b[0m\n",
      "\u001b[0;31mServerSelectionTimeoutError\u001b[0m: 54.67.76.74:27017: timed out"
     ]
    }
   ],
   "source": [
    "\n",
    "\n",
    "client = pymongo.MongoClient(\"mongodb://54.67.76.74/dogbreeds\")\n",
    "\n",
    "\n",
    "db = client.dogbreeds\n",
    "\n",
    "\n",
    "\n",
    "dogtime_test = db.dogbreeds.find_one({\"breed\" : \"beagle\"})['dogtime_content']\n",
    "\n",
    "\n",
    "\n",
    "dog_soup = BeautifulSoup(dogtime_test, \"lxml\")\n",
    "\n",
    "dog_text = ''\n",
    "\n",
    "dog_text += dog_soup.find(\"header\").find(\"p\").text\n",
    "\n",
    "\n",
    "char_dict = dict()\n",
    "for characteristic in dog_soup.find_all(class_=\"characteristic item-trigger-title\"):\n",
    "    char_dict[characteristic.text.strip()] =\\\n",
    "            int(characteristic.find_next().find_next()['class'][1].split('-')[-1])\n",
    "\n",
    "        \n",
    "char_dict"
   ]
  },
  {
   "cell_type": "code",
   "execution_count": 13,
   "metadata": {
    "collapsed": true
   },
   "outputs": [],
   "source": [
    "trait_synonyms = dict()\n",
    "trait_synonyms['Adaptability'] = ['adaptable', 'flexible']\n",
    "trait_synonyms['Adapts Well to Apartment Living'] = ['apartment', 'indoor', 'indoors']\n",
    "trait_synonyms['Affectionate with Family'] = ['loving', 'affectionate', 'cuddly']\n",
    "trait_synonyms['All Around Friendliness'] = ['friendly', 'loving']\n",
    "trait_synonyms['Amount Of Shedding'] = ['shedding', 'hair', 'fur']\n",
    "trait_synonyms['Dog Friendly'] = ['dogs', 'playful', 'other dogs', 'good dogs']\n",
    "trait_synonyms['Drooling Potential'] = ['drool', 'slobber']\n",
    "trait_synonyms['Easy To Groom'] = ['easy groom', 'simple grooming', 'easy grooming', 'simple groom', 'low maintenance']\n",
    "trait_synonyms['Easy To Train'] = ['easy train', 'trainable', 'obedient', 'disciplined']\n",
    "trait_synonyms['Energy Level'] = ['high-energy', 'energetic', 'hyper', 'high energy', 'play']\n",
    "trait_synonyms['Exercise Needs'] = ['exercise', 'walks', 'runs', 'walking', 'running', 'fetch']\n",
    "trait_synonyms['Friendly Toward Strangers'] = ['friendly', 'likes people', 'people dog']\n",
    "trait_synonyms['General Health'] = ['healthy', 'long-lived']\n",
    "trait_synonyms['Good For Novice Owners'] = ['novice', 'new owner', 'easygoing', 'adaptable']\n",
    "trait_synonyms['Health Grooming'] = ['low maintenance', 'healthy']\n",
    "trait_synonyms['Incredibly Kid Friendly Dogs'] = ['good kids', 'playful', 'gentle', 'tolerant']\n",
    "trait_synonyms['Intelligence'] = ['independent', 'intelligent', 'clever', 'agile']\n",
    "trait_synonyms['Intensity'] = ['vigorous', 'difficult train', 'difficult training', 'intense']\n",
    "trait_synonyms['Potential For Mouthiness'] = ['fetch', 'chew', 'nip']\n",
    "trait_synonyms['Potential For Playfulness'] = ['playful', 'game', 'puppy', 'fetch', 'kid']\n",
    "trait_synonyms['Potential For Weight Gain'] = ['eat', 'obese', 'appetite', 'overweight', 'needs exercise']\n",
    "trait_synonyms['Prey Drive'] = ['hunting', 'chase', 'prey', 'mouser', 'killer']\n",
    "trait_synonyms['Sensitivity Level'] = ['sensitive', 'delicate']\n",
    "trait_synonyms['Size'] = ['big', 'horse', 'huge', 'yard']\n",
    "trait_synonyms['Tendency To Bark Or Howl'] = ['yappy', 'bark', 'howl', 'noisy']\n",
    "trait_synonyms['Tolerates Being Alone'] = ['independent', 'easy going', 'fine alone', 'leave home', 'stay home']\n",
    "trait_synonyms['Tolerates Cold Weather'] = ['cold fine', 'cold OK', 'thick coat', 'winter']\n",
    "trait_synonyms['Tolerates Hot Weather'] = ['hot fine', 'hot OK', 'long nose', 'thin coat', 'summer']\n",
    "trait_synonyms['Trainability'] = ['obedience', 'trainable', 'tricks', 'intelligent']\n",
    "trait_synonyms['Wanderlust Potential'] = ['independent', 'free spirited', 'escape artist']"
   ]
  },
  {
   "cell_type": "code",
   "execution_count": 546,
   "metadata": {},
   "outputs": [
    {
     "data": {
      "text/plain": [
       "[('Adaptability', 'Adaptability'),\n",
       " ('Adapts Well to Apartment Living', 'Adapts Well to Apartment Living'),\n",
       " ('Affectionate with Family', 'Affectionate with Family'),\n",
       " ('All Around Friendliness', 'All Around Friendliness'),\n",
       " ('Amount Of Shedding', 'Amount Of Shedding'),\n",
       " ('Dog Friendly', 'Dog Friendly'),\n",
       " ('Drooling Potential', 'Drooling Potential'),\n",
       " ('Easy To Groom', 'Easy To Groom'),\n",
       " ('Easy To Train', 'Easy To Train'),\n",
       " ('Energy Level', 'Energy Level'),\n",
       " ('Exercise Needs', 'Exercise Needs'),\n",
       " ('Friendly Toward Strangers', 'Friendly Toward Strangers'),\n",
       " ('General Health', 'General Health'),\n",
       " ('Good For Novice Owners', 'Good For Novice Owners'),\n",
       " ('Health Grooming', 'Health Grooming'),\n",
       " ('Incredibly Kid Friendly Dogs', 'Incredibly Kid Friendly Dogs'),\n",
       " ('Intelligence', 'Intelligence'),\n",
       " ('Intensity', 'Intensity'),\n",
       " ('Potential For Mouthiness', 'Potential For Mouthiness'),\n",
       " ('Potential For Playfulness', 'Potential For Playfulness'),\n",
       " ('Potential For Weight Gain', 'Potential For Weight Gain'),\n",
       " ('Prey Drive', 'Prey Drive'),\n",
       " ('Sensitivity Level', 'Sensitivity Level'),\n",
       " ('Size', 'Size'),\n",
       " ('Tendency To Bark Or Howl', 'Tendency To Bark Or Howl'),\n",
       " ('Tolerates Being Alone', 'Tolerates Being Alone'),\n",
       " ('Tolerates Cold Weather', 'Tolerates Cold Weather'),\n",
       " ('Tolerates Hot Weather', 'Tolerates Hot Weather'),\n",
       " ('Trainability', 'Trainability'),\n",
       " ('Wanderlust Potential', 'Wanderlust Potential')]"
      ]
     },
     "execution_count": 546,
     "metadata": {},
     "output_type": "execute_result"
    }
   ],
   "source": [
    "list(zip(sorted(trait_synonyms.keys()), sorted(char_dict.keys())))"
   ]
  },
  {
   "cell_type": "code",
   "execution_count": 14,
   "metadata": {
    "collapsed": true
   },
   "outputs": [],
   "source": [
    "trait_antonyms = dict()\n",
    "trait_antonyms['Adaptability'] = ['rigid', 'inflexible']\n",
    "trait_antonyms['Adapts Well to Apartment Living'] = ['open space', 'big house', 'yard']\n",
    "trait_antonyms['Affectionate with Family'] = ['aloof']\n",
    "trait_antonyms['All Around Friendliness'] = ['aloof', 'suspicious', 'independent']\n",
    "trait_antonyms['Amount Of Shedding'] = ['clean', 'low-shedding']\n",
    "trait_antonyms['Dog Friendly'] = ['guard dog', 'protective']\n",
    "trait_antonyms['Drooling Potential'] = ['clean', 'low drool']\n",
    "trait_antonyms['Easy To Groom'] = ['high maintenance', 'frequent grooming']\n",
    "trait_antonyms['Easy To Train'] = ['independent', 'difficult train', 'disobedient']\n",
    "trait_antonyms['Energy Level'] = ['mellow', 'low-energy', 'low energy', 'calm']\n",
    "trait_antonyms['Exercise Needs'] = ['slow', 'lazy']\n",
    "trait_antonyms['Friendly Toward Strangers'] = ['guard dog', 'suspicious', 'security', 'shy']\n",
    "trait_antonyms['General Health'] = ['unhealthy', 'vet', 'genetic issues']\n",
    "trait_antonyms['Good For Novice Owners'] = ['handful', 'difficult train']\n",
    "trait_antonyms['Health Grooming'] = ['high maintenance', 'unhealthy']\n",
    "trait_antonyms['Incredibly Kid Friendly Dogs'] = ['bad kids', 'intolerant', 'small', 'tiny']\n",
    "trait_antonyms['Intelligence'] = ['dumb', 'lazy']\n",
    "trait_antonyms['Intensity'] = ['easygoing', 'obedient', 'relaxed']\n",
    "trait_antonyms['Potential For Mouthiness'] = ['safe', 'good kids']\n",
    "trait_antonyms['Potential For Playfulness'] = ['serious', 'aloof']\n",
    "trait_antonyms['Potential For Weight Gain'] = ['thin']\n",
    "trait_antonyms['Prey Drive'] = ['lover']\n",
    "trait_antonyms['Sensitivity Level'] = ['insensitive', 'adaptable', 'chaotic', 'good kids']\n",
    "trait_antonyms['Size'] = ['small', 'tiny', 'apartment', 'lap dog']\n",
    "trait_antonyms['Tendency To Bark Or Howl'] = ['quiet', 'neighbors', 'friendly']\n",
    "trait_antonyms['Tolerates Being Alone'] = ['hates alone']\n",
    "trait_antonyms['Tolerates Cold Weather'] = ['hates cold', 'thin coat']\n",
    "trait_antonyms['Tolerates Hot Weather'] = ['hates heat', 'thick coat', 'short nose']\n",
    "trait_antonyms['Trainability'] = ['difficult train', 'disobedient', 'independent']\n",
    "trait_antonyms['Wanderlust Potential'] = ['homebody']"
   ]
  },
  {
   "cell_type": "code",
   "execution_count": 551,
   "metadata": {
    "collapsed": true
   },
   "outputs": [],
   "source": [
    "for trait, value in char_dict.items():\n",
    "    if value > 3:\n",
    "        factor = value - 3\n",
    "        \n",
    "        dog_text += factor*(trait+' ')\n",
    "        for synonym in trait_synonyms[trait]:\n",
    "            synonym += ' '\n",
    "            dog_text += ' '+factor*synonym+' '\n",
    "    elif value < 3:\n",
    "        factor = 3 - value\n",
    "        for antonym in trait_antonyms[trait]:\n",
    "            antonym += ' '\n",
    "            dog_text += ' '+factor*antonym+' '\n",
    "\n",
    "            "
   ]
  },
  {
   "cell_type": "code",
   "execution_count": 552,
   "metadata": {},
   "outputs": [
    {
     "data": {
      "text/plain": [
       "'Small, compact, and hardy, Beagles are active companions for kids and adults alike. Canines in this dog breed are merry and fun loving, but being hounds, they can also be stubborn and require patient, creative training techniques. Their noses guide them through life, and they’re never happier than when following an interesting scent. The Beagle originally was bred as a scenthound to track small game, mostly rabbits and hare. He is still used for this purpose in many countries, including the United States.Adapts Well to Apartment Living  apartment   indoor   indoors  Sensitivity Level  sensitive   delicate   hates alone hates alone   stay home stay home   hates cold   thin coat  Tolerates Hot Weather  hot fine   hot OK   long nose   thin coat   summer  All Around Friendliness All Around Friendliness  friendly friendly   loving loving  Affectionate with Family Affectionate with Family  loving loving   affectionate affectionate   cuddly cuddly  Incredibly Kid Friendly Dogs Incredibly Kid Friendly Dogs  good kids good kids   playful playful   gentle gentle   tolerant tolerant  Dog Friendly Dog Friendly  dogs dogs   playful playful   other dogs other dogs   good dogs good dogs  Friendly Toward Strangers Friendly Toward Strangers  friendly friendly   likes people likes people   people dog people dog   clean clean   low drool low drool  Easy To Groom  easy groom   simple grooming   easy grooming   simple groom   low maintenance   unhealthy unhealthy   vet vet   genetic issues genetic issues  Potential For Weight Gain Potential For Weight Gain  eat eat   obese obese   appetite appetite   overweight overweight   needs exercise needs exercise   small   tiny   apartment   lap dog  Trainability  obedience   trainable   tricks   intelligent   independent independent   difficult train difficult train   disobedient disobedient  Intelligence  independent   intelligent   clever   agile  Prey Drive Prey Drive  hunting hunting   chase chase   prey prey   mouser mouser   killer killer  Tendency To Bark Or Howl Tendency To Bark Or Howl  yappy yappy   bark bark   howl howl   noisy noisy  Wanderlust Potential Wanderlust Potential  independent independent   free spirited free spirited   escape artist escape artist  Exercise Needs  exercise   walks   runs   walking   running   fetch  Energy Level  high-energy   energetic   hyper   high energy   play  Intensity Intensity  vigorous vigorous   difficult train difficult train   difficult training difficult training   intense intense  Potential For Playfulness Potential For Playfulness  playful playful   game game   puppy puppy   fetch fetch   kid kid  Adapts Well to Apartment Living  apartment   indoor   indoors  Sensitivity Level  sensitive   delicate   hates alone hates alone   hates cold   thin coat  Tolerates Hot Weather  hot fine   hot OK   long nose   thin coat   summer  All Around Friendliness All Around Friendliness  friendly friendly   loving loving  Affectionate with Family Affectionate with Family  loving loving   affectionate affectionate   cuddly cuddly  Incredibly Kid Friendly Dogs Incredibly Kid Friendly Dogs  good kids good kids   playful playful   gentle gentle   tolerant tolerant  Dog Friendly Dog Friendly  dogs dogs   playful playful   other dogs other dogs   good dogs good dogs  Friendly Toward Strangers Friendly Toward Strangers  friendly friendly   likes people likes people   people dog people dog   clean clean   low drool low drool  Easy To Groom  easy groom   simple grooming   easy grooming   simple groom   low maintenance   unhealthy unhealthy   vet vet   genetic issues genetic issues  Potential For Weight Gain Potential For Weight Gain  eat eat   obese obese   appetite appetite   overweight overweight   needs exercise needs exercise   small   tiny   apartment   lap dog  Trainability  obedience   trainable   tricks   intelligent   independent independent   difficult train difficult train   disobedient disobedient  Intelligence  independent   intelligent   clever   agile  Prey Drive Prey Drive  hunting hunting   chase chase   prey prey   mouser mouser   killer killer  Tendency To Bark Or Howl Tendency To Bark Or Howl  yappy yappy   bark bark   howl howl   noisy noisy  Wanderlust Potential Wanderlust Potential  independent independent   free spirited free spirited   escape artist escape artist  Exercise Needs  exercise   walks   runs   walking   running   fetch  Energy Level  high-energy   energetic   hyper   high energy   play  Intensity Intensity  vigorous vigorous   difficult train difficult train   difficult training difficult training   intense intense  Potential For Playfulness Potential For Playfulness  playful playful   game game   puppy puppy   fetch fetch   kid kid  '"
      ]
     },
     "execution_count": 552,
     "metadata": {},
     "output_type": "execute_result"
    }
   ],
   "source": [
    "dog_text"
   ]
  },
  {
   "cell_type": "code",
   "execution_count": null,
   "metadata": {
    "collapsed": true
   },
   "outputs": [],
   "source": []
  },
  {
   "cell_type": "code",
   "execution_count": 553,
   "metadata": {
    "collapsed": true
   },
   "outputs": [],
   "source": [
    "for content in dog_soup.find_all(class_=\"breed-data-item-content\"):\n",
    "    dog_text += content.text"
   ]
  },
  {
   "cell_type": "code",
   "execution_count": 554,
   "metadata": {},
   "outputs": [
    {
     "data": {
      "text/plain": [
       "'Small, compact, and hardy, Beagles are active companions for kids and adults alike. Canines in this dog breed are merry and fun loving, but being hounds, they can also be stubborn and require patient, creative training techniques. Their noses guide them through life, and they’re never happier than when following an interesting scent. The Beagle originally was bred as a scenthound to track small game, mostly rabbits and hare. He is still used for this purpose in many countries, including the United States.Adapts Well to Apartment Living  apartment   indoor   indoors  Sensitivity Level  sensitive   delicate   hates alone hates alone   stay home stay home   hates cold   thin coat  Tolerates Hot Weather  hot fine   hot OK   long nose   thin coat   summer  All Around Friendliness All Around Friendliness  friendly friendly   loving loving  Affectionate with Family Affectionate with Family  loving loving   affectionate affectionate   cuddly cuddly  Incredibly Kid Friendly Dogs Incredibly Kid Friendly Dogs  good kids good kids   playful playful   gentle gentle   tolerant tolerant  Dog Friendly Dog Friendly  dogs dogs   playful playful   other dogs other dogs   good dogs good dogs  Friendly Toward Strangers Friendly Toward Strangers  friendly friendly   likes people likes people   people dog people dog   clean clean   low drool low drool  Easy To Groom  easy groom   simple grooming   easy grooming   simple groom   low maintenance   unhealthy unhealthy   vet vet   genetic issues genetic issues  Potential For Weight Gain Potential For Weight Gain  eat eat   obese obese   appetite appetite   overweight overweight   needs exercise needs exercise   small   tiny   apartment   lap dog  Trainability  obedience   trainable   tricks   intelligent   independent independent   difficult train difficult train   disobedient disobedient  Intelligence  independent   intelligent   clever   agile  Prey Drive Prey Drive  hunting hunting   chase chase   prey prey   mouser mouser   killer killer  Tendency To Bark Or Howl Tendency To Bark Or Howl  yappy yappy   bark bark   howl howl   noisy noisy  Wanderlust Potential Wanderlust Potential  independent independent   free spirited free spirited   escape artist escape artist  Exercise Needs  exercise   walks   runs   walking   running   fetch  Energy Level  high-energy   energetic   hyper   high energy   play  Intensity Intensity  vigorous vigorous   difficult train difficult train   difficult training difficult training   intense intense  Potential For Playfulness Potential For Playfulness  playful playful   game game   puppy puppy   fetch fetch   kid kid  Adapts Well to Apartment Living  apartment   indoor   indoors  Sensitivity Level  sensitive   delicate   hates alone hates alone   hates cold   thin coat  Tolerates Hot Weather  hot fine   hot OK   long nose   thin coat   summer  All Around Friendliness All Around Friendliness  friendly friendly   loving loving  Affectionate with Family Affectionate with Family  loving loving   affectionate affectionate   cuddly cuddly  Incredibly Kid Friendly Dogs Incredibly Kid Friendly Dogs  good kids good kids   playful playful   gentle gentle   tolerant tolerant  Dog Friendly Dog Friendly  dogs dogs   playful playful   other dogs other dogs   good dogs good dogs  Friendly Toward Strangers Friendly Toward Strangers  friendly friendly   likes people likes people   people dog people dog   clean clean   low drool low drool  Easy To Groom  easy groom   simple grooming   easy grooming   simple groom   low maintenance   unhealthy unhealthy   vet vet   genetic issues genetic issues  Potential For Weight Gain Potential For Weight Gain  eat eat   obese obese   appetite appetite   overweight overweight   needs exercise needs exercise   small   tiny   apartment   lap dog  Trainability  obedience   trainable   tricks   intelligent   independent independent   difficult train difficult train   disobedient disobedient  Intelligence  independent   intelligent   clever   agile  Prey Drive Prey Drive  hunting hunting   chase chase   prey prey   mouser mouser   killer killer  Tendency To Bark Or Howl Tendency To Bark Or Howl  yappy yappy   bark bark   howl howl   noisy noisy  Wanderlust Potential Wanderlust Potential  independent independent   free spirited free spirited   escape artist escape artist  Exercise Needs  exercise   walks   runs   walking   running   fetch  Energy Level  high-energy   energetic   hyper   high energy   play  Intensity Intensity  vigorous vigorous   difficult train difficult train   difficult training difficult training   intense intense  Potential For Playfulness Potential For Playfulness  playful playful   game game   puppy puppy   fetch fetch   kid kid  The Staffordshire Bull Terrier can be an imposing dog with its strong, muscular body, intense stare, and powerful stance. Many are interested in the breed because it looks like a tough dog but are surprised to learn that the Stafford is a sensitive and loving companion who enjoys playing more than being tough. He sees life as a joyful adventure and lives it to the fullest.Fans love the Staffordshire Bull Terrier for his small to medium size, short, easy-care coat, and dynamic yet gentle personality. With his short, broad head and muscular body, he resembles the other bull breeds such as American Staffordshire Terriers and American Pit Bull Terriers, but he is a breed unto himself with distinct physical characteristics that set him apart, including size and ear shape.The Stafford is known for his love of people and trustworthy nature. He has been described as \"a sort of everybody\\'s Man Friday,\" and his greatest desire is to spend time with his people, whether that means vegging out on the sofa and watching football, running errands in the car, going for walks, or participating in activities such as agility, flyball, obedience, and therapy work. Expect to give this athletic and energetic dog a vigorous walk every day, as well as plenty of attention during downtime. He dislikes being left to his own devices. Staffordshire Bull Terriers are not a breed that can be left outside alone or at home for long periods of time without human companionship.Nicknamed the nanny dog, the Stafford is prized for his patience with and love of children, although it goes without saying that no dog should ever be left alone with young children or expected to double as a baby-sitter. He is not always so friendly toward dogs he doesn\\'t know however, a remnant of his origin as a fighting breed, which required him to be aggressive toward other dogs yet gentle with human handlers.Be aware that some municipalities restrict the ownership of bull breeds. Be sure that yours is not one of them before acquiring a Stafford. For the person who has an understanding of his sensitive nature and can give him patient, firm leadership, the Stafford is one of the finest dog companions around.The SBT should not be left to live outside. He\\'s a companion dog and thrives in the presence of his family.Because he may be aggressive toward unknown dogs, a Stafford should never be walked off leash.Staffords are highly intelligent, but they are also freethinkers who like to do things their own way. They need firm, patient, consistent training.Staffordshire Bull Terriers are energetic dogs who need a vigorous walk or play session daily.SBTs enjoy their comforts and will readily join you on the sofa or bed if allowed.Staffords shed little, although they may have a heavy shed once a year. They require weekly brushing to remove dead hair and keep their coat shiny.The Stafford needs early socialization, especially if you want him to be friendly toward other animals.The SBT is not recommended for a timid or first-time owner. This breed needs a confident trainer who is consistent and firm but also loving.Staffords love to chew, especially during puppyhood. Provide them with tough, durable toys.Like all terriers, Staffords are diggers. Reinforce the bottom of fences with concrete or chicken wire so they can\\'t dig beneath them.Staffordshire Bull Terriers can do well in apartments if they are properly exercised, but ideal living quarters include a fenced yard where they can play.Staffordshire Bull Terriers do not handle heat very well and need to be monitored on hot days to ensure that they don\\'t overheat.Staffords love children, but despite their nickname of \"nanny dog,\" they should not double as a baby-sitter. Always supervise interactions between children and dogs.If properly socialized and raised with them, Staffordshire Bull Terriers can do well with other dogs and animals. It is important to understand that some Staffordshire Bull Terriers will never do well with other animals and may need to live in single animal homes.Staffordshire Bull Terriers have a strong prey drive which will send them after small animals around your neighborhood including cats.Staffordshire Bull Terriers have a high pain threshold and can become injured without any outward sign, such as whining.The Staffordshire Bull Terrier is a restricted or banned breed in many cities and the number of cities restricting the breed is rising. It is important to research your city\\'s dog by-laws to avoid the unnecessary seizure and destruction of your dog.Staffordshire Bull Terriers are extremely mouthy as puppies and can be destructive if not closely supervised.Staffordshire Bull Terriers are protective of family members, but they are not too concerned about property. They are more likely to welcome burglars than to guard the silver.Never buy a Stafford from a puppy mill, a pet store, or a breeder who doesn\\'t provide health clearances or guarantees. Look for a reputable breeder who tests her breeding dogs to make sure they\\'re free of genetic diseases that they might pass onto the puppies and who breeds for sound temperaments.The Staffordshire Bull Terrier shares a common ancestor\\xa0—\\xa0the Bulldog\\xa0—\\xa0with the American Staffordshire Terrier, the American Pit Bull Terrier, and the Bull Terrier. It was created in the early nineteenth century to be smaller and faster in the fighting ring, yet gentle and friendly toward people. It was probably developed by crossing the Bulldog with an ancestor of the Manchester Terrier. The cross eventually evolved into the Staffordshire Bull Terrier we see today.The first Staffordshire Bull Terrier Club was formed in England in 1835, and a breed standard was written shortly thereafter.In the United States, the Staffordshire Bull Terrier generally enjoyed life as a family companion, and it wasn\\'t until 1975 that the breed was recognized by the American Kennel Club. The first Stafford registered with the AKC was named Tinkinswood Imperial. The Staffordshire Bull Terrier Club of America was founded in 1974.Today, the Stafford is ranked 85th among the 157 breeds and varieties recognized by the AKC. They are excellent dogs who truly embody the description \"man\\'s best friend,\" and many enthusiasts know that they own one of the best kept secrets of the dog world.Staffords stand 14 to 16 inches at the shoulder, with males being taller. Male Staffords weigh 28 to 38 pounds; females, 24 to 34 pounds.Loving toward people from just a few weeks of age, a proper Stafford is never shy or snarly. He is energetic and enthusiastic in everything he does and remains on alert, even in repose. This breed\\'s temperament is described as tough, courageous, tenacious (read: stubborn), and curious. A people-loving personality makes him a good caretaker of his family, but he\\'s less likely to be protective of property. Because he\\'s so attentive and interested in people, however, he\\'ll always alert you to the presence of visitors, wanted or unwanted.Temperament is affected by a number of factors, including heredity, training, and socialization. Puppies with nice temperaments are curious and playful, willing to approach people and be held by them. Choose the middle-of-the-road puppy, not the one who\\'s beating up his littermates or the one who\\'s hiding in the corner. Always meet at least one of the parents\\xa0—\\xa0usually the mother is the one who\\'s available\\xa0—\\xa0to ensure that they have nice temperaments that you\\'re comfortable with. Meeting siblings or other relatives of the parents is also helpful for evaluating what a puppy will be like when he grows up.Like every dog, a Staffordshire Bull Terrier needs early socialization\\xa0—\\xa0exposure to many different people, sights, sounds, and experiences\\xa0—\\xa0when he\\'s young, and it should continue throughout his life. Socialization helps ensure that your Stafford puppy grows up to be a well-rounded dog. Enrolling him in a puppy kindergarten class is a great start. Inviting visitors over regularly, and taking him to busy parks, stores that allow dogs, and on leisurely strolls to meet neighbors will also help him polish his social skills.Staffordshire Bull Terriers are generally healthy, but like all breeds, they can be subject to certain health conditions. Not all SBTs will get any or all of these diseases, but it\\'s important to be aware of them if you\\'re considering this breed.If you\\'re buying a puppy, find a good breeder who will show you health clearances for both your puppy\\'s parents. Health clearances prove that a dog\\'s been tested for and cleared of a particular condition.In SBTs, you should expect to see health clearances on both parents from the Orthopedic Foundation for Animals for hips and elbows, and from the Canine Eye Registry Foundation, certifying that the eyes are healthy.Because some health problems don\\'t appear until a dog reaches full maturity, health clearances aren\\'t issued to dogs younger than 2 years old. Look for a breeder who doesn\\'t breed her dogs until they\\'re two or three years old. The following problems may occur in the breed:Canine Hip Dysplasia (CHD). This is a heritable condition in which the thighbone doesn\\'t fit snugly into the hip joint, eventually causing lameness or arthritis. X-ray screening for hip dysplasia is done by the Orthopedic Foundation for Animals or the University of Pennsylvania Hip Improvement Program (PennHIP). Dogs with hip dysplasia should not be bred.Elbow Dysplasia: This is a heritable condition that is thought to be caused by different growth rates of the three bones that make up the dog\\'s elbow, causing joint laxity. This can lead to painful lameness. Depending on the severity of the problem, your vet may recommend surgery, weight management, or medication to control the pain.Patellar Luxation: This common problem occurs when the patella, which has three parts\\xa0—\\xa0the femur (thigh bone), patella (knee cap), and tibia (calf)\\xa0—\\xa0is not properly lined up and often slips out of place, causing the dog to skip or hop when it happens. It is thought to be hereditary. The rubbing caused by patellar luxation can lead to arthritis, a degenerative joint disease. There are four grades of patellar luxation, ranging from grade I, an occasional luxation causing temporary lameness in the joint, to grade IV, in which the turning of the tibia is severe and the patella cannot be realigned manually. This gives the dog a bowlegged appearance. Severe grades of patellar luxation may require surgical repair.Hereditary Juvenile Cataracts: The development of opacity or cloudiness in the lens of the eye at an early age. This condition progresses rapidly, and dogs can be blind by 3 years of age. Surgery can sometimes partially restore vision. A DNA test is available to identify dogs that are carriers, affected, or clear of the defective gene.L-2 Hydroxyglutaric Aciduria: Affected dogs lack a particular enzyme to break down the aforementioned compound. It then builds up in cerebrospinal fluid and plasma, causing such signs as lack of coordination, muscle tremors, poor learning ability, and seizures. Signs can be treated, but there is no cure. Dogs with this condition are usually euthanized at an early age. A DNA test is available to identify dogs that are carriers, affected, or clear of the defective gene. Buy only from breeders who use this DNA test to screen their breeding animals.Skin Allergies: Also known as atopic dermatitis, this itchy, scratchy condition is sometimes seen in certain Staffords. It\\'s not unusual for afflicted dogs to suffer hair loss or to develop sore spots on their skin. The problem is often compounded by bacterial infections. Aggressive flea control treatment can help, as can supplementing the diet with omega-3 fatty acids, such as those found in fish oil.Demodectic Mange: All dogs carry demodex mites. The mites live in hair follicles and usually don\\'t cause any problems, but dogs with weakened or compromised immune systems can develop a condition called demodectic mange. Also called demodicosis, it can be localized or generalized. In the localized form, patches of red, scaly skin with hair loss appears on the head, neck and forelegs. It\\'s thought of as a puppy disease and often clears up on its own. Generalized demodectic mange covers the entire body and affects older puppies and young adult dogs. The dog develops patchy skin, bald spots, and skin infections all over the body. The American Academy of Veterinary Dermatology recommends neutering or spaying all dogs that develop generalized demodectic mange because there is a genetic link. The good news is that the mite can\\'t be passed to humans or other dogs.The Staffordshire Bull Terrier is a companion dog who does well in any type of home as long as he gets daily exercise. He should live indoors, with access to a securely fenced yard. Like all terriers, Staffords are diggers, so it is important to reinforce fences by embedding them in concrete or burying chicken wire at the bottom to prevent escapes. Underground electronic fences are not suitable for this breed. A Stafford will ignore the shock if he sees another dog approaching his territory, and the lack of a solid barrier means that other dogs can enter the yard, which can lead to a serious fight.His short face makes the Staffordshire Bull Terrier unsuited to staying outdoors for more than a few minutes in a hot or humid climate, and he should always have access to shade and fresh drinking water. Some Staffords enjoy playing in water and will appreciate having a kiddie pool to lounge in on hot days, but others prefer to avoid the wet stuff. Staffords are not good swimmers, so take steps to protect them from falling into a swimming pool or spa.The Stafford\\'s exercise requirements can be satisfied with two or three half-hour to one-hour walks or playtimes daily. Engage his mind with training sessions or fun activities.Begin training the day you bring your Staffordshire Bull Terrier puppy home. He is intelligent and learns quickly, but he can be impulsive and stubborn. Forget strict and formal obedience training. For best results, be patient, firm, and consistent to develop the strongest bond with your Stafford. Always look for behaviors you can reward instead of punishing him for infractions. Harsh corrections can damage the dog\\'s self-confidence and personality. Regular training practice and social interaction will help ensure that you live together happily. A bored or lonely Stafford is destructive in his attempts to entertain himself.A Stafford is not generally a barker, but he is definitely vocal. This breed will entertain you with his snorts, snores, grunts, and groans, as well as his singing voice, often described as a yodel.If you are consistent and follow a schedule, housetraining comes easily to the Stafford. Crate training assists in this process and prevents your SBT puppy from chewing on things he shouldn\\'t or otherwise getting into trouble when you aren\\'t around to supervise. A crate also gives him a safe haven where he can retreat when he\\'s feeling overwhelmed or tired. Never use a crate as a place of punishment.Leash training is also important, especially since your Stafford will be a strong puller, small size notwithstanding. Good leash manners are essential to the state of your muscles, your own happiness, and your Stafford\\'s safety. Never walk him off leash any place that he might encounter unknown dogs or other animals. He has a strong prey drive and will give chase if not restrained.Early, frequent socialization is a must for this breed, especially if you want your SBT to be friendly toward other animals. Puppy socialization classes are a great start, but socialization shouldn\\'t end there. Visit many different dog-friendly stores, parks, and events.With proper training, consistency, and socialization, your Stafford will be a wonderful family member who protects and loves you unconditionally.Recommended daily amount: 1 5/8 to 2 1/4 cups of a high-quality dog food daily, divided into two meals. To avoid gastric dilatation volvulus, also known as bloat, withhold food and water for at least an hour after vigorous exercise.How much your adult dog eats depends on his size, age, build, metabolism, and activity level. Dogs are individuals, just like people, and they don\\'t all need the same amount of food. It almost goes without saying that a highly active dog will need more than a couch potato dog. The quality of dog food you buy also makes a difference--the better the dog food, the further it will go toward nourishing your dog and the less of it you\\'ll need to shake into your dog\\'s bowl.Keep your SBT in good shape by measuring his food and feeding him twice a day rather than leaving food out all the time. If you\\'re unsure whether he\\'s overweight, give him the eye test and the hands-on test. First, look down at him. You should be able to see a waist. Then place your hands on his back, thumbs along the spine, with the fingers spread downward. You should be able to feel but not see his ribs without having to press hard. If you can\\'t, he needs less food and more exercise.The Staffordshire Bull Terrier has a short, smooth coat that lies close to the skin. It comes in red, fawn, white, black, or blue, or any of these colors with white, as well as brindle or brindle with white.The Stafford\\'s coat sheds annually and hair loss is minimal throughout the year. Dirt brushes out easily, and the coat dries quickly after a bath. Brush him weekly to remove dead or loose hair. Bathe as needed. This breed has little odor, so he usually doesn\\'t require frequent bathing.Other grooming needs include dental hygiene and nail care. Brush your Stafford\\'s teeth at least two or three times a week to remove tartar buildup and the accompanying bacteria. Daily is better. Trim his nails once or twice a month, or as needed. If you can hear the nails clicking on the floor, they\\'re too long. Short nails keep the feet in good condition and don\\'t get caught in the carpet and tear.Check the ears weekly to make sure there\\'s no debris, redness, or inflammation. Clean the ears as needed with a cotton ball and a cleanser recommended by your dog\\'s breeder or your veterinarian. Wipe around the outer edge of the ear canal, and don\\'t stick the cotton ball any deeper than the first knuckle of your finger.Begin accustomizing your Staffordshire Bull Terrier to being brushed and examined when he\\'s a puppy. Handle his paws frequently\\xa0—\\xa0dogs are touchy about their feet--and look inside his mouth and ears. Make grooming a positive experience filled with praise and rewards, and you\\'ll lay the groundwork for easy veterinary exams and other handling when he\\'s an adult.The Stafford is suitable for families with children, but despite his much vaunted patience and gentleness, he should always be supervised in the presence of toddlers or young children. He can be rambunctious and may accidentally knock small children down.Always teach children how to approach and touch dogs, and always supervise any interactions between dogs and young children to prevent any mouthing, biting, or ear or tail pulling on the part of either party. Teach your child never to approach any dog while he\\'s sleeping or eating and not to try to take the dog\\'s food away. No dog should ever be left unsupervised with a child.Some Staffords get along well with other dogs and cats when they\\'re raised with them. As adults, they may require more of an adjustment period before they welcome the company of another dog. To ensure the best relationship, choose a dog of the opposite sex. Make introductions in a neutral area away from your home.Staffords are sometimes acquired without any clear understanding of what goes into owning one, and these dogs often end up in the care of rescue groups, in need of adoption or fostering. Other SBTs end up in rescue because their owners have divorced or died. If you\\'re interested in adopting an adult Stafford who\\'s already gone through the destructive puppy stage and may already be trained, a rescue group is a good place to start.Pit Bull Rescue CentralPitBulls for LifeProject Pit BullStaffordshire Bull Terrier Club of America'"
      ]
     },
     "execution_count": 554,
     "metadata": {},
     "output_type": "execute_result"
    }
   ],
   "source": [
    "dog_text"
   ]
  },
  {
   "cell_type": "code",
   "execution_count": 555,
   "metadata": {
    "collapsed": true
   },
   "outputs": [],
   "source": [
    "wiki_test = db.dogbreeds.find_one({\"breed\" : \"beagle\"})['wikipedia_content']"
   ]
  },
  {
   "cell_type": "code",
   "execution_count": 556,
   "metadata": {
    "collapsed": true
   },
   "outputs": [],
   "source": [
    "dog_soup = BeautifulSoup(wiki_test, \"lxml\")"
   ]
  },
  {
   "cell_type": "code",
   "execution_count": null,
   "metadata": {
    "collapsed": true
   },
   "outputs": [],
   "source": []
  },
  {
   "cell_type": "code",
   "execution_count": 557,
   "metadata": {
    "collapsed": true,
    "scrolled": false
   },
   "outputs": [],
   "source": [
    "for content in dog_soup.find_all('p'):\n",
    "    dog_text += content.text"
   ]
  },
  {
   "cell_type": "code",
   "execution_count": 558,
   "metadata": {
    "collapsed": true
   },
   "outputs": [],
   "source": [
    "dbi_test = db.dogbreeds.find_one({\"breed\" : \"beagle\"})['dogbreedinfo_content']"
   ]
  },
  {
   "cell_type": "code",
   "execution_count": 154,
   "metadata": {
    "collapsed": true
   },
   "outputs": [],
   "source": [
    "dog_soup = BeautifulSoup(dbi_test, \"lxml\")"
   ]
  },
  {
   "cell_type": "code",
   "execution_count": 159,
   "metadata": {
    "collapsed": true
   },
   "outputs": [],
   "source": [
    "for content in dog_soup.find_all('article'):\n",
    "    dog_text += content.text"
   ]
  },
  {
   "cell_type": "code",
   "execution_count": 160,
   "metadata": {},
   "outputs": [
    {
     "data": {
      "text/plain": [
       "66801"
      ]
     },
     "execution_count": 160,
     "metadata": {},
     "output_type": "execute_result"
    }
   ],
   "source": [
    "len(dog_text)"
   ]
  },
  {
   "cell_type": "code",
   "execution_count": 161,
   "metadata": {},
   "outputs": [
    {
     "data": {
      "text/plain": [
       "'Small, compact, and hardy, Beagles are active companions for kids and adults alike. Canines in this dog breed are merry and fun loving, but being hounds, they can also be stubborn and require patient, creative training techniques. Their noses guide them through life, and they’re never happier than when following an interesting scent. The Beagle originally was bred as a scenthound to track small game, mostly rabbits and hare. He is still used for this purpose in many countries, including the United States.Adapts Well to Apartment Living  apartment   indoor   indoors  Sensitivity Level  sensitive   delicate   hates alone hates alone   stay home stay home   hates cold   thin coat  Tolerates Hot Weather  hot fine   hot OK   long nose   thin coat   summer  All Around Friendliness All Around Friendliness  friendly friendly   loving loving  Affectionate with Family Affectionate with Family  loving loving   affectionate affectionate   cuddly cuddly  Incredibly Kid Friendly Dogs Incredibly Kid Friendly Dogs  good kids good kids   playful playful   gentle gentle   tolerant tolerant  Dog Friendly Dog Friendly  dogs dogs   playful playful   other dogs other dogs   good dogs good dogs  Friendly Toward Strangers Friendly Toward Strangers  friendly friendly   likes people likes people   people dog people dog   clean clean   low drool low drool  Easy To Groom  easy groom   simple grooming   easy grooming   simple groom   low maintenance   unhealthy unhealthy   vet vet   genetic issues genetic issues  Potential For Weight Gain Potential For Weight Gain  eat eat   obese obese   appetite appetite   overweight overweight   needs exercise needs exercise   small   tiny   apartment   lap dog  Trainability  obedience   trainable   tricks   intelligent   independent independent   difficult train difficult train   disobedient disobedient  Intelligence  independent   intelligent   clever   agile  Prey Drive Prey Drive  hunting hunting   chase chase   prey prey   mouser mouser   killer killer  Tendency To Bark Or Howl Tendency To Bark Or Howl  yappy yappy   bark bark   howl howl   noisy noisy  Wanderlust Potential Wanderlust Potential  independent independent   free spirited free spirited   escape artist escape artist  Exercise Needs  exercise   walks   runs   walking   running   fetch  Energy Level  high-energy   energetic   hyper   high energy   play  Intensity Intensity  vigorous vigorous   difficult train difficult train   difficult training difficult training   intense intense  Potential For Playfulness Potential For Playfulness  playful playful   game game   puppy puppy   fetch fetch   kid kid  It\\'s difficult to resist the appeal of a Beagle\\'s dark brown or hazel eyes, with his soft, pleading expression. They\\'re happy, outgoing and loving — characteristics more than balanced out by their hound nature, which is inquisitive, determined, and focused on food.\\nThey aren\\'t yappy dogs, but they do have three distinct vocalizations — a bark/growl, a baying howl, and a half-baying howl (a cross between a frantic bark and a bay). The half-howl vocalization usually is reserved for when they catch sight of quarry — or think it\\'s time to wake the neighbors at 6 a.m.! Being pack dogs, they generally get along well with other animals and their human friends — and they think everyone is their new best friend.\\nThe most important thing to know about the Beagle is that he is a scenthound. His nose is the most important part of his anatomy and his head is always down to the ground, searching for an interesting trail to follow. Beagles have approximately 220 million scent receptors compared to the paltry 5 million or so in people, which makes them very good at picking up scents. Humorist Dave Barry once described his in-laws\\' Beagle as \"a nose with feet.\"\\nYou may have seen the Beagle\\'s nose at work at airports across the country. In 1984, the U.S. Department of Agriculture decided to use Beagles to sniff out contraband food being brought into the United States at the Los Angeles International Airport.\\nThe experiment was a huge success. Because they are small, friendly, and cute, the Beagles didn\\'t intimidate people who are afraid of dogs, and with their super nose power, they could be trained to identify specific food articles while bypassing those that weren\\'t contraband. Today, members of the \"Beagle Brigade\" patrol the baggage-claim areas at more than 20 international airports and other points of entry into the United States.\\nAlthough they\\'ve branched out into other fields of work, Beagles remain superb hunters of small game. The National Beagle Club\\'s Institute Farm hosts AKC-sanctioned field trials where breeders with packs are put to the test in the field. Many other countries have similar activities for hunting Beagles.\\nBecause of their small size and gentle temperament, Beagles can do well in apartments if their people are willing to walk them on lead several times a day in all kinds of weather. They need plenty of exercise, about an hour a day if possible. If left alone and unexercised, Beagles can become destructive. Beagles can be difficult to housetrain. Some people say it can take up to a year to fully housetrain some Beagles. Crate training is absolutely recommended. Beagles can get bored if left alone in a house too long. If left in a backyard, Beagles will start finding ways to amuse themselves, usually by howling, digging, or trying to escape. The most common reason Beagles are turned over to rescue groups is because either their owners or their owners\\' neighbors got tired of their baying. Be sure that you are prepared to work with your dog to control excessive barking and howling. Beagles are targets for thieves who would steal them and perhaps sell them to research laboratories for use in experiments. Supervise your Beagle when he is outdoors and be sure to have him microchipped! Since they are scenthounds, Beagles will wander off if they catch an enticing smell in the air. Their noses control their brains, and if they smell something interesting, nothing else exists in their world. Although they are loving and gentle, Beagles can have an independent, stubborn streak. Obedience training is recommended, but be sure the instructor of the class understands hound personality and favors using food as a reward (which few Beagles can resist). Do you remember how the famous cartoon Beagle Snoopy worried about his food bowl? Beagles are \"chow hounds\" and will overeat if given a chance. Monitor the amount of food you give them and be sure to keep your cupboards closed and your trashcans secured. Otherwise, your Beagle will sniff out the foods he likes the best. In regards to food, your Beagle probably will take its food bowl pretty seriously. Teach children to respect your Beagle while it is eating, and not to approach it or tease it with food. Beagles are not good protection or guard dogs because they\\'re usually friendly to everyone they meet.The origin of the word \"beagle\" is uncertain. It\\'s thought that it may have been derived from the French word begueule, meaning open throat, or from the Old English word beag, meaning small. Others think it may have come from the French word beugler, meaning to bellow, or the German word begele, meaning to scold.\\nThe breed\\'s history is cloudy as well because breeds as we know them today didn\\'t really develop until the 19th century. Greek documents from 400 B.C. describe Beagle-like dogs, and the Romans may have brought small rabbit-hunting hounds with them to England and bred them with the local hounds.\\nWilliam the Conqueror reportedly brought Talbot hounds (now extinct) to England during the Norman Conquest in 1066. These dogs are thought to be the ancestors of the Beagle and the Foxhound.\\nBeagles became popular in England very early in its history. During the reigns of Edward II (1307 - 1327) and Henry VII (1485 - 1509), extremely small beagles, called Glove Beagles, were popular. They reportedly were small enough to be held in a gloved hand. There\\'s also mention of Singing Beagles, named for their bugling voices.\\nElizabeth I (1533 - 1603) kept packs of Pocket Beagles that stood only 9 inches tall. These small dogs were depicted in paintings as short-legged and pointy nosed. They were used for hunting, but quickly fell out of favor because they weren\\'t very fast.\\nIn the 1700s, fox hunting became popular in England, and the Beagle fell out of favor as the larger Foxhound became the dog of choice. If it hadn\\'t been for the farmers in England, Ireland, and Wales who continued to keep packs to hunt rabbit and hare, the breed might have become extinct at that time.\\nIn the mid-1800s Reverend Phillip Honeywood established a pack of Beagles in Essex, England. These dogs are thought to be the ancestors of the modern Beagle. Rev. Honeywood bred for hunting skills, not looks. Thomas Johnson, a fellow Englishman, was responsible for breeding Beagles who were both attractive and good hunters.\\nAt about the same time, American breeders started importing Beagles from England to improve the looks of their own dogs. Many of the English imports were bred to an average height of 15 to 17 inches at the shoulder so they could hunt fox. American breeders started breeding them to be smaller for rabbit hunting.\\nOf interest is the \"Patch\" Beagle strain developed by Willet Randall in New York around 1880. The line is primarily white with a very large tri-colored spot. They were very popular in the 1940s and 1950s because they were able to run so fast. Today, many people call lemon and white or red and white beagles \"Patch\" beagles.\\nThe American Kennel Club and the first Beagle specialty club both were founded in 1884. In that same year, the AKC began registering Beagles.\\nIn 1916, five members of the National Beagle Club purchased 508 acres in Western Loudoun County, Virginia for the purpose of holding field trials. The men who purchased it formed a corporation called Institute Corporate to purchase and own the land, then leasing it to the Institute Foundation that maintains the property for the National Beagle Club, which today is the site of many activities of the National Beagle Club.The American Kennel Club recognizes two varieties of Beagle. The 13-inch variety is for hounds that don\\'t exceed 13 inches in height at the shoulder, and the 15-inch variety is for hounds that stand 13 inches to 15 inches at the shoulder. Depending on their height, Beagles weigh between 18 and 30 pounds.Beagles are gentle, sweet, and funny. They will make you laugh, but that\\'s when they\\'re not making you cry because of their often naughty behavior. Beagle people spend a lot of time trying to outthink their dogs, and they often must resort to food rewards to lure the Beagle into a state of temporary obedience.\\nLike every dog, the Beagle needs early socialization — exposure to many different people, sights, sounds, and experiences — when they\\'re young. Socialization helps ensure that your Beagle puppy grows up to be a well-rounded dog.Not all Beagles will get any or all of these diseases, but it\\'s important to be aware of them if you\\'re considering this breed. Intervertebral Disk Disease: The spinal cord is surrounded by the vertebral column, and between the bones of the vertebral column are intervertebral discs that work as shock absorbers and allow normal movement of the vertebrae. The discs are made of two layers, an outer fibrous layer and an inner jelly-like layer. Intervertebral disc disease occurs when the jelly like inner layer protrudes into the spinal canal and pushes against the spinal cord. Compression of the spinal cord may be minimal, causing neck or back pain, or it can be severe, causing loss of sensation, paralysis, and lack of bowel or bladder control. The damage done by the spinal compression may be irreversible. Treatment is based on several factors, including location, severity, and length of time between injury and treatment. Confining the dog may be of some use, but surgery is often needed to relieve pressure on the spinal cord. Surgery is not always successful. Hip Dysplasia: This is an inherited condition in which the thighbone doesn\\'t fit snugly into the hip joint. Some dogs show pain and lameness on one or both rear legs, but others don\\'t display outward signs of discomfort. (X-ray screening is the most certain way to diagnose the problem.) Either way, arthritis can develop as the dog ages. Dogs with hip dysplasia should not be bred — so if you\\'re buying a puppy, ask the breeder for proof that the parents have been tested for hip dysplasia and are free of problems. Cherry Eye: This is a condition in which the gland under the third eyelid protrudes and looks rather like a cherry in the corner of the eye. Your vet may need to remove the gland. Glaucoma: This is a painful disease in which pressure in the eye becomes abnormally high. Eyes are constantly producing and draining a fluid called aqueous humor — if the fluid doesn\\'t drain correctly, the pressure inside the eye increases causing damage to the optic nerve and resulting in vision loss and blindness. There are two types. Primary glaucoma, which is hereditary, and secondary glaucoma which is a result of inflammation, a tumor, or injury. Glaucoma generally affects one eye first, which will be red, teary, squinty, and appear painful. A dilated pupil won\\'t react to light, and the front of the eye will have a whitish, almost blue cloudiness. Vision loss and eventually blindness will result, sometimes even with treatment (surgery or medication, depending on the case). Progressive Retinal Atrophy (PRA): This is a degenerative eye disorder that eventually causes blindness from the loss of photoreceptors at the back of the eye. PRA is detectable years before the dog shows any signs of blindness. Fortunately, dogs can use their other senses to compensate for blindness, and a blind dog can live a full and happy life. Just don\\'t make it a habit to move the furniture around. Reputable breeders have their dogs\\' eyes certified annually by a veterinary ophthalmologist and do not breed dogs with this disease. Distichiasis: This condition occurs when an additional row of eyelashes (known as distichia) grow on the oil gland in the dog\\'s eye and protrude along the edge of the eyelid. This irritates the eye, and you may notice your Aussie squinting or rubbing his eye(s). Distichiasis is treated surgically by freezing the excess eyelashes with liquid nitrogen and then remove them. This type of surgery is called cryoepilation and is done under general anesthesia. Epilepsy: This is a neurological condition that\\'s often, but not always, inherited. Epilepsy can cause mild or severe seizures that may show themselves as unusual behavior (such as running frantically as if being chased, staggering, or hiding) or even by falling down, limbs rigid, and losing consciousness. Seizures are frightening to watch, but the long-term prognosis for dogs with idiopathic epilepsy is generally very good. It\\'s important to take your dog to the vet for proper diagnosis (especially since seizures can have other causes) and treatment. Hypothyroidism: Hypothyroidism is a disorder of the thyroid gland. It\\'s thought to be responsible for conditions such as epilepsy, alopecia (hair loss), obesity, lethargy, hyperpigmentation, pyoderma, and other skin conditions. It is treated with medication and diet. Beagle Dwarfism: This is a condition where the dog is smaller than normal. This condition may or may not be accompanied by other physical abnormalities, such as extremely short legs. Chinese Beagle Syndrome (CBS): This is a condition that is characterized by a wide skull and slanted eyes. The dog grows normally otherwise. Quite often, dogs with CBS have heart problems and toe abnormalities. Patellar Luxation: Also known as \"slipped stifles,\" this is a common problem in small dogs. It is caused when the patella, which has three parts — the femur (thigh bone), patella (knee cap), and tibia (calf) — is not properly lined up. This causes lameness in the leg or an abnormal gait, sort of like a skip or a hop. It is a condition that is present at birth although the actual misalignment or luxation does not always occur until much later. The rubbing caused by patellar luxation can lead to arthritis, a degenerative joint disease. There are four grades of patellar luxation, ranging from grade I, an occasional luxation causing temporary lameness in the joint, to grade IV, in which the turning of the tibia is severe and the patella cannot be realigned manually. This gives the dog a bowlegged appearance. Severe grades of patellar luxation may require surgical repair.If you\\'re buying a puppy, find a good breeder who will show you health clearances for both your puppy\\'s parents. Health clearances prove that a dog has been tested for and cleared of a particular condition.\\nIn Beagles, you should expect to see health clearances from the Orthopedic Foundation for Animals (OFA) for hip dysplasia (with a score of fair or better), elbow dysplasia, hypothyroidism, and von Willebrand\\'s disease; from Auburn University for thrombopathia; and from the Canine Eye Registry Foundation (CERF) certifying that eyes are normal. You can confirm health clearances by checking the OFA web site (offa.org).A fenced backyard is a necessity with a scenthound such as a Beagle. When outside, your Beagle should be on lead in unconfined areas, or securely confined and supervised. He\\'s a wanderer by nature, so in case he escapes — a common occurrence with Beagles — be sure he\\'s microchipped and wearing identification tags on his collar so he can be returned to you.\\nSome people prefer to use an underground electronic fence, but this type of enclosure doesn\\'t prevent other animals from coming into your yard. Besides, if a scent is enticing enough your Beagle will be more than willing to risk a momentary shock to follow it.\\nLike all dogs, Beagles benefit from obedience training. Positive reinforcement techniques work best because Beagles will simply switch off when treated harshly. Most Beagles are more than happy to do anything for a tasty treat.\\nAdolescent Beagles are full of energy and need a lot of opportunities to work it all off. They love to go for walks with their family, or, even better, a good run across a field to hunt down rabbits (not recommended unless you have trained your dog to come back to you). They\\'ll enjoy jogging with you, but wait until they\\'re 18 months or older before starting them on a repetitive exercise like this.\\nWhen mature, a Beagle can become fairly lazy, content to lie about the house all day, getting up for meals and perhaps an occasional scratching of the ears. Since this is a breed prone to obesity, don\\'t let this happen.Recommended daily amount: 3/4 to 1.5 cups of high-quality dry food a day, divided into two meals.\\nNOTE: How much your adult dog eats depends on his size, age, build, metabolism, and activity level. Dogs are individuals, just like people, and they don\\'t all need the same amount of food. It almost goes without saying that a highly active dog will need more than a couch potato dog. The quality of dog food you buy also makes a difference — the better the dog food, the further it will go toward nourishing your dog and the less of it you\\'ll need to shake into your dog\\'s bowl.\\nBeagles are food thieves. These dogs will raid your pantry and garbage daily if given the chance, and they\\'re willing to eat until they pop. Keep yours in good shape by measuring his food and feeding him twice a day rather than leaving food out all the time. If you\\'re unsure whether he\\'s overweight, give him the eye test and the hands-on test.\\nFirst, look down at him. You should be able to see a waist. Then place your hands on his back, thumbs along the spine, with the fingers spread downward. You should be able to feel but not see his ribs without having to press hard. If you can\\'t, he needs less food and more exercise.\\nAlso, dole out treats sparingly. Your Beagle will be just as happy to get a bite-size training treat as a bigger biscuit.\\nFor more on feeding your Beagle, see our guidelines for buying the right food, feeding your puppy, and feeding your adult dog.The breed standard for Beagles says \"any hound color\" is acceptable. The most common color for Beagles is tricolor with a black saddle (the area across the back), white legs, chest, belly, and a white tip on the tail, and tan on the head and around the saddle.\\nThe second most common color combination is red and white in an Irish spotting pattern on the face, neck, legs and tip of the tail. Whatever their color, they typically have a white tip on their tails so hunters can see them when they\\'re hunting in tall grass.\\nBeagles have a smooth, dense double coat that is resistant to rain. They should be brushed with a medium-bristle brush or a hound glove (a rubber mitt with nubs on the palm area) at least once a week to loosen and remove dead hair and encourage new hair growth.\\nBeagles shed, but because their hair is short, it isn\\'t too noticeable. Their coats tend to get thicker in the winter, so they shed more in the spring. They are clean dogs (unless, of course, they\\'ve found something appealingly stinky to roll in) and generally don\\'t require frequent baths.\\nSince Beagles are drop-eared dogs, air doesn\\'t circulate well inside their ears and they can get infections. Check their ears at least every two weeks for signs of infection or waxy buildup. Check them also if you notice your Beagle shaking his head a lot or scratching at his ears. Never allow water or oils to enter his ears.Brush your Beagle\\'s teeth at least two or three times a week to remove tartar buildup and the bacteria that lurk inside it. Daily brushing is even better if you want to prevent gum disease and bad breath.Trim his nails once or twice a month if your dog doesn\\'t wear them down naturally to prevent painful tears and other problems. If you can hear them clicking on the floor, they\\'re too long. Dog toenails have blood vessels in them, and if you cut too far you can cause bleeding — and your dog may not cooperate the next time he sees the nail clippers come out. So, if you\\'re not experienced trimming dog nails, ask a vet or groomer for pointers.\\nBegin accustoming your Beagle to being brushed and examined when he\\'s a puppy. Handle his paws frequently — dogs are touchy about their feet — and look inside his mouth. Make grooming a positive experience filled with praise and rewards, and you\\'ll lay the groundwork for easy veterinary exams and other handling when he\\'s an adult.\\nAs you groom, check for sores, rashes, or signs of infection such as redness, tenderness, or inflammation on the skin, in the nose, mouth, and eyes, and on the feet. Eyes should be clear, with no redness or discharge. Your careful weekly exam will help you spot potential health problems early.Beagles bond with everyone in the family, especially children. They can be rambunctious when playing, however, so they need to be properly socialized and supervised with very young children. In addition, Beagles tend to be \"mouthy,\" grabbing things, including your or your child\\'s hand, with their mouths to play. They do this in fun and can be trained not to do this.\\nAs with every breed, you should always teach children how to approach and touch dogs, and supervise any interactions. Teach your child never to approach any dog while he\\'s eating or sleeping or to try to take the dog\\'s food away. No dog, no matter how friendly, should ever be left unsupervised with a child.\\nBecause of their pack dog heritage, Beagles enjoy company and don\\'t like to be left alone. Another dog or even a cat will help meet their companionship needs.Beagles are often acquired without any clear understanding of what goes into owning one. The following rescue groups can help you find Beagles in need of adoption or fostering. Rescue: National Beagle Club of America SOS Beagle Rescue East Cascade Beagle RescueCheck out Road to Rescue\\'s SPOTlight on Tampa Bay Beagle Rescue.Below are breed clubs, organizations, and associations where you can find additional information about the Beagle. National Beagle Club of America\\n\\n\\n\\nThe Beagle is a breed of small hound, similar in appearance to the much larger foxhound. The beagle is a scent hound, developed primarily for hunting hare. With a great sense of smell and superior tracking instinct, the beagle is employed as detection dog for prohibited agricultural imports and foodstuffs in quarantine around the world. The beagle is intelligent but single-minded. It is a popular pet due to its size, good temper, and lack of inherited health problems.Although beagle-type dogs have existed for 2,500 years, the modern breed was developed in Great Britain around the 1830s from several breeds, including the Talbot Hound, the North Country Beagle, the Southern Hound, and possibly the Harrier.Beagles have been depicted in popular culture since Elizabethan times in literature and paintings, and more recently in film, television, and comic books. Snoopy of the comic strip Peanuts has been called \"the world\\'s most famous beagle\".[1]Dogs of similar size and purpose to the modern beagle[a] can be traced in Ancient Greece[2]\\nback to around the 5th century BC. Xenophon, born around 430 BC, in his Treatise on Hunting or Cynegeticus refers to a hound that hunted hares by scent and was followed on foot.  Small hounds are mentioned in the Forest Laws of Canute which exempted them from the ordinance which commanded that all dogs capable of running down a stag should have one foot mutilated.[3] If genuine, these laws would confirm that beagle-type dogs were present in England before 1016, but it is likely the laws were written in the Middle Ages to give a sense of antiquity and tradition to Forest Law.[4]In the 11th century, William the Conqueror brought the Talbot hound to Britain. The Talbot was a predominantly white, slow, deep-throated, scent hound derived from the St. Hubert Hound which had been developed in the 8th century. At some point the English Talbots were crossed with Greyhounds to give them an extra turn of speed.[5] Long extinct, the Talbot strain probably gave rise to the Southern Hound which, in turn, is thought to be an ancestor of the modern-day beagle.[b]From medieval times, beagle was used as a generic description for the smaller hounds, though these dogs differed considerably from the modern breed. Miniature breeds of beagle-type dogs were known from the times of Edward II and Henry VII, who both had packs of Glove Beagles, so named since they were small enough to fit on a glove, and Queen Elizabeth I kept a breed known as a Pocket Beagle, which stood 8 to 9 inches (20 to 23\\xa0cm) at the shoulder. Small enough to fit in a \"pocket\" or saddlebag, they rode along on the hunt. The larger hounds would run the prey to ground, then the hunters would release the small dogs to continue the chase through underbrush. Elizabeth I referred to the dogs as her singing beagles and often entertained guests at her royal table by letting her Pocket Beagles cavort amid their plates and cups.[6] 19th-century sources refer to these breeds interchangeably and it is possible that the two names refer to the same small variety. In George Jesse\\'s Researches into the History of the British Dog from 1866, the early 17th-century poet and writer Gervase Markham is quoted referring to the beagle as small enough to sit on a man\\'s hand and to the:  Standards for the Pocket Beagle were drawn up as late as 1901; these genetic lines are now extinct, although modern breeders have attempted to recreate the variety.[8]By the 18th century two breeds had been developed for hunting hare and rabbit: the Southern Hound and the North Country Beagle (or Northern Hound). The Southern Hound, a tall, heavy dog with a square head, and long, soft ears, was common from south of the River Trent and probably closely related to the Talbot Hound. Though slow, it had stamina and an excellent scenting ability. The North Country Beagle, possibly a cross between an offshoot of the Talbot stock and a Greyhound, was bred chiefly in Yorkshire and was common in the northern counties. It was smaller than the Southern Hound, less heavy-set and with a more pointed muzzle. It was faster than its southern counterpart but its scenting abilities were less well developed.[9] As fox hunting became increasingly popular, numbers of both types of hound diminished. The beagle-type dogs were crossed with larger breeds such as Stag Hounds to produce the modern Foxhound. The beagle-size varieties came close to extinction but some farmers in the South ensured the survival of the prototype breeds by maintaining small rabbit-hunting packs.Reverend Phillip Honeywood established a beagle pack in Essex in the 1830s and it is believed that this pack formed the basis for the modern breed. Although details of the pack\\'s lineage are not recorded it is thought that North Country Beagles and Southern Hounds were strongly represented; William Youatt suspected that Harriers formed a good majority of the beagle\\'s bloodline, but the origin of the Harrier is itself obscure.[10] Honeywood\\'s Beagles were small, standing at about 10 inches (25\\xa0cm) at the shoulder, and pure white according to John Mills (writing in The Sportsman\\'s Library in 1845). Prince Albert and Lord Winterton also had Beagle packs around this time, and royal favour no doubt led to some revival of interest in the breed, but Honeywood\\'s pack was regarded as the finest of the three.[11]Although credited with the development of the modern breed, Honeywood concentrated on producing dogs for hunting and it was left to Thomas Johnson to refine the breeding to produce dogs that were both attractive and capable hunters. Two strains were developed: the rough- and smooth-coated varieties. The rough-coated beagle survived until the beginning of the 20th century, and there were even records of one making an appearance at a dog show as late as 1969, but this variety is now extinct, having probably been absorbed into the standard beagle bloodline.[12]In the 1840s, a standard beagle type was beginning to develop; the distinction between the North Country Beagle and Southern Hound had been lost, but there was still a large variation in size, character, and reliability among the emerging packs.[13] In 1856, \"Stonehenge\" (the pseudonym of John Henry Walsh), writing in the Manual of British Rural Sports, was still dividing beagles into four varieties: the medium beagle; the dwarf or lapdog beagle; the fox beagle (a smaller, slower version of the Foxhound); and the rough-coated or terrier beagle, which he classified as a cross between any of the other varieties and one of the Scottish terrier breeds.[14] Stonehenge also gives the start of a standard description:By 1887 the threat of extinction was on the wane: there were 18 beagle packs in England.[15] The Beagle Club was formed in 1890 and the first standard drawn up at the same time.[16] The following year the Association of Masters of Harriers and Beagles was formed. Both organisations aimed to further the best interests of the breed, and both were keen to produce a standard type of beagle.[17] By 1902, the number of packs had risen to 44.[15]Beagles were in the United States by the 1840s at the latest, but the first dogs were imported strictly for hunting and were of variable quality. Since Honeywood had only started breeding in the 1830s, it is unlikely these dogs were representative of the modern breed and the description of them as looking like straight-legged Dachshunds with weak heads has little resemblance to the standard. Serious attempts at establishing a quality bloodline began in the early 1870s when General Richard Rowett from Illinois imported some dogs from England and began breeding. Rowett\\'s Beagles are believed to have formed the models for the first American standard, drawn up by Rowett, L. H. Twadell, and Norman Ellmore in 1887.[18] The beagle was accepted as a breed by the American Kennel Club (AKC) in 1885.[19] In the 20th century the breed has spread worldwide.On its formation, the Association of Masters of Harriers and Beagles took over the running of a regular show at Peterborough that had started in 1889, and the Beagle Club in the UK held its first show in 1896.[16] The regular showing of the breed led to the development of a uniform type, and the beagle continued to prove a success up until the outbreak of World War I when all shows were suspended. After the war, the breed was again struggling for survival in the UK: the last of the Pocket Beagles was probably lost during this time, and registrations fell to an all-time low. A few breeders (notably Reynalton Kennels) managed to revive interest in the dog and by World War II, the breed was once again doing well. Registrations dropped again after the end of the war but almost immediately recovered.[20]As purebred dogs, beagles have always been more popular in the United States and Canada than in their native country England. The National Beagle Club of America was formed in 1888 and by 1901 a beagle had won a Best in Show title. As in the UK, activity during World War I was minimal, but the breed showed a much stronger revival in the U.S. when hostilities ceased. In 1928 it won a number of prizes at the Westminster Kennel Club\\'s show and by 1939 a beagle – Champion Meadowlark Draughtsman – had captured the title of top-winning American-bred dog for the year.[21]  On 12 February 2008, a beagle, K-Run\\'s Park Me In First (Uno), won the Best In Show category at the Westminster Kennel Club show for the first time in the competition\\'s history.[22] In North America they have been consistently in the top-ten most-popular breeds for over 30 years. From 1953 to 1959 the beagle was ranked No. 1 on the list of the American Kennel Club\\'s registered breeds;[23] in 2005 and 2006 it ranked 5th out of the 155 breeds registered.[24] In the UK they are not quite so popular, placing 28th and 30th in the rankings of registrations with the Kennel Club in 2005 and 2006 respectively.[25] In the United States the beagle ranked 4th most popular breed in 2012 and 2013, behind the Labrador Retriever (#1), German Shepherd (#2) and Golden Retriever (#3) breeds.[26]According to the Oxford English Dictionary, the first mention of the beagle by name in English literature dates from c. 1475 in The Squire of Low Degree. The origin of the word \"beagle\" is uncertain, although it has been suggested that the word derives from the French begueule.[27]It is not known why the black and tan Kerry Beagle, present in Ireland since Celtic times, has the beagle description, since at 22 to 24 inches (56 to 61\\xa0cm) it is significantly taller than the modern day beagle, and in earlier times was even larger. Some writers suggest that the beagle\\'s scenting ability may have come from cross-breeding earlier strains with the Kerry Beagle. Originally used for hunting stags, it is today used for hare and drag hunting.[28]The general appearance of the beagle resembles a miniature Foxhound, but the head is broader and the muzzle shorter, the expression completely different and the legs shorter in proportion to the body.[29]  They are generally between 13 and 16 inches (33 and 41\\xa0cm) high at the withers and weigh between 18 and 35\\xa0lb (8.2 and 15.9\\xa0kg), with females being slightly smaller than males on average.[30]They have a smooth, somewhat domed skull with a medium-length, square-cut muzzle and a black (or occasionally liver) gumdrop nose. The jaw is strong and the teeth scissor together with the upper teeth fitting perfectly over the lower teeth and both sets aligned square to the jaw. The eyes are large, hazel or brown, with a mild hound-like pleading look. The large ears are long, soft and low-set, turning towards the cheeks slightly and rounded at the tips. Beagles have a strong, medium-length neck (which is long enough for them to easily bend to the ground to pick up a scent), with little folding in the skin but some evidence of a dewlap; a broad chest narrowing to a tapered abdomen and waist and a long, slightly curved tail (known as the \"stern\") tipped with white. The white tip, known as the flag has been selectively bred for, as it allows the dog to be easily seen when its head is down following a scent.[31] The tail does not curl over the back, but is held upright when the dog is active. The beagle has a muscular body and a medium-length, smooth, hard coat. The front legs are straight and carried under the body while the rear legs are muscular and well bent at the stifles.[32]The tricolored beagle—white with large black areas and light brown shading—is the most common.  Tricolored beagles occur in a number of shades, from the \"Classic Tri\" with a jet black saddle (also known as \"Blackback\"), to the \"Dark Tri\" (where faint brown markings are intermingled with more prominent black markings), to the \"Faded Tri\" (where faint black markings are intermingled with more prominent brown markings). Some tricolored dogs have a broken pattern, sometimes referred to as pied. These dogs have mostly white coats with patches of black and brown hair. Tricolor beagles are almost always born black and white. The white areas are typically set by eight weeks, but the black areas may fade to brown as the puppy matures.  (The brown may take between one and two years to fully develop.) Some beagles gradually change color during their lives, and may lose their black markings entirely.Two-color varieties always have a white base color with areas of the second color. Tan and white is the most common two-color variety, but there is a wide range of other colors including lemon, a very light tan; red, a reddish, almost orange, brown; and liver, a darker brown, and black. Liver is not common and is not permitted in some standards; it tends to occur with yellow eyes. Ticked or mottled varieties may be either white or black with different colored flecks (ticking), such as the blue-mottled or bluetick beagle, which has spots that appear to be a midnight-blue color, similar to the coloring of the Bluetick Coonhound. Some tricolor beagles also have ticking of various colors in their white areas.[33][34]Alongside the Bloodhound and Basset Hound, the beagle has one of the best developed senses of smell of any dog.[35] In the 1950s, John Paul Scott and John Fuller began a 13-year study of canine behavior. As part of this research, they tested the scenting abilities of various breeds by putting a mouse in a one-acre field and timing how long it took the dogs to find it. The beagles found it in less than a minute, while Fox Terriers took 15 minutes and Scottish Terriers failed to find it at all. Beagles are better at ground-scenting (following a trail on the ground) than they are at air-scenting, and for this reason they have been excluded from most mountain rescue teams in favor of collies, which use sight in addition to air-scenting and are more biddable.[35] The long ears and large lips of the beagle probably assist in trapping the scents close to the nose.[36]The American Kennel Club recognizes two separate varieties of beagle: the 13-inch for hounds less than 13 inches (33\\xa0cm), and the 15-inch for those between 13 and 15 inches (33 and 38\\xa0cm). The Canadian Kennel Club recognizes a single type, with a height not exceeding 15 inches (38\\xa0cm).  The Kennel Club (UK) and FCI affiliated clubs recognize a single type, with a height of between 13 and 16 inches (33 and 41\\xa0cm).English and American varieties are sometimes mentioned. However, there is no official recognition from any Kennel Club for this distinction. beagles fitting the American Kennel Club standard – which disallows animals over 15 inches (38\\xa0cm) – are smaller on average than those fitting the Kennel Club standard which allows heights up to 16 inches (41\\xa0cm).Pocket Beagles are sometimes advertised for sale but while the UK Kennel Club originally specified a standard for the Pocket Beagle in 1901, the variety is not now recognized by any Kennel Club.A strain known as Patch Hounds was developed by Willet Randall and his family from 1896 specifically for their rabbit hunting ability. They trace their bloodline back to Field Champion Patch, but do not necessarily have a patchwork marking.[37][38]In the 1850s, Stonehenge recommended a cross between a Beagle and a Scottish Terrier as a retriever. He found the crossbreed to be a good worker, silent and obedient, but it had the drawback that it was small and could barely carry a hare.[39]More recently the trend has been for \"designer dogs\" and one of the most popular has been the Beagle/Pug cross known as a Puggle. Some puppies of this cross are less excitable than a Beagle and with a lower exercise requirement, similar to the Pug parent; but many are highly excitable and require vigorous exercise.[40]The beagle has an even temper and gentle disposition. Described in several breed standards as \"merry\", they are amiable and typically neither aggressive nor timid, although this depends on the individual. They enjoy company, and although they may initially be standoffish with strangers, they are easily won over. They make poor guard dogs for this reason, although their tendency to bark or howl when confronted with the unfamiliar makes them good watch dogs. In a 1985 study conducted by Ben and Lynette Hart, the beagle was given the highest excitability rating, along with the Yorkshire Terrier, Cairn Terrier, Miniature Schnauzer, West Highland White Terrier, and Fox Terrier.[41][c]Beagles are intelligent but, as a result of being bred for the long chase, are single-minded and determined, which can make them hard to train. They can be difficult to recall once they have picked up a scent, and are easily distracted by smells around them. They do not generally feature in obedience trials; while they are alert, respond well to food-reward training, and are eager to please, they are easily bored or distracted. They are ranked 72nd in Stanley Coren\\'s The Intelligence of Dogs, as Coren places them among the group with the lowest degree of working/obedience intelligence. Coren\\'s scale, however, does not assess understanding, independence, or creativity.[42][43]Beagles are excellent with children and this is one of the reasons they have become popular family pets, but they are pack animals, and are prone to separation anxiety,[44] a condition which causes them to destroy things when left unattended.  Not all beagles will howl, but most will bark when confronted with strange situations, and some will bay (also referred to as \"speaking\", \"giving tongue\", or \"opening\") when they catch the scent of potential quarry.[45] They also generally get along well with other dogs. They are not too demanding with regard to exercise; their inbred stamina means they do not easily tire when exercised, but they also do not need to be worked to exhaustion before they will rest. Regular exercise helps ward off the weight gain to which the breed is prone.[46]The typical longevity of beagles is 12–15 years,[47] which is a common lifespan for dogs of their size.[48]Beagles may be prone to epilepsy, but this can often be controlled with medication. Hypothyroidism and a number of types of dwarfism occur in beagles. Two conditions in particular are unique to the breed: \"Funny Puppy\", in which the puppy is slow to develop and eventually develops weak legs, a crooked back and although normally healthy, is prone to a range of illnesses;[49] Hip dysplasia, common in Harriers and in some larger breeds, is rarely considered a problem in beagles.[50] Beagles are considered a chondrodystrophic breed, meaning that they are prone to types of disk diseases.[51]In rare cases, beagles may develop immune mediated polygenic arthritis (where the immune system attacks the joints) even at a young age. The symptoms can sometimes be relieved by steroid treatments.[49] Another rare disease in the breed is neonatal cerebellar cortical degeneration. Affected puppies are slow, have lower co-ordination, fall more often and don\\'t have a normal gait. It has an estimated carrier rate of 5% and affected rate of 0.1%. A genetic test is available.[52][53]Their long floppy ears can mean that the inner ear does not receive a substantial air flow or that moist air becomes trapped, and this can lead to ear infections. Beagles may also be affected by a range of eye problems; two common ophthalmic conditions in beagles are glaucoma and corneal dystrophy.[54] \"Cherry eye\", a prolapse of the gland of the third eyelid, and distichiasis, a condition in which eyelashes grow into the eye causing irritation, sometimes exist; both these conditions can be corrected with surgery.[49] They can suffer from several types of retinal atrophy. Failure of the nasolacrimal drainage system can cause dry eye or leakage of tears onto the face.[49]As field dogs they are prone to minor injuries such as cuts and sprains, and, if inactive, obesity is a common problem as they will eat whenever food is available and rely on their owners to regulate their weight.[49] When working or running free they are also likely to pick up parasites such as fleas, ticks, harvest mites, and tapeworms, and irritants such as grass seeds can become trapped in their eyes, soft ears, or paws.[55]Beagles may exhibit a behaviour known as reverse sneezing, in which they sound as if they are choking or gasping for breath, but are actually drawing air in through the mouth and nose. The exact cause of this behaviour is not known, but it is not harmful to the dog.[56]Beagles were developed primarily for hunting hare, an activity known as beagling. They were seen as ideal hunting companions for the elderly who could follow on horseback without exerting themselves, for young hunters who could keep up with them on ponies, and for the poorer hunters who could not afford to maintain a stable of good hunting horses.[57] Before the advent of the fashion for foxhunting in the 19th century, hunting was an all day event where the enjoyment was derived from the chase rather than the kill. In this setting the tiny beagle was well matched to the hare, as unlike Harriers they would not quickly finish the hunt, but because of their excellent scent-tracking skills and stamina they were almost guaranteed to eventually catch the hare. The beagle packs would run closely together (\"so close that they might be covered with a sheet\"[10]) which was useful in a long hunt, as it prevented stray dogs from obscuring the trail. In thick undergrowth they were also preferred to spaniels when hunting pheasant.[58]With the fashion for faster hunts, the beagle fell out of favour for chasing hare, but was still employed for rabbit hunting. In Anecdotes of Dogs (1846), Edward Jesse says:In the United States they appear to have been employed chiefly for hunting rabbits from the earliest imports.\\nHunting hare with beagles became popular again in Britain in the mid-19th century and continued until it was made illegal in Scotland by the Protection of Wild Mammals (Scotland) Act 2002 and in England and Wales by the Hunting Act 2004. Under this legislation beagles may still pursue rabbits with the landowner\\'s permission. Drag hunting is popular where hunting is no longer permitted or for those owners who do not wish to participate in hunting a live animal, but still wish to exercise their dog\\'s innate skills.The traditional foot pack consists of up to 40 beagles, marshaled by a Huntsman who directs the pack and who is assisted by a variable number of whippers-in whose job is to return straying hounds to the pack. The Master of the Hunt is in overall day-to-day charge of the pack, and may or may not take on the role of Huntsman on the day of the hunt.As hunting with beagles was seen as ideal for young people, many of the British public schools traditionally maintained beagle packs. Protests were lodged against Eton\\'s use of beagles for hunting as early as 1902 but the pack is still in existence today,[59] and a pack used by Imperial College in Wye, Kent was stolen by the Animal Liberation Front in 2001.[60] School and university packs are still maintained by Eton, Marlborough, Wye, Radley, the Royal Agricultural University and Christ Church, Oxford.[61]In addition to organized beagling, beagles have been used for hunting or flushing to guns (often in pairs) a wide range of game including snowshoe hare, cottontail rabbits, game birds, roe deer, red deer, bobcat, coyote, wild boar and foxes, and have even been recorded as being used to hunt stoat.[62][63] In most of these cases, the beagle is employed as a gun dog, flushing game for hunter\\'s guns.[62]Beagles are used as detection dogs in the Beagle Brigade of the United States Department of Agriculture. These dogs are used to detect food items in luggage being taken into the United States. After trialling several breeds, beagles were chosen because they are relatively small and unintimidating for people who are uncomfortable around dogs, easy to care for, intelligent and work well for rewards.[64] They are also used for this purpose in a number of other countries including by the Ministry of Agriculture and Forestry in New Zealand, the Australian Quarantine and Inspection Service, and in Canada, Japan and the People\\'s Republic of China.[65] Larger breeds are generally used for detection of explosives as this often involves climbing over luggage and on large conveyor belts, work for which the smaller Beagle is not suited.[66]Beagles are the dog breed most often used in animal testing, due to their size and passive nature. Beagles are used in a range of research procedures: fundamental biological research, applied human medicine, applied veterinary medicine, and protection of man, animals or the environment.[67][68] Of the 8,018 dogs used in testing in the UK in 2004, 7,799 were beagles (97.3%).[69] In the UK, the Animals (Scientific Procedures) Act 1986 gave special status to primates, equids, cats and dogs and in 2005 the Animal Procedures Committee (set up by the act) ruled that testing on mice was preferable, even though a greater number of individual animals were involved.[70] In 2005 beagles were involved in less than 0.3% of the total experiments on animals in the UK, but of the 7670 experiments performed on dogs 7406 involved beagles (96.6%).[67] Most dogs are bred specifically for this purpose, by companies such as Harlan. In the UK companies breeding animals for research must be licensed under the Animals (Scientific Procedures) Act.[70]Testing of cosmetic products on animals is banned in the member states of European Community,[71] although France protested the ban and has made efforts to have it lifted.[72] It is permitted in the United States but is not mandatory if safety can be ascertained by other methods, and the test species is not specified by the Food and Drug Administration (FDA).[73] When testing toxicity of food additives, food contaminants, and some drugs and chemicals the FDA uses beagles and miniature pigs as surrogates for direct human testing.[74] Minnesota was the first state to enact a Beagle freedom adoption law in 2014, mandating that dogs and cats are allowed to be adopted once they have completed with research testing.[75]Anti-vivisection groups have reported on abuse of animals inside testing facilities. In 1997\\xa0footage secretly filmed by a freelance journalist inside Huntingdon Life Sciences in the UK showed staff punching and screaming at beagles.[76] Consort Kennels, a UK-based breeder of beagles for testing, closed down in 1997 after pressure from animal rights groups.[77]Although bred for hunting, Beagles are versatile and are nowadays employed for various other roles in detection, therapy, and as family pets.[31]Beagles are used as sniffer dogs for termite detection in Australia,[78] and have been mentioned as possible candidates for drug and explosive detection.[79][80] Because of their gentle nature and unimposing build, they are also frequently used in pet therapy, visiting the sick and elderly in hospital.[81] In June 2006, a trained Beagle assistance dog was credited with saving the life of its owner after using her owner\\'s mobile phone to dial an emergency number.[82]  In the aftermath of the 2010 Haiti earthquake, a Beagle search and rescue dog with a Colombian rescue squad was credited with locating the owner of the Hôtel Montana, who was subsequently rescued after spending 100 hours buried in the rubble.[83] Beagles were hired by New York City to help with bedbug detection,[84] while the role of such dogs in this type of detection may have doubts.[85]Beagles have been featured across a wide range of media. References to the dog appear before the 19th century in works by such writers as William Shakespeare, John Webster, John Dryden, Thomas Tickell, Henry Fielding, and William Cowper, as well as in Alexander Pope\\'s translation of Homer\\'s Iliad.[d][third-party source needed] Beagles appeared in funny animal comic strips and animated cartoons from the 1950s with Courage the Cowardly Dog and the Peanuts character Snoopy billed as \"the world\\'s most famous Beagle\".[86][1]Former US President Lyndon Baines Johnson had several beagles, and caused an outcry when he picked up one of them by its ears during an official greeting on the White House lawn.[87] The ship on which Charles Darwin made the voyage which provided much of the inspiration for On the Origin of Species was named HMS Beagle after the breed, and, in turn, lent its name to the ill-fated British Martian lander Beagle 2. A Canadian bred 15 inch female Beagle with the registered name of Gr Ch Tashtins Lookin For Trouble and the pet name of \"Miss P\" won the 2015 Westminster Kennel Club Dog Show.[88]Informational notesa. ^  In this article \"Beagle\" (with a capital B) is used to distinguish the modern breed from other beagle-type dogs.b. ^  Youatt states that the Southern Hound may have been native to the British Isles and used on hunts by the Ancient Britons.[89]c. ^  The Harts posed the following question to a panel of 96 experts, half of which were veterinary surgeons and the other half dog obedience trial judges:d. ^  The specific references in each of the author\\'s works are as follows:\\nShakespeare: \"Sir Toby Belch: She\\'s a beagle, true-bred, and one that adores me: what o\\' that?\" Twelfth Night (c. 1600) Act II Scene III \\nWebster: \"Mistress Tenterhook\\': You are a sweet beagle\" Westward Ho (1607) Act III Scene IV:2\\nDryden: \"The rest in shape a beagle\\'s whelp throughout, With broader forehead and a sharper snout\" The Cock and the Fox, and again: \"About her feet were little beagles seen\" in Palamon and Arcite both from Fables, Ancient and Modern (1700)\\nTickell: \"Here let me trace beneath the purpled morn, The deep-mouth\\'d beagle, and the sprightly horn\" To a Lady before Marriage (published posthumously in 1749)\\nFielding: \"\\'What the devil would you have me do?\\' cries the Squire, turning to Blifil, \\'I can no more turn her, than a beagle can turn an old hare.\\'\" The History of Tom Jones, a Foundling (1749) Chapter 7.\\nCowper: \"For persevering chase and headlong leaps, True beagle as the staunchest hound he keeps\" The Progress of Error (1782)\\nPope: \"Thus on a roe the well-breath\\'d beagle flies, And rends his hide fresh-bleeding with the dart\" The Iliad of Homer (1715–20) Book XV:697–8CitationsBibliography\\nBeagle\\nInformation and Pictures\\n\\n\\nEmma the lemon and white Beagle at 3 1/2 years old\\n\\n\\nFind a Beagle Breeder\\n Place an Ad \\n\\n\\n\\nRescue a Beagle\\nList Your Rescue\\n\\n\\nOther Names\\nEnglish Beagle\\n\\nPronunciation\\n\\n\\n\\n\\n               Your browser does not support the audio tag. \\n\\nDescription\\nThe Beagle is a sturdy, hardy little hound dog that looks like a miniature Foxhound. The body is squarely-built while the skull is fairly long and slightly domed. The square muzzle is straight and medium in length. The large eyes are brown or hazel and are set well apart. The wide, pendant ears are low set and long. The black nose is broad with full nostrils. The feet are round and firm. The tail is set moderately high and never curled over the back. The coat is of medium length, close, hard, sleek and easy to care for. Any hound-type of coloring is acceptable including lemon, tricolor, black and tan, red and white, orange and white or lemon and white, blue tick and red tick. Beagles have a distinct howl / bay of a bark when they are on the hunt. Video Clip of a Beagle\\'s Baying Bark.\\n\\nTemperament\\nThe Beagle is loving, sweet and gentle, happy to see everyone, greeting them with a wagging tail. It is sociable, brave and intelligent. The Beagle is excellent with children and generally good with other dogs, but because of its hunting instincts, should not be trusted with non-canine pets, unless socialized with cats and other household animals when young. Beagles have minds of their own. They are determined and watchful and require patient, firm training. It is important you are this dog\\'s pack leader and that you provide the proper amount of mental and physical exercise, including daily pack walks, to avoid separation anxiety. With enough exercise they will be calm. You can also purchase animal scents and play tracking games with your Beagle to help satisfy its instinct to track. The Beagle does not have a normal sounding bark, but rather a loud bay cry that almost sounds like a short howl. Beagles are curious and have a tendency to follow their noses. If they pick up a scent they may wander off and not even hear you calling them back, or care to listen, as they will be too busy trying to find the critter at the other end. Take care when letting them off leash that you are in a safe area. Beagles that are allowed to be pack leaders over their humans can develop a varying degree of behavior issues, including, but not limited to, guarding, obsessive barking, snapping, biting and destructive behaviors when left alone. These are not Beagle traits, but rather behaviors brought on by lack of leadership and/or exercise from their humans. The behaviors can be corrected when the dog’s instincts are met.\\n\\nHeight, Weight\\nHeight: Males 14 - 16 inches (36 - 41cm) Females 13 - 15 inches (33 - 38cm)\\nThere are two height classes, 13 - 15 inches (33 – 38 cm) and under 13 inches (33 cm).\\nWeight: Males 22 - 25 pounds (10 – 11 kg) Females 20 - 23 pounds (9 – 10 kg)\\n\\nHealth Problems\\nSome lines can be prone to epilepsy, heart disease, eye and back problems. Also prone to chondroplasia aka dwarfism (warped front legs, like a Basset\\'s). See an example of chondroplasia in a dog. Prone to mast cell tumors. \\n\\nLiving Conditions\\nBeagles will do okay in an apartment if they get plenty of chances to be outdoors. They are very active indoors and a small yard will be sufficient.\\n\\nExercise\\nEnergetic and possessing great stamina, the Beagle needs plenty of exercise, including a brisk daily walk. It should have a fenced yard of reasonable size to romp in. Always use a lead when walking this breed or you will be running the risk of it disappearing in search of wild game.\\n\\nLife Expectancy\\nAbout 12-15 years\\n\\nLitter Size\\n2 - 14 puppies, average 7\\n\\nGrooming\\nThe Beagle\\'s smooth shorthaired coat is easy to look after. Brush with a firm bristle brush, and bathe with mild soap only when necessary. Dry shampoo occasionally. Be sure to check the ears carefully for signs of infection and keep the nails trimmed. This breed is an average shedder.\\n\\nOrigin\\nThe first Beagles date back to the 1500s. English hunters would take packs of these dogs out on the hunt tracking rabbits, hare, pheasant, quail and other small animals. The breed probably originated as a cross between the Harrier and other types of English hounds. The dogs have since become one of the most popular breeds in the USA. The breed can hunt alone, in pairs or in packs. The name \"Beagle\" may have come from the French term \"be’geule\" which means “gape throat,” referring to the dogs baying voice. The name may also have come from the dog\\'s size, stemming from the French word “beigh,” the Old English word “begele,” or perhaps the Celtic word “beag,” which all mean \"small.\" He has also served as an excellent narcotics detection dog and makes a fine family companion. They were first recognized by the AKC in 1885.\\n\\nGroup\\nHound, AKC Hound\\n\\nRecognition\\nACA = American Canine Association Inc.\\nACR = American Canine Registry\\nAKC = American Kennel Club\\nANKC = Australian National Kennel Club\\nAPRI = American Pet Registry, Inc.\\nCKC = Canadian Kennel Club\\nCKC = Continental Kennel Club\\nDRA = Dog Registry of America, Inc.\\nFCI = FÃ©dÃ©ration Cynologique Internationale\\nKCGB = Kennel Club of Great Britain\\nNAPR = North American Purebred Registry, Inc.\\nNKC = National Kennel Club\\nNZKC = New Zealand Kennel Club\\nUKC = United Kennel Club\\n\\n\\nPoncho the male Beagle at 2 years old—\"Poncho is a rescued dog, he was found in the floods in North Carolina, Oct. 2016. A rescue group from Pennsylvania went there and brought many dogs to PA to find homes. I adopted him in Jan. 2017. He is sweet and stubborn. He loves going to the dog park and wrestling with his friends. He is a master wrestler!! He is loved very much and we are so happy we found him!\"\\n\\n \\nHobbs the adult Beagle dog at 4 years old\\n\\n\\n \\nAn Adult Beagle\\n\\n\\n\\nBaylee the Beagle at 8 months old—\"We adopted Baylee when she was 3 months old. She has been a pleasure to have around since day one. She howls and pounces at the kitties; they don\\'t understand that she just wants to play! She loves going for car rides, meeting new people and playing with other dogs.\"\\n\\n\\nBaylee the Beagle at 8 months old\\n\\n\\n \\nBuster the male Beagle at 2 years old\\n\\n \\nHobbs the adult Beagle dog at 4 years old\\n \\nAn Adult Beagle\\n\\nBaylee the Beagle at 8 months old—\"We adopted Baylee when she was 3 months old. She has been a pleasure to have around since day one. She howls and pounces at the kitties; they don\\'t understand that she just wants to play! She loves going for car rides, meeting new people and playing with other dogs.\"\\n\\nBaylee the Beagle at 8 months old\\n \\nBuster the male Beagle at 2 years old\\n \\n\"Bella is a 9 year old Beagle. We keep her in shape by strictly limiting her diet to two measured feedings per day and plenty of exercise. She is a CKC TDX tracking dog and is going to trials for her UTD tracking soon. Some people say these little suckers are difficult to train, but they are extremely intelligent and as with any dog, you have to play to their strengths. With a Beagle it is their nose and their love of finding good smelling stuff. If you have a Beagle or want one... Just a bit of time and effort and I can assure you will tracking with her!!!!\"\\n \\nBella the Beagle at 9 years old\\n \\nBella the Beagle at 9 years old\\n \\nA little girl  with her Beagle friend Frank\\n\\nFrank the Beagle is an example of an overweight dog. It is not healthy to let your dog get fat. Since humans have control over how much a dog eats and when, any dog who is overweight is the fault of the owners. To prolong your dogs life be sure to keep them fit. \\n \\n\"Gunner was one and a half years old when this picture was taken. He\\'s a 23-lb purebred beagle. We found him at the Animal Rescue League when my boyfriend and I were looking for a friend for our Pit Bull, Lucy.  He is a dominant dog and was difficult to train. Like all Beagles, he has a powerful nose and can be very stubborn at times.  He was hard to handle until I started a daily schedule for him: an hour long walk in the morning, breakfast, nap time, playtime, another hour long walk in the afternoon, dinner, then rest time again. He went from making messes in the house, chewing up or eating our socks, and stealing our food to behaving at home as if he was a low energy dog. It seems annoying to change your schedule around for your dog, but it\\'s a great feeling to know that you can help release your dog\\'s energy while bonding with him or her on a morning walk.  And the more I walk Gunner, the fewer socks I have to buy.\"\\n \\nSnoopy the Beagle at 9 months old—see More of Snoopy\\n \\nKris the black and white Beagle at 1 year old\\n \\n\"Leo the purebred lemon Beagle—His eyes are hazel, lighter than the picture shows, almost a lemon color, and his nails are solid white.\"\\n \\n\"This is Joey my Beagle with Chacha my cat. Joey is 4 months old in this picture and from the moment he was 7 weeks and we brought him home, he went after Chacha to play. He is a very friendly dog, stubborn but friendly. He cried the first night he came home and that was it, slept in his crate from the beginning. Dogbreedinfo.com has been essential since the moment I decided to get a dog, from\\xa0selecting a breed and especially on How to walk your Dog, an article I constantly recommend.\"\\n\"Joey always wants to be with his pack. He loves frozen carrots and all I need to distract him is to throw an ice cube on the floor. Great with kids and visitors. All and all, Joey is a real blessing. Thanks to this site I knew what to expect so I was ready when things happened, instead of getting frustrated it helped me appreciate Joey\\'s growing steps.\"\\n \\nLucy the black and tan Beagle is a few years older in this picture and has started to gray. Lucy has a little white on her cheek and one foot; the rest of her is black and tan.\\n \\nShadow the black and tan Beagle puppy (Lucy shown above is his mother)\\n\\nShadow the black and tan Beagle puppy\\xa0with his tricolor littermate; the mother is black and tan (Lucy, shown above) and the father is a tricolor Beagle.\\n \\n\"Layla, a purebred Beagleâ\\x80\\x94she was 3 months old at the time, curious about why the wires from the computer monitor went into a mysterious hole in our computer desk. Her being the curious puppy she is, she stuck her head into there and she couldn\\'t get out! Of course, this happened on the night of a huge blizzard in NY. We had to call the police to help us get her out. It took them nearly 45 minutes to get here when they are only located 5 minutes away! We tried everything from olive oil to just simply yanking her head out but her ears were too big to get her through. We ended up having to cut the desk open with an electric saw so we could at least get her free. Then, we had to call our friend who works as a nurse at a local vet to come get her head out. Sure enough, she got her head out in a heartbeat.\"\\n \\nWembly the Beagle shown here at 8 years old. He is a good bit overweight, which is hard on his joints, especially his knees. He is friendly and loves to hang out at doggie day care with all of his friends.\\n\\n\\nBeagle Pictures 1\\nBeagle Pictures 2\\nBeagle Pictures 3\\nBeagle Pictures 4\\nBeagle Pictures 5\\nBeagle Pictures 6\\nBeagle Pictures 7\\nBeagle Pictures 8\\nBeagle Pictures 9\\n\\n\\n\\nBeagle Dogs: Collectable Vintage Figurines\\n\\n'"
      ]
     },
     "execution_count": 161,
     "metadata": {},
     "output_type": "execute_result"
    }
   ],
   "source": [
    "dog_text"
   ]
  },
  {
   "cell_type": "markdown",
   "metadata": {},
   "source": [
    "### Create data cleaning function"
   ]
  },
  {
   "cell_type": "code",
   "execution_count": 8,
   "metadata": {
    "collapsed": true
   },
   "outputs": [],
   "source": [
    "def generate_text_from_num(dogtime_html, synonyms, antonyms):\n",
    "    \"\"\"\n",
    "    Given a BeautifulSoup object dogtime_html generated from the dogtime website,\n",
    "    generate text from numeric features using synonym and antonym dictionaries\n",
    "    \"\"\"\n",
    "    dog_text = ''\n",
    "    \n",
    "    char_dict = dict()\n",
    "    for characteristic in dogtime_html.find_all(class_=\"characteristic item-trigger-title\"):\n",
    "        char_dict[characteristic.text.strip()] =\\\n",
    "                int(characteristic.find_next().find_next()['class'][1].split('-')[-1])\n",
    "    \n",
    "    for trait, value in char_dict.items():\n",
    "        if value > 3:\n",
    "            factor = value - 3\n",
    "\n",
    "            dog_text += factor*(trait+' ')\n",
    "            for synonym in synonyms[trait]:\n",
    "                synonym += ' '\n",
    "                dog_text += factor*synonym\n",
    "        elif value < 3:\n",
    "            factor = 3 - value\n",
    "            for antonym in antonyms[trait]:\n",
    "                antonym += ' '\n",
    "                dog_text += factor*antonym\n",
    "    \n",
    "    return dog_text\n",
    "            "
   ]
  },
  {
   "cell_type": "code",
   "execution_count": 9,
   "metadata": {
    "collapsed": true
   },
   "outputs": [],
   "source": [
    "#generate_text_from_num(dog_soup, trait_synonyms, trait_antonyms)"
   ]
  },
  {
   "cell_type": "code",
   "execution_count": 10,
   "metadata": {
    "collapsed": true
   },
   "outputs": [],
   "source": [
    "def generate_breed_text(breed_name, db):\n",
    "    \"\"\"\n",
    "    Given a breed_name, query mongoDB db for associated text\n",
    "    and extract breed text, and generate text from numerical features\n",
    "    \"\"\"\n",
    "    breed_text = ''\n",
    "    \n",
    "    dog_content = db.dogbreeds.find_one({\"breed\" : breed_name})\n",
    "    \n",
    "    dog_soup = BeautifulSoup(dog_content[\"dogtime_content\"], \"lxml\")\n",
    "    \n",
    "    breed_text += dog_soup.find(\"header\").find(\"p\").text\n",
    "    \n",
    "    breed_text += generate_text_from_num(dog_soup, trait_synonyms, trait_antonyms)\n",
    "    \n",
    "    for content in dog_soup.find_all(class_=\"breed-data-item-content\"):\n",
    "        breed_text += content.text\n",
    "        \n",
    "\n",
    "    dog_soup = BeautifulSoup(dog_content['wikipedia_content'], \"lxml\")\n",
    "    \n",
    "    for content in dog_soup.find_all('p'):\n",
    "        breed_text += content.text\n",
    "        \n",
    "    dog_soup = BeautifulSoup(dog_content['dogbreedinfo_content'], \"lxml\")\n",
    "    \n",
    "    for content in dog_soup.find_all('article'):\n",
    "        breed_text += content.text\n",
    "    \n",
    "    return breed_text\n",
    "    \n",
    "     "
   ]
  },
  {
   "cell_type": "code",
   "execution_count": 11,
   "metadata": {
    "collapsed": true
   },
   "outputs": [],
   "source": [
    "client = pymongo.MongoClient(\"mongodb://54.67.82.182/dogbreeds\")\n",
    "db = client.dogbreeds"
   ]
  },
  {
   "cell_type": "code",
   "execution_count": 15,
   "metadata": {
    "scrolled": false
   },
   "outputs": [],
   "source": [
    "breed_text_list = []\n",
    "for breed, dog_dir in zip(dog_breeds, dog_dirs):\n",
    "    breed_text_list.append({\"breed\" : dog_dir, \"text\" : generate_breed_text(breed, db)})"
   ]
  },
  {
   "cell_type": "code",
   "execution_count": 16,
   "metadata": {
    "collapsed": true
   },
   "outputs": [],
   "source": [
    "breed_text_list.append({\"breed\" : \"not_dog\", \"text\" : \"\"})"
   ]
  },
  {
   "cell_type": "code",
   "execution_count": 17,
   "metadata": {
    "collapsed": true
   },
   "outputs": [],
   "source": [
    "breed_text_df = pd.DataFrame(breed_text_list)"
   ]
  },
  {
   "cell_type": "code",
   "execution_count": 18,
   "metadata": {},
   "outputs": [
    {
     "data": {
      "text/html": [
       "<div>\n",
       "<style>\n",
       "    .dataframe thead tr:only-child th {\n",
       "        text-align: right;\n",
       "    }\n",
       "\n",
       "    .dataframe thead th {\n",
       "        text-align: left;\n",
       "    }\n",
       "\n",
       "    .dataframe tbody tr th {\n",
       "        vertical-align: top;\n",
       "    }\n",
       "</style>\n",
       "<table border=\"1\" class=\"dataframe\">\n",
       "  <thead>\n",
       "    <tr style=\"text-align: right;\">\n",
       "      <th></th>\n",
       "      <th>breed</th>\n",
       "      <th>text</th>\n",
       "    </tr>\n",
       "  </thead>\n",
       "  <tbody>\n",
       "    <tr>\n",
       "      <th>0</th>\n",
       "      <td>n02085620-Chihuahua</td>\n",
       "      <td>Canines in the Affenpinscher dog breed were or...</td>\n",
       "    </tr>\n",
       "    <tr>\n",
       "      <th>1</th>\n",
       "      <td>n02085782-Japanese_spaniel</td>\n",
       "      <td>The Afghan Hound is elegance personified. This...</td>\n",
       "    </tr>\n",
       "    <tr>\n",
       "      <th>2</th>\n",
       "      <td>n02085936-Maltese_dog</td>\n",
       "      <td>Known as the “King of Terriers,” the Airedale ...</td>\n",
       "    </tr>\n",
       "    <tr>\n",
       "      <th>3</th>\n",
       "      <td>n02086079-Pekinese</td>\n",
       "      <td>The American Pit Bull Terrier is a companion a...</td>\n",
       "    </tr>\n",
       "    <tr>\n",
       "      <th>4</th>\n",
       "      <td>n02086240-Shih-Tzu</td>\n",
       "      <td>The Appenzeller originated as an all-around fa...</td>\n",
       "    </tr>\n",
       "  </tbody>\n",
       "</table>\n",
       "</div>"
      ],
      "text/plain": [
       "                        breed  \\\n",
       "0         n02085620-Chihuahua   \n",
       "1  n02085782-Japanese_spaniel   \n",
       "2       n02085936-Maltese_dog   \n",
       "3          n02086079-Pekinese   \n",
       "4          n02086240-Shih-Tzu   \n",
       "\n",
       "                                                text  \n",
       "0  Canines in the Affenpinscher dog breed were or...  \n",
       "1  The Afghan Hound is elegance personified. This...  \n",
       "2  Known as the “King of Terriers,” the Airedale ...  \n",
       "3  The American Pit Bull Terrier is a companion a...  \n",
       "4  The Appenzeller originated as an all-around fa...  "
      ]
     },
     "execution_count": 18,
     "metadata": {},
     "output_type": "execute_result"
    }
   ],
   "source": [
    "breed_text_df.head()"
   ]
  },
  {
   "cell_type": "code",
   "execution_count": 19,
   "metadata": {
    "collapsed": true
   },
   "outputs": [],
   "source": [
    "breed_text_df.to_csv('breed_text.csv', index=False)"
   ]
  },
  {
   "cell_type": "markdown",
   "metadata": {},
   "source": [
    "### Word-vectorizer/tf-idf"
   ]
  },
  {
   "cell_type": "code",
   "execution_count": 20,
   "metadata": {
    "collapsed": true
   },
   "outputs": [],
   "source": [
    "dog_stop_words = []\n",
    "for breed in dog_breeds:\n",
    "    dog_stop_words += breed.split(\"_\")\n",
    "    "
   ]
  },
  {
   "cell_type": "code",
   "execution_count": 21,
   "metadata": {
    "collapsed": true
   },
   "outputs": [],
   "source": [
    "dog_stop_words = set(dog_stop_words)"
   ]
  },
  {
   "cell_type": "code",
   "execution_count": 22,
   "metadata": {
    "collapsed": true
   },
   "outputs": [],
   "source": [
    "dog_stop_words.remove('dog')"
   ]
  },
  {
   "cell_type": "code",
   "execution_count": 23,
   "metadata": {
    "collapsed": true
   },
   "outputs": [],
   "source": [
    "stop_words = text.ENGLISH_STOP_WORDS.union(dog_stop_words)"
   ]
  },
  {
   "cell_type": "code",
   "execution_count": null,
   "metadata": {
    "collapsed": true
   },
   "outputs": [],
   "source": []
  },
  {
   "cell_type": "code",
   "execution_count": 24,
   "metadata": {
    "collapsed": true
   },
   "outputs": [],
   "source": [
    "dog_count_vec = CountVectorizer(min_df = 4, max_df=0.95,\n",
    "                                stop_words=stop_words, ngram_range = (1, 2),\n",
    "                               max_features=10000, token_pattern='(?u)\\\\b[a-zA-Z]+\\\\b')"
   ]
  },
  {
   "cell_type": "code",
   "execution_count": 25,
   "metadata": {
    "collapsed": true
   },
   "outputs": [],
   "source": [
    "dog_count_mat = dog_count_vec.fit_transform(breed_text_df.text)"
   ]
  },
  {
   "cell_type": "code",
   "execution_count": 26,
   "metadata": {
    "collapsed": true
   },
   "outputs": [],
   "source": [
    "dog_count_df = pd.DataFrame(dog_count_mat.toarray(), \n",
    "                            columns=dog_count_vec.get_feature_names(),\n",
    "                            index=breed_text_df.breed)"
   ]
  },
  {
   "cell_type": "code",
   "execution_count": 27,
   "metadata": {},
   "outputs": [
    {
     "data": {
      "text/html": [
       "<div>\n",
       "<style>\n",
       "    .dataframe thead tr:only-child th {\n",
       "        text-align: right;\n",
       "    }\n",
       "\n",
       "    .dataframe thead th {\n",
       "        text-align: left;\n",
       "    }\n",
       "\n",
       "    .dataframe tbody tr th {\n",
       "        vertical-align: top;\n",
       "    }\n",
       "</style>\n",
       "<table border=\"1\" class=\"dataframe\">\n",
       "  <thead>\n",
       "    <tr style=\"text-align: right;\">\n",
       "      <th></th>\n",
       "      <th>abandoned</th>\n",
       "      <th>abby</th>\n",
       "      <th>abdomen</th>\n",
       "      <th>abdomen drooling</th>\n",
       "      <th>abdomen salivating</th>\n",
       "      <th>abdominal</th>\n",
       "      <th>abilities</th>\n",
       "      <th>ability</th>\n",
       "      <th>ability learn</th>\n",
       "      <th>able</th>\n",
       "      <th>...</th>\n",
       "      <th>young dog</th>\n",
       "      <th>young dogs</th>\n",
       "      <th>young kids</th>\n",
       "      <th>young puppies</th>\n",
       "      <th>young puppy</th>\n",
       "      <th>young socialization</th>\n",
       "      <th>younger</th>\n",
       "      <th>younger years</th>\n",
       "      <th>zealand</th>\n",
       "      <th>zealand kennel</th>\n",
       "    </tr>\n",
       "    <tr>\n",
       "      <th>breed</th>\n",
       "      <th></th>\n",
       "      <th></th>\n",
       "      <th></th>\n",
       "      <th></th>\n",
       "      <th></th>\n",
       "      <th></th>\n",
       "      <th></th>\n",
       "      <th></th>\n",
       "      <th></th>\n",
       "      <th></th>\n",
       "      <th></th>\n",
       "      <th></th>\n",
       "      <th></th>\n",
       "      <th></th>\n",
       "      <th></th>\n",
       "      <th></th>\n",
       "      <th></th>\n",
       "      <th></th>\n",
       "      <th></th>\n",
       "      <th></th>\n",
       "      <th></th>\n",
       "    </tr>\n",
       "  </thead>\n",
       "  <tbody>\n",
       "    <tr>\n",
       "      <th>n02113023-Pembroke</th>\n",
       "      <td>0</td>\n",
       "      <td>0</td>\n",
       "      <td>0</td>\n",
       "      <td>0</td>\n",
       "      <td>0</td>\n",
       "      <td>1</td>\n",
       "      <td>0</td>\n",
       "      <td>0</td>\n",
       "      <td>0</td>\n",
       "      <td>1</td>\n",
       "      <td>...</td>\n",
       "      <td>1</td>\n",
       "      <td>1</td>\n",
       "      <td>0</td>\n",
       "      <td>1</td>\n",
       "      <td>0</td>\n",
       "      <td>0</td>\n",
       "      <td>1</td>\n",
       "      <td>0</td>\n",
       "      <td>1</td>\n",
       "      <td>1</td>\n",
       "    </tr>\n",
       "    <tr>\n",
       "      <th>n02113186-Cardigan</th>\n",
       "      <td>0</td>\n",
       "      <td>0</td>\n",
       "      <td>0</td>\n",
       "      <td>0</td>\n",
       "      <td>0</td>\n",
       "      <td>0</td>\n",
       "      <td>0</td>\n",
       "      <td>1</td>\n",
       "      <td>0</td>\n",
       "      <td>1</td>\n",
       "      <td>...</td>\n",
       "      <td>0</td>\n",
       "      <td>0</td>\n",
       "      <td>0</td>\n",
       "      <td>0</td>\n",
       "      <td>0</td>\n",
       "      <td>1</td>\n",
       "      <td>1</td>\n",
       "      <td>1</td>\n",
       "      <td>1</td>\n",
       "      <td>1</td>\n",
       "    </tr>\n",
       "    <tr>\n",
       "      <th>n02113799-standard_poodle</th>\n",
       "      <td>1</td>\n",
       "      <td>0</td>\n",
       "      <td>0</td>\n",
       "      <td>0</td>\n",
       "      <td>0</td>\n",
       "      <td>0</td>\n",
       "      <td>0</td>\n",
       "      <td>0</td>\n",
       "      <td>0</td>\n",
       "      <td>3</td>\n",
       "      <td>...</td>\n",
       "      <td>0</td>\n",
       "      <td>0</td>\n",
       "      <td>0</td>\n",
       "      <td>0</td>\n",
       "      <td>0</td>\n",
       "      <td>1</td>\n",
       "      <td>2</td>\n",
       "      <td>2</td>\n",
       "      <td>1</td>\n",
       "      <td>1</td>\n",
       "    </tr>\n",
       "    <tr>\n",
       "      <th>n02113978-Mexican_hairless</th>\n",
       "      <td>0</td>\n",
       "      <td>0</td>\n",
       "      <td>0</td>\n",
       "      <td>0</td>\n",
       "      <td>0</td>\n",
       "      <td>0</td>\n",
       "      <td>0</td>\n",
       "      <td>0</td>\n",
       "      <td>0</td>\n",
       "      <td>5</td>\n",
       "      <td>...</td>\n",
       "      <td>0</td>\n",
       "      <td>0</td>\n",
       "      <td>0</td>\n",
       "      <td>0</td>\n",
       "      <td>0</td>\n",
       "      <td>1</td>\n",
       "      <td>1</td>\n",
       "      <td>1</td>\n",
       "      <td>1</td>\n",
       "      <td>1</td>\n",
       "    </tr>\n",
       "    <tr>\n",
       "      <th>not_dog</th>\n",
       "      <td>0</td>\n",
       "      <td>0</td>\n",
       "      <td>0</td>\n",
       "      <td>0</td>\n",
       "      <td>0</td>\n",
       "      <td>0</td>\n",
       "      <td>0</td>\n",
       "      <td>0</td>\n",
       "      <td>0</td>\n",
       "      <td>0</td>\n",
       "      <td>...</td>\n",
       "      <td>0</td>\n",
       "      <td>0</td>\n",
       "      <td>0</td>\n",
       "      <td>0</td>\n",
       "      <td>0</td>\n",
       "      <td>0</td>\n",
       "      <td>0</td>\n",
       "      <td>0</td>\n",
       "      <td>0</td>\n",
       "      <td>0</td>\n",
       "    </tr>\n",
       "  </tbody>\n",
       "</table>\n",
       "<p>5 rows × 10000 columns</p>\n",
       "</div>"
      ],
      "text/plain": [
       "                            abandoned  abby  abdomen  abdomen drooling  \\\n",
       "breed                                                                    \n",
       "n02113023-Pembroke                  0     0        0                 0   \n",
       "n02113186-Cardigan                  0     0        0                 0   \n",
       "n02113799-standard_poodle           1     0        0                 0   \n",
       "n02113978-Mexican_hairless          0     0        0                 0   \n",
       "not_dog                             0     0        0                 0   \n",
       "\n",
       "                            abdomen salivating  abdominal  abilities  ability  \\\n",
       "breed                                                                           \n",
       "n02113023-Pembroke                           0          1          0        0   \n",
       "n02113186-Cardigan                           0          0          0        1   \n",
       "n02113799-standard_poodle                    0          0          0        0   \n",
       "n02113978-Mexican_hairless                   0          0          0        0   \n",
       "not_dog                                      0          0          0        0   \n",
       "\n",
       "                            ability learn  able       ...        young dog  \\\n",
       "breed                                                 ...                    \n",
       "n02113023-Pembroke                      0     1       ...                1   \n",
       "n02113186-Cardigan                      0     1       ...                0   \n",
       "n02113799-standard_poodle               0     3       ...                0   \n",
       "n02113978-Mexican_hairless              0     5       ...                0   \n",
       "not_dog                                 0     0       ...                0   \n",
       "\n",
       "                            young dogs  young kids  young puppies  \\\n",
       "breed                                                               \n",
       "n02113023-Pembroke                   1           0              1   \n",
       "n02113186-Cardigan                   0           0              0   \n",
       "n02113799-standard_poodle            0           0              0   \n",
       "n02113978-Mexican_hairless           0           0              0   \n",
       "not_dog                              0           0              0   \n",
       "\n",
       "                            young puppy  young socialization  younger  \\\n",
       "breed                                                                   \n",
       "n02113023-Pembroke                    0                    0        1   \n",
       "n02113186-Cardigan                    0                    1        1   \n",
       "n02113799-standard_poodle             0                    1        2   \n",
       "n02113978-Mexican_hairless            0                    1        1   \n",
       "not_dog                               0                    0        0   \n",
       "\n",
       "                            younger years  zealand  zealand kennel  \n",
       "breed                                                               \n",
       "n02113023-Pembroke                      0        1               1  \n",
       "n02113186-Cardigan                      1        1               1  \n",
       "n02113799-standard_poodle               2        1               1  \n",
       "n02113978-Mexican_hairless              1        1               1  \n",
       "not_dog                                 0        0               0  \n",
       "\n",
       "[5 rows x 10000 columns]"
      ]
     },
     "execution_count": 27,
     "metadata": {},
     "output_type": "execute_result"
    }
   ],
   "source": [
    "dog_count_df.tail()"
   ]
  },
  {
   "cell_type": "code",
   "execution_count": 28,
   "metadata": {
    "collapsed": true
   },
   "outputs": [],
   "source": [
    "new_dog_vec = CountVectorizer(vocabulary=dog_count_vec.vocabulary_, ngram_range = (1,2))"
   ]
  },
  {
   "cell_type": "code",
   "execution_count": 29,
   "metadata": {
    "collapsed": true
   },
   "outputs": [],
   "source": [
    "new_doc = [\"A hyper devil watchdog out to tear up your house, destroy your yard, and kill your children.\"]"
   ]
  },
  {
   "cell_type": "code",
   "execution_count": 30,
   "metadata": {
    "collapsed": true
   },
   "outputs": [],
   "source": [
    "new_doc_mat = new_dog_vec.fit_transform(new_doc)"
   ]
  },
  {
   "cell_type": "code",
   "execution_count": 31,
   "metadata": {},
   "outputs": [
    {
     "data": {
      "text/plain": [
       "7"
      ]
     },
     "execution_count": 31,
     "metadata": {},
     "output_type": "execute_result"
    }
   ],
   "source": [
    "new_doc_mat.todense().sum()"
   ]
  },
  {
   "cell_type": "code",
   "execution_count": 32,
   "metadata": {},
   "outputs": [
    {
     "data": {
      "text/plain": [
       "[(0.077640141507641897, 'n02102480-Sussex_spaniel'),\n",
       " (0.065087112308079204, 'n02096051-Airedale'),\n",
       " (0.064876344691627785, 'n02102040-English_springer'),\n",
       " (0.058062552548334874, 'n02104365-schipperke'),\n",
       " (0.057948325921512549, 'n02112350-keeshond'),\n",
       " (0.057416925176321451, 'n02105251-briard'),\n",
       " (0.056089367462094371, 'n02097474-Tibetan_terrier'),\n",
       " (0.054412956179094321, 'n02108089-boxer'),\n",
       " (0.054288084055391386, 'n02113186-Cardigan'),\n",
       " (0.049983757917586413, 'n02086646-Blenheim_spaniel')]"
      ]
     },
     "execution_count": 32,
     "metadata": {},
     "output_type": "execute_result"
    }
   ],
   "source": [
    "sorted(list(zip(cosine_similarity(new_doc_mat, dog_count_mat)[0], breed_text_df.breed)), reverse=True)[:10]"
   ]
  },
  {
   "cell_type": "markdown",
   "metadata": {},
   "source": [
    "Count vectorizer seems to work OK."
   ]
  },
  {
   "cell_type": "code",
   "execution_count": 33,
   "metadata": {
    "collapsed": true
   },
   "outputs": [],
   "source": [
    "dog_count_tfidf = TfidfVectorizer(stop_words=stop_words, \n",
    "                                  ngram_range=(1,2), max_df=0.95, min_df=4,\n",
    "                                 max_features=10000)"
   ]
  },
  {
   "cell_type": "code",
   "execution_count": 34,
   "metadata": {
    "collapsed": true
   },
   "outputs": [],
   "source": [
    "dog_tfidf_mat = dog_count_tfidf.fit_transform(breed_text_df.text)"
   ]
  },
  {
   "cell_type": "code",
   "execution_count": 35,
   "metadata": {
    "collapsed": true
   },
   "outputs": [],
   "source": [
    "dog_tfidf_df = pd.DataFrame(dog_tfidf_mat.toarray(), \n",
    "                            columns=dog_count_vec.get_feature_names(),\n",
    "                            index=breed_text_df.breed)"
   ]
  },
  {
   "cell_type": "code",
   "execution_count": 36,
   "metadata": {},
   "outputs": [
    {
     "data": {
      "text/html": [
       "<div>\n",
       "<style>\n",
       "    .dataframe thead tr:only-child th {\n",
       "        text-align: right;\n",
       "    }\n",
       "\n",
       "    .dataframe thead th {\n",
       "        text-align: left;\n",
       "    }\n",
       "\n",
       "    .dataframe tbody tr th {\n",
       "        vertical-align: top;\n",
       "    }\n",
       "</style>\n",
       "<table border=\"1\" class=\"dataframe\">\n",
       "  <thead>\n",
       "    <tr style=\"text-align: right;\">\n",
       "      <th></th>\n",
       "      <th>abandoned</th>\n",
       "      <th>abby</th>\n",
       "      <th>abdomen</th>\n",
       "      <th>abdomen drooling</th>\n",
       "      <th>abdomen salivating</th>\n",
       "      <th>abdominal</th>\n",
       "      <th>abilities</th>\n",
       "      <th>ability</th>\n",
       "      <th>ability learn</th>\n",
       "      <th>able</th>\n",
       "      <th>...</th>\n",
       "      <th>young dog</th>\n",
       "      <th>young dogs</th>\n",
       "      <th>young kids</th>\n",
       "      <th>young puppies</th>\n",
       "      <th>young puppy</th>\n",
       "      <th>young socialization</th>\n",
       "      <th>younger</th>\n",
       "      <th>younger years</th>\n",
       "      <th>zealand</th>\n",
       "      <th>zealand kennel</th>\n",
       "    </tr>\n",
       "    <tr>\n",
       "      <th>breed</th>\n",
       "      <th></th>\n",
       "      <th></th>\n",
       "      <th></th>\n",
       "      <th></th>\n",
       "      <th></th>\n",
       "      <th></th>\n",
       "      <th></th>\n",
       "      <th></th>\n",
       "      <th></th>\n",
       "      <th></th>\n",
       "      <th></th>\n",
       "      <th></th>\n",
       "      <th></th>\n",
       "      <th></th>\n",
       "      <th></th>\n",
       "      <th></th>\n",
       "      <th></th>\n",
       "      <th></th>\n",
       "      <th></th>\n",
       "      <th></th>\n",
       "      <th></th>\n",
       "    </tr>\n",
       "  </thead>\n",
       "  <tbody>\n",
       "    <tr>\n",
       "      <th>n02085620-Chihuahua</th>\n",
       "      <td>0.0</td>\n",
       "      <td>0.0</td>\n",
       "      <td>0.023671</td>\n",
       "      <td>0.000000</td>\n",
       "      <td>0.000000</td>\n",
       "      <td>0.0</td>\n",
       "      <td>0.026593</td>\n",
       "      <td>0.022542</td>\n",
       "      <td>0.0</td>\n",
       "      <td>0.0</td>\n",
       "      <td>...</td>\n",
       "      <td>0.0</td>\n",
       "      <td>0.0</td>\n",
       "      <td>0.000000</td>\n",
       "      <td>0.0</td>\n",
       "      <td>0.0</td>\n",
       "      <td>0.010298</td>\n",
       "      <td>0.00000</td>\n",
       "      <td>0.0</td>\n",
       "      <td>0.007890</td>\n",
       "      <td>0.007959</td>\n",
       "    </tr>\n",
       "    <tr>\n",
       "      <th>n02085782-Japanese_spaniel</th>\n",
       "      <td>0.0</td>\n",
       "      <td>0.0</td>\n",
       "      <td>0.015080</td>\n",
       "      <td>0.000000</td>\n",
       "      <td>0.000000</td>\n",
       "      <td>0.0</td>\n",
       "      <td>0.000000</td>\n",
       "      <td>0.000000</td>\n",
       "      <td>0.0</td>\n",
       "      <td>0.0</td>\n",
       "      <td>...</td>\n",
       "      <td>0.0</td>\n",
       "      <td>0.0</td>\n",
       "      <td>0.000000</td>\n",
       "      <td>0.0</td>\n",
       "      <td>0.0</td>\n",
       "      <td>0.000000</td>\n",
       "      <td>0.00000</td>\n",
       "      <td>0.0</td>\n",
       "      <td>0.007540</td>\n",
       "      <td>0.007606</td>\n",
       "    </tr>\n",
       "    <tr>\n",
       "      <th>n02085936-Maltese_dog</th>\n",
       "      <td>0.0</td>\n",
       "      <td>0.0</td>\n",
       "      <td>0.010259</td>\n",
       "      <td>0.012746</td>\n",
       "      <td>0.009715</td>\n",
       "      <td>0.0</td>\n",
       "      <td>0.000000</td>\n",
       "      <td>0.000000</td>\n",
       "      <td>0.0</td>\n",
       "      <td>0.0</td>\n",
       "      <td>...</td>\n",
       "      <td>0.0</td>\n",
       "      <td>0.0</td>\n",
       "      <td>0.015789</td>\n",
       "      <td>0.0</td>\n",
       "      <td>0.0</td>\n",
       "      <td>0.006695</td>\n",
       "      <td>0.00000</td>\n",
       "      <td>0.0</td>\n",
       "      <td>0.005129</td>\n",
       "      <td>0.005174</td>\n",
       "    </tr>\n",
       "    <tr>\n",
       "      <th>n02086079-Pekinese</th>\n",
       "      <td>0.0</td>\n",
       "      <td>0.0</td>\n",
       "      <td>0.016320</td>\n",
       "      <td>0.000000</td>\n",
       "      <td>0.000000</td>\n",
       "      <td>0.0</td>\n",
       "      <td>0.000000</td>\n",
       "      <td>0.000000</td>\n",
       "      <td>0.0</td>\n",
       "      <td>0.0</td>\n",
       "      <td>...</td>\n",
       "      <td>0.0</td>\n",
       "      <td>0.0</td>\n",
       "      <td>0.000000</td>\n",
       "      <td>0.0</td>\n",
       "      <td>0.0</td>\n",
       "      <td>0.007100</td>\n",
       "      <td>0.00000</td>\n",
       "      <td>0.0</td>\n",
       "      <td>0.005440</td>\n",
       "      <td>0.005487</td>\n",
       "    </tr>\n",
       "    <tr>\n",
       "      <th>n02086240-Shih-Tzu</th>\n",
       "      <td>0.0</td>\n",
       "      <td>0.0</td>\n",
       "      <td>0.000000</td>\n",
       "      <td>0.000000</td>\n",
       "      <td>0.000000</td>\n",
       "      <td>0.0</td>\n",
       "      <td>0.000000</td>\n",
       "      <td>0.000000</td>\n",
       "      <td>0.0</td>\n",
       "      <td>0.0</td>\n",
       "      <td>...</td>\n",
       "      <td>0.0</td>\n",
       "      <td>0.0</td>\n",
       "      <td>0.000000</td>\n",
       "      <td>0.0</td>\n",
       "      <td>0.0</td>\n",
       "      <td>0.000000</td>\n",
       "      <td>0.01706</td>\n",
       "      <td>0.0</td>\n",
       "      <td>0.000000</td>\n",
       "      <td>0.000000</td>\n",
       "    </tr>\n",
       "  </tbody>\n",
       "</table>\n",
       "<p>5 rows × 10000 columns</p>\n",
       "</div>"
      ],
      "text/plain": [
       "                            abandoned  abby   abdomen  abdomen drooling  \\\n",
       "breed                                                                     \n",
       "n02085620-Chihuahua               0.0   0.0  0.023671          0.000000   \n",
       "n02085782-Japanese_spaniel        0.0   0.0  0.015080          0.000000   \n",
       "n02085936-Maltese_dog             0.0   0.0  0.010259          0.012746   \n",
       "n02086079-Pekinese                0.0   0.0  0.016320          0.000000   \n",
       "n02086240-Shih-Tzu                0.0   0.0  0.000000          0.000000   \n",
       "\n",
       "                            abdomen salivating  abdominal  abilities  \\\n",
       "breed                                                                  \n",
       "n02085620-Chihuahua                   0.000000        0.0   0.026593   \n",
       "n02085782-Japanese_spaniel            0.000000        0.0   0.000000   \n",
       "n02085936-Maltese_dog                 0.009715        0.0   0.000000   \n",
       "n02086079-Pekinese                    0.000000        0.0   0.000000   \n",
       "n02086240-Shih-Tzu                    0.000000        0.0   0.000000   \n",
       "\n",
       "                             ability  ability learn  able       ...        \\\n",
       "breed                                                           ...         \n",
       "n02085620-Chihuahua         0.022542            0.0   0.0       ...         \n",
       "n02085782-Japanese_spaniel  0.000000            0.0   0.0       ...         \n",
       "n02085936-Maltese_dog       0.000000            0.0   0.0       ...         \n",
       "n02086079-Pekinese          0.000000            0.0   0.0       ...         \n",
       "n02086240-Shih-Tzu          0.000000            0.0   0.0       ...         \n",
       "\n",
       "                            young dog  young dogs  young kids  young puppies  \\\n",
       "breed                                                                          \n",
       "n02085620-Chihuahua               0.0         0.0    0.000000            0.0   \n",
       "n02085782-Japanese_spaniel        0.0         0.0    0.000000            0.0   \n",
       "n02085936-Maltese_dog             0.0         0.0    0.015789            0.0   \n",
       "n02086079-Pekinese                0.0         0.0    0.000000            0.0   \n",
       "n02086240-Shih-Tzu                0.0         0.0    0.000000            0.0   \n",
       "\n",
       "                            young puppy  young socialization  younger  \\\n",
       "breed                                                                   \n",
       "n02085620-Chihuahua                 0.0             0.010298  0.00000   \n",
       "n02085782-Japanese_spaniel          0.0             0.000000  0.00000   \n",
       "n02085936-Maltese_dog               0.0             0.006695  0.00000   \n",
       "n02086079-Pekinese                  0.0             0.007100  0.00000   \n",
       "n02086240-Shih-Tzu                  0.0             0.000000  0.01706   \n",
       "\n",
       "                            younger years   zealand  zealand kennel  \n",
       "breed                                                                \n",
       "n02085620-Chihuahua                   0.0  0.007890        0.007959  \n",
       "n02085782-Japanese_spaniel            0.0  0.007540        0.007606  \n",
       "n02085936-Maltese_dog                 0.0  0.005129        0.005174  \n",
       "n02086079-Pekinese                    0.0  0.005440        0.005487  \n",
       "n02086240-Shih-Tzu                    0.0  0.000000        0.000000  \n",
       "\n",
       "[5 rows x 10000 columns]"
      ]
     },
     "execution_count": 36,
     "metadata": {},
     "output_type": "execute_result"
    }
   ],
   "source": [
    "dog_tfidf_df.head()"
   ]
  },
  {
   "cell_type": "code",
   "execution_count": 37,
   "metadata": {
    "collapsed": true
   },
   "outputs": [],
   "source": [
    "new_dog_tfidf = TfidfVectorizer(vocabulary=dog_count_tfidf.vocabulary_, ngram_range = (1,2))"
   ]
  },
  {
   "cell_type": "code",
   "execution_count": 38,
   "metadata": {
    "collapsed": true
   },
   "outputs": [],
   "source": [
    "new_doc_tfidf_mat = new_dog_tfidf.fit_transform(new_doc)"
   ]
  },
  {
   "cell_type": "code",
   "execution_count": 39,
   "metadata": {},
   "outputs": [
    {
     "data": {
      "text/plain": [
       "{'canines': 1560,\n",
       " 'originally': 6646,\n",
       " 'created': 2342,\n",
       " 'ratters': 7462,\n",
       " 'homes': 4783,\n",
       " 'stables': 8594,\n",
       " 'moved': 6238,\n",
       " 'world': 9916,\n",
       " 'ladies': 5397,\n",
       " 'companions': 2117,\n",
       " 'happy': 4524,\n",
       " 'mischievous': 6153,\n",
       " 'adapts': 543,\n",
       " 'indoor': 5065,\n",
       " 'indoors': 5068,\n",
       " 'novice': 6482,\n",
       " 'owners': 6709,\n",
       " 'new': 6393,\n",
       " 'owner': 6704,\n",
       " 'easygoing': 3367,\n",
       " 'adaptable': 537,\n",
       " 'hates': 4556,\n",
       " 'bad': 939,\n",
       " 'kids': 5340,\n",
       " 'intolerant': 5209,\n",
       " 'tiny': 9150,\n",
       " 'maintenance': 5908,\n",
       " 'unhealthy': 9460,\n",
       " 'shedding': 8144,\n",
       " 'drool': 3218,\n",
       " 'general': 4236,\n",
       " 'lived': 5706,\n",
       " 'lap': 5413,\n",
       " 'independent': 5040,\n",
       " 'difficult': 2682,\n",
       " 'disobedient': 2758,\n",
       " 'intelligence': 5156,\n",
       " 'clever': 1878,\n",
       " 'agile': 628,\n",
       " 'mouthiness': 6233,\n",
       " 'chew': 1784,\n",
       " 'nip': 6412,\n",
       " 'quiet': 7400,\n",
       " 'neighbors': 6379,\n",
       " 'homebody': 4778,\n",
       " 'energy': 3454,\n",
       " 'energetic': 3448,\n",
       " 'hyper': 4896,\n",
       " 'playfulness': 6983,\n",
       " 'monkey': 6198,\n",
       " 'means': 6020,\n",
       " 'feisty': 3905,\n",
       " 'little': 5691,\n",
       " 'devil': 2640,\n",
       " 'descended': 2579,\n",
       " 'numerous': 6493,\n",
       " 'terriers': 9028,\n",
       " '17th': 104,\n",
       " '18th': 149,\n",
       " 'century': 1687,\n",
       " 'europe': 3563,\n",
       " 'rats': 7459,\n",
       " 'mice': 6100,\n",
       " 'wiry': 9863,\n",
       " 'haired': 4485,\n",
       " 'caught': 1636,\n",
       " 'eye': 3734,\n",
       " 'eventually': 3578,\n",
       " 'smaller': 8391,\n",
       " 'better': 1090,\n",
       " 'rare': 7443,\n",
       " 'came': 1541,\n",
       " 'public': 7315,\n",
       " 'notice': 6471,\n",
       " '2002': 252,\n",
       " 'ch': 1712,\n",
       " 'super': 8815,\n",
       " 'nova': 6479,\n",
       " 'won': 9876,\n",
       " 'westminster': 9805,\n",
       " 'charm': 1741,\n",
       " 'bold': 1209,\n",
       " 'nature': 6312,\n",
       " 'creative': 2346,\n",
       " 'thought': 9089,\n",
       " 'process': 7208,\n",
       " 'entertain': 3495,\n",
       " 'learns': 5500,\n",
       " 'quickly': 7399,\n",
       " 'readily': 7477,\n",
       " 'change': 1727,\n",
       " 'ready': 7479,\n",
       " 'adventure': 583,\n",
       " 'live': 5696,\n",
       " 'sensitivity': 8050,\n",
       " 'gentleness': 4265,\n",
       " 'warn': 9709,\n",
       " 'big': 1100,\n",
       " 'body': 1203,\n",
       " 'sturdy': 8762,\n",
       " 'smart': 8398,\n",
       " 'alert': 678,\n",
       " 'excellent': 3598,\n",
       " 'watchdog': 9721,\n",
       " 'normally': 6442,\n",
       " 'loud': 5827,\n",
       " 'excitable': 3623,\n",
       " 'takes': 8925,\n",
       " 'calm': 1530,\n",
       " 'seriously': 8063,\n",
       " 'duty': 3260,\n",
       " 'guard': 4432,\n",
       " 'territory': 9043,\n",
       " 'hesitate': 4705,\n",
       " 'entire': 3504,\n",
       " 'neighborhood': 6378,\n",
       " 'approaching': 810,\n",
       " 'door': 3189,\n",
       " 'frequent': 4145,\n",
       " 'socialization': 8436,\n",
       " 'grow': 4413,\n",
       " 'balanced': 950,\n",
       " 'mind': 6129,\n",
       " 'labeled': 5391,\n",
       " 'stubborn': 8748,\n",
       " 'consistent': 2217,\n",
       " 'fortunately': 4113,\n",
       " 'eager': 3286,\n",
       " 'learn': 5493,\n",
       " 'taught': 8961,\n",
       " 'positive': 7060,\n",
       " 'reinforcement': 7611,\n",
       " 'techniques': 8979,\n",
       " 'praise': 7112,\n",
       " 'food': 4067,\n",
       " 'rewards': 7782,\n",
       " 'compete': 2127,\n",
       " 'obedience': 6499,\n",
       " 'agility': 633,\n",
       " 'entertainment': 3498,\n",
       " 'ability': 448,\n",
       " 'wonderful': 9881,\n",
       " 'therapy': 9063,\n",
       " 'wouldn': 9928,\n",
       " 'laugh': 5452,\n",
       " 'walking': 9681,\n",
       " 'hind': 4741,\n",
       " 'eyebrows': 3754,\n",
       " 'making': 5936,\n",
       " 'household': 4827,\n",
       " 'spite': 8553,\n",
       " 'antics': 766,\n",
       " 'aren': 827,\n",
       " 'particularly': 6780,\n",
       " 'bite': 1120,\n",
       " 'provoked': 7314,\n",
       " 'character': 1733,\n",
       " 'appeal': 787,\n",
       " 'consider': 2204,\n",
       " 'interested': 5191,\n",
       " 'enjoys': 3482,\n",
       " 'seeing': 8000,\n",
       " 'sights': 8237,\n",
       " 'housetrain': 4832,\n",
       " 'crate': 2331,\n",
       " 'fur': 4186,\n",
       " 'considered': 2209,\n",
       " 'hypoallergenic': 4903,\n",
       " 'mistaken': 6159,\n",
       " 'non': 6429,\n",
       " 'shed': 8135,\n",
       " 'produce': 7209,\n",
       " 'dander': 2442,\n",
       " 'heritage': 4703,\n",
       " 'tend': 9010,\n",
       " 'rodent': 7820,\n",
       " 'pets': 6908,\n",
       " 'hamsters': 4491,\n",
       " 'gerbils': 4268,\n",
       " 'fellow': 3908,\n",
       " 'cats': 1624,\n",
       " 'especially': 3541,\n",
       " 'raised': 7418,\n",
       " 'households': 4830,\n",
       " 'toddlers': 9167,\n",
       " 'naturally': 6309,\n",
       " 'inclined': 5002,\n",
       " 'loyal': 5868,\n",
       " 'members': 6071,\n",
       " 'older': 6598,\n",
       " 'prepared': 7128,\n",
       " 'spend': 8536,\n",
       " 'waiting': 9668,\n",
       " 'list': 5675,\n",
       " 'acquiring': 506,\n",
       " 'buy': 1511,\n",
       " 'irresponsible': 5234,\n",
       " 'store': 8685,\n",
       " 'look': 5789,\n",
       " 'reputable': 7676,\n",
       " 'tests': 9055,\n",
       " 'sure': 8830,\n",
       " 'free': 4139,\n",
       " 'genetic': 4246,\n",
       " 'diseases': 2745,\n",
       " 'pass': 6790,\n",
       " 'sound': 8488,\n",
       " 'temperaments': 8996,\n",
       " 'forebears': 4093,\n",
       " 'date': 2457,\n",
       " 'reliable': 7635,\n",
       " 'documentation': 2820,\n",
       " 'late': 5444,\n",
       " '19th': 235,\n",
       " 'paintings': 6744,\n",
       " 'dutch': 3258,\n",
       " 'artists': 849,\n",
       " 'far': 3839,\n",
       " '15th': 85,\n",
       " 'depict': 2566,\n",
       " 'rough': 7843,\n",
       " 'coated': 2009,\n",
       " 'bearded': 1005,\n",
       " 'certainly': 1698,\n",
       " 'ancestors': 735,\n",
       " 'originating': 6657,\n",
       " 'germany': 4269,\n",
       " 'heavily': 4637,\n",
       " 'central': 1684,\n",
       " 'rat': 7451,\n",
       " 'catching': 1621,\n",
       " 'abilities': 447,\n",
       " 'type': 9400,\n",
       " 'welcome': 9800,\n",
       " 'farms': 3846,\n",
       " 'sources': 8496,\n",
       " 'credit': 2348,\n",
       " 'story': 8692,\n",
       " 'lost': 5816,\n",
       " 'history': 4759,\n",
       " 'crossed': 2364,\n",
       " 'pugs': 7317,\n",
       " 'pinschers': 6951,\n",
       " 'contributed': 2246,\n",
       " 'development': 2634,\n",
       " 'including': 5018,\n",
       " 'brussels': 1481,\n",
       " 'relationship': 7616,\n",
       " 'coats': 2014,\n",
       " 'faces': 3783,\n",
       " 'city': 1839,\n",
       " 'heart': 4613,\n",
       " 'popular': 7040,\n",
       " 'lapdog': 5415,\n",
       " 'began': 1018,\n",
       " '1902': 159,\n",
       " 'true': 9361,\n",
       " '1913': 170,\n",
       " 'translated': 9292,\n",
       " 'adopted': 565,\n",
       " 'officially': 6581,\n",
       " 'entered': 3494,\n",
       " 'stud': 8754,\n",
       " 'book': 1225,\n",
       " '1936': 192,\n",
       " 'registered': 7580,\n",
       " 'named': 6283,\n",
       " 'imports': 4954,\n",
       " 'belonging': 1063,\n",
       " 'war': 9701,\n",
       " 'ii': 4925,\n",
       " 'states': 8632,\n",
       " 'wasn': 9717,\n",
       " '1950s': 203,\n",
       " 'gained': 4207,\n",
       " 'bit': 1117,\n",
       " 'ranks': 7435,\n",
       " 'varieties': 9560,\n",
       " 'recognized': 7511,\n",
       " '11': 23,\n",
       " 'tall': 8934,\n",
       " 'weigh': 9781,\n",
       " 'curious': 2386,\n",
       " 'protect': 7281,\n",
       " 'harm': 4544,\n",
       " 'important': 4945,\n",
       " 'prevent': 7145,\n",
       " 'taking': 8927,\n",
       " 'times': 9143,\n",
       " 'face': 3779,\n",
       " 'threat': 9096,\n",
       " 'exposure': 3704,\n",
       " 'different': 2674,\n",
       " 'sounds': 8492,\n",
       " 'experiences': 3694,\n",
       " 'helps': 4666,\n",
       " 'ensure': 3487,\n",
       " 'grows': 4421,\n",
       " 'rounded': 7851,\n",
       " 'outgoing': 6674,\n",
       " 'stays': 8644,\n",
       " 'way': 9738,\n",
       " 'enrolling': 3485,\n",
       " 'kindergarten': 5356,\n",
       " 'class': 1845,\n",
       " 'start': 8621,\n",
       " 'inviting': 5221,\n",
       " 'visitors': 9639,\n",
       " 'regularly': 7605,\n",
       " 'busy': 1505,\n",
       " 'parks': 6768,\n",
       " 'stores': 8689,\n",
       " 'allow': 695,\n",
       " 'leisurely': 5550,\n",
       " 'strolls': 8731,\n",
       " 'meet': 6056,\n",
       " 'help': 4655,\n",
       " 'polish': 7026,\n",
       " 'social': 8433,\n",
       " 'skills': 8305,\n",
       " 'certain': 1694,\n",
       " 'aware': 920,\n",
       " 'considering': 2212,\n",
       " 'patellar': 6808,\n",
       " 'luxation': 5884,\n",
       " 'slipped': 8356,\n",
       " 'stifles': 8663,\n",
       " 'common': 2094,\n",
       " 'problem': 7184,\n",
       " 'caused': 1648,\n",
       " 'patella': 6803,\n",
       " 'parts': 6783,\n",
       " 'femur': 3928,\n",
       " 'thigh': 9070,\n",
       " 'bone': 1214,\n",
       " 'knee': 5372,\n",
       " 'cap': 1563,\n",
       " 'tibia': 9120,\n",
       " 'calf': 1523,\n",
       " 'properly': 7266,\n",
       " 'lined': 5661,\n",
       " 'causes': 1656,\n",
       " 'lameness': 5403,\n",
       " 'leg': 5526,\n",
       " 'abnormal': 454,\n",
       " 'gait': 4211,\n",
       " 'sort': 8484,\n",
       " 'skip': 8317,\n",
       " 'hop': 4791,\n",
       " 'condition': 2149,\n",
       " 'present': 7131,\n",
       " 'birth': 1114,\n",
       " 'actual': 526,\n",
       " 'misalignment': 6149,\n",
       " 'occur': 6552,\n",
       " 'later': 5448,\n",
       " 'rubbing': 7863,\n",
       " 'lead': 5468,\n",
       " 'arthritis': 840,\n",
       " 'degenerative': 2525,\n",
       " 'joint': 5284,\n",
       " 'disease': 2730,\n",
       " 'grades': 4348,\n",
       " 'ranging': 7430,\n",
       " 'grade': 4345,\n",
       " 'occasional': 6543,\n",
       " 'causing': 1665,\n",
       " 'temporary': 9006,\n",
       " 'iv': 5255,\n",
       " 'turning': 9385,\n",
       " 'severe': 8093,\n",
       " 'realigned': 7481,\n",
       " 'manually': 5973,\n",
       " 'gives': 4282,\n",
       " 'bowlegged': 1247,\n",
       " 'appearance': 791,\n",
       " 'require': 7680,\n",
       " 'surgical': 8844,\n",
       " 'repair': 7659,\n",
       " 'legg': 5533,\n",
       " 'perthes': 6899,\n",
       " 'deformity': 2522,\n",
       " 'ball': 954,\n",
       " 'hip': 4745,\n",
       " 'appears': 796,\n",
       " 'months': 6206,\n",
       " 'confused': 2195,\n",
       " 'dysplasia': 3268,\n",
       " 'wearing': 9755,\n",
       " 'surgically': 8847,\n",
       " 'prognosis': 7225,\n",
       " 'afterward': 608,\n",
       " 'heritable': 4701,\n",
       " 'thighbone': 9072,\n",
       " 'doesn': 2834,\n",
       " 'fit': 4004,\n",
       " 'snugly': 8429,\n",
       " 'pain': 6734,\n",
       " 'rear': 7487,\n",
       " 'signs': 8243,\n",
       " 'discomfort': 2722,\n",
       " 'ages': 618,\n",
       " 'develop': 2622,\n",
       " 'ray': 7464,\n",
       " 'screening': 7970,\n",
       " 'orthopedic': 6659,\n",
       " 'foundation': 4120,\n",
       " 'university': 9470,\n",
       " 'pennsylvania': 6842,\n",
       " 'improvement': 4965,\n",
       " 'program': 7227,\n",
       " 'pennhip': 6840,\n",
       " 'buying': 1515,\n",
       " 'ask': 853,\n",
       " 'proof': 7254,\n",
       " 'parents': 6761,\n",
       " 'tested': 9049,\n",
       " 'hereditary': 4694,\n",
       " 'triggered': 9347,\n",
       " 'environmental': 3515,\n",
       " 'factors': 3788,\n",
       " 'rapid': 7436,\n",
       " 'growth': 4424,\n",
       " 'calorie': 1537,\n",
       " 'diet': 2664,\n",
       " 'injuries': 5114,\n",
       " 'incurred': 5037,\n",
       " 'jumping': 5306,\n",
       " 'falling': 3807,\n",
       " 'slick': 8340,\n",
       " 'floors': 4033,\n",
       " 'murmurs': 6252,\n",
       " 'blood': 1178,\n",
       " 'flow': 4038,\n",
       " 'chambers': 1719,\n",
       " 'indicator': 5059,\n",
       " 'monitored': 6197,\n",
       " 'treated': 9305,\n",
       " 'clearances': 1867,\n",
       " 'prove': 7303,\n",
       " 'cleared': 1874,\n",
       " 'particular': 6778,\n",
       " 'expect': 3676,\n",
       " 'ofa': 6570,\n",
       " 'score': 7952,\n",
       " 'fair': 3796,\n",
       " 'elbow': 3403,\n",
       " 'hypothyroidism': 4905,\n",
       " 'von': 9656,\n",
       " 'willebrand': 9833,\n",
       " 'auburn': 889,\n",
       " 'thrombopathia': 9104,\n",
       " 'cerf': 1691,\n",
       " 'certifying': 1704,\n",
       " 'normal': 6436,\n",
       " 'confirm': 2187,\n",
       " 'checking': 1760,\n",
       " 'web': 9762,\n",
       " 'site': 8273,\n",
       " 'offa': 6573,\n",
       " 'org': 6634,\n",
       " 'ideal': 4915,\n",
       " 'barking': 973,\n",
       " 'brisk': 1417,\n",
       " 'suitable': 8802,\n",
       " 'length': 5553,\n",
       " 'backyard': 932,\n",
       " 'moderately': 6176,\n",
       " 'housedog': 4825,\n",
       " 'access': 474,\n",
       " 'fully': 4179,\n",
       " 'fenced': 3934,\n",
       " 'supervised': 8820,\n",
       " 'larger': 5436,\n",
       " 'result': 7751,\n",
       " 'patient': 6816,\n",
       " 'key': 5332,\n",
       " 'fun': 4182,\n",
       " 'use': 9511,\n",
       " 'lots': 5824,\n",
       " 'motivation': 6222,\n",
       " 'cup': 2377,\n",
       " 'quality': 7385,\n",
       " 'dry': 3239,\n",
       " 'divided': 2805,\n",
       " 'meals': 6014,\n",
       " 'note': 6466,\n",
       " 'eats': 3382,\n",
       " 'depends': 2563,\n",
       " 'metabolism': 6094,\n",
       " 'individuals': 5063,\n",
       " 'goes': 4298,\n",
       " 'saying': 7930,\n",
       " 'couch': 2296,\n",
       " 'potato': 7072,\n",
       " 'difference': 2671,\n",
       " 'nourishing': 6477,\n",
       " 'shake': 8113,\n",
       " 'bowl': 1244,\n",
       " 'trim': 9349,\n",
       " 'measuring': 6028,\n",
       " 'feeding': 3887,\n",
       " 'twice': 9391,\n",
       " 'leaving': 5514,\n",
       " 'unsure': 9488,\n",
       " 'overweight': 6697,\n",
       " 'test': 9044,\n",
       " 'hands': 4508,\n",
       " 'able': 450,\n",
       " 'waist': 9665,\n",
       " 'thumbs': 9111,\n",
       " 'spine': 8546,\n",
       " 'fingers': 3983,\n",
       " 'spread': 8576,\n",
       " 'downward': 3196,\n",
       " 'feel': 3893,\n",
       " 'ribs': 7785,\n",
       " 'having': 4563,\n",
       " 'press': 7139,\n",
       " 'hard': 4529,\n",
       " 'guidelines': 4448,\n",
       " 'shaggy': 8111,\n",
       " 'neat': 6319,\n",
       " 'describes': 2586,\n",
       " 'desired': 2597,\n",
       " 'harsh': 4548,\n",
       " 'texture': 9058,\n",
       " 'approximately': 813,\n",
       " 'inch': 4972,\n",
       " 'shorter': 8194,\n",
       " 'longer': 5783,\n",
       " 'expression': 3708,\n",
       " 'neck': 6328,\n",
       " 'chest': 1774,\n",
       " 'stomach': 8669,\n",
       " 'shoulders': 8204,\n",
       " 'resembles': 7722,\n",
       " 'cape': 1567,\n",
       " 'stripped': 8725,\n",
       " 'maintain': 5904,\n",
       " 'characteristic': 1734,\n",
       " 'gray': 4360,\n",
       " 'silver': 8252,\n",
       " 'tan': 8942,\n",
       " 'red': 7534,\n",
       " 'ranges': 7429,\n",
       " 'brown': 1447,\n",
       " 'hair': 4469,\n",
       " 'mixed': 6166,\n",
       " 'furnishings': 4191,\n",
       " 'hairs': 4486,\n",
       " 'lighter': 5621,\n",
       " 'rest': 7744,\n",
       " 'come': 2073,\n",
       " 'light': 5617,\n",
       " 'brush': 1458,\n",
       " 'weekly': 9773,\n",
       " 'slicker': 8342,\n",
       " 'comb': 2062,\n",
       " 'metal': 6096,\n",
       " 'gently': 4266,\n",
       " 'break': 1257,\n",
       " 'mats': 6000,\n",
       " 'tangles': 8951,\n",
       " 'spray': 8575,\n",
       " 'solution': 8474,\n",
       " 'lot': 5818,\n",
       " 'trimming': 9355,\n",
       " 'stripping': 8726,\n",
       " 'achieve': 498,\n",
       " 'distinctive': 2795,\n",
       " 'easily': 3353,\n",
       " 'learned': 5497,\n",
       " 'website': 9766,\n",
       " 'persistent': 6889,\n",
       " 'results': 7755,\n",
       " 'include': 5003,\n",
       " 'dental': 2556,\n",
       " 'hygiene': 4894,\n",
       " 'nail': 6272,\n",
       " 'care': 1576,\n",
       " 'issues': 5249,\n",
       " 'periodontal': 6882,\n",
       " 'teeth': 8984,\n",
       " 'week': 9769,\n",
       " 'remove': 7645,\n",
       " 'tartar': 8957,\n",
       " 'bacteria': 935,\n",
       " 'nails': 6276,\n",
       " 'month': 6200,\n",
       " 'wear': 9753,\n",
       " 'hear': 4606,\n",
       " 'clicking': 1881,\n",
       " 'floor': 4031,\n",
       " 'neatly': 6320,\n",
       " 'trimmed': 9352,\n",
       " 'getting': 4272,\n",
       " 'scratched': 7963,\n",
       " 'enthusiastically': 3501,\n",
       " 'jumps': 5309,\n",
       " 'greet': 4368,\n",
       " 'begin': 1020,\n",
       " 'accustoming': 495,\n",
       " 'brushed': 1470,\n",
       " 'examined': 3590,\n",
       " 'handle': 4501,\n",
       " 'paws': 6823,\n",
       " 'frequently': 4150,\n",
       " 'touchy': 9215,\n",
       " 'inside': 5126,\n",
       " 'mouth': 6229,\n",
       " 'experience': 3688,\n",
       " 'filled': 3968,\n",
       " 'lay': 5457,\n",
       " 'groundwork': 4401,\n",
       " 'veterinary': 9602,\n",
       " 'exams': 3594,\n",
       " 'handling': 4506,\n",
       " 'groom': 4374,\n",
       " 'check': 1753,\n",
       " 'sores': 8482,\n",
       " 'rashes': 7449,\n",
       " 'infection': 5081,\n",
       " 'redness': 7548,\n",
       " 'tenderness': 9016,\n",
       " 'inflammation': 5094,\n",
       " 'skin': 8306,\n",
       " 'smell': 8400,\n",
       " 'wax': 9736,\n",
       " 'gunk': 4462,\n",
       " 'clear': 1864,\n",
       " 'discharge': 2715,\n",
       " 'careful': 1586,\n",
       " 'exam': 3587,\n",
       " 'spot': 8571,\n",
       " 'aggressive': 622,\n",
       " 'behavior': 1034,\n",
       " 'hitting': 4762,\n",
       " 'unwanted': 9495,\n",
       " 'chasing': 1751,\n",
       " 'catch': 1619,\n",
       " 'hold': 4765,\n",
       " 'escape': 3534,\n",
       " 'defend': 2512,\n",
       " 'growling': 4418,\n",
       " 'snapping': 8416,\n",
       " 'reasons': 7493,\n",
       " 'choices': 1825,\n",
       " 'understand': 9446,\n",
       " 'cute': 2404,\n",
       " 'want': 9696,\n",
       " 'love': 5831,\n",
       " 'idea': 4914,\n",
       " 'socialize': 8443,\n",
       " 'supervise': 8818,\n",
       " 'interactions': 5187,\n",
       " 'let': 5567,\n",
       " 'pick': 6929,\n",
       " 'instead': 5137,\n",
       " 'sit': 8272,\n",
       " 'pay': 6825,\n",
       " 'attention': 883,\n",
       " 'language': 5412,\n",
       " 'safely': 7908,\n",
       " 'unhappy': 9459,\n",
       " 'uncomfortable': 9433,\n",
       " 'child': 1793,\n",
       " 'teach': 8965,\n",
       " 'approach': 804,\n",
       " 'touch': 9210,\n",
       " 'biting': 1126,\n",
       " 'ear': 3289,\n",
       " 'pulling': 7321,\n",
       " 'party': 6788,\n",
       " 'eating': 3376,\n",
       " 'sleeping': 8332,\n",
       " 'try': 9371,\n",
       " 'away': 922,\n",
       " 'left': 5518,\n",
       " 'unsupervised': 9486,\n",
       " 'completely': 2141,\n",
       " 'unaware': 9429,\n",
       " 'bigger': 1106,\n",
       " 'bought': 1239,\n",
       " 'understanding': 9448,\n",
       " 'owning': 6717,\n",
       " 'wind': 9845,\n",
       " 'adoption': 568,\n",
       " 'fostering': 4116,\n",
       " 'rescuebelow': 7711,\n",
       " 'clubs': 1942,\n",
       " 'organizations': 6637,\n",
       " 'associations': 865,\n",
       " 'additional': 550,\n",
       " 'americathe': 725,\n",
       " 'dates': 2459,\n",
       " 'seventeenth': 8091,\n",
       " 'derived': 2572,\n",
       " 'ancestral': 736,\n",
       " 'somewhat': 8476,\n",
       " '12': 37,\n",
       " '13': 52,\n",
       " 'colors': 2051,\n",
       " 'fawn': 3862,\n",
       " 'ratter': 7461,\n",
       " 'working': 9904,\n",
       " 'rodents': 7821,\n",
       " 'aka': 662,\n",
       " 'year': 9957,\n",
       " '2013': 264,\n",
       " 'york': 9984,\n",
       " 'win': 9844,\n",
       " 'notable': 6464,\n",
       " 'weighs': 9788,\n",
       " 'stands': 8616,\n",
       " '23': 279,\n",
       " '30': 315,\n",
       " 'withers': 9868,\n",
       " 'softer': 8464,\n",
       " 'forming': 4109,\n",
       " 'mane': 5968,\n",
       " 'quarters': 7391,\n",
       " 'maintained': 5905,\n",
       " 'fci': 3866,\n",
       " 'kc': 5317,\n",
       " 'standards': 8614,\n",
       " 'allows': 701,\n",
       " 'grey': 4371,\n",
       " 'mixture': 6168,\n",
       " 'lists': 5683,\n",
       " 'acceptable': 469,\n",
       " 'preference': 7124,\n",
       " 'distinct': 2792,\n",
       " 'actually': 528,\n",
       " 'classification': 1849,\n",
       " 'confident': 2181,\n",
       " 'lively': 5713,\n",
       " 'protective': 7288,\n",
       " 'firm': 3989,\n",
       " 'quite': 7405,\n",
       " 'housebreak': 4824,\n",
       " 'bored': 1229,\n",
       " 'varied': 9557,\n",
       " 'personality': 6896,\n",
       " 'territorial': 9042,\n",
       " 'comes': 2079,\n",
       " 'toys': 9222,\n",
       " 'excited': 3624,\n",
       " 'threatened': 9097,\n",
       " 'shows': 8218,\n",
       " 'fear': 3869,\n",
       " 'sample': 7918,\n",
       " '21': 270,\n",
       " 'uk': 9416,\n",
       " 'survey': 8857,\n",
       " 'median': 6031,\n",
       " 'lifespan': 5608,\n",
       " 'typical': 9411,\n",
       " 'lower': 5866,\n",
       " 'death': 2480,\n",
       " '24': 287,\n",
       " 'urologic': 9508,\n",
       " '19': 151,\n",
       " 'combinations': 2069,\n",
       " '14': 61,\n",
       " '10': 2,\n",
       " 'collapsed': 2025,\n",
       " 'trachea': 9225,\n",
       " 'luxating': 5882,\n",
       " 'open': 6609,\n",
       " 'respiratory': 7733,\n",
       " 'hot': 4805,\n",
       " 'weather': 9757,\n",
       " 'cataracts': 1615,\n",
       " 'occasionally': 6546,\n",
       " 'reported': 7668,\n",
       " 'concern': 2143,\n",
       " 'incidence': 5000,\n",
       " 'currently': 2396,\n",
       " 'unknown': 9473,\n",
       " 'appear': 789,\n",
       " 'mammals': 5957,\n",
       " 'cycles': 2407,\n",
       " 'slows': 8368,\n",
       " 'stops': 8684,\n",
       " 'falls': 3810,\n",
       " 'end': 3437,\n",
       " 'begins': 1028,\n",
       " '15': 70,\n",
       " 'growing': 4415,\n",
       " 'varies': 9558,\n",
       " 'outside': 6677,\n",
       " 'loose': 5803,\n",
       " 'environment': 3513,\n",
       " 'names': 6285,\n",
       " 'african': 607,\n",
       " 'pronunciation': 7252,\n",
       " 'pin': 6948,\n",
       " 'browser': 1455,\n",
       " 'support': 8826,\n",
       " 'audio': 891,\n",
       " 'tag': 8905,\n",
       " 'giving': 4284,\n",
       " 'version': 9584,\n",
       " 'delicate': 2533,\n",
       " 'square': 8582,\n",
       " 'broad': 1432,\n",
       " 'deep': 2502,\n",
       " 'round': 7849,\n",
       " 'pronounced': 7251,\n",
       " 'stop': 8680,\n",
       " 'area': 822,\n",
       " 'jaw': 5265,\n",
       " 'undershot': 9443,\n",
       " 'straight': 8693,\n",
       " 'prominent': 7239,\n",
       " 'arched': 819,\n",
       " 'limbs': 5647,\n",
       " 'boned': 1220,\n",
       " 'carried': 1593,\n",
       " 'docked': 2816,\n",
       " 'customarily': 2400,\n",
       " 'pointed': 7013,\n",
       " 'erect': 3532,\n",
       " 'countries': 2306,\n",
       " 'banned': 961,\n",
       " 'docking': 2818,\n",
       " 'animal': 745,\n",
       " 'tails': 8918,\n",
       " 'dark': 2447,\n",
       " 'undercoat': 9436,\n",
       " 'slightly': 8348,\n",
       " 'curly': 2393,\n",
       " 'inquisitive': 5123,\n",
       " 'sharp': 8131,\n",
       " 'courageous': 2315,\n",
       " 'fearless': 3871,\n",
       " 'proper': 7257,\n",
       " 'rules': 7871,\n",
       " 'boundaries': 1242,\n",
       " 'constantly': 2227,\n",
       " 'pack': 6720,\n",
       " 'leader': 5476,\n",
       " 'amusing': 731,\n",
       " 'variety': 9563,\n",
       " 'commands': 2091,\n",
       " 'simply': 8262,\n",
       " 'treat': 9302,\n",
       " 'lacking': 5395,\n",
       " 'leadership': 5485,\n",
       " 'negative': 6376,\n",
       " 'behaviors': 1043,\n",
       " 'consistently': 2224,\n",
       " 'avoid': 915,\n",
       " 'tendency': 9012,\n",
       " 'hike': 4737,\n",
       " 'challenge': 1714,\n",
       " 'large': 5416,\n",
       " 'bark': 964,\n",
       " 'climb': 1886,\n",
       " 'likes': 5644,\n",
       " 'sense': 8035,\n",
       " 'humor': 4862,\n",
       " 'displays': 2776,\n",
       " 'corrected': 2283,\n",
       " 'soon': 8478,\n",
       " 'humans': 4855,\n",
       " 'control': 2249,\n",
       " '25': 292,\n",
       " '38': 343,\n",
       " '36': 339,\n",
       " 'stifle': 8662,\n",
       " 'patent': 6811,\n",
       " 'ductus': 3250,\n",
       " 'okay': 6593,\n",
       " 'sensitive': 8042,\n",
       " 'temperature': 9000,\n",
       " 'extremes': 3731,\n",
       " 'overly': 6694,\n",
       " 'warm': 9705,\n",
       " 'heel': 4643,\n",
       " 'person': 6890,\n",
       " 'holding': 4766,\n",
       " 'leads': 5488,\n",
       " 'human': 4846,\n",
       " 'fulfill': 4177,\n",
       " 'primal': 7170,\n",
       " 'instinct': 5138,\n",
       " 'likely': 5642,\n",
       " 'display': 2770,\n",
       " 'enjoy': 3473,\n",
       " 'romp': 7832,\n",
       " 'safe': 7903,\n",
       " 'enter': 3492,\n",
       " 'exit': 3673,\n",
       " 'gateways': 4228,\n",
       " 'average': 904,\n",
       " 'clipped': 1891,\n",
       " 'combed': 2067,\n",
       " 'necessary': 6323,\n",
       " 'pluck': 7001,\n",
       " 'specialist': 8523,\n",
       " 'possible': 7068,\n",
       " 'corners': 2280,\n",
       " 'irritation': 5238,\n",
       " 'sheds': 8152,\n",
       " 'exact': 3585,\n",
       " 'data': 2456,\n",
       " 'exists': 3672,\n",
       " 'ancient': 738,\n",
       " 'related': 7615,\n",
       " 'probably': 7183,\n",
       " 'facial': 3784,\n",
       " 'structure': 8746,\n",
       " 'believed': 1053,\n",
       " 'originated': 6653,\n",
       " 'farm': 3841,\n",
       " 'worked': 9901,\n",
       " 'house': 4820,\n",
       " 'centuries': 1686,\n",
       " 'hunter': 4874,\n",
       " 'outstanding': 6679,\n",
       " 'primarily': 7172,\n",
       " 'admitted': 560,\n",
       " 'studbook': 8756,\n",
       " 'ankc': 753,\n",
       " 'canadian': 1544,\n",
       " 'federation': 3883,\n",
       " 'cynologique': 2410,\n",
       " 'internationale': 5197,\n",
       " 'kcgb': 5318,\n",
       " 'britain': 1423,\n",
       " 'nzkc': 6497,\n",
       " 'zealand': 9998,\n",
       " 'dog breed': 2867,\n",
       " 'breed originally': 1331,\n",
       " 'companion dogs': 2115,\n",
       " 'adapts apartment': 544,\n",
       " 'apartment living': 781,\n",
       " 'living adapts': 5725,\n",
       " 'living apartment': 5726,\n",
       " 'apartment apartment': 774,\n",
       " 'apartment indoor': 778,\n",
       " 'indoor indoor': 5066,\n",
       " 'indoor indoors': 5067,\n",
       " 'indoors indoors': 5072,\n",
       " 'indoors good': 5071,\n",
       " 'good novice': 4326,\n",
       " 'novice owners': 6485,\n",
       " 'owners novice': 6714,\n",
       " 'novice new': 6483,\n",
       " 'new owner': 6395,\n",
       " 'owner easygoing': 6705,\n",
       " 'easygoing adaptable': 3368,\n",
       " 'adaptable hates': 540,\n",
       " 'hates hates': 4559,\n",
       " 'family affectionate': 3817,\n",
       " 'loving loving': 5855,\n",
       " 'affectionate affectionate': 599,\n",
       " 'cuddly cuddly': 2373,\n",
       " 'bad kids': 942,\n",
       " 'intolerant small': 5210,\n",
       " 'small small': 8387,\n",
       " 'small tiny': 8389,\n",
       " 'tiny tiny': 9152,\n",
       " 'dog friendly': 2911,\n",
       " 'friendly dogs': 4159,\n",
       " 'dogs playful': 3121,\n",
       " 'playful dogs': 6978,\n",
       " 'dogs good': 3083,\n",
       " 'good dogs': 4315,\n",
       " 'high maintenance': 4717,\n",
       " 'maintenance unhealthy': 5914,\n",
       " 'unhealthy clean': 9461,\n",
       " 'clean clean': 1852,\n",
       " 'clean low': 1855,\n",
       " 'low shedding': 5865,\n",
       " 'shedding low': 8149,\n",
       " 'shedding clean': 8147,\n",
       " 'low drool': 5858,\n",
       " 'drool low': 3222,\n",
       " 'general health': 4237,\n",
       " 'health healthy': 4591,\n",
       " 'healthy long': 4602,\n",
       " 'long lived': 5770,\n",
       " 'lived small': 5711,\n",
       " 'tiny apartment': 9151,\n",
       " 'apartment lap': 779,\n",
       " 'lap dog': 5414,\n",
       " 'dog lap': 2937,\n",
       " 'dog independent': 2932,\n",
       " 'independent difficult': 5042,\n",
       " 'difficult train': 2685,\n",
       " 'train disobedient': 9246,\n",
       " 'disobedient intelligence': 2760,\n",
       " 'intelligence independent': 5158,\n",
       " 'independent intelligent': 5045,\n",
       " 'intelligent clever': 5164,\n",
       " 'clever agile': 1879,\n",
       " 'agile potential': 630,\n",
       " ...}"
      ]
     },
     "execution_count": 39,
     "metadata": {},
     "output_type": "execute_result"
    }
   ],
   "source": [
    "dog_count_tfidf.vocabulary_"
   ]
  },
  {
   "cell_type": "code",
   "execution_count": 40,
   "metadata": {},
   "outputs": [
    {
     "data": {
      "text/plain": [
       "[(0.088933622140047422, 'n02102480-Sussex_spaniel'),\n",
       " (0.057332242341128263, 'n02108089-boxer'),\n",
       " (0.047140482920509576, 'n02112350-keeshond'),\n",
       " (0.041665787236460007, 'n02105251-briard'),\n",
       " (0.041466447748746506, 'n02096051-Airedale'),\n",
       " (0.040050455626599472, 'n02113186-Cardigan'),\n",
       " (0.038884377358131883, 'n02101388-Brittany_spaniel'),\n",
       " (0.036927474413015936, 'n02097474-Tibetan_terrier'),\n",
       " (0.036578429164795298, 'n02104365-schipperke'),\n",
       " (0.033874989084160478, 'n02099267-flat-coated_retriever')]"
      ]
     },
     "execution_count": 40,
     "metadata": {},
     "output_type": "execute_result"
    }
   ],
   "source": [
    "sorted(list(zip(cosine_similarity(new_doc_tfidf_mat, dog_tfidf_mat)[0], breed_text_df.breed)), reverse=True)[:10]"
   ]
  },
  {
   "cell_type": "code",
   "execution_count": 41,
   "metadata": {},
   "outputs": [
    {
     "data": {
      "text/plain": [
       "2.6457513110645907"
      ]
     },
     "execution_count": 41,
     "metadata": {},
     "output_type": "execute_result"
    }
   ],
   "source": [
    "new_doc_tfidf_mat.sum()"
   ]
  },
  {
   "cell_type": "code",
   "execution_count": 42,
   "metadata": {
    "collapsed": true
   },
   "outputs": [],
   "source": [
    "with open('dog_vocabulary.p', 'wb') as file:\n",
    "    pickle.dump(dog_count_tfidf.vocabulary_, file)"
   ]
  },
  {
   "cell_type": "code",
   "execution_count": 43,
   "metadata": {
    "collapsed": true
   },
   "outputs": [],
   "source": [
    "with open('dog_vocab_matrix.npz', 'wb') as file:\n",
    "    sparse.save_npz(file, dog_tfidf_mat)"
   ]
  },
  {
   "cell_type": "code",
   "execution_count": 44,
   "metadata": {},
   "outputs": [
    {
     "data": {
      "text/plain": [
       "(115, 10000)"
      ]
     },
     "execution_count": 44,
     "metadata": {},
     "output_type": "execute_result"
    }
   ],
   "source": [
    "dog_tfidf_mat.shape"
   ]
  },
  {
   "cell_type": "code",
   "execution_count": 45,
   "metadata": {
    "collapsed": true
   },
   "outputs": [],
   "source": [
    "breed_indices = dog_tfidf_df.index"
   ]
  },
  {
   "cell_type": "code",
   "execution_count": 234,
   "metadata": {},
   "outputs": [
    {
     "data": {
      "text/plain": [
       "['n02085620-Chihuahua',\n",
       " 'n02085782-Japanese_spaniel',\n",
       " 'n02085936-Maltese_dog',\n",
       " 'n02086079-Pekinese',\n",
       " 'n02086240-Shih-Tzu',\n",
       " 'n02086646-Blenheim_spaniel',\n",
       " 'n02086910-papillon',\n",
       " 'n02087046-toy_terrier',\n",
       " 'n02087394-Rhodesian_ridgeback',\n",
       " 'n02088094-Afghan_hound',\n",
       " 'n02088238-basset',\n",
       " 'n02088364-beagle',\n",
       " 'n02088466-bloodhound',\n",
       " 'n02088632-bluetick',\n",
       " 'n02089078-black-and-tan_coonhound',\n",
       " 'n02089867-Walker_hound',\n",
       " 'n02089973-English_foxhound',\n",
       " 'n02090379-redbone',\n",
       " 'n02090622-borzoi',\n",
       " 'n02090721-Irish_wolfhound',\n",
       " 'n02091032-Italian_greyhound',\n",
       " 'n02091134-whippet',\n",
       " 'n02091244-Ibizan_hound',\n",
       " 'n02091467-Norwegian_elkhound',\n",
       " 'n02091635-otterhound',\n",
       " 'n02091831-Saluki',\n",
       " 'n02092002-Scottish_deerhound',\n",
       " 'n02092339-Weimaraner',\n",
       " 'n02093256-Staffordshire_bullterrier',\n",
       " 'n02093428-American_Staffordshire_terrier',\n",
       " 'n02093647-Bedlington_terrier',\n",
       " 'n02093754-Border_terrier',\n",
       " 'n02093859-Kerry_blue_terrier',\n",
       " 'n02093991-Irish_terrier',\n",
       " 'n02094114-Norfolk_terrier',\n",
       " 'n02094258-Norwich_terrier',\n",
       " 'n02094433-Yorkshire_terrier',\n",
       " 'n02095314-wire-haired_fox_terrier',\n",
       " 'n02095570-Lakeland_terrier',\n",
       " 'n02095889-Sealyham_terrier',\n",
       " 'n02096051-Airedale',\n",
       " 'n02096177-cairn',\n",
       " 'n02096294-Australian_terrier',\n",
       " 'n02096437-Dandie_Dinmont',\n",
       " 'n02096585-Boston_bull',\n",
       " 'n02097047-miniature_schnauzer',\n",
       " 'n02097130-giant_schnauzer',\n",
       " 'n02097209-standard_schnauzer',\n",
       " 'n02097298-Scotch_terrier',\n",
       " 'n02097474-Tibetan_terrier',\n",
       " 'n02097658-silky_terrier',\n",
       " 'n02098105-soft-coated_wheaten_terrier',\n",
       " 'n02098286-West_Highland_white_terrier',\n",
       " 'n02098413-Lhasa',\n",
       " 'n02099267-flat-coated_retriever',\n",
       " 'n02099429-curly-coated_retriever',\n",
       " 'n02099601-golden_retriever',\n",
       " 'n02099712-Labrador_retriever',\n",
       " 'n02099849-Chesapeake_Bay_retriever',\n",
       " 'n02100236-German_short-haired_pointer',\n",
       " 'n02100583-vizsla',\n",
       " 'n02100735-English_setter',\n",
       " 'n02100877-Irish_setter',\n",
       " 'n02101006-Gordon_setter',\n",
       " 'n02101388-Brittany_spaniel',\n",
       " 'n02101556-clumber',\n",
       " 'n02102040-English_springer',\n",
       " 'n02102177-Welsh_springer_spaniel',\n",
       " 'n02102318-cocker_spaniel',\n",
       " 'n02102480-Sussex_spaniel',\n",
       " 'n02102973-Irish_water_spaniel',\n",
       " 'n02104029-kuvasz',\n",
       " 'n02104365-schipperke',\n",
       " 'n02105056-groenendael',\n",
       " 'n02105162-malinois',\n",
       " 'n02105251-briard',\n",
       " 'n02105505-komondor',\n",
       " 'n02105641-Old_English_sheepdog',\n",
       " 'n02105855-Shetland_sheepdog',\n",
       " 'n02106030-collie',\n",
       " 'n02106166-Border_collie',\n",
       " 'n02106382-Bouvier_des_Flandres',\n",
       " 'n02106550-Rottweiler',\n",
       " 'n02106662-German_shepherd',\n",
       " 'n02107142-Doberman',\n",
       " 'n02107312-miniature_pinscher',\n",
       " 'n02107574-Greater_Swiss_Mountain_dog',\n",
       " 'n02107683-Bernese_mountain_dog',\n",
       " 'n02107908-Appenzeller',\n",
       " 'n02108000-EntleBucher',\n",
       " 'n02108089-boxer',\n",
       " 'n02108422-bull_mastiff',\n",
       " 'n02108551-Tibetan_mastiff',\n",
       " 'n02108915-French_bulldog',\n",
       " 'n02109047-Great_Dane',\n",
       " 'n02109525-Saint_Bernard',\n",
       " 'n02109961-Eskimo_dog',\n",
       " 'n02110063-malamute',\n",
       " 'n02110185-Siberian_husky',\n",
       " 'n02110627-affenpinscher',\n",
       " 'n02110806-basenji',\n",
       " 'n02110958-pug',\n",
       " 'n02111129-Leonberg',\n",
       " 'n02111277-Newfoundland',\n",
       " 'n02111500-Great_Pyrenees',\n",
       " 'n02111889-Samoyed',\n",
       " 'n02112018-Pomeranian',\n",
       " 'n02112137-chow',\n",
       " 'n02112350-keeshond',\n",
       " 'n02112706-Brabancon_griffon',\n",
       " 'n02113023-Pembroke',\n",
       " 'n02113186-Cardigan',\n",
       " 'n02113799-standard_poodle',\n",
       " 'n02113978-Mexican_hairless',\n",
       " 'not_dog']"
      ]
     },
     "execution_count": 234,
     "metadata": {},
     "output_type": "execute_result"
    }
   ],
   "source": [
    "breed_indices.tolist()"
   ]
  },
  {
   "cell_type": "code",
   "execution_count": 235,
   "metadata": {
    "collapsed": true
   },
   "outputs": [],
   "source": [
    "text_similarity = cosine_similarity(new_doc_tfidf_mat, dog_tfidf_mat)[0]"
   ]
  },
  {
   "cell_type": "code",
   "execution_count": 236,
   "metadata": {},
   "outputs": [
    {
     "data": {
      "text/plain": [
       "69"
      ]
     },
     "execution_count": 236,
     "metadata": {},
     "output_type": "execute_result"
    }
   ],
   "source": [
    "np.argmax(text_similarity)"
   ]
  },
  {
   "cell_type": "code",
   "execution_count": 237,
   "metadata": {},
   "outputs": [
    {
     "data": {
      "text/html": [
       "<div>\n",
       "<style>\n",
       "    .dataframe thead tr:only-child th {\n",
       "        text-align: right;\n",
       "    }\n",
       "\n",
       "    .dataframe thead th {\n",
       "        text-align: left;\n",
       "    }\n",
       "\n",
       "    .dataframe tbody tr th {\n",
       "        vertical-align: top;\n",
       "    }\n",
       "</style>\n",
       "<table border=\"1\" class=\"dataframe\">\n",
       "  <thead>\n",
       "    <tr style=\"text-align: right;\">\n",
       "      <th></th>\n",
       "      <th>abandoned</th>\n",
       "      <th>abby</th>\n",
       "      <th>abdomen</th>\n",
       "      <th>abdomen drooling</th>\n",
       "      <th>abdomen salivating</th>\n",
       "    </tr>\n",
       "    <tr>\n",
       "      <th>breed</th>\n",
       "      <th></th>\n",
       "      <th></th>\n",
       "      <th></th>\n",
       "      <th></th>\n",
       "      <th></th>\n",
       "    </tr>\n",
       "  </thead>\n",
       "  <tbody>\n",
       "    <tr>\n",
       "      <th>n02102318-cocker_spaniel</th>\n",
       "      <td>0.0</td>\n",
       "      <td>0.0</td>\n",
       "      <td>0.010121</td>\n",
       "      <td>0.008384</td>\n",
       "      <td>0.00639</td>\n",
       "    </tr>\n",
       "    <tr>\n",
       "      <th>n02102480-Sussex_spaniel</th>\n",
       "      <td>0.0</td>\n",
       "      <td>0.0</td>\n",
       "      <td>0.038426</td>\n",
       "      <td>0.000000</td>\n",
       "      <td>0.00000</td>\n",
       "    </tr>\n",
       "  </tbody>\n",
       "</table>\n",
       "</div>"
      ],
      "text/plain": [
       "                          abandoned  abby   abdomen  abdomen drooling  \\\n",
       "breed                                                                   \n",
       "n02102318-cocker_spaniel        0.0   0.0  0.010121          0.008384   \n",
       "n02102480-Sussex_spaniel        0.0   0.0  0.038426          0.000000   \n",
       "\n",
       "                          abdomen salivating  \n",
       "breed                                         \n",
       "n02102318-cocker_spaniel             0.00639  \n",
       "n02102480-Sussex_spaniel             0.00000  "
      ]
     },
     "execution_count": 237,
     "metadata": {},
     "output_type": "execute_result"
    }
   ],
   "source": [
    "dog_tfidf_df.iloc[68:70, :5]"
   ]
  },
  {
   "cell_type": "code",
   "execution_count": 238,
   "metadata": {
    "collapsed": true
   },
   "outputs": [],
   "source": [
    "text_breed_dict = {name : index for index, name in enumerate(breed_indices.tolist())}"
   ]
  },
  {
   "cell_type": "code",
   "execution_count": 239,
   "metadata": {},
   "outputs": [
    {
     "data": {
      "text/plain": [
       "{'n02085620-Chihuahua': 0,\n",
       " 'n02085782-Japanese_spaniel': 1,\n",
       " 'n02085936-Maltese_dog': 2,\n",
       " 'n02086079-Pekinese': 3,\n",
       " 'n02086240-Shih-Tzu': 4,\n",
       " 'n02086646-Blenheim_spaniel': 5,\n",
       " 'n02086910-papillon': 6,\n",
       " 'n02087046-toy_terrier': 7,\n",
       " 'n02087394-Rhodesian_ridgeback': 8,\n",
       " 'n02088094-Afghan_hound': 9,\n",
       " 'n02088238-basset': 10,\n",
       " 'n02088364-beagle': 11,\n",
       " 'n02088466-bloodhound': 12,\n",
       " 'n02088632-bluetick': 13,\n",
       " 'n02089078-black-and-tan_coonhound': 14,\n",
       " 'n02089867-Walker_hound': 15,\n",
       " 'n02089973-English_foxhound': 16,\n",
       " 'n02090379-redbone': 17,\n",
       " 'n02090622-borzoi': 18,\n",
       " 'n02090721-Irish_wolfhound': 19,\n",
       " 'n02091032-Italian_greyhound': 20,\n",
       " 'n02091134-whippet': 21,\n",
       " 'n02091244-Ibizan_hound': 22,\n",
       " 'n02091467-Norwegian_elkhound': 23,\n",
       " 'n02091635-otterhound': 24,\n",
       " 'n02091831-Saluki': 25,\n",
       " 'n02092002-Scottish_deerhound': 26,\n",
       " 'n02092339-Weimaraner': 27,\n",
       " 'n02093256-Staffordshire_bullterrier': 28,\n",
       " 'n02093428-American_Staffordshire_terrier': 29,\n",
       " 'n02093647-Bedlington_terrier': 30,\n",
       " 'n02093754-Border_terrier': 31,\n",
       " 'n02093859-Kerry_blue_terrier': 32,\n",
       " 'n02093991-Irish_terrier': 33,\n",
       " 'n02094114-Norfolk_terrier': 34,\n",
       " 'n02094258-Norwich_terrier': 35,\n",
       " 'n02094433-Yorkshire_terrier': 36,\n",
       " 'n02095314-wire-haired_fox_terrier': 37,\n",
       " 'n02095570-Lakeland_terrier': 38,\n",
       " 'n02095889-Sealyham_terrier': 39,\n",
       " 'n02096051-Airedale': 40,\n",
       " 'n02096177-cairn': 41,\n",
       " 'n02096294-Australian_terrier': 42,\n",
       " 'n02096437-Dandie_Dinmont': 43,\n",
       " 'n02096585-Boston_bull': 44,\n",
       " 'n02097047-miniature_schnauzer': 45,\n",
       " 'n02097130-giant_schnauzer': 46,\n",
       " 'n02097209-standard_schnauzer': 47,\n",
       " 'n02097298-Scotch_terrier': 48,\n",
       " 'n02097474-Tibetan_terrier': 49,\n",
       " 'n02097658-silky_terrier': 50,\n",
       " 'n02098105-soft-coated_wheaten_terrier': 51,\n",
       " 'n02098286-West_Highland_white_terrier': 52,\n",
       " 'n02098413-Lhasa': 53,\n",
       " 'n02099267-flat-coated_retriever': 54,\n",
       " 'n02099429-curly-coated_retriever': 55,\n",
       " 'n02099601-golden_retriever': 56,\n",
       " 'n02099712-Labrador_retriever': 57,\n",
       " 'n02099849-Chesapeake_Bay_retriever': 58,\n",
       " 'n02100236-German_short-haired_pointer': 59,\n",
       " 'n02100583-vizsla': 60,\n",
       " 'n02100735-English_setter': 61,\n",
       " 'n02100877-Irish_setter': 62,\n",
       " 'n02101006-Gordon_setter': 63,\n",
       " 'n02101388-Brittany_spaniel': 64,\n",
       " 'n02101556-clumber': 65,\n",
       " 'n02102040-English_springer': 66,\n",
       " 'n02102177-Welsh_springer_spaniel': 67,\n",
       " 'n02102318-cocker_spaniel': 68,\n",
       " 'n02102480-Sussex_spaniel': 69,\n",
       " 'n02102973-Irish_water_spaniel': 70,\n",
       " 'n02104029-kuvasz': 71,\n",
       " 'n02104365-schipperke': 72,\n",
       " 'n02105056-groenendael': 73,\n",
       " 'n02105162-malinois': 74,\n",
       " 'n02105251-briard': 75,\n",
       " 'n02105505-komondor': 76,\n",
       " 'n02105641-Old_English_sheepdog': 77,\n",
       " 'n02105855-Shetland_sheepdog': 78,\n",
       " 'n02106030-collie': 79,\n",
       " 'n02106166-Border_collie': 80,\n",
       " 'n02106382-Bouvier_des_Flandres': 81,\n",
       " 'n02106550-Rottweiler': 82,\n",
       " 'n02106662-German_shepherd': 83,\n",
       " 'n02107142-Doberman': 84,\n",
       " 'n02107312-miniature_pinscher': 85,\n",
       " 'n02107574-Greater_Swiss_Mountain_dog': 86,\n",
       " 'n02107683-Bernese_mountain_dog': 87,\n",
       " 'n02107908-Appenzeller': 88,\n",
       " 'n02108000-EntleBucher': 89,\n",
       " 'n02108089-boxer': 90,\n",
       " 'n02108422-bull_mastiff': 91,\n",
       " 'n02108551-Tibetan_mastiff': 92,\n",
       " 'n02108915-French_bulldog': 93,\n",
       " 'n02109047-Great_Dane': 94,\n",
       " 'n02109525-Saint_Bernard': 95,\n",
       " 'n02109961-Eskimo_dog': 96,\n",
       " 'n02110063-malamute': 97,\n",
       " 'n02110185-Siberian_husky': 98,\n",
       " 'n02110627-affenpinscher': 99,\n",
       " 'n02110806-basenji': 100,\n",
       " 'n02110958-pug': 101,\n",
       " 'n02111129-Leonberg': 102,\n",
       " 'n02111277-Newfoundland': 103,\n",
       " 'n02111500-Great_Pyrenees': 104,\n",
       " 'n02111889-Samoyed': 105,\n",
       " 'n02112018-Pomeranian': 106,\n",
       " 'n02112137-chow': 107,\n",
       " 'n02112350-keeshond': 108,\n",
       " 'n02112706-Brabancon_griffon': 109,\n",
       " 'n02113023-Pembroke': 110,\n",
       " 'n02113186-Cardigan': 111,\n",
       " 'n02113799-standard_poodle': 112,\n",
       " 'n02113978-Mexican_hairless': 113,\n",
       " 'not_dog': 114}"
      ]
     },
     "execution_count": 239,
     "metadata": {},
     "output_type": "execute_result"
    }
   ],
   "source": [
    "text_breed_dict"
   ]
  },
  {
   "cell_type": "code",
   "execution_count": 196,
   "metadata": {
    "collapsed": true
   },
   "outputs": [],
   "source": [
    "with open('breed_text_dict.p', 'wb') as file:\n",
    "    pickle.dump(text_breed_dict, file)"
   ]
  },
  {
   "cell_type": "markdown",
   "metadata": {
    "collapsed": true
   },
   "source": [
    "## Perform LSA on tdidf"
   ]
  },
  {
   "cell_type": "code",
   "execution_count": 50,
   "metadata": {
    "collapsed": true
   },
   "outputs": [],
   "source": [
    "dog_lsa = TruncatedSVD(n_components=115)"
   ]
  },
  {
   "cell_type": "code",
   "execution_count": 51,
   "metadata": {},
   "outputs": [],
   "source": [
    "reduced_dog_mat = dog_lsa.fit_transform(dog_tfidf_mat)"
   ]
  },
  {
   "cell_type": "code",
   "execution_count": 54,
   "metadata": {},
   "outputs": [],
   "source": [
    "new_dog_reduced = dog_lsa.transform(new_doc_tfidf_mat)"
   ]
  },
  {
   "cell_type": "code",
   "execution_count": 61,
   "metadata": {},
   "outputs": [],
   "source": [
    "similarity = cosine_similarity(reduced_dog_mat, new_dog_reduced)"
   ]
  },
  {
   "cell_type": "code",
   "execution_count": 62,
   "metadata": {},
   "outputs": [
    {
     "data": {
      "text/plain": [
       "array([[-0.00185423,  0.01224303,  0.0238982 ,  0.02797072,  0.02805664,\n",
       "         0.02935688,  0.03152035,  0.03438317,  0.03676474,  0.03855507,\n",
       "         0.04029869,  0.04216087,  0.04405181,  0.04672735,  0.04872403,\n",
       "         0.04877635,  0.0511989 ,  0.05337882,  0.05382159,  0.05545426,\n",
       "         0.05593521,  0.05713553,  0.05891462,  0.05935014,  0.06025304,\n",
       "         0.06063862,  0.06208567,  0.06235968,  0.06498379,  0.06566424,\n",
       "         0.06658195,  0.06693918,  0.06894136,  0.06900678,  0.07003081,\n",
       "         0.07015433,  0.07300287,  0.07368193,  0.07451122,  0.07564259,\n",
       "         0.0789056 ,  0.07931712,  0.07964697,  0.07978493,  0.08115365,\n",
       "         0.08276446,  0.08368662,  0.08442287,  0.08496864,  0.0869684 ,\n",
       "         0.08714874,  0.0880334 ,  0.08858462,  0.08944782,  0.09384905,\n",
       "         0.09648805,  0.09670302,  0.10390774,  0.10533764,  0.10784659,\n",
       "         0.10984738,  0.11380882,  0.11437612,  0.11524509,  0.1171925 ,\n",
       "         0.11719404,  0.11770873,  0.12018274,  0.12028469,  0.12249479,\n",
       "         0.12468256,  0.1275773 ,  0.12823053,  0.12825799,  0.1313342 ,\n",
       "         0.13145271,  0.13547414,  0.13676065,  0.13736317,  0.13873582,\n",
       "         0.13917341,  0.14120264,  0.14157175,  0.14302228,  0.14450302,\n",
       "         0.14637722,  0.14969533,  0.1504601 ,  0.15275252,  0.16220083,\n",
       "         0.16433245,  0.16950048,  0.17113532,  0.17467148,  0.17756742,\n",
       "         0.18076357,  0.18434087,  0.18757283,  0.18901986,  0.19503266,\n",
       "         0.19783475,  0.20283747,  0.21821092,  0.22158378,  0.23326168,\n",
       "         0.23766164,  0.25662855,  0.2590774 ,  0.27280672,  0.28098775,\n",
       "         0.29092212,  0.29232066,  0.33073027,  0.40223406,  0.62394441]])"
      ]
     },
     "execution_count": 62,
     "metadata": {},
     "output_type": "execute_result"
    }
   ],
   "source": [
    "np.sort(similarity.T)"
   ]
  },
  {
   "cell_type": "code",
   "execution_count": 63,
   "metadata": {
    "collapsed": true
   },
   "outputs": [],
   "source": [
    "with open('breed_lsa.p', 'wb') as file:\n",
    "    pickle.dump(dog_lsa, file)"
   ]
  },
  {
   "cell_type": "code",
   "execution_count": 66,
   "metadata": {},
   "outputs": [],
   "source": [
    "with open('dog_lsa_matrix.npy', 'wb') as file:\n",
    "    np.save(file, reduced_dog_mat)"
   ]
  },
  {
   "cell_type": "code",
   "execution_count": 67,
   "metadata": {},
   "outputs": [
    {
     "data": {
      "image/png": "[encoded data removed]",
      "text/plain": [
       "<matplotlib.figure.Figure at 0x7f706e001e80>"
      ]
     },
     "metadata": {},
     "output_type": "display_data"
    }
   ],
   "source": [
    "fig, ax = plt.subplots()\n",
    "ax.plot(dog_lsa.explained_variance_ratio_,'^')\n",
    "ax.set_ylabel(\"Explained variance\")\n",
    "ax.set_xlabel(\"Topic\");"
   ]
  },
  {
   "cell_type": "code",
   "execution_count": 68,
   "metadata": {
    "collapsed": true
   },
   "outputs": [],
   "source": [
    "\n",
    "def get_topical_terms(topic_mat, topic_num, term_vec, num_terms=25):\n",
    "    return term_vec[np.argsort(-topic_mat[topic_num,:])][:num_terms]"
   ]
  },
  {
   "cell_type": "code",
   "execution_count": 70,
   "metadata": {},
   "outputs": [],
   "source": [
    "terms = np.array(dog_count_tfidf.get_feature_names())"
   ]
  },
  {
   "cell_type": "code",
   "execution_count": 71,
   "metadata": {},
   "outputs": [
    {
     "name": "stdout",
     "output_type": "stream",
     "text": [
      "topic 0\n",
      "['terriers' 'food' 'hair' 'energy' 'hunting' 'large' 'hip' 'dysplasia'\n",
      " 'disease' 'herding' 'condition' 'used' 'spaniels' 'eye' 'owners' 'working'\n",
      " 'tan' 'hip dysplasia' 'body' 'little' 'independent' 'prey' 'look' 'cold'\n",
      " 'red' 'months' 'color' 'bark' 'ear' 'difficult' 'obedience' 'year' 'skin'\n",
      " 'clearances' 'health clearances']\n",
      "topic 1\n",
      "['terriers' 'stripping' 'wire' 'skye' 'vermin' 'foxes' 'wiry' 'yorkies'\n",
      " 'aussie' 'luxation' 'prick' 'pit' 'grizzle' 'like terriers' 'dig' 'tan'\n",
      " 'terriers need' 'jones' 'dog terriers' 'jaw' 'drop' 'rats' 'little'\n",
      " 'digging' 'dens' 'badgers' 'small dog' 'small size' 'patellar luxation'\n",
      " 'soft' 'patellar' 'working terriers' 'skye terriers' 'terriers terriers'\n",
      " 'scotland']\n",
      "topic 2\n",
      "['spaniels' 'setters' 'field' 'hunting' 'springers' 'hounds' 'cockers'\n",
      " 'coonhounds' 'hunt' 'liver' 'duke' 'red' 'treeing' 'scent' 'black tan'\n",
      " 'foxhounds' 'tan' 'birds' 'hunter' 'prey' 'bird' 'orange' 'hunting dog'\n",
      " 'lemon' 'field bred' 'sporting' 'hunters' 'roan' 'retrieving' 'gun'\n",
      " 'feathering' 'ear infections' 'hunting dogs' 'gundog' 'shorthaired']\n",
      "topic 3\n",
      "['spaniels' 'springers' 'belgian' 'corgi' 'herding' 'cockers' 'collies'\n",
      " 'field' 'sheepdogs' 'hair' 'spitz' 'sheep' 'cavalier' 'king charles'\n",
      " 'orange' 'field bred' 'brussels' 'eye' 'merle' 'sable' 'easy train' 'disc'\n",
      " 'hip' 'novice' 'liver' 'charles' 'colour' 'retrievers' 'butterfly'\n",
      " 'pomeranians' 'herd' 'roan' 'spaniels spaniels' 'ear' 'sporting']\n",
      "topic 4\n",
      "['setters' 'belgian' 'herding' 'terriers' 'collies' 'sheepdogs' 'field'\n",
      " 'working' 'tan' 'corgi' 'sheep' 'black tan' 'duke' 'red' 'belgium' 'herd'\n",
      " 'retrievers' 'bird' 'shepherds' 'rough' 'police' 'sennenhund' 'energy'\n",
      " 'setting' 'coonhounds' 'lines' 'cattle' 'work' 'castle' 'mahogany' 'bench'\n",
      " 'champion' 'treeing' 'scotland' 'working dog']\n"
     ]
    }
   ],
   "source": [
    "for i in range(5):\n",
    "    print(\"topic {}\".format(i))\n",
    "    print(get_topical_terms(dog_lsa.components_,i,terms, 35))"
   ]
  },
  {
   "cell_type": "code",
   "execution_count": 72,
   "metadata": {},
   "outputs": [
    {
     "name": "stdout",
     "output_type": "stream",
     "text": [
      "topic 5\n",
      "['belgian' 'brussels' 'belgium' 'chin' 'sheepdogs' 'hounds' 'monkey'\n",
      " 'greyhounds' 'fawn' 'little' 'luxation' 'pekingese' 'sighthound'\n",
      " 'bulldogs' 'pugs' 'patellar' 'patellar luxation' 'varieties' 'tiny'\n",
      " 'patella' 'hair' 'butterfly' 'smooth' 'coursing' 'pomeranians' 'tibia'\n",
      " 'grades patellar' 'sighthounds' 'grades' 'black mask' 'grade' 'stables'\n",
      " 'mask' 'legg' 'perthes']\n",
      "topic 6\n",
      "['spaniels' 'coonhounds' 'treeing' 'belgian' 'sennenhund' 'springers'\n",
      " 'herding' 'collies' 'corgi' 'tan' 'black tan' 'foxhounds' 'cockers'\n",
      " 'hunting' 'hounds' 'trail' 'cattle' 'sheepdogs' 'working' 'easy groom'\n",
      " 'simple' 'ticking' 'howl' 'smooth' 'hunt' 'energy' 'hunters' 'scent'\n",
      " 'groom' 'bark' 'raccoons' 'switzerland' 'terriers' 'tree' 'playing ball']\n",
      "topic 7\n",
      "['corgi' 'collies' 'setters' 'hounds' 'herding' 'spitz' 'coonhounds'\n",
      " 'merle' 'black tan' 'tan' 'treeing' 'greyhounds' 'sable' 'pomeranians'\n",
      " 'wales' 'sighthound' 'coursing' 'scent' 'rough' 'foxhounds' 'beagles'\n",
      " 'disease' 'red' 'hunting' 'brindle' '1934' 'lure' 'red sable' 'chase'\n",
      " 'prey' 'lure coursing' 'smooth' 'min' 'racing' 'tricolor']\n",
      "topic 8\n",
      "['sennenhund' 'setters' 'corgi' 'switzerland' 'cattle' 'bulldogs' 'chin'\n",
      " 'heim' 'brussels' 'pugs' 'pomeranians' 'rust' 'luxation' 'little' 'pit'\n",
      " 'tan' 'monkey' 'easy groom' 'cattle dog' 'groom' 'black tan' 'coonhounds'\n",
      " 'treeing' 'markings' 'playing ball' 'spitz' 'pekingese' 'simple' 'min'\n",
      " 'patellar' 'patellar luxation' 'alps' 'dog 12' 'howl' 'tiny']\n",
      "topic 9\n",
      "['retrievers' 'corgi' 'flat coated' 'belgian' 'curly' 'coated' 'st'\n",
      " 'coated retrievers' 'flat' 'lab' 'labs' 'sennenhund' 'st john' 'yellow'\n",
      " 'hounds' 'shorthaired' 'bloodhounds' 'blood' 'chocolate' 'retrieving'\n",
      " 'switzerland' 'terriers' 'oily' 'john' 'alps' 'wolfhounds' 'hubert'\n",
      " 'otter' 'maryland' 'osteosarcoma' 'province' 'scent' 'john dog' 'liver'\n",
      " 'swimming']\n"
     ]
    }
   ],
   "source": [
    "for i in range(5, 10):\n",
    "    print(\"topic {}\".format(i))\n",
    "    print(get_topical_terms(dog_lsa.components_,i,terms, 35))"
   ]
  },
  {
   "cell_type": "code",
   "execution_count": null,
   "metadata": {
    "collapsed": true
   },
   "outputs": [],
   "source": []
  }
 ],
 "metadata": {
  "kernelspec": {
   "display_name": "Python 3",
   "language": "python",
   "name": "python3"
  },
  "language_info": {
   "codemirror_mode": {
    "name": "ipython",
    "version": 3
   },
   "file_extension": ".py",
   "mimetype": "text/x-python",
   "name": "python",
   "nbconvert_exporter": "python",
   "pygments_lexer": "ipython3",
   "version": "3.6.2"
  }
 },
 "nbformat": 4,
 "nbformat_minor": 2
}
