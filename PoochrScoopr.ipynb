{
 "cells": [
  {
   "cell_type": "code",
   "execution_count": 1,
   "metadata": {
    "collapsed": true
   },
   "outputs": [],
   "source": [
    "import pandas as pd\n",
    "import numpy as np\n",
    "from bs4 import BeautifulSoup\n",
    "import requests\n",
    "import random\n",
    "import os\n",
    "import re\n",
    "import time\n",
    "import matplotlib.pyplot as plt\n",
    "import seaborn as sns\n",
    "from fake_useragent import UserAgent\n",
    "import pymongo\n",
    "\n",
    "%matplotlib inline\n",
    "\n",
    "data_dir = os.path.join(os.path.curdir, \"data\")"
   ]
  },
  {
   "cell_type": "markdown",
   "metadata": {},
   "source": [
    "### Download Stanford dogs to start"
   ]
  },
  {
   "cell_type": "code",
   "execution_count": 3,
   "metadata": {
    "collapsed": true
   },
   "outputs": [],
   "source": [
    "if not os.path.exists(data_dir):\n",
    "    os.makedirs(data_dir)"
   ]
  },
  {
   "cell_type": "code",
   "execution_count": 5,
   "metadata": {},
   "outputs": [
    {
     "name": "stdout",
     "output_type": "stream",
     "text": [
      "--2017-09-01 23:00:16--  http://vision.stanford.edu/aditya86/ImageNetDogs/images.tar\n",
      "Resolving vision.stanford.edu (vision.stanford.edu)... 171.64.68.10\n",
      "Connecting to vision.stanford.edu (vision.stanford.edu)|171.64.68.10|:80... connected.\n",
      "HTTP request sent, awaiting response... 200 OK\n",
      "Length: 793579520 (757M) [application/x-tar]\n",
      "Saving to: ‘./data/images.tar’\n",
      "\n",
      "images.tar          100%[===================>] 756.82M  49.7MB/s    in 34s     \n",
      "\n",
      "2017-09-01 23:00:50 (22.3 MB/s) - ‘./data/images.tar’ saved [793579520/793579520]\n",
      "\n"
     ]
    }
   ],
   "source": [
    "!wget -P ./data/ http://vision.stanford.edu/aditya86/ImageNetDogs/images.tar "
   ]
  },
  {
   "cell_type": "code",
   "execution_count": 6,
   "metadata": {},
   "outputs": [
    {
     "name": "stdout",
     "output_type": "stream",
     "text": [
      "--2017-09-01 23:01:02--  http://vision.stanford.edu/aditya86/ImageNetDogs/annotation.tar\n",
      "Resolving vision.stanford.edu (vision.stanford.edu)... 171.64.68.10\n",
      "Connecting to vision.stanford.edu (vision.stanford.edu)|171.64.68.10|:80... connected.\n",
      "HTTP request sent, awaiting response... 200 OK\n",
      "Length: 21852160 (21M) [application/x-tar]\n",
      "Saving to: ‘./data/annotation.tar’\n",
      "\n",
      "annotation.tar      100%[===================>]  20.84M  22.5MB/s    in 0.9s    \n",
      "\n",
      "2017-09-01 23:01:03 (22.5 MB/s) - ‘./data/annotation.tar’ saved [21852160/21852160]\n",
      "\n"
     ]
    }
   ],
   "source": [
    "!wget -P ./data http://vision.stanford.edu/aditya86/ImageNetDogs/annotation.tar"
   ]
  },
  {
   "cell_type": "code",
   "execution_count": 7,
   "metadata": {},
   "outputs": [
    {
     "name": "stdout",
     "output_type": "stream",
     "text": [
      "--2017-09-01 23:01:20--  http://vision.stanford.edu/aditya86/ImageNetDogs/lists.tar\n",
      "Resolving vision.stanford.edu (vision.stanford.edu)... 171.64.68.10\n",
      "Connecting to vision.stanford.edu (vision.stanford.edu)|171.64.68.10|:80... connected.\n",
      "HTTP request sent, awaiting response... 200 OK\n",
      "Length: 481280 (470K) [application/x-tar]\n",
      "Saving to: ‘./data/lists.tar’\n",
      "\n",
      "lists.tar           100%[===================>] 470.00K  --.-KB/s    in 0.1s    \n",
      "\n",
      "2017-09-01 23:01:20 (3.60 MB/s) - ‘./data/lists.tar’ saved [481280/481280]\n",
      "\n"
     ]
    }
   ],
   "source": [
    "!wget -P ./data http://vision.stanford.edu/aditya86/ImageNetDogs/lists.tar"
   ]
  },
  {
   "cell_type": "code",
   "execution_count": 9,
   "metadata": {
    "collapsed": true
   },
   "outputs": [],
   "source": [
    "!tar -xf ./data/images.tar -C ./data/"
   ]
  },
  {
   "cell_type": "code",
   "execution_count": 10,
   "metadata": {
    "collapsed": true
   },
   "outputs": [],
   "source": [
    "!tar -xf ./data/annotation.tar -C ./data/"
   ]
  },
  {
   "cell_type": "code",
   "execution_count": 11,
   "metadata": {
    "collapsed": true
   },
   "outputs": [],
   "source": [
    "!tar -xf ./data/lists.tar -C ./data/"
   ]
  },
  {
   "cell_type": "markdown",
   "metadata": {},
   "source": [
    "### Gather names of dog breeds"
   ]
  },
  {
   "cell_type": "code",
   "execution_count": 45,
   "metadata": {
    "collapsed": true
   },
   "outputs": [],
   "source": [
    "image_dir = os.path.join(data_dir, 'Images')"
   ]
  },
  {
   "cell_type": "code",
   "execution_count": 46,
   "metadata": {
    "collapsed": true
   },
   "outputs": [],
   "source": [
    "dog_dirs = [direct for direct in os.listdir(image_dir)\\\n",
    "            if os.path.isdir(os.path.join(image_dir, direct))]"
   ]
  },
  {
   "cell_type": "code",
   "execution_count": 47,
   "metadata": {
    "collapsed": true
   },
   "outputs": [],
   "source": [
    "dog_breeds = sorted([dog.split('-', 1)[1].lower() for dog in dog_dirs])"
   ]
  },
  {
   "cell_type": "code",
   "execution_count": 48,
   "metadata": {
    "scrolled": true
   },
   "outputs": [
    {
     "data": {
      "text/plain": [
       "[(0, 'affenpinscher'),\n",
       " (1, 'afghan_hound'),\n",
       " (2, 'african_hunting_dog'),\n",
       " (3, 'airedale'),\n",
       " (4, 'american_staffordshire_terrier'),\n",
       " (5, 'appenzeller'),\n",
       " (6, 'australian_terrier'),\n",
       " (7, 'basenji'),\n",
       " (8, 'basset'),\n",
       " (9, 'beagle'),\n",
       " (10, 'bedlington_terrier'),\n",
       " (11, 'bernese_mountain_dog'),\n",
       " (12, 'black-and-tan_coonhound'),\n",
       " (13, 'blenheim_spaniel'),\n",
       " (14, 'bloodhound'),\n",
       " (15, 'bluetick'),\n",
       " (16, 'border_collie'),\n",
       " (17, 'border_terrier'),\n",
       " (18, 'borzoi'),\n",
       " (19, 'boston_bull'),\n",
       " (20, 'bouvier_des_flandres'),\n",
       " (21, 'boxer'),\n",
       " (22, 'brabancon_griffon'),\n",
       " (23, 'briard'),\n",
       " (24, 'brittany_spaniel'),\n",
       " (25, 'bull_mastiff'),\n",
       " (26, 'cairn'),\n",
       " (27, 'cardigan'),\n",
       " (28, 'chesapeake_bay_retriever'),\n",
       " (29, 'chihuahua'),\n",
       " (30, 'chow'),\n",
       " (31, 'clumber'),\n",
       " (32, 'cocker_spaniel'),\n",
       " (33, 'collie'),\n",
       " (34, 'curly-coated_retriever'),\n",
       " (35, 'dandie_dinmont'),\n",
       " (36, 'dhole'),\n",
       " (37, 'dingo'),\n",
       " (38, 'doberman'),\n",
       " (39, 'english_foxhound'),\n",
       " (40, 'english_setter'),\n",
       " (41, 'english_springer'),\n",
       " (42, 'entlebucher'),\n",
       " (43, 'eskimo_dog'),\n",
       " (44, 'flat-coated_retriever'),\n",
       " (45, 'french_bulldog'),\n",
       " (46, 'german_shepherd'),\n",
       " (47, 'german_short-haired_pointer'),\n",
       " (48, 'giant_schnauzer'),\n",
       " (49, 'golden_retriever'),\n",
       " (50, 'gordon_setter'),\n",
       " (51, 'great_dane'),\n",
       " (52, 'great_pyrenees'),\n",
       " (53, 'greater_swiss_mountain_dog'),\n",
       " (54, 'groenendael'),\n",
       " (55, 'ibizan_hound'),\n",
       " (56, 'irish_setter'),\n",
       " (57, 'irish_terrier'),\n",
       " (58, 'irish_water_spaniel'),\n",
       " (59, 'irish_wolfhound'),\n",
       " (60, 'italian_greyhound'),\n",
       " (61, 'japanese_spaniel'),\n",
       " (62, 'keeshond'),\n",
       " (63, 'kelpie'),\n",
       " (64, 'kerry_blue_terrier'),\n",
       " (65, 'komondor'),\n",
       " (66, 'kuvasz'),\n",
       " (67, 'labrador_retriever'),\n",
       " (68, 'lakeland_terrier'),\n",
       " (69, 'leonberg'),\n",
       " (70, 'lhasa'),\n",
       " (71, 'malamute'),\n",
       " (72, 'malinois'),\n",
       " (73, 'maltese_dog'),\n",
       " (74, 'mexican_hairless'),\n",
       " (75, 'miniature_pinscher'),\n",
       " (76, 'miniature_poodle'),\n",
       " (77, 'miniature_schnauzer'),\n",
       " (78, 'newfoundland'),\n",
       " (79, 'norfolk_terrier'),\n",
       " (80, 'norwegian_elkhound'),\n",
       " (81, 'norwich_terrier'),\n",
       " (82, 'old_english_sheepdog'),\n",
       " (83, 'otterhound'),\n",
       " (84, 'papillon'),\n",
       " (85, 'pekinese'),\n",
       " (86, 'pembroke'),\n",
       " (87, 'pomeranian'),\n",
       " (88, 'pug'),\n",
       " (89, 'redbone'),\n",
       " (90, 'rhodesian_ridgeback'),\n",
       " (91, 'rottweiler'),\n",
       " (92, 'saint_bernard'),\n",
       " (93, 'saluki'),\n",
       " (94, 'samoyed'),\n",
       " (95, 'schipperke'),\n",
       " (96, 'scotch_terrier'),\n",
       " (97, 'scottish_deerhound'),\n",
       " (98, 'sealyham_terrier'),\n",
       " (99, 'shetland_sheepdog'),\n",
       " (100, 'shih-tzu'),\n",
       " (101, 'siberian_husky'),\n",
       " (102, 'silky_terrier'),\n",
       " (103, 'soft-coated_wheaten_terrier'),\n",
       " (104, 'staffordshire_bullterrier'),\n",
       " (105, 'standard_poodle'),\n",
       " (106, 'standard_schnauzer'),\n",
       " (107, 'sussex_spaniel'),\n",
       " (108, 'tibetan_mastiff'),\n",
       " (109, 'tibetan_terrier'),\n",
       " (110, 'toy_poodle'),\n",
       " (111, 'toy_terrier'),\n",
       " (112, 'vizsla'),\n",
       " (113, 'walker_hound'),\n",
       " (114, 'weimaraner'),\n",
       " (115, 'welsh_springer_spaniel'),\n",
       " (116, 'west_highland_white_terrier'),\n",
       " (117, 'whippet'),\n",
       " (118, 'wire-haired_fox_terrier'),\n",
       " (119, 'yorkshire_terrier')]"
      ]
     },
     "execution_count": 48,
     "metadata": {},
     "output_type": "execute_result"
    }
   ],
   "source": [
    "list(enumerate(dog_breeds))"
   ]
  },
  {
   "cell_type": "markdown",
   "metadata": {},
   "source": [
    "These need to be adjusted for each website to be scraped, but will be used as keys for mongodb."
   ]
  },
  {
   "cell_type": "markdown",
   "metadata": {},
   "source": [
    "### Scrape Dogtime"
   ]
  },
  {
   "cell_type": "code",
   "execution_count": 49,
   "metadata": {},
   "outputs": [],
   "source": [
    "dogtime_breeds = [breed.replace(\"_\", \"-\") for breed in dog_breeds]\n",
    "dogtime_breeds[3] += \"-terrier\"\n",
    "dogtime_breeds[5] += \"-sennenhunde\"\n",
    "dogtime_breeds[8] += \"-hound\"\n",
    "dogtime_breeds[13] = \"cavalier-king-charles-spaniel\"\n",
    "dogtime_breeds[15] += \"-coonhound\"\n",
    "dogtime_breeds[19] = \"boston-terrier\"\n",
    "dogtime_breeds[22] = \"brussels-griffon\"\n",
    "dogtime_breeds[24] = \"brittany\"\n",
    "dogtime_breeds[25] = \"\".join(dogtime_breeds[25].split('-'))\n",
    "dogtime_breeds[26] += \"-terrier\"\n",
    "dogtime_breeds[27] += \"-welsh-corgi\"\n",
    "dogtime_breeds[30] += \"-chow\"\n",
    "dogtime_breeds[31] += \"-spaniel\"\n",
    "dogtime_breeds[35] += \"-terrier\"\n",
    "dogtime_breeds[38] += \"-pinscher\"\n",
    "dogtime_breeds[41] += \"-spaniel\"\n",
    "dogtime_breeds[42] += \"-mountain-dog\"\n",
    "dogtime_breeds[43] = \"american-eskimo-dog\"\n",
    "dogtime_breeds[44] += \"-dog\"\n",
    "dogtime_breeds[47] = \"german-shorthaired-pointer\"\n",
    "dogtime_breeds[54] = \"belgian-sheepdog\"\n",
    "dogtime_breeds[61] = \"japanese-chin\"\n",
    "dogtime_breeds[69] += \"er\"\n",
    "dogtime_breeds[70] += \"-apso\"\n",
    "dogtime_breeds[71] = \"alaskan-malamute\"\n",
    "dogtime_breeds[72] = \"belgian-malinois\"\n",
    "dogtime_breeds[73] = \"maltese\"\n",
    "dogtime_breeds[74] = \"xoloitzcuintli\"\n",
    "dogtime_breeds[85] = \"pekingese\"\n",
    "dogtime_breeds[86] += \"-welsh-corgi\"\n",
    "dogtime_breeds[89] += \"-coonhound\"\n",
    "dogtime_breeds[96] = \"scottish-terrier\"\n",
    "dogtime_breeds[105] = \"poodle\"\n",
    "dogtime_breeds[111] = \"toy-fox-terrier\"\n",
    "dogtime_breeds[113] = \"treeing-walker-coonhound\"\n",
    "dogtime_breeds[118] = \"fox-terrier\""
   ]
  },
  {
   "cell_type": "code",
   "execution_count": 50,
   "metadata": {},
   "outputs": [
    {
     "data": {
      "text/plain": [
       "[(0, 'affenpinscher'),\n",
       " (1, 'afghan-hound'),\n",
       " (2, 'african-hunting-dog'),\n",
       " (3, 'airedale-terrier'),\n",
       " (4, 'american-staffordshire-terrier'),\n",
       " (5, 'appenzeller-sennenhunde'),\n",
       " (6, 'australian-terrier'),\n",
       " (7, 'basenji'),\n",
       " (8, 'basset-hound'),\n",
       " (9, 'beagle'),\n",
       " (10, 'bedlington-terrier'),\n",
       " (11, 'bernese-mountain-dog'),\n",
       " (12, 'black-and-tan-coonhound'),\n",
       " (13, 'cavalier-king-charles-spaniel'),\n",
       " (14, 'bloodhound'),\n",
       " (15, 'bluetick-coonhound'),\n",
       " (16, 'border-collie'),\n",
       " (17, 'border-terrier'),\n",
       " (18, 'borzoi'),\n",
       " (19, 'boston-terrier'),\n",
       " (20, 'bouvier-des-flandres'),\n",
       " (21, 'boxer'),\n",
       " (22, 'brussels-griffon'),\n",
       " (23, 'briard'),\n",
       " (24, 'brittany'),\n",
       " (25, 'bullmastiff'),\n",
       " (26, 'cairn-terrier'),\n",
       " (27, 'cardigan-welsh-corgi'),\n",
       " (28, 'chesapeake-bay-retriever'),\n",
       " (29, 'chihuahua'),\n",
       " (30, 'chow-chow'),\n",
       " (31, 'clumber-spaniel'),\n",
       " (32, 'cocker-spaniel'),\n",
       " (33, 'collie'),\n",
       " (34, 'curly-coated-retriever'),\n",
       " (35, 'dandie-dinmont-terrier'),\n",
       " (36, 'dhole'),\n",
       " (37, 'dingo'),\n",
       " (38, 'doberman-pinscher'),\n",
       " (39, 'english-foxhound'),\n",
       " (40, 'english-setter'),\n",
       " (41, 'english-springer-spaniel'),\n",
       " (42, 'entlebucher-mountain-dog'),\n",
       " (43, 'american-eskimo-dog'),\n",
       " (44, 'flat-coated-retriever-dog'),\n",
       " (45, 'french-bulldog'),\n",
       " (46, 'german-shepherd'),\n",
       " (47, 'german-shorthaired-pointer'),\n",
       " (48, 'giant-schnauzer'),\n",
       " (49, 'golden-retriever'),\n",
       " (50, 'gordon-setter'),\n",
       " (51, 'great-dane'),\n",
       " (52, 'great-pyrenees'),\n",
       " (53, 'greater-swiss-mountain-dog'),\n",
       " (54, 'belgian-sheepdog'),\n",
       " (55, 'ibizan-hound'),\n",
       " (56, 'irish-setter'),\n",
       " (57, 'irish-terrier'),\n",
       " (58, 'irish-water-spaniel'),\n",
       " (59, 'irish-wolfhound'),\n",
       " (60, 'italian-greyhound'),\n",
       " (61, 'japanese-chin'),\n",
       " (62, 'keeshond'),\n",
       " (63, 'kelpie'),\n",
       " (64, 'kerry-blue-terrier'),\n",
       " (65, 'komondor'),\n",
       " (66, 'kuvasz'),\n",
       " (67, 'labrador-retriever'),\n",
       " (68, 'lakeland-terrier'),\n",
       " (69, 'leonberger'),\n",
       " (70, 'lhasa-apso'),\n",
       " (71, 'alaskan-malamute'),\n",
       " (72, 'belgian-malinois'),\n",
       " (73, 'maltese'),\n",
       " (74, 'xoloitzcuintli'),\n",
       " (75, 'miniature-pinscher'),\n",
       " (76, 'miniature-poodle'),\n",
       " (77, 'miniature-schnauzer'),\n",
       " (78, 'newfoundland'),\n",
       " (79, 'norfolk-terrier'),\n",
       " (80, 'norwegian-elkhound'),\n",
       " (81, 'norwich-terrier'),\n",
       " (82, 'old-english-sheepdog'),\n",
       " (83, 'otterhound'),\n",
       " (84, 'papillon'),\n",
       " (85, 'pekingese'),\n",
       " (86, 'pembroke-welsh-corgi'),\n",
       " (87, 'pomeranian'),\n",
       " (88, 'pug'),\n",
       " (89, 'redbone-coonhound'),\n",
       " (90, 'rhodesian-ridgeback'),\n",
       " (91, 'rottweiler'),\n",
       " (92, 'saint-bernard'),\n",
       " (93, 'saluki'),\n",
       " (94, 'samoyed'),\n",
       " (95, 'schipperke'),\n",
       " (96, 'scottish-terrier'),\n",
       " (97, 'scottish-deerhound'),\n",
       " (98, 'sealyham-terrier'),\n",
       " (99, 'shetland-sheepdog'),\n",
       " (100, 'shih-tzu'),\n",
       " (101, 'siberian-husky'),\n",
       " (102, 'silky-terrier'),\n",
       " (103, 'soft-coated-wheaten-terrier'),\n",
       " (104, 'staffordshire-bullterrier'),\n",
       " (105, 'poodle'),\n",
       " (106, 'standard-schnauzer'),\n",
       " (107, 'sussex-spaniel'),\n",
       " (108, 'tibetan-mastiff'),\n",
       " (109, 'tibetan-terrier'),\n",
       " (110, 'toy-poodle'),\n",
       " (111, 'toy-fox-terrier'),\n",
       " (112, 'vizsla'),\n",
       " (113, 'treeing-walker-coonhound'),\n",
       " (114, 'weimaraner'),\n",
       " (115, 'welsh-springer-spaniel'),\n",
       " (116, 'west-highland-white-terrier'),\n",
       " (117, 'whippet'),\n",
       " (118, 'fox-terrier'),\n",
       " (119, 'yorkshire-terrier')]"
      ]
     },
     "execution_count": 50,
     "metadata": {},
     "output_type": "execute_result"
    }
   ],
   "source": [
    "list(enumerate(dogtime_breeds))"
   ]
  },
  {
   "cell_type": "code",
   "execution_count": 51,
   "metadata": {
    "collapsed": true
   },
   "outputs": [],
   "source": [
    "dogtime_unused = [dogtime_breeds.pop(110),\n",
    "                    dogtime_breeds.pop(76),\n",
    "                    dogtime_breeds.pop(63),\n",
    "                    dogtime_breeds.pop(37),\n",
    "                    dogtime_breeds.pop(36),\n",
    "                    dogtime_breeds.pop(4),\n",
    "                    dogtime_breeds.pop(2)]"
   ]
  },
  {
   "cell_type": "code",
   "execution_count": 52,
   "metadata": {},
   "outputs": [
    {
     "data": {
      "text/plain": [
       "['toy-poodle',\n",
       " 'miniature-poodle',\n",
       " 'kelpie',\n",
       " 'dingo',\n",
       " 'dhole',\n",
       " 'american-staffordshire-terrier',\n",
       " 'african-hunting-dog']"
      ]
     },
     "execution_count": 52,
     "metadata": {},
     "output_type": "execute_result"
    }
   ],
   "source": [
    "dogtime_unused"
   ]
  },
  {
   "cell_type": "code",
   "execution_count": 53,
   "metadata": {
    "collapsed": true
   },
   "outputs": [],
   "source": [
    "unused_dog_breeds = [dog_breeds.pop(110),\n",
    "                    dog_breeds.pop(76),\n",
    "                    dog_breeds.pop(63),\n",
    "                    dog_breeds.pop(37),\n",
    "                    dog_breeds.pop(36),\n",
    "                    dog_breeds.pop(4),\n",
    "                    dog_breeds.pop(2)]"
   ]
  },
  {
   "cell_type": "code",
   "execution_count": 54,
   "metadata": {},
   "outputs": [
    {
     "data": {
      "text/plain": [
       "['toy_poodle',\n",
       " 'miniature_poodle',\n",
       " 'kelpie',\n",
       " 'dingo',\n",
       " 'dhole',\n",
       " 'american_staffordshire_terrier',\n",
       " 'african_hunting_dog']"
      ]
     },
     "execution_count": 54,
     "metadata": {},
     "output_type": "execute_result"
    }
   ],
   "source": [
    "unused_dog_breeds"
   ]
  },
  {
   "cell_type": "code",
   "execution_count": 55,
   "metadata": {},
   "outputs": [
    {
     "data": {
      "text/plain": [
       "[('affenpinscher', 'affenpinscher'),\n",
       " ('afghan_hound', 'afghan-hound'),\n",
       " ('airedale', 'airedale-terrier'),\n",
       " ('appenzeller', 'appenzeller-sennenhunde'),\n",
       " ('australian_terrier', 'australian-terrier'),\n",
       " ('basenji', 'basenji'),\n",
       " ('basset', 'basset-hound'),\n",
       " ('beagle', 'beagle'),\n",
       " ('bedlington_terrier', 'bedlington-terrier'),\n",
       " ('bernese_mountain_dog', 'bernese-mountain-dog'),\n",
       " ('black-and-tan_coonhound', 'black-and-tan-coonhound'),\n",
       " ('blenheim_spaniel', 'cavalier-king-charles-spaniel'),\n",
       " ('bloodhound', 'bloodhound'),\n",
       " ('bluetick', 'bluetick-coonhound'),\n",
       " ('border_collie', 'border-collie'),\n",
       " ('border_terrier', 'border-terrier'),\n",
       " ('borzoi', 'borzoi'),\n",
       " ('boston_bull', 'boston-terrier'),\n",
       " ('bouvier_des_flandres', 'bouvier-des-flandres'),\n",
       " ('boxer', 'boxer'),\n",
       " ('brabancon_griffon', 'brussels-griffon'),\n",
       " ('briard', 'briard'),\n",
       " ('brittany_spaniel', 'brittany'),\n",
       " ('bull_mastiff', 'bullmastiff'),\n",
       " ('cairn', 'cairn-terrier'),\n",
       " ('cardigan', 'cardigan-welsh-corgi'),\n",
       " ('chesapeake_bay_retriever', 'chesapeake-bay-retriever'),\n",
       " ('chihuahua', 'chihuahua'),\n",
       " ('chow', 'chow-chow'),\n",
       " ('clumber', 'clumber-spaniel'),\n",
       " ('cocker_spaniel', 'cocker-spaniel'),\n",
       " ('collie', 'collie'),\n",
       " ('curly-coated_retriever', 'curly-coated-retriever'),\n",
       " ('dandie_dinmont', 'dandie-dinmont-terrier'),\n",
       " ('doberman', 'doberman-pinscher'),\n",
       " ('english_foxhound', 'english-foxhound'),\n",
       " ('english_setter', 'english-setter'),\n",
       " ('english_springer', 'english-springer-spaniel'),\n",
       " ('entlebucher', 'entlebucher-mountain-dog'),\n",
       " ('eskimo_dog', 'american-eskimo-dog'),\n",
       " ('flat-coated_retriever', 'flat-coated-retriever-dog'),\n",
       " ('french_bulldog', 'french-bulldog'),\n",
       " ('german_shepherd', 'german-shepherd'),\n",
       " ('german_short-haired_pointer', 'german-shorthaired-pointer'),\n",
       " ('giant_schnauzer', 'giant-schnauzer'),\n",
       " ('golden_retriever', 'golden-retriever'),\n",
       " ('gordon_setter', 'gordon-setter'),\n",
       " ('great_dane', 'great-dane'),\n",
       " ('great_pyrenees', 'great-pyrenees'),\n",
       " ('greater_swiss_mountain_dog', 'greater-swiss-mountain-dog'),\n",
       " ('groenendael', 'belgian-sheepdog'),\n",
       " ('ibizan_hound', 'ibizan-hound'),\n",
       " ('irish_setter', 'irish-setter'),\n",
       " ('irish_terrier', 'irish-terrier'),\n",
       " ('irish_water_spaniel', 'irish-water-spaniel'),\n",
       " ('irish_wolfhound', 'irish-wolfhound'),\n",
       " ('italian_greyhound', 'italian-greyhound'),\n",
       " ('japanese_spaniel', 'japanese-chin'),\n",
       " ('keeshond', 'keeshond'),\n",
       " ('kerry_blue_terrier', 'kerry-blue-terrier'),\n",
       " ('komondor', 'komondor'),\n",
       " ('kuvasz', 'kuvasz'),\n",
       " ('labrador_retriever', 'labrador-retriever'),\n",
       " ('lakeland_terrier', 'lakeland-terrier'),\n",
       " ('leonberg', 'leonberger'),\n",
       " ('lhasa', 'lhasa-apso'),\n",
       " ('malamute', 'alaskan-malamute'),\n",
       " ('malinois', 'belgian-malinois'),\n",
       " ('maltese_dog', 'maltese'),\n",
       " ('mexican_hairless', 'xoloitzcuintli'),\n",
       " ('miniature_pinscher', 'miniature-pinscher'),\n",
       " ('miniature_schnauzer', 'miniature-schnauzer'),\n",
       " ('newfoundland', 'newfoundland'),\n",
       " ('norfolk_terrier', 'norfolk-terrier'),\n",
       " ('norwegian_elkhound', 'norwegian-elkhound'),\n",
       " ('norwich_terrier', 'norwich-terrier'),\n",
       " ('old_english_sheepdog', 'old-english-sheepdog'),\n",
       " ('otterhound', 'otterhound'),\n",
       " ('papillon', 'papillon'),\n",
       " ('pekinese', 'pekingese'),\n",
       " ('pembroke', 'pembroke-welsh-corgi'),\n",
       " ('pomeranian', 'pomeranian'),\n",
       " ('pug', 'pug'),\n",
       " ('redbone', 'redbone-coonhound'),\n",
       " ('rhodesian_ridgeback', 'rhodesian-ridgeback'),\n",
       " ('rottweiler', 'rottweiler'),\n",
       " ('saint_bernard', 'saint-bernard'),\n",
       " ('saluki', 'saluki'),\n",
       " ('samoyed', 'samoyed'),\n",
       " ('schipperke', 'schipperke'),\n",
       " ('scotch_terrier', 'scottish-terrier'),\n",
       " ('scottish_deerhound', 'scottish-deerhound'),\n",
       " ('sealyham_terrier', 'sealyham-terrier'),\n",
       " ('shetland_sheepdog', 'shetland-sheepdog'),\n",
       " ('shih-tzu', 'shih-tzu'),\n",
       " ('siberian_husky', 'siberian-husky'),\n",
       " ('silky_terrier', 'silky-terrier'),\n",
       " ('soft-coated_wheaten_terrier', 'soft-coated-wheaten-terrier'),\n",
       " ('staffordshire_bullterrier', 'staffordshire-bullterrier'),\n",
       " ('standard_poodle', 'poodle'),\n",
       " ('standard_schnauzer', 'standard-schnauzer'),\n",
       " ('sussex_spaniel', 'sussex-spaniel'),\n",
       " ('tibetan_mastiff', 'tibetan-mastiff'),\n",
       " ('tibetan_terrier', 'tibetan-terrier'),\n",
       " ('toy_terrier', 'toy-fox-terrier'),\n",
       " ('vizsla', 'vizsla'),\n",
       " ('walker_hound', 'treeing-walker-coonhound'),\n",
       " ('weimaraner', 'weimaraner'),\n",
       " ('welsh_springer_spaniel', 'welsh-springer-spaniel'),\n",
       " ('west_highland_white_terrier', 'west-highland-white-terrier'),\n",
       " ('whippet', 'whippet'),\n",
       " ('wire-haired_fox_terrier', 'fox-terrier'),\n",
       " ('yorkshire_terrier', 'yorkshire-terrier')]"
      ]
     },
     "execution_count": 55,
     "metadata": {},
     "output_type": "execute_result"
    }
   ],
   "source": [
    "list(zip(dog_breeds, dogtime_breeds))"
   ]
  },
  {
   "cell_type": "markdown",
   "metadata": {},
   "source": [
    "Remove unavailable breeds / wild dogs"
   ]
  },
  {
   "cell_type": "code",
   "execution_count": 11,
   "metadata": {
    "collapsed": true
   },
   "outputs": [],
   "source": [
    "dogtime_breed_url = \"http://dogtime.com/dog-breeds\"\n",
    "\n",
    "r = requests.get(dogtime_breed_url)\n",
    "\n",
    "dog_soup = BeautifulSoup(r.text, \"lxml\")"
   ]
  },
  {
   "cell_type": "code",
   "execution_count": 12,
   "metadata": {
    "collapsed": true
   },
   "outputs": [],
   "source": [
    "link = dog_soup.find_all(class_='group-list-item')[0].find('a')['href']\n",
    "image = dog_soup.find_all(class_='group-list-item')[0].find('img')['src']"
   ]
  },
  {
   "cell_type": "code",
   "execution_count": 13,
   "metadata": {},
   "outputs": [
    {
     "data": {
      "text/plain": [
       "('http://dogtime.com/dog-breeds/affenpinscher',\n",
       " 'http://cdn3-www.dogtime.com/assets/uploads/2011/01/file_23096_affenpinscher-300x189.jpg')"
      ]
     },
     "execution_count": 13,
     "metadata": {},
     "output_type": "execute_result"
    }
   ],
   "source": [
    "link, image"
   ]
  },
  {
   "cell_type": "code",
   "execution_count": 13,
   "metadata": {
    "collapsed": true
   },
   "outputs": [],
   "source": [
    "base_url = \"http://dogtime.com/dog-breeds/\"\n",
    "breed_links = [base_url+breed for breed in dogtime_breeds]"
   ]
  },
  {
   "cell_type": "code",
   "execution_count": 15,
   "metadata": {},
   "outputs": [
    {
     "data": {
      "text/plain": [
       "['http://dogtime.com/dog-breeds/affenpinscher',\n",
       " 'http://dogtime.com/dog-breeds/afghan-hound',\n",
       " 'http://dogtime.com/dog-breeds/airedale-terrier',\n",
       " 'http://dogtime.com/dog-breeds/appenzeller-sennenhunde',\n",
       " 'http://dogtime.com/dog-breeds/australian-terrier',\n",
       " 'http://dogtime.com/dog-breeds/basenji',\n",
       " 'http://dogtime.com/dog-breeds/basset-hound',\n",
       " 'http://dogtime.com/dog-breeds/beagle',\n",
       " 'http://dogtime.com/dog-breeds/bedlington-terrier',\n",
       " 'http://dogtime.com/dog-breeds/bernese-mountain-dog']"
      ]
     },
     "execution_count": 15,
     "metadata": {},
     "output_type": "execute_result"
    }
   ],
   "source": [
    "breed_links[:10]"
   ]
  },
  {
   "cell_type": "code",
   "execution_count": 33,
   "metadata": {
    "collapsed": true
   },
   "outputs": [],
   "source": [
    "client = pymongo.MongoClient(\"mongodb://54.67.76.74/dogbreeds\")"
   ]
  },
  {
   "cell_type": "code",
   "execution_count": 34,
   "metadata": {
    "collapsed": true
   },
   "outputs": [],
   "source": [
    "db = client.dogbreeds"
   ]
  },
  {
   "cell_type": "code",
   "execution_count": 14,
   "metadata": {},
   "outputs": [
    {
     "data": {
      "text/plain": [
       "'http://dogtime.com/dog-breeds/yorkshire-terrier'"
      ]
     },
     "execution_count": 14,
     "metadata": {},
     "output_type": "execute_result"
    }
   ],
   "source": [
    "breed_links[-1]"
   ]
  },
  {
   "cell_type": "code",
   "execution_count": 15,
   "metadata": {
    "collapsed": true
   },
   "outputs": [],
   "source": [
    "r = requests.get(breed_links[-1])\n",
    "dog_soup = BeautifulSoup(r.text, \"lxml\")"
   ]
  },
  {
   "cell_type": "code",
   "execution_count": 25,
   "metadata": {},
   "outputs": [],
   "source": [
    "content = dog_soup.find(class_=\"category-article-main\")"
   ]
  },
  {
   "cell_type": "code",
   "execution_count": 37,
   "metadata": {},
   "outputs": [],
   "source": [
    "failed_breeds = []\n",
    "for dog_breed, dogtime_breed in zip(dog_breeds, dogtime_breeds):\n",
    "    dog_url = base_url + dogtime_breed\n",
    "    try:\n",
    "        r = requests.get(dog_url)\n",
    "        r.raise_for_status()\n",
    "    except requests.exceptions.RequestException as e:\n",
    "        print(e)\n",
    "        print(dog_breed+\" failed!\")\n",
    "        failed_breeds.append(dogtime_breed)\n",
    "        time.sleep(random.uniform(3, 5))\n",
    "        continue\n",
    "    dog_soup = BeautifulSoup(r.text, \"lxml\")\n",
    "    dog_content = dog_soup.find(class_=\"category-article-main\")\n",
    "    db.dogbreeds.update_one({'breed' : dog_breed, 'url' : dog_url,\n",
    "                            'dogtime_content' : str(dog_content)})\n",
    "    time.sleep(random.uniform(3, 5))\n",
    "        "
   ]
  },
  {
   "cell_type": "markdown",
   "metadata": {},
   "source": [
    "### Scrape dogbreedinfo"
   ]
  },
  {
   "cell_type": "code",
   "execution_count": 59,
   "metadata": {},
   "outputs": [
    {
     "data": {
      "text/plain": [
       "[(0, 'affenpinscher'),\n",
       " (1, 'afghan_hound'),\n",
       " (2, 'airedale'),\n",
       " (3, 'appenzeller'),\n",
       " (4, 'australian_terrier'),\n",
       " (5, 'basenji'),\n",
       " (6, 'basset'),\n",
       " (7, 'beagle'),\n",
       " (8, 'bedlington_terrier'),\n",
       " (9, 'bernese_mountain_dog'),\n",
       " (10, 'black-and-tan_coonhound'),\n",
       " (11, 'blenheim_spaniel'),\n",
       " (12, 'bloodhound'),\n",
       " (13, 'bluetick'),\n",
       " (14, 'border_collie'),\n",
       " (15, 'border_terrier'),\n",
       " (16, 'borzoi'),\n",
       " (17, 'boston_bull'),\n",
       " (18, 'bouvier_des_flandres'),\n",
       " (19, 'boxer'),\n",
       " (20, 'brabancon_griffon'),\n",
       " (21, 'briard'),\n",
       " (22, 'brittany_spaniel'),\n",
       " (23, 'bull_mastiff'),\n",
       " (24, 'cairn'),\n",
       " (25, 'cardigan'),\n",
       " (26, 'chesapeake_bay_retriever'),\n",
       " (27, 'chihuahua'),\n",
       " (28, 'chow'),\n",
       " (29, 'clumber'),\n",
       " (30, 'cocker_spaniel'),\n",
       " (31, 'collie'),\n",
       " (32, 'curly-coated_retriever'),\n",
       " (33, 'dandie_dinmont'),\n",
       " (34, 'doberman'),\n",
       " (35, 'english_foxhound'),\n",
       " (36, 'english_setter'),\n",
       " (37, 'english_springer'),\n",
       " (38, 'entlebucher'),\n",
       " (39, 'eskimo_dog'),\n",
       " (40, 'flat-coated_retriever'),\n",
       " (41, 'french_bulldog'),\n",
       " (42, 'german_shepherd'),\n",
       " (43, 'german_short-haired_pointer'),\n",
       " (44, 'giant_schnauzer'),\n",
       " (45, 'golden_retriever'),\n",
       " (46, 'gordon_setter'),\n",
       " (47, 'great_dane'),\n",
       " (48, 'great_pyrenees'),\n",
       " (49, 'greater_swiss_mountain_dog'),\n",
       " (50, 'groenendael'),\n",
       " (51, 'ibizan_hound'),\n",
       " (52, 'irish_setter'),\n",
       " (53, 'irish_terrier'),\n",
       " (54, 'irish_water_spaniel'),\n",
       " (55, 'irish_wolfhound'),\n",
       " (56, 'italian_greyhound'),\n",
       " (57, 'japanese_spaniel'),\n",
       " (58, 'keeshond'),\n",
       " (59, 'kerry_blue_terrier'),\n",
       " (60, 'komondor'),\n",
       " (61, 'kuvasz'),\n",
       " (62, 'labrador_retriever'),\n",
       " (63, 'lakeland_terrier'),\n",
       " (64, 'leonberg'),\n",
       " (65, 'lhasa'),\n",
       " (66, 'malamute'),\n",
       " (67, 'malinois'),\n",
       " (68, 'maltese_dog'),\n",
       " (69, 'mexican_hairless'),\n",
       " (70, 'miniature_pinscher'),\n",
       " (71, 'miniature_schnauzer'),\n",
       " (72, 'newfoundland'),\n",
       " (73, 'norfolk_terrier'),\n",
       " (74, 'norwegian_elkhound'),\n",
       " (75, 'norwich_terrier'),\n",
       " (76, 'old_english_sheepdog'),\n",
       " (77, 'otterhound'),\n",
       " (78, 'papillon'),\n",
       " (79, 'pekinese'),\n",
       " (80, 'pembroke'),\n",
       " (81, 'pomeranian'),\n",
       " (82, 'pug'),\n",
       " (83, 'redbone'),\n",
       " (84, 'rhodesian_ridgeback'),\n",
       " (85, 'rottweiler'),\n",
       " (86, 'saint_bernard'),\n",
       " (87, 'saluki'),\n",
       " (88, 'samoyed'),\n",
       " (89, 'schipperke'),\n",
       " (90, 'scotch_terrier'),\n",
       " (91, 'scottish_deerhound'),\n",
       " (92, 'sealyham_terrier'),\n",
       " (93, 'shetland_sheepdog'),\n",
       " (94, 'shih-tzu'),\n",
       " (95, 'siberian_husky'),\n",
       " (96, 'silky_terrier'),\n",
       " (97, 'soft-coated_wheaten_terrier'),\n",
       " (98, 'staffordshire_bullterrier'),\n",
       " (99, 'standard_poodle'),\n",
       " (100, 'standard_schnauzer'),\n",
       " (101, 'sussex_spaniel'),\n",
       " (102, 'tibetan_mastiff'),\n",
       " (103, 'tibetan_terrier'),\n",
       " (104, 'toy_terrier'),\n",
       " (105, 'vizsla'),\n",
       " (106, 'walker_hound'),\n",
       " (107, 'weimaraner'),\n",
       " (108, 'welsh_springer_spaniel'),\n",
       " (109, 'west_highland_white_terrier'),\n",
       " (110, 'whippet'),\n",
       " (111, 'wire-haired_fox_terrier'),\n",
       " (112, 'yorkshire_terrier')]"
      ]
     },
     "execution_count": 59,
     "metadata": {},
     "output_type": "execute_result"
    }
   ],
   "source": [
    "list(enumerate(dog_breeds))"
   ]
  },
  {
   "cell_type": "code",
   "execution_count": 62,
   "metadata": {
    "collapsed": true
   },
   "outputs": [],
   "source": [
    "dogbreedinfo_breeds = [breed.replace(\"-\", \"\").replace(\"_\", \"\") for breed in dog_breeds]\n",
    "dogbreedinfo_breeds[1] = 'afghan'\n",
    "dogbreedinfo_breeds[3] = 'appenzell'\n",
    "dogbreedinfo_breeds[6] += 'hound'\n",
    "dogbreedinfo_breeds[9] = 'bernesemountain'\n",
    "dogbreedinfo_breeds[11] = 'cavalierkingcharlesspaniel'\n",
    "dogbreedinfo_breeds[17] = 'bostonterrier'\n",
    "dogbreedinfo_breeds[20] = 'griffon'\n",
    "dogbreedinfo_breeds[22] = 'brittany'\n",
    "dogbreedinfo_breeds[24] += 'terrier'\n",
    "dogbreedinfo_breeds[25] += 'corgi'\n",
    "dogbreedinfo_breeds[26] = 'chesapeakebay'\n",
    "dogbreedinfo_breeds[28] += 'chow'\n",
    "dogbreedinfo_breeds[29] += 'spaniel'\n",
    "dogbreedinfo_breeds[30] = 'cockers'\n",
    "dogbreedinfo_breeds[37] += 'spaniel'\n",
    "dogbreedinfo_breeds[39] = 'americaneskimo'\n",
    "dogbreedinfo_breeds[49] = 'greaterswissmountain'\n",
    "dogbreedinfo_breeds[50] = 'belgiangroenendael'\n",
    "dogbreedinfo_breeds[62] = 'labrador'\n",
    "dogbreedinfo_breeds[64] += 'er'\n",
    "dogbreedinfo_breeds[65] += 'apso'\n",
    "dogbreedinfo_breeds[66] = 'alaskanmalamute'\n",
    "dogbreedinfo_breeds[67] = 'belgianmalinois'\n",
    "dogbreedinfo_breeds[68] = 'maltese'\n",
    "dogbreedinfo_breeds[69] = 'xoloitzcuintle'\n",
    "dogbreedinfo_breeds[79] = 'pekingese'\n",
    "dogbreedinfo_breeds[80] += 'corgi'\n",
    "dogbreedinfo_breeds[83] += 'coonhound'\n",
    "dogbreedinfo_breeds[90] = 'scottishterrier'\n",
    "dogbreedinfo_breeds[101] = 'sussex'\n",
    "dogbreedinfo_breeds[104] = 'toyfoxterrier'\n",
    "dogbreedinfo_breeds[106] = 'treeingwalkercoonhound'\n",
    "dogbreedinfo_breeds[109] = 'westhighland'\n",
    "dogbreedinfo_breeds[111] = 'wirefoxterrier'"
   ]
  },
  {
   "cell_type": "code",
   "execution_count": 63,
   "metadata": {},
   "outputs": [
    {
     "data": {
      "text/plain": [
       "[('affenpinscher', 'affenpinscher'),\n",
       " ('afghan_hound', 'afghan'),\n",
       " ('airedale', 'airedale'),\n",
       " ('appenzeller', 'appenzell'),\n",
       " ('australian_terrier', 'australianterrier'),\n",
       " ('basenji', 'basenji'),\n",
       " ('basset', 'bassethound'),\n",
       " ('beagle', 'beagle'),\n",
       " ('bedlington_terrier', 'bedlingtonterrier'),\n",
       " ('bernese_mountain_dog', 'bernesemountain'),\n",
       " ('black-and-tan_coonhound', 'blackandtancoonhound'),\n",
       " ('blenheim_spaniel', 'cavalierkingcharlesspaniel'),\n",
       " ('bloodhound', 'bloodhound'),\n",
       " ('bluetick', 'bluetick'),\n",
       " ('border_collie', 'bordercollie'),\n",
       " ('border_terrier', 'borderterrier'),\n",
       " ('borzoi', 'borzoi'),\n",
       " ('boston_bull', 'bostonterrier'),\n",
       " ('bouvier_des_flandres', 'bouvierdesflandres'),\n",
       " ('boxer', 'boxer'),\n",
       " ('brabancon_griffon', 'griffon'),\n",
       " ('briard', 'briard'),\n",
       " ('brittany_spaniel', 'brittany'),\n",
       " ('bull_mastiff', 'bullmastiff'),\n",
       " ('cairn', 'cairnterrier'),\n",
       " ('cardigan', 'cardigancorgi'),\n",
       " ('chesapeake_bay_retriever', 'chesapeakebay'),\n",
       " ('chihuahua', 'chihuahua'),\n",
       " ('chow', 'chowchow'),\n",
       " ('clumber', 'clumberspaniel'),\n",
       " ('cocker_spaniel', 'cockers'),\n",
       " ('collie', 'collie'),\n",
       " ('curly-coated_retriever', 'curlycoatedretriever'),\n",
       " ('dandie_dinmont', 'dandiedinmont'),\n",
       " ('doberman', 'doberman'),\n",
       " ('english_foxhound', 'englishfoxhound'),\n",
       " ('english_setter', 'englishsetter'),\n",
       " ('english_springer', 'englishspringerspaniel'),\n",
       " ('entlebucher', 'entlebucher'),\n",
       " ('eskimo_dog', 'americaneskimo'),\n",
       " ('flat-coated_retriever', 'flatcoatedretriever'),\n",
       " ('french_bulldog', 'frenchbulldog'),\n",
       " ('german_shepherd', 'germanshepherd'),\n",
       " ('german_short-haired_pointer', 'germanshorthairedpointer'),\n",
       " ('giant_schnauzer', 'giantschnauzer'),\n",
       " ('golden_retriever', 'goldenretriever'),\n",
       " ('gordon_setter', 'gordonsetter'),\n",
       " ('great_dane', 'greatdane'),\n",
       " ('great_pyrenees', 'greatpyrenees'),\n",
       " ('greater_swiss_mountain_dog', 'greaterswissmountain'),\n",
       " ('groenendael', 'belgiangroenendael'),\n",
       " ('ibizan_hound', 'ibizanhound'),\n",
       " ('irish_setter', 'irishsetter'),\n",
       " ('irish_terrier', 'irishterrier'),\n",
       " ('irish_water_spaniel', 'irishwaterspaniel'),\n",
       " ('irish_wolfhound', 'irishwolfhound'),\n",
       " ('italian_greyhound', 'italiangreyhound'),\n",
       " ('japanese_spaniel', 'japanesespaniel'),\n",
       " ('keeshond', 'keeshond'),\n",
       " ('kerry_blue_terrier', 'kerryblueterrier'),\n",
       " ('komondor', 'komondor'),\n",
       " ('kuvasz', 'kuvasz'),\n",
       " ('labrador_retriever', 'labrador'),\n",
       " ('lakeland_terrier', 'lakelandterrier'),\n",
       " ('leonberg', 'leonberger'),\n",
       " ('lhasa', 'lhasaapso'),\n",
       " ('malamute', 'alaskanmalamute'),\n",
       " ('malinois', 'belgianmalinois'),\n",
       " ('maltese_dog', 'maltese'),\n",
       " ('mexican_hairless', 'xoloitzcuintle'),\n",
       " ('miniature_pinscher', 'miniaturepinscher'),\n",
       " ('miniature_schnauzer', 'miniatureschnauzer'),\n",
       " ('newfoundland', 'newfoundland'),\n",
       " ('norfolk_terrier', 'norfolkterrier'),\n",
       " ('norwegian_elkhound', 'norwegianelkhound'),\n",
       " ('norwich_terrier', 'norwichterrier'),\n",
       " ('old_english_sheepdog', 'oldenglishsheepdog'),\n",
       " ('otterhound', 'otterhound'),\n",
       " ('papillon', 'papillon'),\n",
       " ('pekinese', 'pekingese'),\n",
       " ('pembroke', 'pembrokecorgi'),\n",
       " ('pomeranian', 'pomeranian'),\n",
       " ('pug', 'pug'),\n",
       " ('redbone', 'redbonecoonhound'),\n",
       " ('rhodesian_ridgeback', 'rhodesianridgeback'),\n",
       " ('rottweiler', 'rottweiler'),\n",
       " ('saint_bernard', 'saintbernard'),\n",
       " ('saluki', 'saluki'),\n",
       " ('samoyed', 'samoyed'),\n",
       " ('schipperke', 'schipperke'),\n",
       " ('scotch_terrier', 'scottishterrier'),\n",
       " ('scottish_deerhound', 'scottishdeerhound'),\n",
       " ('sealyham_terrier', 'sealyhamterrier'),\n",
       " ('shetland_sheepdog', 'shetlandsheepdog'),\n",
       " ('shih-tzu', 'shihtzu'),\n",
       " ('siberian_husky', 'siberianhusky'),\n",
       " ('silky_terrier', 'silkyterrier'),\n",
       " ('soft-coated_wheaten_terrier', 'softcoatedwheatenterrier'),\n",
       " ('staffordshire_bullterrier', 'staffordshirebullterrier'),\n",
       " ('standard_poodle', 'standardpoodle'),\n",
       " ('standard_schnauzer', 'standardschnauzer'),\n",
       " ('sussex_spaniel', 'sussex'),\n",
       " ('tibetan_mastiff', 'tibetanmastiff'),\n",
       " ('tibetan_terrier', 'tibetanterrier'),\n",
       " ('toy_terrier', 'toyfoxterrier'),\n",
       " ('vizsla', 'vizsla'),\n",
       " ('walker_hound', 'treeingwalkercoonhound'),\n",
       " ('weimaraner', 'weimaraner'),\n",
       " ('welsh_springer_spaniel', 'welshspringerspaniel'),\n",
       " ('west_highland_white_terrier', 'westhighland'),\n",
       " ('whippet', 'whippet'),\n",
       " ('wire-haired_fox_terrier', 'wirefoxterrier'),\n",
       " ('yorkshire_terrier', 'yorkshireterrier')]"
      ]
     },
     "execution_count": 63,
     "metadata": {},
     "output_type": "execute_result"
    }
   ],
   "source": [
    "list(zip(dog_breeds, dogbreedinfo_breeds))"
   ]
  },
  {
   "cell_type": "code",
   "execution_count": 64,
   "metadata": {
    "collapsed": true
   },
   "outputs": [],
   "source": [
    "dogbreedinfo_url = \"https://www.dogbreedinfo.com/\"\n"
   ]
  },
  {
   "cell_type": "code",
   "execution_count": null,
   "metadata": {},
   "outputs": [],
   "source": []
  },
  {
   "cell_type": "code",
   "execution_count": null,
   "metadata": {},
   "outputs": [],
   "source": []
  },
  {
   "cell_type": "code",
   "execution_count": 88,
   "metadata": {},
   "outputs": [],
   "source": [
    "failed_breeds = []\n",
    "for dog_breed, dogbreedinfo_breed in zip(dog_breeds, dogbreedinfo_breeds):\n",
    "    dog_url = dogbreedinfo_url + dogbreedinfo_breed + \".htm\"\n",
    "    try:\n",
    "        r = requests.get(dog_url)\n",
    "        r.raise_for_status()\n",
    "    except requests.exceptions.RequestException as e:\n",
    "        print(e)\n",
    "        print(dog_breed+\" failed!\")\n",
    "        failed_breeds.append(dogbreedinfo_breed)\n",
    "        time.sleep(random.uniform(3, 5))\n",
    "        continue\n",
    "    dog_soup = BeautifulSoup(r.text, \"lxml\")\n",
    "    dog_content = dog_soup.find(class_=\"mainArea\")\n",
    "    db.dogbreeds.update_one({'breed' : dog_breed},{\"$set\" : {'dogbreedinfo_url' : dog_url,\n",
    "                            'dogbreedinfo_content' : str(dog_content)}})\n",
    "    time.sleep(random.uniform(3, 5))    "
   ]
  },
  {
   "cell_type": "code",
   "execution_count": null,
   "metadata": {},
   "outputs": [],
   "source": []
  },
  {
   "cell_type": "markdown",
   "metadata": {},
   "source": [
    "### Scrape wikipedia"
   ]
  },
  {
   "cell_type": "code",
   "execution_count": 90,
   "metadata": {},
   "outputs": [
    {
     "data": {
      "text/plain": [
       "[(0, 'affenpinscher'),\n",
       " (1, 'afghan_hound'),\n",
       " (2, 'airedale'),\n",
       " (3, 'appenzeller'),\n",
       " (4, 'australian_terrier'),\n",
       " (5, 'basenji'),\n",
       " (6, 'basset'),\n",
       " (7, 'beagle'),\n",
       " (8, 'bedlington_terrier'),\n",
       " (9, 'bernese_mountain_dog'),\n",
       " (10, 'black-and-tan_coonhound'),\n",
       " (11, 'blenheim_spaniel'),\n",
       " (12, 'bloodhound'),\n",
       " (13, 'bluetick'),\n",
       " (14, 'border_collie'),\n",
       " (15, 'border_terrier'),\n",
       " (16, 'borzoi'),\n",
       " (17, 'boston_bull'),\n",
       " (18, 'bouvier_des_flandres'),\n",
       " (19, 'boxer'),\n",
       " (20, 'brabancon_griffon'),\n",
       " (21, 'briard'),\n",
       " (22, 'brittany_spaniel'),\n",
       " (23, 'bull_mastiff'),\n",
       " (24, 'cairn'),\n",
       " (25, 'cardigan'),\n",
       " (26, 'chesapeake_bay_retriever'),\n",
       " (27, 'chihuahua'),\n",
       " (28, 'chow'),\n",
       " (29, 'clumber'),\n",
       " (30, 'cocker_spaniel'),\n",
       " (31, 'collie'),\n",
       " (32, 'curly-coated_retriever'),\n",
       " (33, 'dandie_dinmont'),\n",
       " (34, 'doberman'),\n",
       " (35, 'english_foxhound'),\n",
       " (36, 'english_setter'),\n",
       " (37, 'english_springer'),\n",
       " (38, 'entlebucher'),\n",
       " (39, 'eskimo_dog'),\n",
       " (40, 'flat-coated_retriever'),\n",
       " (41, 'french_bulldog'),\n",
       " (42, 'german_shepherd'),\n",
       " (43, 'german_short-haired_pointer'),\n",
       " (44, 'giant_schnauzer'),\n",
       " (45, 'golden_retriever'),\n",
       " (46, 'gordon_setter'),\n",
       " (47, 'great_dane'),\n",
       " (48, 'great_pyrenees'),\n",
       " (49, 'greater_swiss_mountain_dog'),\n",
       " (50, 'groenendael'),\n",
       " (51, 'ibizan_hound'),\n",
       " (52, 'irish_setter'),\n",
       " (53, 'irish_terrier'),\n",
       " (54, 'irish_water_spaniel'),\n",
       " (55, 'irish_wolfhound'),\n",
       " (56, 'italian_greyhound'),\n",
       " (57, 'japanese_spaniel'),\n",
       " (58, 'keeshond'),\n",
       " (59, 'kerry_blue_terrier'),\n",
       " (60, 'komondor'),\n",
       " (61, 'kuvasz'),\n",
       " (62, 'labrador_retriever'),\n",
       " (63, 'lakeland_terrier'),\n",
       " (64, 'leonberg'),\n",
       " (65, 'lhasa'),\n",
       " (66, 'malamute'),\n",
       " (67, 'malinois'),\n",
       " (68, 'maltese_dog'),\n",
       " (69, 'mexican_hairless'),\n",
       " (70, 'miniature_pinscher'),\n",
       " (71, 'miniature_schnauzer'),\n",
       " (72, 'newfoundland'),\n",
       " (73, 'norfolk_terrier'),\n",
       " (74, 'norwegian_elkhound'),\n",
       " (75, 'norwich_terrier'),\n",
       " (76, 'old_english_sheepdog'),\n",
       " (77, 'otterhound'),\n",
       " (78, 'papillon'),\n",
       " (79, 'pekinese'),\n",
       " (80, 'pembroke'),\n",
       " (81, 'pomeranian'),\n",
       " (82, 'pug'),\n",
       " (83, 'redbone'),\n",
       " (84, 'rhodesian_ridgeback'),\n",
       " (85, 'rottweiler'),\n",
       " (86, 'saint_bernard'),\n",
       " (87, 'saluki'),\n",
       " (88, 'samoyed'),\n",
       " (89, 'schipperke'),\n",
       " (90, 'scotch_terrier'),\n",
       " (91, 'scottish_deerhound'),\n",
       " (92, 'sealyham_terrier'),\n",
       " (93, 'shetland_sheepdog'),\n",
       " (94, 'shih-tzu'),\n",
       " (95, 'siberian_husky'),\n",
       " (96, 'silky_terrier'),\n",
       " (97, 'soft-coated_wheaten_terrier'),\n",
       " (98, 'staffordshire_bullterrier'),\n",
       " (99, 'standard_poodle'),\n",
       " (100, 'standard_schnauzer'),\n",
       " (101, 'sussex_spaniel'),\n",
       " (102, 'tibetan_mastiff'),\n",
       " (103, 'tibetan_terrier'),\n",
       " (104, 'toy_terrier'),\n",
       " (105, 'vizsla'),\n",
       " (106, 'walker_hound'),\n",
       " (107, 'weimaraner'),\n",
       " (108, 'welsh_springer_spaniel'),\n",
       " (109, 'west_highland_white_terrier'),\n",
       " (110, 'whippet'),\n",
       " (111, 'wire-haired_fox_terrier'),\n",
       " (112, 'yorkshire_terrier')]"
      ]
     },
     "execution_count": 90,
     "metadata": {},
     "output_type": "execute_result"
    }
   ],
   "source": [
    "list(enumerate(dog_breeds))"
   ]
  },
  {
   "cell_type": "code",
   "execution_count": 95,
   "metadata": {},
   "outputs": [],
   "source": [
    "wikipedia_breeds = [breed.replace(\"-\", \"_\").title() for breed in dog_breeds]\n",
    "wikipedia_breeds[2] += \"_Terrier\"\n",
    "wikipedia_breeds[3] += \"_Sennenhund\"\n",
    "wikipedia_breeds[6] += \"_Hound\"\n",
    "wikipedia_breeds[11] = \"Cavalier_King_Charles_Spaniel\"\n",
    "wikipedia_breeds[13] += \"_Coonhound\"\n",
    "wikipedia_breeds[17] = \"Boston_Terrier\"\n",
    "wikipedia_breeds[18] = \"Bouvier_des_Flandres\"\n",
    "wikipedia_breeds[20] = \"Griffon_Bruxellois\"\n",
    "wikipedia_breeds[23] = \"Bullmastiff\"\n",
    "wikipedia_breeds[24] += \"_Terrier\"\n",
    "wikipedia_breeds[25] += \"_Welsh_Corgi\"\n",
    "wikipedia_breeds[28] += \"_Chow\"\n",
    "wikipedia_breeds[29] += \"_Spaniel\"\n",
    "wikipedia_breeds[30] = \"English_Cocker_Spaniel\"\n",
    "wikipedia_breeds[31] = \"Rough_Collie\"\n",
    "wikipedia_breeds[33] += \"_Terrier\"\n",
    "wikipedia_breeds[34] += \"_Pinscher\"\n",
    "wikipedia_breeds[37] += \"_Spaniel\"\n",
    "wikipedia_breeds[38] = \"Entlebucher_Mountain_Dog\"\n",
    "wikipedia_breeds[39] = \"American_Eskimo_Dog\"\n",
    "wikipedia_breeds[40] = \"Flat-Coated_Retriever\"\n",
    "wikipedia_breeds[43] = \"German_Shorthaired_Pointer\"\n",
    "wikipedia_breeds[50] += \"_dog\"\n",
    "wikipedia_breeds[57] = \"Japanese_Chin\"\n",
    "wikipedia_breeds[64] += \"er\"\n",
    "wikipedia_breeds[65] += \"_Apso\"\n",
    "wikipedia_breeds[66] = \"Alaskan_Malamute\"\n",
    "wikipedia_breeds[67] += \"_dog\"\n",
    "wikipedia_breeds[68] = \"Maltese_(dog)\"\n",
    "wikipedia_breeds[69] += \"_Dog\"\n",
    "wikipedia_breeds[78] += \"_(dog)\"\n",
    "wikipedia_breeds[79] = \"Pekingese\"\n",
    "wikipedia_breeds[80] += \"_Welsh_Corgi\"\n",
    "wikipedia_breeds[83] += \"_Coonhound\"\n",
    "wikipedia_breeds[86] = \"St._Bernard_(dog)\"\n",
    "wikipedia_breeds[88] += \"_(dog)\"\n",
    "wikipedia_breeds[90] = \"Scottish_Terrier\"\n",
    "wikipedia_breeds[96] = \"Australian_Silky_Terrier\"\n",
    "wikipedia_breeds[97] = \"Soft-Coated_Wheaten_Terrier\"\n",
    "wikipedia_breeds[98] = \"Staffordshire_Bull_Terrier\"\n",
    "wikipedia_breeds[99] = \"Poodle\"\n",
    "wikipedia_breeds[104] = \"Toy_Fox_Terrier\"\n",
    "wikipedia_breeds[106] = \"Treeing_Walker_Coonhound\"\n",
    "wikipedia_breeds[111] = \"Wire_Fox_Terrier\""
   ]
  },
  {
   "cell_type": "code",
   "execution_count": 96,
   "metadata": {},
   "outputs": [
    {
     "data": {
      "text/plain": [
       "[('affenpinscher', 'Affenpinscher'),\n",
       " ('afghan_hound', 'Afghan_Hound'),\n",
       " ('airedale', 'Airedale_Terrier'),\n",
       " ('appenzeller', 'Appenzeller_Sennenhund'),\n",
       " ('australian_terrier', 'Australian_Terrier'),\n",
       " ('basenji', 'Basenji'),\n",
       " ('basset', 'Basset_Hound'),\n",
       " ('beagle', 'Beagle'),\n",
       " ('bedlington_terrier', 'Bedlington_Terrier'),\n",
       " ('bernese_mountain_dog', 'Bernese_Mountain_Dog'),\n",
       " ('black-and-tan_coonhound', 'Black_And_Tan_Coonhound'),\n",
       " ('blenheim_spaniel', 'Cavalier_King_Charles_Spaniel'),\n",
       " ('bloodhound', 'Bloodhound'),\n",
       " ('bluetick', 'Bluetick_Coonhound'),\n",
       " ('border_collie', 'Border_Collie'),\n",
       " ('border_terrier', 'Border_Terrier'),\n",
       " ('borzoi', 'Borzoi'),\n",
       " ('boston_bull', 'Boston_Terrier'),\n",
       " ('bouvier_des_flandres', 'Bouvier_des_Flandres'),\n",
       " ('boxer', 'Boxer'),\n",
       " ('brabancon_griffon', 'Griffon_Bruxellois'),\n",
       " ('briard', 'Briard'),\n",
       " ('brittany_spaniel', 'Brittany_Spaniel'),\n",
       " ('bull_mastiff', 'Bullmastiff'),\n",
       " ('cairn', 'Cairn_Terrier'),\n",
       " ('cardigan', 'Cardigan_Welsh_Corgi'),\n",
       " ('chesapeake_bay_retriever', 'Chesapeake_Bay_Retriever'),\n",
       " ('chihuahua', 'Chihuahua'),\n",
       " ('chow', 'Chow_Chow'),\n",
       " ('clumber', 'Clumber_Spaniel'),\n",
       " ('cocker_spaniel', 'English_Cocker_Spaniel'),\n",
       " ('collie', 'Rough_Collie'),\n",
       " ('curly-coated_retriever', 'Curly_Coated_Retriever'),\n",
       " ('dandie_dinmont', 'Dandie_Dinmont_Terrier'),\n",
       " ('doberman', 'Doberman_Pinscher'),\n",
       " ('english_foxhound', 'English_Foxhound'),\n",
       " ('english_setter', 'English_Setter'),\n",
       " ('english_springer', 'English_Springer_Spaniel'),\n",
       " ('entlebucher', 'Entlebucher_Mountain_Dog'),\n",
       " ('eskimo_dog', 'American_Eskimo_Dog'),\n",
       " ('flat-coated_retriever', 'Flat-Coated_Retriever'),\n",
       " ('french_bulldog', 'French_Bulldog'),\n",
       " ('german_shepherd', 'German_Shepherd'),\n",
       " ('german_short-haired_pointer', 'German_Shorthaired_Pointer'),\n",
       " ('giant_schnauzer', 'Giant_Schnauzer'),\n",
       " ('golden_retriever', 'Golden_Retriever'),\n",
       " ('gordon_setter', 'Gordon_Setter'),\n",
       " ('great_dane', 'Great_Dane'),\n",
       " ('great_pyrenees', 'Great_Pyrenees'),\n",
       " ('greater_swiss_mountain_dog', 'Greater_Swiss_Mountain_Dog'),\n",
       " ('groenendael', 'Groenendael_dog'),\n",
       " ('ibizan_hound', 'Ibizan_Hound'),\n",
       " ('irish_setter', 'Irish_Setter'),\n",
       " ('irish_terrier', 'Irish_Terrier'),\n",
       " ('irish_water_spaniel', 'Irish_Water_Spaniel'),\n",
       " ('irish_wolfhound', 'Irish_Wolfhound'),\n",
       " ('italian_greyhound', 'Italian_Greyhound'),\n",
       " ('japanese_spaniel', 'Japanese_Chin'),\n",
       " ('keeshond', 'Keeshond'),\n",
       " ('kerry_blue_terrier', 'Kerry_Blue_Terrier'),\n",
       " ('komondor', 'Komondor'),\n",
       " ('kuvasz', 'Kuvasz'),\n",
       " ('labrador_retriever', 'Labrador_Retriever'),\n",
       " ('lakeland_terrier', 'Lakeland_Terrier'),\n",
       " ('leonberg', 'Leonberger'),\n",
       " ('lhasa', 'Lhasa_Apso'),\n",
       " ('malamute', 'Alaskan_Malamute'),\n",
       " ('malinois', 'Malinois_dog'),\n",
       " ('maltese_dog', 'Maltese_(dog)'),\n",
       " ('mexican_hairless', 'Mexican_Hairless_Dog'),\n",
       " ('miniature_pinscher', 'Miniature_Pinscher'),\n",
       " ('miniature_schnauzer', 'Miniature_Schnauzer'),\n",
       " ('newfoundland', 'Newfoundland'),\n",
       " ('norfolk_terrier', 'Norfolk_Terrier'),\n",
       " ('norwegian_elkhound', 'Norwegian_Elkhound'),\n",
       " ('norwich_terrier', 'Norwich_Terrier'),\n",
       " ('old_english_sheepdog', 'Old_English_Sheepdog'),\n",
       " ('otterhound', 'Otterhound'),\n",
       " ('papillon', 'Papillon_(dog)'),\n",
       " ('pekinese', 'Pekingese'),\n",
       " ('pembroke', 'Pembroke_Welsh_Corgi'),\n",
       " ('pomeranian', 'Pomeranian'),\n",
       " ('pug', 'Pug'),\n",
       " ('redbone', 'Redbone_Coonhound'),\n",
       " ('rhodesian_ridgeback', 'Rhodesian_Ridgeback'),\n",
       " ('rottweiler', 'Rottweiler'),\n",
       " ('saint_bernard', 'St._Bernard_(dog)'),\n",
       " ('saluki', 'Saluki'),\n",
       " ('samoyed', 'Samoyed_(dog)'),\n",
       " ('schipperke', 'Schipperke'),\n",
       " ('scotch_terrier', 'Scottish_Terrier'),\n",
       " ('scottish_deerhound', 'Scottish_Deerhound'),\n",
       " ('sealyham_terrier', 'Sealyham_Terrier'),\n",
       " ('shetland_sheepdog', 'Shetland_Sheepdog'),\n",
       " ('shih-tzu', 'Shih_Tzu'),\n",
       " ('siberian_husky', 'Siberian_Husky'),\n",
       " ('silky_terrier', 'Australian_Silky_Terrier'),\n",
       " ('soft-coated_wheaten_terrier', 'Soft-Coated_Wheaten_Terrier'),\n",
       " ('staffordshire_bullterrier', 'Staffordshire_Bull_Terrier'),\n",
       " ('standard_poodle', 'Poodle'),\n",
       " ('standard_schnauzer', 'Standard_Schnauzer'),\n",
       " ('sussex_spaniel', 'Sussex_Spaniel'),\n",
       " ('tibetan_mastiff', 'Tibetan_Mastiff'),\n",
       " ('tibetan_terrier', 'Tibetan_Terrier'),\n",
       " ('toy_terrier', 'Toy_Fox_Terrier'),\n",
       " ('vizsla', 'Vizsla'),\n",
       " ('walker_hound', 'Treeing_Walker_Coonhound'),\n",
       " ('weimaraner', 'Weimaraner'),\n",
       " ('welsh_springer_spaniel', 'Welsh_Springer_Spaniel'),\n",
       " ('west_highland_white_terrier', 'West_Highland_White_Terrier'),\n",
       " ('whippet', 'Whippet'),\n",
       " ('wire-haired_fox_terrier', 'Wire_Fox_Terrier'),\n",
       " ('yorkshire_terrier', 'Yorkshire_Terrier')]"
      ]
     },
     "execution_count": 96,
     "metadata": {},
     "output_type": "execute_result"
    }
   ],
   "source": [
    "list(zip(dog_breeds, wikipedia_breeds))"
   ]
  },
  {
   "cell_type": "code",
   "execution_count": null,
   "metadata": {},
   "outputs": [],
   "source": []
  },
  {
   "cell_type": "code",
   "execution_count": 103,
   "metadata": {},
   "outputs": [],
   "source": [
    "headers = {\n",
    "    'User-Agent' : 'PoochrScoopr',\n",
    "    'From' : 'aawiegel@gmail.com'\n",
    "}"
   ]
  },
  {
   "cell_type": "code",
   "execution_count": 104,
   "metadata": {
    "collapsed": true
   },
   "outputs": [],
   "source": [
    "wikipedia_api = \"https://en.wikipedia.org/api/rest_v1/page/html/\" #Afghan_Hound?redirect=true\""
   ]
  },
  {
   "cell_type": "code",
   "execution_count": 105,
   "metadata": {
    "collapsed": true
   },
   "outputs": [],
   "source": [
    "failed_breeds = []\n",
    "for dog_breed, wikipedia_breed in zip(dog_breeds, wikipedia_breeds):\n",
    "    dog_url = wikipedia_api + wikipedia_breed + \"?redirect=true\"\n",
    "    try:\n",
    "        r = requests.get(dog_url, headers=headers)\n",
    "        r.raise_for_status()\n",
    "    except requests.exceptions.RequestException as e:\n",
    "        print(e)\n",
    "        print(dog_breed+\" failed!\")\n",
    "        failed_breeds.append(dogbreedinfo_breed)\n",
    "        time.sleep(random.uniform(1, 2))\n",
    "        continue\n",
    "    db.dogbreeds.update_one({'breed' : dog_breed},{\"$set\" : {'wikipedia_url' : dog_url,\n",
    "                            'wikipedia_content' : str(r.text)}})\n",
    "    time.sleep(random.uniform(1, 2)) "
   ]
  },
  {
   "cell_type": "code",
   "execution_count": null,
   "metadata": {
    "scrolled": true
   },
   "outputs": [],
   "source": []
  },
  {
   "cell_type": "code",
   "execution_count": null,
   "metadata": {
    "collapsed": true
   },
   "outputs": [],
   "source": []
  }
 ],
 "metadata": {
  "kernelspec": {
   "display_name": "Python 3",
   "language": "python",
   "name": "python3"
  },
  "language_info": {
   "codemirror_mode": {
    "name": "ipython",
    "version": 3
   },
   "file_extension": ".py",
   "mimetype": "text/x-python",
   "name": "python",
   "nbconvert_exporter": "python",
   "pygments_lexer": "ipython3",
   "version": "3.6.1"
  }
 },
 "nbformat": 4,
 "nbformat_minor": 2
}
