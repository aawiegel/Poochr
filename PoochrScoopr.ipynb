{
 "cells": [
  {
   "cell_type": "code",
   "execution_count": 1,
   "metadata": {
    "collapsed": true
   },
   "outputs": [],
   "source": [
    "import pandas as pd\n",
    "import numpy as np\n",
    "from bs4 import BeautifulSoup\n",
    "import requests\n",
    "import random\n",
    "import os\n",
    "import re\n",
    "import time\n",
    "import matplotlib.pyplot as plt\n",
    "import seaborn as sns\n",
    "from fake_useragent import UserAgent\n",
    "import pymongo\n",
    "\n",
    "%matplotlib inline\n",
    "\n",
    "data_dir = os.path.join(os.path.curdir, \"data\")"
   ]
  },
  {
   "cell_type": "markdown",
   "metadata": {},
   "source": [
    "### Download Stanford dogs to start"
   ]
  },
  {
   "cell_type": "code",
   "execution_count": 3,
   "metadata": {
    "collapsed": true
   },
   "outputs": [],
   "source": [
    "if not os.path.exists(data_dir):\n",
    "    os.makedirs(data_dir)"
   ]
  },
  {
   "cell_type": "code",
   "execution_count": 5,
   "metadata": {},
   "outputs": [
    {
     "name": "stdout",
     "output_type": "stream",
     "text": [
      "--2017-09-01 23:00:16--  http://vision.stanford.edu/aditya86/ImageNetDogs/images.tar\n",
      "Resolving vision.stanford.edu (vision.stanford.edu)... 171.64.68.10\n",
      "Connecting to vision.stanford.edu (vision.stanford.edu)|171.64.68.10|:80... connected.\n",
      "HTTP request sent, awaiting response... 200 OK\n",
      "Length: 793579520 (757M) [application/x-tar]\n",
      "Saving to: ‘./data/images.tar’\n",
      "\n",
      "images.tar          100%[===================>] 756.82M  49.7MB/s    in 34s     \n",
      "\n",
      "2017-09-01 23:00:50 (22.3 MB/s) - ‘./data/images.tar’ saved [793579520/793579520]\n",
      "\n"
     ]
    }
   ],
   "source": [
    "!wget -P ./data/ http://vision.stanford.edu/aditya86/ImageNetDogs/images.tar "
   ]
  },
  {
   "cell_type": "code",
   "execution_count": 6,
   "metadata": {},
   "outputs": [
    {
     "name": "stdout",
     "output_type": "stream",
     "text": [
      "--2017-09-01 23:01:02--  http://vision.stanford.edu/aditya86/ImageNetDogs/annotation.tar\n",
      "Resolving vision.stanford.edu (vision.stanford.edu)... 171.64.68.10\n",
      "Connecting to vision.stanford.edu (vision.stanford.edu)|171.64.68.10|:80... connected.\n",
      "HTTP request sent, awaiting response... 200 OK\n",
      "Length: 21852160 (21M) [application/x-tar]\n",
      "Saving to: ‘./data/annotation.tar’\n",
      "\n",
      "annotation.tar      100%[===================>]  20.84M  22.5MB/s    in 0.9s    \n",
      "\n",
      "2017-09-01 23:01:03 (22.5 MB/s) - ‘./data/annotation.tar’ saved [21852160/21852160]\n",
      "\n"
     ]
    }
   ],
   "source": [
    "!wget -P ./data http://vision.stanford.edu/aditya86/ImageNetDogs/annotation.tar"
   ]
  },
  {
   "cell_type": "code",
   "execution_count": 7,
   "metadata": {},
   "outputs": [
    {
     "name": "stdout",
     "output_type": "stream",
     "text": [
      "--2017-09-01 23:01:20--  http://vision.stanford.edu/aditya86/ImageNetDogs/lists.tar\n",
      "Resolving vision.stanford.edu (vision.stanford.edu)... 171.64.68.10\n",
      "Connecting to vision.stanford.edu (vision.stanford.edu)|171.64.68.10|:80... connected.\n",
      "HTTP request sent, awaiting response... 200 OK\n",
      "Length: 481280 (470K) [application/x-tar]\n",
      "Saving to: ‘./data/lists.tar’\n",
      "\n",
      "lists.tar           100%[===================>] 470.00K  --.-KB/s    in 0.1s    \n",
      "\n",
      "2017-09-01 23:01:20 (3.60 MB/s) - ‘./data/lists.tar’ saved [481280/481280]\n",
      "\n"
     ]
    }
   ],
   "source": [
    "!wget -P ./data http://vision.stanford.edu/aditya86/ImageNetDogs/lists.tar"
   ]
  },
  {
   "cell_type": "code",
   "execution_count": 9,
   "metadata": {
    "collapsed": true
   },
   "outputs": [],
   "source": [
    "!tar -xf ./data/images.tar -C ./data/"
   ]
  },
  {
   "cell_type": "code",
   "execution_count": 10,
   "metadata": {
    "collapsed": true
   },
   "outputs": [],
   "source": [
    "!tar -xf ./data/annotation.tar -C ./data/"
   ]
  },
  {
   "cell_type": "code",
   "execution_count": 11,
   "metadata": {
    "collapsed": true
   },
   "outputs": [],
   "source": [
    "!tar -xf ./data/lists.tar -C ./data/"
   ]
  },
  {
   "cell_type": "markdown",
   "metadata": {},
   "source": [
    "### Gather names of dog breeds"
   ]
  },
  {
   "cell_type": "code",
   "execution_count": 45,
   "metadata": {
    "collapsed": true
   },
   "outputs": [],
   "source": [
    "image_dir = os.path.join(data_dir, 'Images')"
   ]
  },
  {
   "cell_type": "code",
   "execution_count": 46,
   "metadata": {
    "collapsed": true
   },
   "outputs": [],
   "source": [
    "dog_dirs = [direct for direct in os.listdir(image_dir)\\\n",
    "            if os.path.isdir(os.path.join(image_dir, direct))]"
   ]
  },
  {
   "cell_type": "code",
   "execution_count": 47,
   "metadata": {
    "collapsed": true
   },
   "outputs": [],
   "source": [
    "dog_breeds = sorted([dog.split('-', 1)[1].lower() for dog in dog_dirs])"
   ]
  },
  {
   "cell_type": "code",
   "execution_count": 48,
   "metadata": {
    "scrolled": true
   },
   "outputs": [
    {
     "data": {
      "text/plain": [
       "[(0, 'affenpinscher'),\n",
       " (1, 'afghan_hound'),\n",
       " (2, 'african_hunting_dog'),\n",
       " (3, 'airedale'),\n",
       " (4, 'american_staffordshire_terrier'),\n",
       " (5, 'appenzeller'),\n",
       " (6, 'australian_terrier'),\n",
       " (7, 'basenji'),\n",
       " (8, 'basset'),\n",
       " (9, 'beagle'),\n",
       " (10, 'bedlington_terrier'),\n",
       " (11, 'bernese_mountain_dog'),\n",
       " (12, 'black-and-tan_coonhound'),\n",
       " (13, 'blenheim_spaniel'),\n",
       " (14, 'bloodhound'),\n",
       " (15, 'bluetick'),\n",
       " (16, 'border_collie'),\n",
       " (17, 'border_terrier'),\n",
       " (18, 'borzoi'),\n",
       " (19, 'boston_bull'),\n",
       " (20, 'bouvier_des_flandres'),\n",
       " (21, 'boxer'),\n",
       " (22, 'brabancon_griffon'),\n",
       " (23, 'briard'),\n",
       " (24, 'brittany_spaniel'),\n",
       " (25, 'bull_mastiff'),\n",
       " (26, 'cairn'),\n",
       " (27, 'cardigan'),\n",
       " (28, 'chesapeake_bay_retriever'),\n",
       " (29, 'chihuahua'),\n",
       " (30, 'chow'),\n",
       " (31, 'clumber'),\n",
       " (32, 'cocker_spaniel'),\n",
       " (33, 'collie'),\n",
       " (34, 'curly-coated_retriever'),\n",
       " (35, 'dandie_dinmont'),\n",
       " (36, 'dhole'),\n",
       " (37, 'dingo'),\n",
       " (38, 'doberman'),\n",
       " (39, 'english_foxhound'),\n",
       " (40, 'english_setter'),\n",
       " (41, 'english_springer'),\n",
       " (42, 'entlebucher'),\n",
       " (43, 'eskimo_dog'),\n",
       " (44, 'flat-coated_retriever'),\n",
       " (45, 'french_bulldog'),\n",
       " (46, 'german_shepherd'),\n",
       " (47, 'german_short-haired_pointer'),\n",
       " (48, 'giant_schnauzer'),\n",
       " (49, 'golden_retriever'),\n",
       " (50, 'gordon_setter'),\n",
       " (51, 'great_dane'),\n",
       " (52, 'great_pyrenees'),\n",
       " (53, 'greater_swiss_mountain_dog'),\n",
       " (54, 'groenendael'),\n",
       " (55, 'ibizan_hound'),\n",
       " (56, 'irish_setter'),\n",
       " (57, 'irish_terrier'),\n",
       " (58, 'irish_water_spaniel'),\n",
       " (59, 'irish_wolfhound'),\n",
       " (60, 'italian_greyhound'),\n",
       " (61, 'japanese_spaniel'),\n",
       " (62, 'keeshond'),\n",
       " (63, 'kelpie'),\n",
       " (64, 'kerry_blue_terrier'),\n",
       " (65, 'komondor'),\n",
       " (66, 'kuvasz'),\n",
       " (67, 'labrador_retriever'),\n",
       " (68, 'lakeland_terrier'),\n",
       " (69, 'leonberg'),\n",
       " (70, 'lhasa'),\n",
       " (71, 'malamute'),\n",
       " (72, 'malinois'),\n",
       " (73, 'maltese_dog'),\n",
       " (74, 'mexican_hairless'),\n",
       " (75, 'miniature_pinscher'),\n",
       " (76, 'miniature_poodle'),\n",
       " (77, 'miniature_schnauzer'),\n",
       " (78, 'newfoundland'),\n",
       " (79, 'norfolk_terrier'),\n",
       " (80, 'norwegian_elkhound'),\n",
       " (81, 'norwich_terrier'),\n",
       " (82, 'old_english_sheepdog'),\n",
       " (83, 'otterhound'),\n",
       " (84, 'papillon'),\n",
       " (85, 'pekinese'),\n",
       " (86, 'pembroke'),\n",
       " (87, 'pomeranian'),\n",
       " (88, 'pug'),\n",
       " (89, 'redbone'),\n",
       " (90, 'rhodesian_ridgeback'),\n",
       " (91, 'rottweiler'),\n",
       " (92, 'saint_bernard'),\n",
       " (93, 'saluki'),\n",
       " (94, 'samoyed'),\n",
       " (95, 'schipperke'),\n",
       " (96, 'scotch_terrier'),\n",
       " (97, 'scottish_deerhound'),\n",
       " (98, 'sealyham_terrier'),\n",
       " (99, 'shetland_sheepdog'),\n",
       " (100, 'shih-tzu'),\n",
       " (101, 'siberian_husky'),\n",
       " (102, 'silky_terrier'),\n",
       " (103, 'soft-coated_wheaten_terrier'),\n",
       " (104, 'staffordshire_bullterrier'),\n",
       " (105, 'standard_poodle'),\n",
       " (106, 'standard_schnauzer'),\n",
       " (107, 'sussex_spaniel'),\n",
       " (108, 'tibetan_mastiff'),\n",
       " (109, 'tibetan_terrier'),\n",
       " (110, 'toy_poodle'),\n",
       " (111, 'toy_terrier'),\n",
       " (112, 'vizsla'),\n",
       " (113, 'walker_hound'),\n",
       " (114, 'weimaraner'),\n",
       " (115, 'welsh_springer_spaniel'),\n",
       " (116, 'west_highland_white_terrier'),\n",
       " (117, 'whippet'),\n",
       " (118, 'wire-haired_fox_terrier'),\n",
       " (119, 'yorkshire_terrier')]"
      ]
     },
     "execution_count": 48,
     "metadata": {},
     "output_type": "execute_result"
    }
   ],
   "source": [
    "list(enumerate(dog_breeds))"
   ]
  },
  {
   "cell_type": "markdown",
   "metadata": {},
   "source": [
    "These need to be adjusted for each website to be scraped, but will be used as keys for mongodb."
   ]
  },
  {
   "cell_type": "markdown",
   "metadata": {},
   "source": [
    "### Scrape Dogtime"
   ]
  },
  {
   "cell_type": "code",
   "execution_count": 49,
   "metadata": {
    "collapsed": true
   },
   "outputs": [],
   "source": [
    "dogtime_breeds = [breed.replace(\"_\", \"-\") for breed in dog_breeds]\n",
    "dogtime_breeds[3] += \"-terrier\"\n",
    "dogtime_breeds[4] = \"american-pit-bull-terrier\"\n",
    "dogtime_breeds[5] += \"-sennenhunde\"\n",
    "dogtime_breeds[8] += \"-hound\"\n",
    "dogtime_breeds[13] = \"cavalier-king-charles-spaniel\"\n",
    "dogtime_breeds[15] += \"-coonhound\"\n",
    "dogtime_breeds[19] = \"boston-terrier\"\n",
    "dogtime_breeds[22] = \"brussels-griffon\"\n",
    "dogtime_breeds[24] = \"brittany\"\n",
    "dogtime_breeds[25] = \"\".join(dogtime_breeds[25].split('-'))\n",
    "dogtime_breeds[26] += \"-terrier\"\n",
    "dogtime_breeds[27] += \"-welsh-corgi\"\n",
    "dogtime_breeds[30] += \"-chow\"\n",
    "dogtime_breeds[31] += \"-spaniel\"\n",
    "dogtime_breeds[35] += \"-terrier\"\n",
    "dogtime_breeds[38] += \"-pinscher\"\n",
    "dogtime_breeds[41] += \"-spaniel\"\n",
    "dogtime_breeds[42] += \"-mountain-dog\"\n",
    "dogtime_breeds[43] = \"american-eskimo-dog\"\n",
    "dogtime_breeds[44] += \"-dog\"\n",
    "dogtime_breeds[47] = \"german-shorthaired-pointer\"\n",
    "dogtime_breeds[54] = \"belgian-sheepdog\"\n",
    "dogtime_breeds[61] = \"japanese-chin\"\n",
    "dogtime_breeds[69] += \"er\"\n",
    "dogtime_breeds[70] += \"-apso\"\n",
    "dogtime_breeds[71] = \"alaskan-malamute\"\n",
    "dogtime_breeds[72] = \"belgian-malinois\"\n",
    "dogtime_breeds[73] = \"maltese\"\n",
    "dogtime_breeds[74] = \"xoloitzcuintli\"\n",
    "dogtime_breeds[85] = \"pekingese\"\n",
    "dogtime_breeds[86] += \"-welsh-corgi\"\n",
    "dogtime_breeds[89] += \"-coonhound\"\n",
    "dogtime_breeds[96] = \"scottish-terrier\"\n",
    "dogtime_breeds[105] = \"poodle\"\n",
    "dogtime_breeds[111] = \"toy-fox-terrier\"\n",
    "dogtime_breeds[113] = \"treeing-walker-coonhound\"\n",
    "dogtime_breeds[118] = \"fox-terrier\""
   ]
  },
  {
   "cell_type": "code",
   "execution_count": 25,
   "metadata": {},
   "outputs": [
    {
     "data": {
      "text/plain": [
       "[(0, 'affenpinscher'),\n",
       " (1, 'afghan-hound'),\n",
       " (2, 'american-pit-bull-terrier'),\n",
       " (3, 'airedale-terrier'),\n",
       " (4, 'american-staffordshire-terrier'),\n",
       " (5, 'appenzeller-sennenhunde'),\n",
       " (6, 'australian-terrier'),\n",
       " (7, 'basenji'),\n",
       " (8, 'basset-hound'),\n",
       " (9, 'beagle'),\n",
       " (10, 'bedlington-terrier'),\n",
       " (11, 'bernese-mountain-dog'),\n",
       " (12, 'black-and-tan-coonhound'),\n",
       " (13, 'cavalier-king-charles-spaniel'),\n",
       " (14, 'bloodhound'),\n",
       " (15, 'bluetick-coonhound'),\n",
       " (16, 'border-collie'),\n",
       " (17, 'border-terrier'),\n",
       " (18, 'borzoi'),\n",
       " (19, 'boston-terrier'),\n",
       " (20, 'bouvier-des-flandres'),\n",
       " (21, 'boxer'),\n",
       " (22, 'brussels-griffon'),\n",
       " (23, 'briard'),\n",
       " (24, 'brittany'),\n",
       " (25, 'bullmastiff'),\n",
       " (26, 'cairn-terrier'),\n",
       " (27, 'cardigan-welsh-corgi'),\n",
       " (28, 'chesapeake-bay-retriever'),\n",
       " (29, 'chihuahua'),\n",
       " (30, 'chow-chow'),\n",
       " (31, 'clumber-spaniel'),\n",
       " (32, 'cocker-spaniel'),\n",
       " (33, 'collie'),\n",
       " (34, 'curly-coated-retriever'),\n",
       " (35, 'dandie-dinmont-terrier'),\n",
       " (36, 'dhole'),\n",
       " (37, 'dingo'),\n",
       " (38, 'doberman-pinscher'),\n",
       " (39, 'english-foxhound'),\n",
       " (40, 'english-setter'),\n",
       " (41, 'english-springer-spaniel'),\n",
       " (42, 'entlebucher-mountain-dog'),\n",
       " (43, 'american-eskimo-dog'),\n",
       " (44, 'flat-coated-retriever-dog'),\n",
       " (45, 'french-bulldog'),\n",
       " (46, 'german-shepherd'),\n",
       " (47, 'german-shorthaired-pointer'),\n",
       " (48, 'giant-schnauzer'),\n",
       " (49, 'golden-retriever'),\n",
       " (50, 'gordon-setter'),\n",
       " (51, 'great-dane'),\n",
       " (52, 'great-pyrenees'),\n",
       " (53, 'greater-swiss-mountain-dog'),\n",
       " (54, 'belgian-sheepdog'),\n",
       " (55, 'ibizan-hound'),\n",
       " (56, 'irish-setter'),\n",
       " (57, 'irish-terrier'),\n",
       " (58, 'irish-water-spaniel'),\n",
       " (59, 'irish-wolfhound'),\n",
       " (60, 'italian-greyhound'),\n",
       " (61, 'japanese-chin'),\n",
       " (62, 'keeshond'),\n",
       " (63, 'kelpie'),\n",
       " (64, 'kerry-blue-terrier'),\n",
       " (65, 'komondor'),\n",
       " (66, 'kuvasz'),\n",
       " (67, 'labrador-retriever'),\n",
       " (68, 'lakeland-terrier'),\n",
       " (69, 'leonberger'),\n",
       " (70, 'lhasa-apso'),\n",
       " (71, 'alaskan-malamute'),\n",
       " (72, 'belgian-malinois'),\n",
       " (73, 'maltese'),\n",
       " (74, 'xoloitzcuintli'),\n",
       " (75, 'miniature-pinscher'),\n",
       " (76, 'miniature-poodle'),\n",
       " (77, 'miniature-schnauzer'),\n",
       " (78, 'newfoundland'),\n",
       " (79, 'norfolk-terrier'),\n",
       " (80, 'norwegian-elkhound'),\n",
       " (81, 'norwich-terrier'),\n",
       " (82, 'old-english-sheepdog'),\n",
       " (83, 'otterhound'),\n",
       " (84, 'papillon'),\n",
       " (85, 'pekingese'),\n",
       " (86, 'pembroke-welsh-corgi'),\n",
       " (87, 'pomeranian'),\n",
       " (88, 'pug'),\n",
       " (89, 'redbone-coonhound'),\n",
       " (90, 'rhodesian-ridgeback'),\n",
       " (91, 'rottweiler'),\n",
       " (92, 'saint-bernard'),\n",
       " (93, 'saluki'),\n",
       " (94, 'samoyed'),\n",
       " (95, 'schipperke'),\n",
       " (96, 'scottish-terrier'),\n",
       " (97, 'scottish-deerhound'),\n",
       " (98, 'sealyham-terrier'),\n",
       " (99, 'shetland-sheepdog'),\n",
       " (100, 'shih-tzu'),\n",
       " (101, 'siberian-husky'),\n",
       " (102, 'silky-terrier'),\n",
       " (103, 'soft-coated-wheaten-terrier'),\n",
       " (104, 'staffordshire-bullterrier'),\n",
       " (105, 'poodle'),\n",
       " (106, 'standard-schnauzer'),\n",
       " (107, 'sussex-spaniel'),\n",
       " (108, 'tibetan-mastiff'),\n",
       " (109, 'tibetan-terrier'),\n",
       " (110, 'toy-poodle'),\n",
       " (111, 'toy-fox-terrier'),\n",
       " (112, 'vizsla'),\n",
       " (113, 'treeing-walker-coonhound'),\n",
       " (114, 'weimaraner'),\n",
       " (115, 'welsh-springer-spaniel'),\n",
       " (116, 'west-highland-white-terrier'),\n",
       " (117, 'whippet'),\n",
       " (118, 'fox-terrier'),\n",
       " (119, 'yorkshire-terrier')]"
      ]
     },
     "execution_count": 25,
     "metadata": {},
     "output_type": "execute_result"
    }
   ],
   "source": [
    "list(enumerate(dogtime_breeds))"
   ]
  },
  {
   "cell_type": "code",
   "execution_count": 50,
   "metadata": {},
   "outputs": [],
   "source": [
    "dogtime_unused = [dogtime_breeds.pop(110),\n",
    "                    dogtime_breeds.pop(76),\n",
    "                    dogtime_breeds.pop(63),\n",
    "                    dogtime_breeds.pop(37),\n",
    "                    dogtime_breeds.pop(36),\n",
    "                    dogtime_breeds.pop(2)]"
   ]
  },
  {
   "cell_type": "code",
   "execution_count": 51,
   "metadata": {},
   "outputs": [
    {
     "data": {
      "text/plain": [
       "['toy-poodle',\n",
       " 'miniature-poodle',\n",
       " 'kelpie',\n",
       " 'dingo',\n",
       " 'dhole',\n",
       " 'african-hunting-dog']"
      ]
     },
     "execution_count": 51,
     "metadata": {},
     "output_type": "execute_result"
    }
   ],
   "source": [
    "dogtime_unused"
   ]
  },
  {
   "cell_type": "code",
   "execution_count": 52,
   "metadata": {
    "collapsed": true
   },
   "outputs": [],
   "source": [
    "unused_dog_breeds = [dog_breeds.pop(110),\n",
    "                    dog_breeds.pop(76),\n",
    "                    dog_breeds.pop(63),\n",
    "                    dog_breeds.pop(37),\n",
    "                    dog_breeds.pop(36),\n",
    "                    dog_breeds.pop(2)]"
   ]
  },
  {
   "cell_type": "code",
   "execution_count": 53,
   "metadata": {},
   "outputs": [
    {
     "data": {
      "text/plain": [
       "['toy_poodle',\n",
       " 'miniature_poodle',\n",
       " 'kelpie',\n",
       " 'dingo',\n",
       " 'dhole',\n",
       " 'african_hunting_dog']"
      ]
     },
     "execution_count": 53,
     "metadata": {},
     "output_type": "execute_result"
    }
   ],
   "source": [
    "unused_dog_breeds"
   ]
  },
  {
   "cell_type": "code",
   "execution_count": 54,
   "metadata": {},
   "outputs": [
    {
     "data": {
      "text/plain": [
       "[('affenpinscher', 'affenpinscher'),\n",
       " ('afghan_hound', 'afghan-hound'),\n",
       " ('airedale', 'airedale-terrier'),\n",
       " ('american_staffordshire_terrier', 'american-pit-bull-terrier'),\n",
       " ('appenzeller', 'appenzeller-sennenhunde'),\n",
       " ('australian_terrier', 'australian-terrier'),\n",
       " ('basenji', 'basenji'),\n",
       " ('basset', 'basset-hound'),\n",
       " ('beagle', 'beagle'),\n",
       " ('bedlington_terrier', 'bedlington-terrier'),\n",
       " ('bernese_mountain_dog', 'bernese-mountain-dog'),\n",
       " ('black-and-tan_coonhound', 'black-and-tan-coonhound'),\n",
       " ('blenheim_spaniel', 'cavalier-king-charles-spaniel'),\n",
       " ('bloodhound', 'bloodhound'),\n",
       " ('bluetick', 'bluetick-coonhound'),\n",
       " ('border_collie', 'border-collie'),\n",
       " ('border_terrier', 'border-terrier'),\n",
       " ('borzoi', 'borzoi'),\n",
       " ('boston_bull', 'boston-terrier'),\n",
       " ('bouvier_des_flandres', 'bouvier-des-flandres'),\n",
       " ('boxer', 'boxer'),\n",
       " ('brabancon_griffon', 'brussels-griffon'),\n",
       " ('briard', 'briard'),\n",
       " ('brittany_spaniel', 'brittany'),\n",
       " ('bull_mastiff', 'bullmastiff'),\n",
       " ('cairn', 'cairn-terrier'),\n",
       " ('cardigan', 'cardigan-welsh-corgi'),\n",
       " ('chesapeake_bay_retriever', 'chesapeake-bay-retriever'),\n",
       " ('chihuahua', 'chihuahua'),\n",
       " ('chow', 'chow-chow'),\n",
       " ('clumber', 'clumber-spaniel'),\n",
       " ('cocker_spaniel', 'cocker-spaniel'),\n",
       " ('collie', 'collie'),\n",
       " ('curly-coated_retriever', 'curly-coated-retriever'),\n",
       " ('dandie_dinmont', 'dandie-dinmont-terrier'),\n",
       " ('doberman', 'doberman-pinscher'),\n",
       " ('english_foxhound', 'english-foxhound'),\n",
       " ('english_setter', 'english-setter'),\n",
       " ('english_springer', 'english-springer-spaniel'),\n",
       " ('entlebucher', 'entlebucher-mountain-dog'),\n",
       " ('eskimo_dog', 'american-eskimo-dog'),\n",
       " ('flat-coated_retriever', 'flat-coated-retriever-dog'),\n",
       " ('french_bulldog', 'french-bulldog'),\n",
       " ('german_shepherd', 'german-shepherd'),\n",
       " ('german_short-haired_pointer', 'german-shorthaired-pointer'),\n",
       " ('giant_schnauzer', 'giant-schnauzer'),\n",
       " ('golden_retriever', 'golden-retriever'),\n",
       " ('gordon_setter', 'gordon-setter'),\n",
       " ('great_dane', 'great-dane'),\n",
       " ('great_pyrenees', 'great-pyrenees'),\n",
       " ('greater_swiss_mountain_dog', 'greater-swiss-mountain-dog'),\n",
       " ('groenendael', 'belgian-sheepdog'),\n",
       " ('ibizan_hound', 'ibizan-hound'),\n",
       " ('irish_setter', 'irish-setter'),\n",
       " ('irish_terrier', 'irish-terrier'),\n",
       " ('irish_water_spaniel', 'irish-water-spaniel'),\n",
       " ('irish_wolfhound', 'irish-wolfhound'),\n",
       " ('italian_greyhound', 'italian-greyhound'),\n",
       " ('japanese_spaniel', 'japanese-chin'),\n",
       " ('keeshond', 'keeshond'),\n",
       " ('kerry_blue_terrier', 'kerry-blue-terrier'),\n",
       " ('komondor', 'komondor'),\n",
       " ('kuvasz', 'kuvasz'),\n",
       " ('labrador_retriever', 'labrador-retriever'),\n",
       " ('lakeland_terrier', 'lakeland-terrier'),\n",
       " ('leonberg', 'leonberger'),\n",
       " ('lhasa', 'lhasa-apso'),\n",
       " ('malamute', 'alaskan-malamute'),\n",
       " ('malinois', 'belgian-malinois'),\n",
       " ('maltese_dog', 'maltese'),\n",
       " ('mexican_hairless', 'xoloitzcuintli'),\n",
       " ('miniature_pinscher', 'miniature-pinscher'),\n",
       " ('miniature_schnauzer', 'miniature-schnauzer'),\n",
       " ('newfoundland', 'newfoundland'),\n",
       " ('norfolk_terrier', 'norfolk-terrier'),\n",
       " ('norwegian_elkhound', 'norwegian-elkhound'),\n",
       " ('norwich_terrier', 'norwich-terrier'),\n",
       " ('old_english_sheepdog', 'old-english-sheepdog'),\n",
       " ('otterhound', 'otterhound'),\n",
       " ('papillon', 'papillon'),\n",
       " ('pekinese', 'pekingese'),\n",
       " ('pembroke', 'pembroke-welsh-corgi'),\n",
       " ('pomeranian', 'pomeranian'),\n",
       " ('pug', 'pug'),\n",
       " ('redbone', 'redbone-coonhound'),\n",
       " ('rhodesian_ridgeback', 'rhodesian-ridgeback'),\n",
       " ('rottweiler', 'rottweiler'),\n",
       " ('saint_bernard', 'saint-bernard'),\n",
       " ('saluki', 'saluki'),\n",
       " ('samoyed', 'samoyed'),\n",
       " ('schipperke', 'schipperke'),\n",
       " ('scotch_terrier', 'scottish-terrier'),\n",
       " ('scottish_deerhound', 'scottish-deerhound'),\n",
       " ('sealyham_terrier', 'sealyham-terrier'),\n",
       " ('shetland_sheepdog', 'shetland-sheepdog'),\n",
       " ('shih-tzu', 'shih-tzu'),\n",
       " ('siberian_husky', 'siberian-husky'),\n",
       " ('silky_terrier', 'silky-terrier'),\n",
       " ('soft-coated_wheaten_terrier', 'soft-coated-wheaten-terrier'),\n",
       " ('staffordshire_bullterrier', 'staffordshire-bullterrier'),\n",
       " ('standard_poodle', 'poodle'),\n",
       " ('standard_schnauzer', 'standard-schnauzer'),\n",
       " ('sussex_spaniel', 'sussex-spaniel'),\n",
       " ('tibetan_mastiff', 'tibetan-mastiff'),\n",
       " ('tibetan_terrier', 'tibetan-terrier'),\n",
       " ('toy_terrier', 'toy-fox-terrier'),\n",
       " ('vizsla', 'vizsla'),\n",
       " ('walker_hound', 'treeing-walker-coonhound'),\n",
       " ('weimaraner', 'weimaraner'),\n",
       " ('welsh_springer_spaniel', 'welsh-springer-spaniel'),\n",
       " ('west_highland_white_terrier', 'west-highland-white-terrier'),\n",
       " ('whippet', 'whippet'),\n",
       " ('wire-haired_fox_terrier', 'fox-terrier'),\n",
       " ('yorkshire_terrier', 'yorkshire-terrier')]"
      ]
     },
     "execution_count": 54,
     "metadata": {},
     "output_type": "execute_result"
    }
   ],
   "source": [
    "list(zip(dog_breeds, dogtime_breeds))"
   ]
  },
  {
   "cell_type": "markdown",
   "metadata": {},
   "source": [
    "Remove unavailable breeds / wild dogs"
   ]
  },
  {
   "cell_type": "code",
   "execution_count": 31,
   "metadata": {
    "collapsed": true
   },
   "outputs": [],
   "source": [
    "dogtime_breed_url = \"http://dogtime.com/dog-breeds\"\n",
    "\n",
    "r = requests.get(dogtime_breed_url)\n",
    "\n",
    "dog_soup = BeautifulSoup(r.text, \"lxml\")"
   ]
  },
  {
   "cell_type": "code",
   "execution_count": 32,
   "metadata": {
    "collapsed": true
   },
   "outputs": [],
   "source": [
    "link = dog_soup.find_all(class_='group-list-item')[0].find('a')['href']\n",
    "image = dog_soup.find_all(class_='group-list-item')[0].find('img')['src']"
   ]
  },
  {
   "cell_type": "code",
   "execution_count": 33,
   "metadata": {},
   "outputs": [
    {
     "data": {
      "text/plain": [
       "('http://dogtime.com/dog-breeds/affenpinscher',\n",
       " 'http://cdn3-www.dogtime.com/assets/uploads/2011/01/file_23096_affenpinscher-300x189.jpg')"
      ]
     },
     "execution_count": 33,
     "metadata": {},
     "output_type": "execute_result"
    }
   ],
   "source": [
    "link, image"
   ]
  },
  {
   "cell_type": "code",
   "execution_count": 34,
   "metadata": {
    "collapsed": true
   },
   "outputs": [],
   "source": [
    "base_url = \"http://dogtime.com/dog-breeds/\"\n",
    "breed_links = [base_url+breed for breed in dogtime_breeds]"
   ]
  },
  {
   "cell_type": "code",
   "execution_count": 35,
   "metadata": {},
   "outputs": [
    {
     "data": {
      "text/plain": [
       "['http://dogtime.com/dog-breeds/affenpinscher',\n",
       " 'http://dogtime.com/dog-breeds/afghan-hound',\n",
       " 'http://dogtime.com/dog-breeds/american-pit-bull-terrier',\n",
       " 'http://dogtime.com/dog-breeds/airedale-terrier',\n",
       " 'http://dogtime.com/dog-breeds/appenzeller-sennenhunde',\n",
       " 'http://dogtime.com/dog-breeds/australian-terrier',\n",
       " 'http://dogtime.com/dog-breeds/basenji',\n",
       " 'http://dogtime.com/dog-breeds/basset-hound',\n",
       " 'http://dogtime.com/dog-breeds/beagle',\n",
       " 'http://dogtime.com/dog-breeds/bedlington-terrier']"
      ]
     },
     "execution_count": 35,
     "metadata": {},
     "output_type": "execute_result"
    }
   ],
   "source": [
    "breed_links[:10]"
   ]
  },
  {
   "cell_type": "code",
   "execution_count": 36,
   "metadata": {
    "collapsed": true
   },
   "outputs": [],
   "source": [
    "client = pymongo.MongoClient(\"mongodb://54.67.76.74/dogbreeds\")"
   ]
  },
  {
   "cell_type": "code",
   "execution_count": 37,
   "metadata": {
    "collapsed": true
   },
   "outputs": [],
   "source": [
    "db = client.dogbreeds"
   ]
  },
  {
   "cell_type": "code",
   "execution_count": 39,
   "metadata": {},
   "outputs": [
    {
     "data": {
      "text/plain": [
       "'http://dogtime.com/dog-breeds/american-pit-bull-terrier'"
      ]
     },
     "execution_count": 39,
     "metadata": {},
     "output_type": "execute_result"
    }
   ],
   "source": [
    "breed_links[2]"
   ]
  },
  {
   "cell_type": "code",
   "execution_count": 64,
   "metadata": {},
   "outputs": [
    {
     "data": {
      "text/plain": [
       "'american_staffordshire_terrier'"
      ]
     },
     "execution_count": 64,
     "metadata": {},
     "output_type": "execute_result"
    }
   ],
   "source": [
    "dog_breeds[3]"
   ]
  },
  {
   "cell_type": "code",
   "execution_count": 15,
   "metadata": {
    "collapsed": true
   },
   "outputs": [],
   "source": [
    "r = requests.get(breed_links[-1])\n",
    "dog_soup = BeautifulSoup(r.text, \"lxml\")"
   ]
  },
  {
   "cell_type": "code",
   "execution_count": 25,
   "metadata": {
    "collapsed": true
   },
   "outputs": [],
   "source": [
    "content = dog_soup.find(class_=\"category-article-main\")"
   ]
  },
  {
   "cell_type": "code",
   "execution_count": 65,
   "metadata": {},
   "outputs": [],
   "source": [
    "failed_breeds = []\n",
    "for dog_breed, dogtime_breed in zip([dog_breeds[3]], [dogtime_breeds[3]]):\n",
    "    dog_url = base_url + dogtime_breed\n",
    "    try:\n",
    "        r = requests.get(dog_url)\n",
    "        r.raise_for_status()\n",
    "    except requests.exceptions.RequestException as e:\n",
    "        print(e)\n",
    "        print(dog_breed+\" failed!\")\n",
    "        failed_breeds.append(dogtime_breed)\n",
    "        time.sleep(random.uniform(3, 5))\n",
    "        continue\n",
    "    dog_soup = BeautifulSoup(r.text, \"lxml\")\n",
    "    dog_content = dog_soup.find(class_=\"category-article-main\")\n",
    "    db.dogbreeds.update_one({'breed' : dog_breed}, {\"$set\" : {'url' : dog_url,\n",
    "                            'dogtime_content' : str(dog_content)}})\n",
    "    time.sleep(random.uniform(3, 5))\n",
    "        "
   ]
  },
  {
   "cell_type": "markdown",
   "metadata": {},
   "source": [
    "### Scrape dogbreedinfo"
   ]
  },
  {
   "cell_type": "code",
   "execution_count": 59,
   "metadata": {},
   "outputs": [
    {
     "data": {
      "text/plain": [
       "[(0, 'affenpinscher'),\n",
       " (1, 'afghan_hound'),\n",
       " (2, 'airedale'),\n",
       " (3, 'american_staffordshire_terrier'),\n",
       " (4, 'appenzeller'),\n",
       " (5, 'australian_terrier'),\n",
       " (6, 'basenji'),\n",
       " (7, 'basset'),\n",
       " (8, 'beagle'),\n",
       " (9, 'bedlington_terrier'),\n",
       " (10, 'bernese_mountain_dog'),\n",
       " (11, 'black-and-tan_coonhound'),\n",
       " (12, 'blenheim_spaniel'),\n",
       " (13, 'bloodhound'),\n",
       " (14, 'bluetick'),\n",
       " (15, 'border_collie'),\n",
       " (16, 'border_terrier'),\n",
       " (17, 'borzoi'),\n",
       " (18, 'boston_bull'),\n",
       " (19, 'bouvier_des_flandres'),\n",
       " (20, 'boxer'),\n",
       " (21, 'brabancon_griffon'),\n",
       " (22, 'briard'),\n",
       " (23, 'brittany_spaniel'),\n",
       " (24, 'bull_mastiff'),\n",
       " (25, 'cairn'),\n",
       " (26, 'cardigan'),\n",
       " (27, 'chesapeake_bay_retriever'),\n",
       " (28, 'chihuahua'),\n",
       " (29, 'chow'),\n",
       " (30, 'clumber'),\n",
       " (31, 'cocker_spaniel'),\n",
       " (32, 'collie'),\n",
       " (33, 'curly-coated_retriever'),\n",
       " (34, 'dandie_dinmont'),\n",
       " (35, 'doberman'),\n",
       " (36, 'english_foxhound'),\n",
       " (37, 'english_setter'),\n",
       " (38, 'english_springer'),\n",
       " (39, 'entlebucher'),\n",
       " (40, 'eskimo_dog'),\n",
       " (41, 'flat-coated_retriever'),\n",
       " (42, 'french_bulldog'),\n",
       " (43, 'german_shepherd'),\n",
       " (44, 'german_short-haired_pointer'),\n",
       " (45, 'giant_schnauzer'),\n",
       " (46, 'golden_retriever'),\n",
       " (47, 'gordon_setter'),\n",
       " (48, 'great_dane'),\n",
       " (49, 'great_pyrenees'),\n",
       " (50, 'greater_swiss_mountain_dog'),\n",
       " (51, 'groenendael'),\n",
       " (52, 'ibizan_hound'),\n",
       " (53, 'irish_setter'),\n",
       " (54, 'irish_terrier'),\n",
       " (55, 'irish_water_spaniel'),\n",
       " (56, 'irish_wolfhound'),\n",
       " (57, 'italian_greyhound'),\n",
       " (58, 'japanese_spaniel'),\n",
       " (59, 'keeshond'),\n",
       " (60, 'kerry_blue_terrier'),\n",
       " (61, 'komondor'),\n",
       " (62, 'kuvasz'),\n",
       " (63, 'labrador_retriever'),\n",
       " (64, 'lakeland_terrier'),\n",
       " (65, 'leonberg'),\n",
       " (66, 'lhasa'),\n",
       " (67, 'malamute'),\n",
       " (68, 'malinois'),\n",
       " (69, 'maltese_dog'),\n",
       " (70, 'mexican_hairless'),\n",
       " (71, 'miniature_pinscher'),\n",
       " (72, 'miniature_schnauzer'),\n",
       " (73, 'newfoundland'),\n",
       " (74, 'norfolk_terrier'),\n",
       " (75, 'norwegian_elkhound'),\n",
       " (76, 'norwich_terrier'),\n",
       " (77, 'old_english_sheepdog'),\n",
       " (78, 'otterhound'),\n",
       " (79, 'papillon'),\n",
       " (80, 'pekinese'),\n",
       " (81, 'pembroke'),\n",
       " (82, 'pomeranian'),\n",
       " (83, 'pug'),\n",
       " (84, 'redbone'),\n",
       " (85, 'rhodesian_ridgeback'),\n",
       " (86, 'rottweiler'),\n",
       " (87, 'saint_bernard'),\n",
       " (88, 'saluki'),\n",
       " (89, 'samoyed'),\n",
       " (90, 'schipperke'),\n",
       " (91, 'scotch_terrier'),\n",
       " (92, 'scottish_deerhound'),\n",
       " (93, 'sealyham_terrier'),\n",
       " (94, 'shetland_sheepdog'),\n",
       " (95, 'shih-tzu'),\n",
       " (96, 'siberian_husky'),\n",
       " (97, 'silky_terrier'),\n",
       " (98, 'soft-coated_wheaten_terrier'),\n",
       " (99, 'staffordshire_bullterrier'),\n",
       " (100, 'standard_poodle'),\n",
       " (101, 'standard_schnauzer'),\n",
       " (102, 'sussex_spaniel'),\n",
       " (103, 'tibetan_mastiff'),\n",
       " (104, 'tibetan_terrier'),\n",
       " (105, 'toy_terrier'),\n",
       " (106, 'vizsla'),\n",
       " (107, 'walker_hound'),\n",
       " (108, 'weimaraner'),\n",
       " (109, 'welsh_springer_spaniel'),\n",
       " (110, 'west_highland_white_terrier'),\n",
       " (111, 'whippet'),\n",
       " (112, 'wire-haired_fox_terrier'),\n",
       " (113, 'yorkshire_terrier')]"
      ]
     },
     "execution_count": 59,
     "metadata": {},
     "output_type": "execute_result"
    }
   ],
   "source": [
    "list(enumerate(dog_breeds))"
   ]
  },
  {
   "cell_type": "code",
   "execution_count": 66,
   "metadata": {
    "collapsed": true
   },
   "outputs": [],
   "source": [
    "dogbreedinfo_breeds = [breed.replace(\"-\", \"\").replace(\"_\", \"\") for breed in dog_breeds]\n",
    "dogbreedinfo_breeds[1] = 'afghan'\n",
    "dogbreedinfo_breeds[3] = 'americanstaffordshire'\n",
    "dogbreedinfo_breeds[4] = 'appenzell'\n",
    "dogbreedinfo_breeds[7] += 'hound'\n",
    "dogbreedinfo_breeds[10] = 'bernesemountain'\n",
    "dogbreedinfo_breeds[12] = 'cavalierkingcharlesspaniel'\n",
    "dogbreedinfo_breeds[18] = 'bostonterrier'\n",
    "dogbreedinfo_breeds[21] = 'griffon'\n",
    "dogbreedinfo_breeds[23] = 'brittany'\n",
    "dogbreedinfo_breeds[25] += 'terrier'\n",
    "dogbreedinfo_breeds[26] += 'corgi'\n",
    "dogbreedinfo_breeds[27] = 'chesapeakebay'\n",
    "dogbreedinfo_breeds[29] += 'chow'\n",
    "dogbreedinfo_breeds[30] += 'spaniel'\n",
    "dogbreedinfo_breeds[31] = 'cockers'\n",
    "dogbreedinfo_breeds[38] += 'spaniel'\n",
    "dogbreedinfo_breeds[40] = 'americaneskimo'\n",
    "dogbreedinfo_breeds[50] = 'greaterswissmountain'\n",
    "dogbreedinfo_breeds[51] = 'belgiangroenendael'\n",
    "dogbreedinfo_breeds[63] = 'labrador'\n",
    "dogbreedinfo_breeds[65] += 'er'\n",
    "dogbreedinfo_breeds[66] += 'apso'\n",
    "dogbreedinfo_breeds[67] = 'alaskanmalamute'\n",
    "dogbreedinfo_breeds[68] = 'belgianmalinois'\n",
    "dogbreedinfo_breeds[69] = 'maltese'\n",
    "dogbreedinfo_breeds[70] = 'xoloitzcuintle'\n",
    "dogbreedinfo_breeds[80] = 'pekingese'\n",
    "dogbreedinfo_breeds[81] += 'corgi'\n",
    "dogbreedinfo_breeds[84] += 'coonhound'\n",
    "dogbreedinfo_breeds[91] = 'scottishterrier'\n",
    "dogbreedinfo_breeds[102] = 'sussex'\n",
    "dogbreedinfo_breeds[105] = 'toyfoxterrier'\n",
    "dogbreedinfo_breeds[107] = 'treeingwalkercoonhound'\n",
    "dogbreedinfo_breeds[110] = 'westhighland'\n",
    "dogbreedinfo_breeds[112] = 'wirefoxterrier'"
   ]
  },
  {
   "cell_type": "code",
   "execution_count": 67,
   "metadata": {},
   "outputs": [
    {
     "data": {
      "text/plain": [
       "[('affenpinscher', 'affenpinscher'),\n",
       " ('afghan_hound', 'afghan'),\n",
       " ('airedale', 'airedale'),\n",
       " ('american_staffordshire_terrier', 'americanstaffordshire'),\n",
       " ('appenzeller', 'appenzell'),\n",
       " ('australian_terrier', 'australianterrier'),\n",
       " ('basenji', 'basenji'),\n",
       " ('basset', 'bassethound'),\n",
       " ('beagle', 'beagle'),\n",
       " ('bedlington_terrier', 'bedlingtonterrier'),\n",
       " ('bernese_mountain_dog', 'bernesemountain'),\n",
       " ('black-and-tan_coonhound', 'blackandtancoonhound'),\n",
       " ('blenheim_spaniel', 'cavalierkingcharlesspaniel'),\n",
       " ('bloodhound', 'bloodhound'),\n",
       " ('bluetick', 'bluetick'),\n",
       " ('border_collie', 'bordercollie'),\n",
       " ('border_terrier', 'borderterrier'),\n",
       " ('borzoi', 'borzoi'),\n",
       " ('boston_bull', 'bostonterrier'),\n",
       " ('bouvier_des_flandres', 'bouvierdesflandres'),\n",
       " ('boxer', 'boxer'),\n",
       " ('brabancon_griffon', 'griffon'),\n",
       " ('briard', 'briard'),\n",
       " ('brittany_spaniel', 'brittany'),\n",
       " ('bull_mastiff', 'bullmastiff'),\n",
       " ('cairn', 'cairnterrier'),\n",
       " ('cardigan', 'cardigancorgi'),\n",
       " ('chesapeake_bay_retriever', 'chesapeakebay'),\n",
       " ('chihuahua', 'chihuahua'),\n",
       " ('chow', 'chowchow'),\n",
       " ('clumber', 'clumberspaniel'),\n",
       " ('cocker_spaniel', 'cockers'),\n",
       " ('collie', 'collie'),\n",
       " ('curly-coated_retriever', 'curlycoatedretriever'),\n",
       " ('dandie_dinmont', 'dandiedinmont'),\n",
       " ('doberman', 'doberman'),\n",
       " ('english_foxhound', 'englishfoxhound'),\n",
       " ('english_setter', 'englishsetter'),\n",
       " ('english_springer', 'englishspringerspaniel'),\n",
       " ('entlebucher', 'entlebucher'),\n",
       " ('eskimo_dog', 'americaneskimo'),\n",
       " ('flat-coated_retriever', 'flatcoatedretriever'),\n",
       " ('french_bulldog', 'frenchbulldog'),\n",
       " ('german_shepherd', 'germanshepherd'),\n",
       " ('german_short-haired_pointer', 'germanshorthairedpointer'),\n",
       " ('giant_schnauzer', 'giantschnauzer'),\n",
       " ('golden_retriever', 'goldenretriever'),\n",
       " ('gordon_setter', 'gordonsetter'),\n",
       " ('great_dane', 'greatdane'),\n",
       " ('great_pyrenees', 'greatpyrenees'),\n",
       " ('greater_swiss_mountain_dog', 'greaterswissmountain'),\n",
       " ('groenendael', 'belgiangroenendael'),\n",
       " ('ibizan_hound', 'ibizanhound'),\n",
       " ('irish_setter', 'irishsetter'),\n",
       " ('irish_terrier', 'irishterrier'),\n",
       " ('irish_water_spaniel', 'irishwaterspaniel'),\n",
       " ('irish_wolfhound', 'irishwolfhound'),\n",
       " ('italian_greyhound', 'italiangreyhound'),\n",
       " ('japanese_spaniel', 'japanesespaniel'),\n",
       " ('keeshond', 'keeshond'),\n",
       " ('kerry_blue_terrier', 'kerryblueterrier'),\n",
       " ('komondor', 'komondor'),\n",
       " ('kuvasz', 'kuvasz'),\n",
       " ('labrador_retriever', 'labrador'),\n",
       " ('lakeland_terrier', 'lakelandterrier'),\n",
       " ('leonberg', 'leonberger'),\n",
       " ('lhasa', 'lhasaapso'),\n",
       " ('malamute', 'alaskanmalamute'),\n",
       " ('malinois', 'belgianmalinois'),\n",
       " ('maltese_dog', 'maltese'),\n",
       " ('mexican_hairless', 'xoloitzcuintle'),\n",
       " ('miniature_pinscher', 'miniaturepinscher'),\n",
       " ('miniature_schnauzer', 'miniatureschnauzer'),\n",
       " ('newfoundland', 'newfoundland'),\n",
       " ('norfolk_terrier', 'norfolkterrier'),\n",
       " ('norwegian_elkhound', 'norwegianelkhound'),\n",
       " ('norwich_terrier', 'norwichterrier'),\n",
       " ('old_english_sheepdog', 'oldenglishsheepdog'),\n",
       " ('otterhound', 'otterhound'),\n",
       " ('papillon', 'papillon'),\n",
       " ('pekinese', 'pekingese'),\n",
       " ('pembroke', 'pembrokecorgi'),\n",
       " ('pomeranian', 'pomeranian'),\n",
       " ('pug', 'pug'),\n",
       " ('redbone', 'redbonecoonhound'),\n",
       " ('rhodesian_ridgeback', 'rhodesianridgeback'),\n",
       " ('rottweiler', 'rottweiler'),\n",
       " ('saint_bernard', 'saintbernard'),\n",
       " ('saluki', 'saluki'),\n",
       " ('samoyed', 'samoyed'),\n",
       " ('schipperke', 'schipperke'),\n",
       " ('scotch_terrier', 'scottishterrier'),\n",
       " ('scottish_deerhound', 'scottishdeerhound'),\n",
       " ('sealyham_terrier', 'sealyhamterrier'),\n",
       " ('shetland_sheepdog', 'shetlandsheepdog'),\n",
       " ('shih-tzu', 'shihtzu'),\n",
       " ('siberian_husky', 'siberianhusky'),\n",
       " ('silky_terrier', 'silkyterrier'),\n",
       " ('soft-coated_wheaten_terrier', 'softcoatedwheatenterrier'),\n",
       " ('staffordshire_bullterrier', 'staffordshirebullterrier'),\n",
       " ('standard_poodle', 'standardpoodle'),\n",
       " ('standard_schnauzer', 'standardschnauzer'),\n",
       " ('sussex_spaniel', 'sussex'),\n",
       " ('tibetan_mastiff', 'tibetanmastiff'),\n",
       " ('tibetan_terrier', 'tibetanterrier'),\n",
       " ('toy_terrier', 'toyfoxterrier'),\n",
       " ('vizsla', 'vizsla'),\n",
       " ('walker_hound', 'treeingwalkercoonhound'),\n",
       " ('weimaraner', 'weimaraner'),\n",
       " ('welsh_springer_spaniel', 'welshspringerspaniel'),\n",
       " ('west_highland_white_terrier', 'westhighland'),\n",
       " ('whippet', 'whippet'),\n",
       " ('wire-haired_fox_terrier', 'wirefoxterrier'),\n",
       " ('yorkshire_terrier', 'yorkshireterrier')]"
      ]
     },
     "execution_count": 67,
     "metadata": {},
     "output_type": "execute_result"
    }
   ],
   "source": [
    "list(zip(dog_breeds, dogbreedinfo_breeds))"
   ]
  },
  {
   "cell_type": "code",
   "execution_count": 68,
   "metadata": {
    "collapsed": true
   },
   "outputs": [],
   "source": [
    "dogbreedinfo_url = \"https://www.dogbreedinfo.com/\"\n"
   ]
  },
  {
   "cell_type": "code",
   "execution_count": null,
   "metadata": {
    "collapsed": true
   },
   "outputs": [],
   "source": []
  },
  {
   "cell_type": "code",
   "execution_count": null,
   "metadata": {
    "collapsed": true
   },
   "outputs": [],
   "source": []
  },
  {
   "cell_type": "code",
   "execution_count": 69,
   "metadata": {
    "collapsed": true
   },
   "outputs": [],
   "source": [
    "failed_breeds = []\n",
    "for dog_breed, dogbreedinfo_breed in zip([dog_breeds[3]], [dogbreedinfo_breeds[3]]):\n",
    "    dog_url = dogbreedinfo_url + dogbreedinfo_breed + \".htm\"\n",
    "    try:\n",
    "        r = requests.get(dog_url)\n",
    "        r.raise_for_status()\n",
    "    except requests.exceptions.RequestException as e:\n",
    "        print(e)\n",
    "        print(dog_breed+\" failed!\")\n",
    "        failed_breeds.append(dogbreedinfo_breed)\n",
    "        time.sleep(random.uniform(3, 5))\n",
    "        continue\n",
    "    dog_soup = BeautifulSoup(r.text, \"lxml\")\n",
    "    dog_content = dog_soup.find(class_=\"mainArea\")\n",
    "    db.dogbreeds.update_one({'breed' : dog_breed},{\"$set\" : {'dogbreedinfo_url' : dog_url,\n",
    "                            'dogbreedinfo_content' : str(dog_content)}})\n",
    "    time.sleep(random.uniform(3, 5))    "
   ]
  },
  {
   "cell_type": "code",
   "execution_count": null,
   "metadata": {
    "collapsed": true
   },
   "outputs": [],
   "source": []
  },
  {
   "cell_type": "markdown",
   "metadata": {},
   "source": [
    "### Scrape wikipedia"
   ]
  },
  {
   "cell_type": "code",
   "execution_count": 70,
   "metadata": {},
   "outputs": [
    {
     "data": {
      "text/plain": [
       "[(0, 'affenpinscher'),\n",
       " (1, 'afghan_hound'),\n",
       " (2, 'airedale'),\n",
       " (3, 'american_staffordshire_terrier'),\n",
       " (4, 'appenzeller'),\n",
       " (5, 'australian_terrier'),\n",
       " (6, 'basenji'),\n",
       " (7, 'basset'),\n",
       " (8, 'beagle'),\n",
       " (9, 'bedlington_terrier'),\n",
       " (10, 'bernese_mountain_dog'),\n",
       " (11, 'black-and-tan_coonhound'),\n",
       " (12, 'blenheim_spaniel'),\n",
       " (13, 'bloodhound'),\n",
       " (14, 'bluetick'),\n",
       " (15, 'border_collie'),\n",
       " (16, 'border_terrier'),\n",
       " (17, 'borzoi'),\n",
       " (18, 'boston_bull'),\n",
       " (19, 'bouvier_des_flandres'),\n",
       " (20, 'boxer'),\n",
       " (21, 'brabancon_griffon'),\n",
       " (22, 'briard'),\n",
       " (23, 'brittany_spaniel'),\n",
       " (24, 'bull_mastiff'),\n",
       " (25, 'cairn'),\n",
       " (26, 'cardigan'),\n",
       " (27, 'chesapeake_bay_retriever'),\n",
       " (28, 'chihuahua'),\n",
       " (29, 'chow'),\n",
       " (30, 'clumber'),\n",
       " (31, 'cocker_spaniel'),\n",
       " (32, 'collie'),\n",
       " (33, 'curly-coated_retriever'),\n",
       " (34, 'dandie_dinmont'),\n",
       " (35, 'doberman'),\n",
       " (36, 'english_foxhound'),\n",
       " (37, 'english_setter'),\n",
       " (38, 'english_springer'),\n",
       " (39, 'entlebucher'),\n",
       " (40, 'eskimo_dog'),\n",
       " (41, 'flat-coated_retriever'),\n",
       " (42, 'french_bulldog'),\n",
       " (43, 'german_shepherd'),\n",
       " (44, 'german_short-haired_pointer'),\n",
       " (45, 'giant_schnauzer'),\n",
       " (46, 'golden_retriever'),\n",
       " (47, 'gordon_setter'),\n",
       " (48, 'great_dane'),\n",
       " (49, 'great_pyrenees'),\n",
       " (50, 'greater_swiss_mountain_dog'),\n",
       " (51, 'groenendael'),\n",
       " (52, 'ibizan_hound'),\n",
       " (53, 'irish_setter'),\n",
       " (54, 'irish_terrier'),\n",
       " (55, 'irish_water_spaniel'),\n",
       " (56, 'irish_wolfhound'),\n",
       " (57, 'italian_greyhound'),\n",
       " (58, 'japanese_spaniel'),\n",
       " (59, 'keeshond'),\n",
       " (60, 'kerry_blue_terrier'),\n",
       " (61, 'komondor'),\n",
       " (62, 'kuvasz'),\n",
       " (63, 'labrador_retriever'),\n",
       " (64, 'lakeland_terrier'),\n",
       " (65, 'leonberg'),\n",
       " (66, 'lhasa'),\n",
       " (67, 'malamute'),\n",
       " (68, 'malinois'),\n",
       " (69, 'maltese_dog'),\n",
       " (70, 'mexican_hairless'),\n",
       " (71, 'miniature_pinscher'),\n",
       " (72, 'miniature_schnauzer'),\n",
       " (73, 'newfoundland'),\n",
       " (74, 'norfolk_terrier'),\n",
       " (75, 'norwegian_elkhound'),\n",
       " (76, 'norwich_terrier'),\n",
       " (77, 'old_english_sheepdog'),\n",
       " (78, 'otterhound'),\n",
       " (79, 'papillon'),\n",
       " (80, 'pekinese'),\n",
       " (81, 'pembroke'),\n",
       " (82, 'pomeranian'),\n",
       " (83, 'pug'),\n",
       " (84, 'redbone'),\n",
       " (85, 'rhodesian_ridgeback'),\n",
       " (86, 'rottweiler'),\n",
       " (87, 'saint_bernard'),\n",
       " (88, 'saluki'),\n",
       " (89, 'samoyed'),\n",
       " (90, 'schipperke'),\n",
       " (91, 'scotch_terrier'),\n",
       " (92, 'scottish_deerhound'),\n",
       " (93, 'sealyham_terrier'),\n",
       " (94, 'shetland_sheepdog'),\n",
       " (95, 'shih-tzu'),\n",
       " (96, 'siberian_husky'),\n",
       " (97, 'silky_terrier'),\n",
       " (98, 'soft-coated_wheaten_terrier'),\n",
       " (99, 'staffordshire_bullterrier'),\n",
       " (100, 'standard_poodle'),\n",
       " (101, 'standard_schnauzer'),\n",
       " (102, 'sussex_spaniel'),\n",
       " (103, 'tibetan_mastiff'),\n",
       " (104, 'tibetan_terrier'),\n",
       " (105, 'toy_terrier'),\n",
       " (106, 'vizsla'),\n",
       " (107, 'walker_hound'),\n",
       " (108, 'weimaraner'),\n",
       " (109, 'welsh_springer_spaniel'),\n",
       " (110, 'west_highland_white_terrier'),\n",
       " (111, 'whippet'),\n",
       " (112, 'wire-haired_fox_terrier'),\n",
       " (113, 'yorkshire_terrier')]"
      ]
     },
     "execution_count": 70,
     "metadata": {},
     "output_type": "execute_result"
    }
   ],
   "source": [
    "list(enumerate(dog_breeds))"
   ]
  },
  {
   "cell_type": "code",
   "execution_count": 71,
   "metadata": {
    "collapsed": true
   },
   "outputs": [],
   "source": [
    "wikipedia_breeds = [breed.replace(\"-\", \"_\").title() for breed in dog_breeds]\n",
    "wikipedia_breeds[2] += \"_Terrier\"\n",
    "wikipedia_breeds[4] += \"_Sennenhund\"\n",
    "wikipedia_breeds[7] += \"_Hound\"\n",
    "wikipedia_breeds[12] = \"Cavalier_King_Charles_Spaniel\"\n",
    "wikipedia_breeds[14] += \"_Coonhound\"\n",
    "wikipedia_breeds[18] = \"Boston_Terrier\"\n",
    "wikipedia_breeds[19] = \"Bouvier_des_Flandres\"\n",
    "wikipedia_breeds[21] = \"Griffon_Bruxellois\"\n",
    "wikipedia_breeds[24] = \"Bullmastiff\"\n",
    "wikipedia_breeds[25] += \"_Terrier\"\n",
    "wikipedia_breeds[26] += \"_Welsh_Corgi\"\n",
    "wikipedia_breeds[29] += \"_Chow\"\n",
    "wikipedia_breeds[30] += \"_Spaniel\"\n",
    "wikipedia_breeds[31] = \"English_Cocker_Spaniel\"\n",
    "wikipedia_breeds[32] = \"Rough_Collie\"\n",
    "wikipedia_breeds[34] += \"_Terrier\"\n",
    "wikipedia_breeds[35] += \"_Pinscher\"\n",
    "wikipedia_breeds[38] += \"_Spaniel\"\n",
    "wikipedia_breeds[39] = \"Entlebucher_Mountain_Dog\"\n",
    "wikipedia_breeds[40] = \"American_Eskimo_Dog\"\n",
    "wikipedia_breeds[41] = \"Flat-Coated_Retriever\"\n",
    "wikipedia_breeds[44] = \"German_Shorthaired_Pointer\"\n",
    "wikipedia_breeds[51] += \"_dog\"\n",
    "wikipedia_breeds[58] = \"Japanese_Chin\"\n",
    "wikipedia_breeds[65] += \"er\"\n",
    "wikipedia_breeds[66] += \"_Apso\"\n",
    "wikipedia_breeds[67] = \"Alaskan_Malamute\"\n",
    "wikipedia_breeds[68] += \"_dog\"\n",
    "wikipedia_breeds[69] = \"Maltese_(dog)\"\n",
    "wikipedia_breeds[70] += \"_Dog\"\n",
    "wikipedia_breeds[79] += \"_(dog)\"\n",
    "wikipedia_breeds[80] = \"Pekingese\"\n",
    "wikipedia_breeds[81] += \"_Welsh_Corgi\"\n",
    "wikipedia_breeds[84] += \"_Coonhound\"\n",
    "wikipedia_breeds[87] = \"St._Bernard_(dog)\"\n",
    "wikipedia_breeds[89] += \"_(dog)\"\n",
    "wikipedia_breeds[91] = \"Scottish_Terrier\"\n",
    "wikipedia_breeds[97] = \"Australian_Silky_Terrier\"\n",
    "wikipedia_breeds[98] = \"Soft-Coated_Wheaten_Terrier\"\n",
    "wikipedia_breeds[99] = \"Staffordshire_Bull_Terrier\"\n",
    "wikipedia_breeds[100] = \"Poodle\"\n",
    "wikipedia_breeds[105] = \"Toy_Fox_Terrier\"\n",
    "wikipedia_breeds[107] = \"Treeing_Walker_Coonhound\"\n",
    "wikipedia_breeds[112] = \"Wire_Fox_Terrier\""
   ]
  },
  {
   "cell_type": "code",
   "execution_count": 72,
   "metadata": {},
   "outputs": [
    {
     "data": {
      "text/plain": [
       "[('affenpinscher', 'Affenpinscher'),\n",
       " ('afghan_hound', 'Afghan_Hound'),\n",
       " ('airedale', 'Airedale_Terrier'),\n",
       " ('american_staffordshire_terrier', 'American_Staffordshire_Terrier'),\n",
       " ('appenzeller', 'Appenzeller_Sennenhund'),\n",
       " ('australian_terrier', 'Australian_Terrier'),\n",
       " ('basenji', 'Basenji'),\n",
       " ('basset', 'Basset_Hound'),\n",
       " ('beagle', 'Beagle'),\n",
       " ('bedlington_terrier', 'Bedlington_Terrier'),\n",
       " ('bernese_mountain_dog', 'Bernese_Mountain_Dog'),\n",
       " ('black-and-tan_coonhound', 'Black_And_Tan_Coonhound'),\n",
       " ('blenheim_spaniel', 'Cavalier_King_Charles_Spaniel'),\n",
       " ('bloodhound', 'Bloodhound'),\n",
       " ('bluetick', 'Bluetick_Coonhound'),\n",
       " ('border_collie', 'Border_Collie'),\n",
       " ('border_terrier', 'Border_Terrier'),\n",
       " ('borzoi', 'Borzoi'),\n",
       " ('boston_bull', 'Boston_Terrier'),\n",
       " ('bouvier_des_flandres', 'Bouvier_des_Flandres'),\n",
       " ('boxer', 'Boxer'),\n",
       " ('brabancon_griffon', 'Griffon_Bruxellois'),\n",
       " ('briard', 'Briard'),\n",
       " ('brittany_spaniel', 'Brittany_Spaniel'),\n",
       " ('bull_mastiff', 'Bullmastiff'),\n",
       " ('cairn', 'Cairn_Terrier'),\n",
       " ('cardigan', 'Cardigan_Welsh_Corgi'),\n",
       " ('chesapeake_bay_retriever', 'Chesapeake_Bay_Retriever'),\n",
       " ('chihuahua', 'Chihuahua'),\n",
       " ('chow', 'Chow_Chow'),\n",
       " ('clumber', 'Clumber_Spaniel'),\n",
       " ('cocker_spaniel', 'English_Cocker_Spaniel'),\n",
       " ('collie', 'Rough_Collie'),\n",
       " ('curly-coated_retriever', 'Curly_Coated_Retriever'),\n",
       " ('dandie_dinmont', 'Dandie_Dinmont_Terrier'),\n",
       " ('doberman', 'Doberman_Pinscher'),\n",
       " ('english_foxhound', 'English_Foxhound'),\n",
       " ('english_setter', 'English_Setter'),\n",
       " ('english_springer', 'English_Springer_Spaniel'),\n",
       " ('entlebucher', 'Entlebucher_Mountain_Dog'),\n",
       " ('eskimo_dog', 'American_Eskimo_Dog'),\n",
       " ('flat-coated_retriever', 'Flat-Coated_Retriever'),\n",
       " ('french_bulldog', 'French_Bulldog'),\n",
       " ('german_shepherd', 'German_Shepherd'),\n",
       " ('german_short-haired_pointer', 'German_Shorthaired_Pointer'),\n",
       " ('giant_schnauzer', 'Giant_Schnauzer'),\n",
       " ('golden_retriever', 'Golden_Retriever'),\n",
       " ('gordon_setter', 'Gordon_Setter'),\n",
       " ('great_dane', 'Great_Dane'),\n",
       " ('great_pyrenees', 'Great_Pyrenees'),\n",
       " ('greater_swiss_mountain_dog', 'Greater_Swiss_Mountain_Dog'),\n",
       " ('groenendael', 'Groenendael_dog'),\n",
       " ('ibizan_hound', 'Ibizan_Hound'),\n",
       " ('irish_setter', 'Irish_Setter'),\n",
       " ('irish_terrier', 'Irish_Terrier'),\n",
       " ('irish_water_spaniel', 'Irish_Water_Spaniel'),\n",
       " ('irish_wolfhound', 'Irish_Wolfhound'),\n",
       " ('italian_greyhound', 'Italian_Greyhound'),\n",
       " ('japanese_spaniel', 'Japanese_Chin'),\n",
       " ('keeshond', 'Keeshond'),\n",
       " ('kerry_blue_terrier', 'Kerry_Blue_Terrier'),\n",
       " ('komondor', 'Komondor'),\n",
       " ('kuvasz', 'Kuvasz'),\n",
       " ('labrador_retriever', 'Labrador_Retriever'),\n",
       " ('lakeland_terrier', 'Lakeland_Terrier'),\n",
       " ('leonberg', 'Leonberger'),\n",
       " ('lhasa', 'Lhasa_Apso'),\n",
       " ('malamute', 'Alaskan_Malamute'),\n",
       " ('malinois', 'Malinois_dog'),\n",
       " ('maltese_dog', 'Maltese_(dog)'),\n",
       " ('mexican_hairless', 'Mexican_Hairless_Dog'),\n",
       " ('miniature_pinscher', 'Miniature_Pinscher'),\n",
       " ('miniature_schnauzer', 'Miniature_Schnauzer'),\n",
       " ('newfoundland', 'Newfoundland'),\n",
       " ('norfolk_terrier', 'Norfolk_Terrier'),\n",
       " ('norwegian_elkhound', 'Norwegian_Elkhound'),\n",
       " ('norwich_terrier', 'Norwich_Terrier'),\n",
       " ('old_english_sheepdog', 'Old_English_Sheepdog'),\n",
       " ('otterhound', 'Otterhound'),\n",
       " ('papillon', 'Papillon_(dog)'),\n",
       " ('pekinese', 'Pekingese'),\n",
       " ('pembroke', 'Pembroke_Welsh_Corgi'),\n",
       " ('pomeranian', 'Pomeranian'),\n",
       " ('pug', 'Pug'),\n",
       " ('redbone', 'Redbone_Coonhound'),\n",
       " ('rhodesian_ridgeback', 'Rhodesian_Ridgeback'),\n",
       " ('rottweiler', 'Rottweiler'),\n",
       " ('saint_bernard', 'St._Bernard_(dog)'),\n",
       " ('saluki', 'Saluki'),\n",
       " ('samoyed', 'Samoyed_(dog)'),\n",
       " ('schipperke', 'Schipperke'),\n",
       " ('scotch_terrier', 'Scottish_Terrier'),\n",
       " ('scottish_deerhound', 'Scottish_Deerhound'),\n",
       " ('sealyham_terrier', 'Sealyham_Terrier'),\n",
       " ('shetland_sheepdog', 'Shetland_Sheepdog'),\n",
       " ('shih-tzu', 'Shih_Tzu'),\n",
       " ('siberian_husky', 'Siberian_Husky'),\n",
       " ('silky_terrier', 'Australian_Silky_Terrier'),\n",
       " ('soft-coated_wheaten_terrier', 'Soft-Coated_Wheaten_Terrier'),\n",
       " ('staffordshire_bullterrier', 'Staffordshire_Bull_Terrier'),\n",
       " ('standard_poodle', 'Poodle'),\n",
       " ('standard_schnauzer', 'Standard_Schnauzer'),\n",
       " ('sussex_spaniel', 'Sussex_Spaniel'),\n",
       " ('tibetan_mastiff', 'Tibetan_Mastiff'),\n",
       " ('tibetan_terrier', 'Tibetan_Terrier'),\n",
       " ('toy_terrier', 'Toy_Fox_Terrier'),\n",
       " ('vizsla', 'Vizsla'),\n",
       " ('walker_hound', 'Treeing_Walker_Coonhound'),\n",
       " ('weimaraner', 'Weimaraner'),\n",
       " ('welsh_springer_spaniel', 'Welsh_Springer_Spaniel'),\n",
       " ('west_highland_white_terrier', 'West_Highland_White_Terrier'),\n",
       " ('whippet', 'Whippet'),\n",
       " ('wire-haired_fox_terrier', 'Wire_Fox_Terrier'),\n",
       " ('yorkshire_terrier', 'Yorkshire_Terrier')]"
      ]
     },
     "execution_count": 72,
     "metadata": {},
     "output_type": "execute_result"
    }
   ],
   "source": [
    "list(zip(dog_breeds, wikipedia_breeds))"
   ]
  },
  {
   "cell_type": "code",
   "execution_count": null,
   "metadata": {
    "collapsed": true
   },
   "outputs": [],
   "source": []
  },
  {
   "cell_type": "code",
   "execution_count": 73,
   "metadata": {
    "collapsed": true
   },
   "outputs": [],
   "source": [
    "headers = {\n",
    "    'User-Agent' : 'PoochrScoopr',\n",
    "    'From' : 'aawiegel@gmail.com'\n",
    "}"
   ]
  },
  {
   "cell_type": "code",
   "execution_count": 74,
   "metadata": {
    "collapsed": true
   },
   "outputs": [],
   "source": [
    "wikipedia_api = \"https://en.wikipedia.org/api/rest_v1/page/html/\" #Afghan_Hound?redirect=true\""
   ]
  },
  {
   "cell_type": "code",
   "execution_count": 75,
   "metadata": {
    "collapsed": true
   },
   "outputs": [],
   "source": [
    "failed_breeds = []\n",
    "for dog_breed, wikipedia_breed in zip([dog_breeds[3]], [wikipedia_breeds[3]]):\n",
    "    dog_url = wikipedia_api + wikipedia_breed + \"?redirect=true\"\n",
    "    try:\n",
    "        r = requests.get(dog_url, headers=headers)\n",
    "        r.raise_for_status()\n",
    "    except requests.exceptions.RequestException as e:\n",
    "        print(e)\n",
    "        print(dog_breed+\" failed!\")\n",
    "        failed_breeds.append(dogbreedinfo_breed)\n",
    "        time.sleep(random.uniform(1, 2))\n",
    "        continue\n",
    "    db.dogbreeds.update_one({'breed' : dog_breed},{\"$set\" : {'wikipedia_url' : dog_url,\n",
    "                            'wikipedia_content' : str(r.text)}})\n",
    "    time.sleep(random.uniform(1, 2)) "
   ]
  },
  {
   "cell_type": "code",
   "execution_count": null,
   "metadata": {
    "collapsed": true,
    "scrolled": true
   },
   "outputs": [],
   "source": []
  },
  {
   "cell_type": "markdown",
   "metadata": {
    "collapsed": true
   },
   "source": [
    "### Clean up data for each website"
   ]
  },
  {
   "cell_type": "code",
   "execution_count": 76,
   "metadata": {
    "collapsed": true
   },
   "outputs": [],
   "source": [
    "client = pymongo.MongoClient(\"mongodb://54.67.76.74/dogbreeds\")"
   ]
  },
  {
   "cell_type": "code",
   "execution_count": 77,
   "metadata": {
    "collapsed": true
   },
   "outputs": [],
   "source": [
    "db = client.dogbreeds"
   ]
  },
  {
   "cell_type": "code",
   "execution_count": 78,
   "metadata": {
    "scrolled": false
   },
   "outputs": [
    {
     "data": {
      "text/plain": [
       "'<div class=\"category-article-main\"><div id=\"adunit\"></div><div class=\"pw-widget pw-size-medium\"><a class=\"pw-button-facebook\"></a><a class=\"pw-button-twitter\"></a><a class=\"pw-button-googleplus\"></a><a class=\"pw-button-pinterest\"></a><a class=\"pw-button-reddit\"></a></div><header><h1>Beagle</h1><h2></h2><p>Small, compact, and hardy, Beagles are active companions for kids and adults alike. Canines in this <a href=\"http://dogtime.com/dog-breeds\">dog breed</a> are merry and fun loving, but being <a href=\"http://dogtime.com/hounds.html\">hounds</a>, they can also be stubborn and require patient, creative <a href=\"http://dogtime.com/training.html\">training techniques</a>. Their noses guide them through life, and they’re never happier than when following an interesting scent. The Beagle originally was bred as a <a href=\"http://dogtime.com/games-scent-hounds.html\">scenthound</a> to track small game, mostly rabbits and hare. He is still used for this purpose in many countries, including the United States.</p><p><strong>Read all about <a href=\"http://dogtime.com/puppies/43593-beagle-puppies#/slide/1\" target=\"_blank\">Beagle Puppies</a> here!</strong></p><p>See all Beagle characteristics below!</p><div class=\"js-slideshow\" data-id=\"439\" data-template=\"galleryview\"></div><p>Additional articles you will be interested in:</p><p><a href=\"http://dogtime.com/adoption.html\">Adoption</a><br/><a href=\"http://dogtime.com/dog-names-beagle-names.html\">Beagle dog names</a><br/><a href=\"http://dogtime.com/dog-names.html\">More dog names</a><br/><a href=\"http://dogtime.com/adults-bringing-home.html\">Bringing Home Your Dog</a><br/><a href=\"http://dogtime.com/training-center.html\">Help with Training Puppies</a><br/><a href=\"http://dogtime.com/puppy-housetraining-dunbar.html\">Housetraining Puppies</a><br/><a href=\"http://dogtime.com/feeding-puppies.html\">Feeding a Puppy</a><br/><a href=\"http://dogtime.com/games-scent-hounds.html\">Dog games fo scent hounds</a><br/><a href=\"http://dogtime.com/dog-training-tricks-dunbar.html\">Teaching your dog tricks</a><br/><a href=\"http://dogtime.com/how-to-take-pictures-of-your-dog.html\">How to take pictures of your dog</a></p></header><script src=\"http://i.po.st/static/v3/post-widget.js#publisherKey=7js8f7lp1c4vf0ulavh7&amp;retina=true\" type=\"text/javascript\"></script><div class=\"article-content\"><img src=\"http://cdn1-www.dogtime.com/assets/uploads/2011/01/file_23012_beagle-460x290.jpg\"/><div><div class=\"js-listing-box dashed-box characteristics-ratings\"><div class=\"inside-box\"><h4 class=\"title-box\">Breed Characteristics:</h4><div class=\"star-by-breed clearfix default-border-bottom default-margin-bottom default-padding-bottom parent-characteristic\"><span class=\"characteristic item-trigger-title\"> Adaptability</span><span class=\"star-block stars-column\"><span class=\"star star-3\"> </span></span></div><div class=\"js-list-item item-expandable-content default-border-bottom default-margin-bottom default-padding-bottom star-by-breed child-characteristic\"><a class=\"js-list-item-trigger item-trigger more-info\"><span class=\"characteristic item-trigger-title\">Adapts Well to Apartment Living</span><span class=\"star-block stars-column\"><span class=\"star star-4\">4</span></span><span class=\"more-info-tag item-trigger-tag\">More info +</span></a><span class=\"js-list-expandable to-expand description\"><p>Contrary to popular belief, small size doesn\\'t necessarily an apartment dog make — plenty of small dogs are too high-energy and yappy for life in a high-rise. Being quiet, low energy, fairly calm indoors, and polite with the other residents, are all good qualities in an apartment dog.</p><p><a href=\"/dog-breeds/characteristics/not-well-suited-to-apartment-living\">See Dogs Not Well Suited to Apartment Living</a></p></span></div><div class=\"js-list-item item-expandable-content default-border-bottom default-margin-bottom default-padding-bottom star-by-breed child-characteristic\"><a class=\"js-list-item-trigger item-trigger more-info\"><span class=\"characteristic item-trigger-title\">Good For Novice Owners</span><span class=\"star-block stars-column\"><span class=\"star star-3\">3</span></span><span class=\"more-info-tag item-trigger-tag\">More info +</span></a><span class=\"js-list-expandable to-expand description\"><p>Some dogs are simply easier than others: they take to training better and are fairly easygoing. They\\'re also resilient enough to bounce back from your mistakes or inconsistencies. Dogs who are highly sensitive, independent thinking, or assertive may be harder for a first-time owner to manage. You\\'ll get your best match if you take your dog-owning experience into account as you choose your new pooch.</p><p><a href=\"/dog-breeds/characteristics/good-for-experienced-owners\">See Dogs That Are Good For Experienced Owners</a></p></span></div><div class=\"js-list-item item-expandable-content default-border-bottom default-margin-bottom default-padding-bottom star-by-breed child-characteristic\"><a class=\"js-list-item-trigger item-trigger more-info\"><span class=\"characteristic item-trigger-title\">Sensitivity Level</span><span class=\"star-block stars-column\"><span class=\"star star-4\">4</span></span><span class=\"more-info-tag item-trigger-tag\">More info +</span></a><span class=\"js-list-expandable to-expand description\"><p>Some dogs will let a stern reprimand roll off their backs, while others take even a dirty look to heart. Low-sensitivity dogs, also called \"easygoing,\" \"tolerant,\" \"resilient,\" and even \"thick-skinned,\" can better handle a noisy, chaotic household, a louder or more assertive owner, and an inconsistent or variable routine. Do you have young kids, throw lots of dinner parties, play in a garage band, or lead a hectic life? Go with a low-sensitivity dog.</p><p><a href=\"/dog-breeds/characteristics/low-sensitivity-level\">See Dogs That Have Low Sensitivity Levels</a></p></span></div><div class=\"js-list-item item-expandable-content default-border-bottom default-margin-bottom default-padding-bottom star-by-breed child-characteristic\"><a class=\"js-list-item-trigger item-trigger more-info\"><span class=\"characteristic item-trigger-title\">Tolerates Being Alone</span><span class=\"star-block stars-column\"><span class=\"star star-1\">1</span></span><span class=\"more-info-tag item-trigger-tag\">More info +</span></a><span class=\"js-list-expandable to-expand description\"><p>Some breeds bond very closely with their family and are more prone to worry or even panic when left alone by their owner. An anxious dog can be very destructive, barking, whining, chewing, and otherwise causing mayhem. These breeds do best when a family member is home during the day or if you can take the dog to work.</p><p><a href=\"/dog-breeds/characteristics/poorly-suited-to-be-alone\">See Dogs Poorly Suited To Be Alone</a></p></span></div><div class=\"js-list-item item-expandable-content default-border-bottom default-margin-bottom default-padding-bottom star-by-breed child-characteristic\"><a class=\"js-list-item-trigger item-trigger more-info\"><span class=\"characteristic item-trigger-title\">Tolerates Cold Weather</span><span class=\"star-block stars-column\"><span class=\"star star-2\">2</span></span><span class=\"more-info-tag item-trigger-tag\">More info +</span></a><span class=\"js-list-expandable to-expand description\"><p>Breeds with very short coats and little or no undercoat or body fat, such as Greyhounds, are vulnerable to the cold. Dogs with a low cold tolerance need to live inside in cool climates and should have a jacket or sweater for chilly walks.</p><p><a href=\"/dog-breeds/characteristics/poorly-suited-for-cold-weather\">See Dogs Poorly Suited For Cold Weather</a></p></span></div><div class=\"js-list-item item-expandable-content default-border-bottom default-margin-bottom default-padding-bottom star-by-breed child-characteristic\"><a class=\"js-list-item-trigger item-trigger more-info\"><span class=\"characteristic item-trigger-title\">Tolerates Hot Weather</span><span class=\"star-block stars-column\"><span class=\"star star-4\">4</span></span><span class=\"more-info-tag item-trigger-tag\">More info +</span></a><span class=\"js-list-expandable to-expand description\"><p>Dogs with thick, double coats are more vulnerable to overheating. So are breeds with short noses, like Bulldogs or Pugs, since they can\\'t pant as well to cool themselves off. If you want a heat-sensitive breed, the dog will need to stay indoors with you on warm or humid days, and you\\'ll need to be extra cautious about exercising your dog in the heat.</p><p><a href=\"/dog-breeds/characteristics/poorly-suited-for-hot-weather\">See Dogs Poorly Suited For Hot Weather</a></p></span></div><div class=\"star-by-breed clearfix default-border-bottom default-margin-bottom default-padding-bottom parent-characteristic\"><span class=\"characteristic item-trigger-title\"> All Around Friendliness</span><span class=\"star-block stars-column\"><span class=\"star star-5\"> </span></span></div><div class=\"js-list-item item-expandable-content default-border-bottom default-margin-bottom default-padding-bottom star-by-breed child-characteristic\"><a class=\"js-list-item-trigger item-trigger more-info\"><span class=\"characteristic item-trigger-title\">Affectionate with Family</span><span class=\"star-block stars-column\"><span class=\"star star-5\">5</span></span><span class=\"more-info-tag item-trigger-tag\">More info +</span></a><span class=\"js-list-expandable to-expand description\"><p>Some breeds are independent and aloof, even if they\\'ve been raised by the same person since puppyhood; others bond closely to one person and are indifferent to everyone else; and some shower the whole family with affection. Breed isn\\'t the only factor that goes into affection levels; dogs who were raised inside a home with people around feel more comfortable with humans and bond more easily.</p><p><a href=\"/dog-breeds/characteristics/not-affectionate-with-family\">See Dogs Less Affectionate with Family</a></p></span></div><div class=\"js-list-item item-expandable-content default-border-bottom default-margin-bottom default-padding-bottom star-by-breed child-characteristic\"><a class=\"js-list-item-trigger item-trigger more-info\"><span class=\"characteristic item-trigger-title\">Incredibly Kid Friendly Dogs</span><span class=\"star-block stars-column\"><span class=\"star star-5\">5</span></span><span class=\"more-info-tag item-trigger-tag\">More info +</span></a><span class=\"js-list-expandable to-expand description\"><p>Being gentle with children, sturdy enough to handle the heavy-handed pets and hugs they can dish out, and having a blasé attitude toward running, screaming children are all traits that make a kid-friendly dog. You may be surprised by who\\'s on that list: Fierce-looking Boxers are considered good with children, as are American Staffordshire Terriers (aka pit bulls). Small, delicate, and potentially snappy dogs such as Chihuahuas aren\\'t so family-friendly.</p><p>**All dogs are individuals. Our ratings are generalizations, and they\\'re not a guarantee of how any breed or individual dog will behave. Dogs from any breed can be good with children based on their past experiences, <a href=\"http://dogtime.com/raising-people-friendly-dog.html\">training on how to get along with kids</a>, and personality. No matter what the breed or breed type, all dogs have strong jaws, sharp pointy teeth, and may bite in stressful circumstances. Young children and dogs of any breed should always be supervised by an adult and never left alone together, period.</p><p><a href=\"/dog-breeds/characteristics/not-kid-friendly\">See Dogs Not Kid Friendly</a></p></span></div><div class=\"js-list-item item-expandable-content default-border-bottom default-margin-bottom default-padding-bottom star-by-breed child-characteristic\"><a class=\"js-list-item-trigger item-trigger more-info\"><span class=\"characteristic item-trigger-title\">Dog Friendly</span><span class=\"star-block stars-column\"><span class=\"star star-5\">5</span></span><span class=\"more-info-tag item-trigger-tag\">More info +</span></a><span class=\"js-list-expandable to-expand description\"><p>Friendliness toward dogs and friendliness toward humans are two completely different things. Some dogs may attack or try to dominate other dogs even if they\\'re love-bugs with people; others would rather play than fight; and some will turn tail and run. Breed isn\\'t the only factor; dogs who lived with their littermates and mother until at least 6 to 8 weeks of age, and who spent lots of time playing with other dogs during puppyhood, are more likely to have <a href=\"http://dogtime.com/raising-dog-friendly-dogs.html\">good canine social skills</a>.</p><p><a href=\"/dog-breeds/characteristics/not-so-dog-friendly\">See Dogs That Are Not Dog Friendly</a></p></span></div><div class=\"js-list-item item-expandable-content default-border-bottom default-margin-bottom default-padding-bottom star-by-breed child-characteristic\"><a class=\"js-list-item-trigger item-trigger more-info\"><span class=\"characteristic item-trigger-title\">Friendly Toward Strangers</span><span class=\"star-block stars-column\"><span class=\"star star-5\">5</span></span><span class=\"more-info-tag item-trigger-tag\">More info +</span></a><span class=\"js-list-expandable to-expand description\"><p>Stranger-friendly dogs will greet guests with a wagging tail and a nuzzle; others are shy, indifferent, or even aggressive. However, no matter what the breed, a dog who was <a href=\"http://dogtime.com/socialization.html\">exposed to lots of different types, ages, sizes, and shapes of people as a puppy</a> will respond better to strangers as an adult.</p><p><a href=\"/dog-breeds/characteristics/more-shy\">See Dogs That Are More Shy</a></p></span></div><div class=\"star-by-breed clearfix default-border-bottom default-margin-bottom default-padding-bottom parent-characteristic\"><span class=\"characteristic item-trigger-title\"> Health Grooming</span><span class=\"star-block stars-column\"><span class=\"star star-3\"> </span></span></div><div class=\"js-list-item item-expandable-content default-border-bottom default-margin-bottom default-padding-bottom star-by-breed child-characteristic\"><a class=\"js-list-item-trigger item-trigger more-info\"><span class=\"characteristic item-trigger-title\">Amount Of Shedding</span><span class=\"star-block stars-column\"><span class=\"star star-3\">3</span></span><span class=\"more-info-tag item-trigger-tag\">More info +</span></a><span class=\"js-list-expandable to-expand description\"><p>If you\\'re going to share your home with a dog, you\\'ll need to deal with some level of dog hair on your clothes and in your house. However, shedding does vary greatly among the breeds: Some dogs shed year-round, some \"blow\" seasonally -- produce a snowstorm of loose hair -- some do both, and some shed hardly at all. If you\\'re a neatnik you\\'ll need to either pick a low-shedding breed, or relax your standards.</p><p><a href=\"/dog-breeds/characteristics/low-shed-dogs\">See Dogs That Shed Very Little</a></p></span></div><div class=\"js-list-item item-expandable-content default-border-bottom default-margin-bottom default-padding-bottom star-by-breed child-characteristic\"><a class=\"js-list-item-trigger item-trigger more-info\"><span class=\"characteristic item-trigger-title\">Drooling Potential</span><span class=\"star-block stars-column\"><span class=\"star star-1\">1</span></span><span class=\"more-info-tag item-trigger-tag\">More info +</span></a><span class=\"js-list-expandable to-expand description\"><p>Drool-prone dogs may drape ropes of slobber on your arm and leave big, wet spots on your clothes when they come over to say hello. If you\\'ve got a laid-back attitude toward slobber, fine; but if you\\'re a neatnik, you may want to choose a dog who rates low in the drool department.</p><p><a href=\"/dog-breeds/characteristics/not-big-droolers\">See Dogs That Are Not Big Droolers</a></p></span></div><div class=\"js-list-item item-expandable-content default-border-bottom default-margin-bottom default-padding-bottom star-by-breed child-characteristic\"><a class=\"js-list-item-trigger item-trigger more-info\"><span class=\"characteristic item-trigger-title\">Easy To Groom</span><span class=\"star-block stars-column\"><span class=\"star star-4\">4</span></span><span class=\"more-info-tag item-trigger-tag\">More info +</span></a><span class=\"js-list-expandable to-expand description\"><p>Some breeds are brush-and-go dogs; others require regular bathing, clipping, and other grooming just to stay clean and healthy. Consider whether you have the time and patience for a dog that needs a lot of grooming, or the money to pay someone else to do it.</p><p><a href=\"/dog-breeds/characteristics/more-grooming-required\">See Dogs That Require More Grooming</a></p></span></div><div class=\"js-list-item item-expandable-content default-border-bottom default-margin-bottom default-padding-bottom star-by-breed child-characteristic\"><a class=\"js-list-item-trigger item-trigger more-info\"><span class=\"characteristic item-trigger-title\">General Health</span><span class=\"star-block stars-column\"><span class=\"star star-1\">1</span></span><span class=\"more-info-tag item-trigger-tag\">More info +</span></a><span class=\"js-list-expandable to-expand description\"><p>Due to poor breeding practices, some breeds are prone to certain genetic health problems, such as hip dysplasia. This doesn\\'t mean that every dog of that breed will develop those diseases; it just means that they\\'re at an increased risk. If you\\'re buying a puppy, it\\'s a good idea to find out which genetic illnesses are common to the breed you\\'re interested in, so you can <a href=\"http://dogtime.com/finding-a-good-breeder.html\">ask the breeder</a> about the physical health of your potential pup\\'s parents and other relatives.</p><p><a href=\"/dog-breeds/characteristics/prone-to-health-problems\">See Dogs More Prone To Health Problems</a></p></span></div><div class=\"js-list-item item-expandable-content default-border-bottom default-margin-bottom default-padding-bottom star-by-breed child-characteristic\"><a class=\"js-list-item-trigger item-trigger more-info\"><span class=\"characteristic item-trigger-title\">Potential For Weight Gain</span><span class=\"star-block stars-column\"><span class=\"star star-5\">5</span></span><span class=\"more-info-tag item-trigger-tag\">More info +</span></a><span class=\"js-list-expandable to-expand description\"><p>Some breeds have hearty appetites and tend to put on weight easily. As in humans, being overweight can cause health problems in dogs. If you pick a breed that\\'s prone to packing on pounds, you\\'ll need to limit treats, make sure he gets enough exercise, and measure out his daily kibble in regular meals rather than leaving food out all the time.</p></span></div><div class=\"js-list-item item-expandable-content default-border-bottom default-margin-bottom default-padding-bottom star-by-breed child-characteristic\"><a class=\"js-list-item-trigger item-trigger more-info\"><span class=\"characteristic item-trigger-title\">Size</span><span class=\"star-block stars-column\"><span class=\"star star-2\">2</span></span><span class=\"more-info-tag item-trigger-tag\">More info +</span></a><span class=\"js-list-expandable to-expand description\"><p>Dogs come in all sizes, from the world\\'s smallest pooch, the Chihuahua, to the towering Great Dane, how much space a dog takes up is a key factor in deciding if he is compatible with you and your living space.\\xa0Large dog breeds might seem overpowering and intimidating but some of them are incredibly sweet! Take a look and find the right large dog for you!</p><p><a href=\"/dog-breeds/characteristics/medium\">See Medium Dogs</a></p><p><a href=\"/dog-breeds/characteristics/small\">See Small Dogs</a></p></span></div><div class=\"star-by-breed clearfix default-border-bottom default-margin-bottom default-padding-bottom parent-characteristic\"><span class=\"characteristic item-trigger-title\"> Trainability</span><span class=\"star-block stars-column\"><span class=\"star star-4\"> </span></span></div><div class=\"js-list-item item-expandable-content default-border-bottom default-margin-bottom default-padding-bottom star-by-breed child-characteristic\"><a class=\"js-list-item-trigger item-trigger more-info\"><span class=\"characteristic item-trigger-title\">Easy To Train</span><span class=\"star-block stars-column\"><span class=\"star star-1\">1</span></span><span class=\"more-info-tag item-trigger-tag\">More info +</span></a><span class=\"js-list-expandable to-expand description\"><p>Easy to train dogs are more adept at forming an association between a prompt (such as the word \"sit\"), an action (sitting), and a consequence (getting a treat) very quickly. Other dogs need more time, patience, and repetition during training. Many breeds are intelligent but approach training with a \"What\\'s in it for me?\" attitude, in which case you\\'ll need to use rewards and games to teach them to want to comply with your requests.</p><p><a href=\"/dog-breeds/characteristics/challenging-to-train\">See Dogs That Are Challenging To Train</a></p></span></div><div class=\"js-list-item item-expandable-content default-border-bottom default-margin-bottom default-padding-bottom star-by-breed child-characteristic\"><a class=\"js-list-item-trigger item-trigger more-info\"><span class=\"characteristic item-trigger-title\">Intelligence</span><span class=\"star-block stars-column\"><span class=\"star star-4\">4</span></span><span class=\"more-info-tag item-trigger-tag\">More info +</span></a><span class=\"js-list-expandable to-expand description\"><p>Dogs who were bred for jobs that require decision making, intelligence, and concentration, such as herding livestock, need to exercise their brains, just as dogs who were bred to run all day need to exercise their bodies. If they don\\'t get the mental stimulation they need, they\\'ll make their own work -- usually with projects you won\\'t like, such as digging and chewing. Obedience training and interactive dog toys are good ways to give a dog a brain workout, as are dog sports and careers, such as agility and search and rescue.</p><p><a href=\"/dog-breeds/characteristics/low-intelligence\">See Dogs That Have Low Intelligence</a></p></span></div><div class=\"js-list-item item-expandable-content default-border-bottom default-margin-bottom default-padding-bottom star-by-breed child-characteristic\"><a class=\"js-list-item-trigger item-trigger more-info\"><span class=\"characteristic item-trigger-title\">Potential For Mouthiness</span><span class=\"star-block stars-column\"><span class=\"star star-3\">3</span></span><span class=\"more-info-tag item-trigger-tag\">More info +</span></a><span class=\"js-list-expandable to-expand description\"><p>Common in most breeds during puppyhood and in retriever breeds at all ages, mouthiness means a tendency to nip, chew, and play-bite (a soft, fairly painless bite that doesn\\'t puncture the skin). Mouthy dogs are more likely to use their mouths to hold or \"herd\" their human family members, and they need training to learn that it\\'s fine to gnaw on chew toys, but not on people. Mouthy breeds tend to really enjoy a game of fetch, as well as a good chew on a chew toy that\\'s been stuffed with kibble and treats.</p></span></div><div class=\"js-list-item item-expandable-content default-border-bottom default-margin-bottom default-padding-bottom star-by-breed child-characteristic\"><a class=\"js-list-item-trigger item-trigger more-info\"><span class=\"characteristic item-trigger-title\">Prey Drive</span><span class=\"star-block stars-column\"><span class=\"star star-5\">5</span></span><span class=\"more-info-tag item-trigger-tag\">More info +</span></a><span class=\"js-list-expandable to-expand description\">[caption id=\"attachment_55015\" align=\"alignnone\" width=\"680\"]<img alt=\"(Picture Credit: Haydn West - PA Images/PA Images via Getty Images)\" class=\"size-full wp-image-55015\" height=\"450\" src=\"http://cdn1-www.dogtime.com/assets/uploads/2015/07/GettyImages-829378994.jpg\" width=\"680\"/> (Picture Credit: Haydn West - PA Images/PA Images via Getty Images)[/caption]\\nDogs that were bred to hunt, such as terriers, have an inborn desire to chase and sometimes kill other animals. Anything whizzing by — cats, squirrels, perhaps even cars — can trigger that instinct. Dogs that like to chase need to be leashed or kept in a fenced area when outdoors, and you\\'ll need a high, secure fence in your yard. These breeds generally aren\\'t a good fit for homes with smaller pets that can look like prey, such as cats, hamsters, or small dogs. Breeds that were originally used for bird hunting, on the other hand, generally won\\'t chase, but you\\'ll probably have a hard time getting their attention when there are birds flying by.<a href=\"/dog-breeds/characteristics/low-prey-drive\" target=\"_blank\">See Dogs That Have Low Prey Drive</a></span></div><div class=\"js-list-item item-expandable-content default-border-bottom default-margin-bottom default-padding-bottom star-by-breed child-characteristic\"><a class=\"js-list-item-trigger item-trigger more-info\"><span class=\"characteristic item-trigger-title\">Tendency To Bark Or Howl</span><span class=\"star-block stars-column\"><span class=\"star star-5\">5</span></span><span class=\"more-info-tag item-trigger-tag\">More info +</span></a><span class=\"js-list-expandable to-expand description\"><p>Some breeds sound off more often than others. When choosing a breed, think about how the dog vocalizes — with barks or howls — and how often. If you\\'re considering a hound, would you find their trademark howls musical or maddening? If you\\'re considering a watchdog, will a city full of suspicious \"strangers\" put him on permanent alert? Will the local wildlife literally drive your dog wild? Do you live in housing with noise restrictions? Do you have neighbors nearby?</p><p><a href=\"/dog-breeds/characteristics/mostly-quiet\">See Dogs That Are Mostly Quiet</a></p></span></div><div class=\"js-list-item item-expandable-content default-border-bottom default-margin-bottom default-padding-bottom star-by-breed child-characteristic\"><a class=\"js-list-item-trigger item-trigger more-info\"><span class=\"characteristic item-trigger-title\">Wanderlust Potential</span><span class=\"star-block stars-column\"><span class=\"star star-5\">5</span></span><span class=\"more-info-tag item-trigger-tag\">More info +</span></a><span class=\"js-list-expandable to-expand description\"><p>Some breeds are more free-spirited than others. Nordic dogs such as Siberian Huskies were bred to range long distances, and given the chance, they\\'ll take off after anything that catches their interest. And many hounds simply must follow their noses, or that bunny that just ran across the path, even if it means leaving you behind.</p><p><a href=\"/dog-breeds/characteristics/less-prone-to-wander\">See Dogs Less Prone To Wander</a></p></span></div><div class=\"star-by-breed clearfix default-border-bottom default-margin-bottom default-padding-bottom parent-characteristic\"><span class=\"characteristic item-trigger-title\"> Exercise Needs</span><span class=\"star-block stars-column\"><span class=\"star star-5\"> </span></span></div><div class=\"js-list-item item-expandable-content default-border-bottom default-margin-bottom default-padding-bottom star-by-breed child-characteristic\"><a class=\"js-list-item-trigger item-trigger more-info\"><span class=\"characteristic item-trigger-title\">Energy Level</span><span class=\"star-block stars-column\"><span class=\"star star-4\">4</span></span><span class=\"more-info-tag item-trigger-tag\">More info +</span></a><span class=\"js-list-expandable to-expand description\"><p>High-energy dogs are always ready and waiting for action. Originally bred to perform a canine job of some sort, such as retrieving game for hunters or herding livestock, they have the stamina to put in a full workday. They need a significant amount of exercise and mental stimulation, and they\\'re more likely to spend time jumping, playing, and investigating any new sights and smells. Low-energy dogs are the canine equivalent of a couch potato, content to doze the day away. When picking a breed, consider your own activity level and lifestyle, and think about whether you\\'ll find a frisky, energetic dog invigorating or annoying.</p><p><a href=\"/dog-breeds/characteristics/low-energy-dogs\">See Dogs That Have Low Energy</a></p></span></div><div class=\"js-list-item item-expandable-content default-border-bottom default-margin-bottom default-padding-bottom star-by-breed child-characteristic\"><a class=\"js-list-item-trigger item-trigger more-info\"><span class=\"characteristic item-trigger-title\">Intensity</span><span class=\"star-block stars-column\"><span class=\"star star-5\">5</span></span><span class=\"more-info-tag item-trigger-tag\">More info +</span></a><span class=\"js-list-expandable to-expand description\"><p>A vigorous dog may or may not be high-energy, but everything he does, he does with vigor: he strains on the leash (until you train him not to), tries to plow through obstacles, and even eats and drinks with great big gulps. These dynamos need lots of training to learn good manners, and may not be the best fit for a home with young kids or someone who\\'s elderly or frail. A low-vigor dog, on the other hand, has a more subdued approach to life.</p><p><a href=\"/dog-breeds/characteristics/low-intensity\">See Dogs With Low Intensity</a></p></span></div><div class=\"js-list-item item-expandable-content default-border-bottom default-margin-bottom default-padding-bottom star-by-breed child-characteristic\"><a class=\"js-list-item-trigger item-trigger more-info\"><span class=\"characteristic item-trigger-title\">Exercise Needs</span><span class=\"star-block stars-column\"><span class=\"star star-4\">4</span></span><span class=\"more-info-tag item-trigger-tag\">More info +</span></a><span class=\"js-list-expandable to-expand description\"><p>Some breeds do fine with a slow evening stroll around the block. Others need daily, vigorous exercise -- especially those that were originally bred for physically demanding jobs, such as herding or hunting. Without enough exercise, these breeds may put on weight and vent their pent-up energy in ways you don\\'t like, such as barking, chewing, and digging. Breeds that need a lot of exercise are good for outdoorsy, active people, or those interested in training their dog to compete in a high-energy dog sport, such as agility.</p><p><a href=\"/dog-breeds/characteristics/dont-need-tons-of-exercise\">See Dogs That Don\\'t Need Tons of Exercise</a></p></span></div><div class=\"js-list-item item-expandable-content default-border-bottom default-margin-bottom default-padding-bottom star-by-breed child-characteristic\"><a class=\"js-list-item-trigger item-trigger more-info\"><span class=\"characteristic item-trigger-title\">Potential For Playfulness</span><span class=\"star-block stars-column\"><span class=\"star star-5\">5</span></span><span class=\"more-info-tag item-trigger-tag\">More info +</span></a><span class=\"js-list-expandable to-expand description\"><p>Some dogs are perpetual puppies -- always begging for a game -- while others are more serious and sedate. Although a playful pup sounds endearing, consider how many games of fetch or tag you want to play each day, and whether you have kids or other dogs who can stand in as playmates for the dog.</p><p><a href=\"/dog-breeds/characteristics/not-playful\">See Dogs That Are Less Playfull</a></p></span></div></div></div><div class=\"dashed-box\"><div class=\"inside-box\"><h4 class=\"title-box\">Vital Stats:</h4><span class=\"characteristic\">Dog Breed Group:</span> Hound Dogs<br/><span class=\"characteristic\">Height:</span> 1 foot, 1 inch to 1 foot, 3 inches tall at the shoulder<br/><span class=\"characteristic\">Weight:</span> 18 to 30 pounds<br/><span class=\"characteristic\">Life Span:</span> 10 to 15 years</div></div><ul class=\"breed-data js-accordion item-expandable-container profile-descriptions-list\"><li class=\"breed-data-item js-accordion-item item-expandable-content\"><h2 class=\"js-section-heading description-title\"></h2><div class=\"breed-data-item-content js-breed-data-section\">It\\'s difficult to resist the appeal of a Beagle\\'s dark brown or hazel eyes, with his soft, pleading expression. They\\'re happy, outgoing and loving — characteristics more than balanced out by their hound nature, which is inquisitive, determined, and focused on food.\\nThey aren\\'t yappy dogs, but they do have three distinct vocalizations — a bark/growl, a baying howl, and a half-baying howl (a cross between a frantic bark and a bay). The half-howl vocalization usually is reserved for when they catch sight of quarry — or think it\\'s time to wake the neighbors at 6 a.m.! Being pack dogs, they generally <a href=\"/raising-dog-friendly-dogs.html\">get along well with other animals</a> and their human friends — and they think everyone is their new best friend.\\nThe most important thing to know about the Beagle is that he is a scenthound. His nose is the most important part of his anatomy and his head is always down to the ground, searching for an interesting trail to follow. Beagles have approximately 220 million scent receptors compared to the paltry 5 million or so in people, which makes them very good at picking up scents. Humorist Dave Barry once described his in-laws\\' Beagle as \"a nose with feet.\"\\nYou may have seen the Beagle\\'s nose at work at airports across the country. In 1984, the U.S. Department of Agriculture decided to use Beagles to sniff out contraband food being brought into the United States at the Los Angeles International Airport.\\nThe experiment was a huge success. Because they are small, friendly, and cute, the Beagles didn\\'t intimidate people who are afraid of dogs, and with their super nose power, they could be trained to identify specific food articles while bypassing those that weren\\'t contraband. Today, members of the \"Beagle Brigade\" patrol the baggage-claim areas at more than 20 international airports and other points of entry into the United States.\\nAlthough they\\'ve branched out into other fields of work, Beagles remain superb hunters of small game. The National Beagle Club\\'s Institute Farm hosts AKC-sanctioned field trials where breeders with packs are put to the test in the field. Many other countries have similar activities for hunting Beagles.\\nBecause of their small size and gentle temperament, Beagles can do well in apartments if their people are willing to walk them on lead several times a day in all kinds of weather. They need <a href=\"/exercise-needs.html\">plenty of exercise</a>, about an hour a day if possible. If left alone and unexercised, Beagles can <a href=\"/chewing-digging-behavior.html\">become destructive</a>.</div><div class=\"article-promo\"></div></li><li class=\"breed-data-item js-accordion-item item-expandable-content\"><h2 class=\"js-section-heading description-title\">Highlights</h2><div class=\"breed-data-item-content js-breed-data-section\"><ul> <li>Beagles can be difficult to <a href=\"/housetraining-for-adults.html\">housetrain</a>. Some people say it can take up to a year to fully housetrain some Beagles. <a href=\"/housetraining-crate-training.html\">Crate training</a> is absolutely recommended.</li> <li>Beagles can get bored if left alone in a house too long. If left in a backyard, Beagles will start finding ways to amuse themselves, usually by howling, <a href=\"/dogs-who-dig-aspca.html\">digging</a>, or <a href=\"/escaping.html\">trying to escape</a>.</li> <li>The most common reason Beagles are turned over to rescue groups is because either their owners or their owners\\' neighbors got tired of their baying. Be sure that you are prepared to work with your dog to control <a href=\"/barking.html\">excessive barking</a> and howling.</li> <li>Beagles are targets for thieves who would steal them and perhaps sell them to research laboratories for use in experiments. Supervise your Beagle when he is outdoors and be sure to have him <a href=\"/microchips.html\">microchipped!</a></li> <li>Since they are scenthounds, Beagles will wander off if they catch an enticing smell in the air. Their noses control their brains, and if they smell something interesting, nothing else exists in their world.</li> <li>Although they are loving and gentle, Beagles can have an independent, stubborn streak. <a href=\"/training-classes.html\">Obedience training</a> is recommended, but be sure the instructor of the class understands hound personality and favors using food as a reward (which few Beagles can resist).</li> <li>Do you remember how the famous cartoon Beagle Snoopy worried about his food bowl? Beagles are \"chow hounds\" and will overeat if given a chance. <a href=\"/feeding-overweight-dogs.html\">Monitor the amount of food</a> you give them and be sure to keep your cupboards closed and your trashcans secured. Otherwise, your Beagle will sniff out the foods he likes the best.</li> <li>In regards to food, your Beagle probably will take its food bowl pretty seriously. Teach children to respect your Beagle while it is eating, and not to approach it or tease it with food.</li> <li>Beagles are not good protection or guard dogs because they\\'re usually friendly to everyone they meet.</li></ul></div></li><li class=\"breed-data-item js-accordion-item item-expandable-content\"><h2 class=\"js-section-heading description-title\">History</h2><div class=\"breed-data-item-content js-breed-data-section\">The origin of the word \"beagle\" is uncertain. It\\'s thought that it may have been derived from the French word <em>begueule</em>, meaning open throat, or from the Old English word <em>beag</em>, meaning small. Others think it may have come from the French word <em>beugler</em>, meaning to bellow, or the German word <em>begele</em>, meaning to scold.\\nThe breed\\'s history is cloudy as well because breeds as we know them today didn\\'t really develop until the 19th century. Greek documents from 400 B.C. describe Beagle-like dogs, and the Romans may have brought small rabbit-hunting hounds with them to England and bred them with the local hounds.\\nWilliam the Conqueror reportedly brought Talbot hounds (now extinct) to England during the Norman Conquest in 1066. These dogs are thought to be the ancestors of the Beagle and the Foxhound.\\nBeagles became popular in England very early in its history. During the reigns of Edward II (1307 - 1327) and Henry VII (1485 - 1509), extremely small beagles, called Glove Beagles, were popular. They reportedly were small enough to be held in a gloved hand. There\\'s also mention of Singing Beagles, named for their bugling voices.\\nElizabeth I (1533 - 1603) kept packs of Pocket Beagles that stood only 9 inches tall. These small dogs were depicted in paintings as short-legged and pointy nosed. They were used for hunting, but quickly fell out of favor because they weren\\'t very fast.\\nIn the 1700s, fox hunting became popular in England, and the Beagle fell out of favor as the larger <a href=\"/english-foxhound.html\">Foxhound</a> became the dog of choice. If it hadn\\'t been for the farmers in England, Ireland, and Wales who continued to keep packs to hunt rabbit and hare, the breed might have become extinct at that time.\\nIn the mid-1800s Reverend Phillip Honeywood established a pack of Beagles in Essex, England. These dogs are thought to be the ancestors of the modern Beagle. Rev. Honeywood bred for hunting skills, not looks. Thomas Johnson, a fellow Englishman, was responsible for breeding Beagles who were both attractive and good hunters.\\nAt about the same time, American breeders started importing Beagles from England to improve the looks of their own dogs. Many of the English imports were bred to an average height of 15 to 17 inches at the shoulder so they could hunt fox. American breeders started breeding them to be smaller for rabbit hunting.\\nOf interest is the \"Patch\" Beagle strain developed by Willet Randall in New York around 1880. The line is primarily white with a very large tri-colored spot. They were very popular in the 1940s and 1950s because they were able to run so fast. Today, many people call lemon and white or red and white beagles \"Patch\" beagles.\\nThe American Kennel Club and the first Beagle specialty club both were founded in 1884. In that same year, the AKC began registering Beagles.\\nIn 1916, five members of the National Beagle Club purchased 508 acres in Western Loudoun County, Virginia for the purpose of holding field trials. The men who purchased it formed a corporation called Institute Corporate to purchase and own the land, then leasing it to the Institute Foundation that maintains the property for the National Beagle Club, which today is the site of many activities of the National Beagle Club.</div></li><li class=\"breed-data-item js-accordion-item item-expandable-content\"><h2 class=\"js-section-heading description-title\">Size</h2><div class=\"breed-data-item-content js-breed-data-section\">The American Kennel Club recognizes two varieties of Beagle. The 13-inch variety is for hounds that don\\'t exceed 13 inches in height at the shoulder, and the 15-inch variety is for hounds that stand 13 inches to 15 inches at the shoulder. Depending on their height, Beagles weigh between 18 and 30 pounds.</div><div class=\"ad-300x250-promo\"><aside class=\"widget_evolve_ad_gpt_widget promo\"><div class=\"gpt-ad\" data-id=\"pb_prebidjs_300x1050_300x600_300x250_a\" data-offset=\"300\" id=\"pb_prebidjs_300x1050_300x600_300x250_a\"><script type=\"text/javascript\">PB= PB || {};gptAds= PB.gptAds || {};var opts= {\"asBool\":false,\"adUnit\":\"\\\\/4403\\\\/th\\\\/dogtime\\\\/ros\",\"adDiv\":\"pb_prebidjs_300x1050_300x600_300x250_a\",\"sizeStr\":\"[[300, 1050],[300, 600],[300, 250]]\",\"mapping\":[{\"viewport\":\"[0, 0]\",\"sizes\":\"[[300, 250]]\"},{\"viewport\":\"[750, 0]\",\"sizes\":\"[[300, 250]]\"},{\"viewport\":\"[980, 0]\",\"sizes\":\"[[300, 1050],[300, 600],[300, 250]]\"}],\"targeting\":{\"pos\":\"A\",\"ct\":\"article\",\"ci\":\"23012\",\"coppa\":\"0\",\"site\":\"dogtime\"},\"resize\":false,\"autoRefresh\":false};PB.waitForAS= (opts.asBool) ? true : PB.waitForAS || false;PB.evGPTBuilder.enqueueAd(opts);</script></div></aside></div></li><li class=\"breed-data-item js-accordion-item item-expandable-content\"><h2 class=\"js-section-heading description-title\">Personality</h2><div class=\"breed-data-item-content js-breed-data-section\">Beagles are gentle, sweet, and funny. They will make you laugh, but that\\'s when they\\'re not making you cry because of their often naughty behavior. Beagle people spend a lot of time trying to outthink their dogs, and they often must resort to food rewards to lure the Beagle into a state of temporary obedience.\\nLike every dog, the Beagle needs <a href=\"/socialization.html\">early socialization</a> — exposure to many different people, sights, sounds, and experiences — when they\\'re young. Socialization helps ensure that your Beagle puppy grows up to be a well-rounded dog.</div></li><li class=\"breed-data-item js-accordion-item item-expandable-content\"><h2 class=\"js-section-heading description-title\">Health</h2><div class=\"breed-data-item-content js-breed-data-section\">Not all Beagles will get any or all of these diseases, but it\\'s important to be aware of them if you\\'re considering this breed.<ul> <li><strong>Intervertebral Disk Disease:</strong> The spinal cord is surrounded by the vertebral column, and between the bones of the vertebral column are intervertebral discs that work as shock absorbers and allow normal movement of the vertebrae. The discs are made of two layers, an outer fibrous layer and an inner jelly-like layer. Intervertebral disc disease occurs when the jelly like inner layer protrudes into the spinal canal and pushes against the spinal cord. Compression of the spinal cord may be minimal, causing neck or back pain, or it can be severe, causing loss of sensation, paralysis, and lack of bowel or bladder control. The damage done by the spinal compression may be irreversible. Treatment is based on several factors, including location, severity, and length of time between injury and treatment. Confining the dog may be of some use, but surgery is often needed to relieve pressure on the spinal cord. Surgery is not always successful.</li> <li><strong>Hip Dysplasia:</strong> This is an inherited condition in which the thighbone doesn\\'t fit snugly into the hip joint. Some dogs show pain and lameness on one or both rear legs, but others don\\'t display outward signs of discomfort. (X-ray screening is the most certain way to diagnose the problem.) Either way, arthritis can develop as the dog ages. Dogs with hip dysplasia should not be bred — so if you\\'re buying a puppy, ask the breeder for proof that the parents have been tested for hip dysplasia and are free of problems.</li> <li><strong>Cherry Eye</strong>: This is a condition in which the gland under the third eyelid protrudes and looks rather like a cherry in the corner of the eye. Your vet may need to remove the gland.</li> <li><strong>Glaucoma:</strong> This is a painful disease in which pressure in the eye becomes abnormally high. Eyes are constantly producing and draining a fluid called aqueous humor — if the fluid doesn\\'t drain correctly, the pressure inside the eye increases causing damage to the optic nerve and resulting in vision loss and blindness. There are two types. Primary glaucoma, which is hereditary, and secondary glaucoma which is a result of inflammation, a tumor, or injury. Glaucoma generally affects one eye first, which will be red, teary, squinty, and appear painful. A dilated pupil won\\'t react to light, and the front of the eye will have a whitish, almost blue cloudiness. Vision loss and eventually blindness will result, sometimes even with treatment (surgery or medication, depending on the case).</li> <li><strong>Progressive Retinal Atrophy (PRA):</strong> This is a degenerative eye disorder that eventually causes blindness from the loss of photoreceptors at the back of the eye. PRA is detectable years before the dog shows any signs of blindness. Fortunately, dogs can use their other senses to compensate for blindness, and a blind dog can live a full and happy life. Just don\\'t make it a habit to move the furniture around. Reputable breeders have their dogs\\' eyes certified annually by a veterinary ophthalmologist and do not breed dogs with this disease.</li> <li><strong>Distichiasis:</strong> This condition occurs when an additional row of eyelashes (known as distichia) grow on the oil gland in the dog\\'s eye and protrude along the edge of the eyelid. This irritates the eye, and you may notice your Aussie squinting or rubbing his eye(s). Distichiasis is treated surgically by freezing the excess eyelashes with liquid nitrogen and then remove them. This type of surgery is called cryoepilation and is done under general anesthesia.</li> <li><strong>Epilepsy:</strong> This is a neurological condition that\\'s often, but not always, inherited. <a href=\"/epilepsy.html\">Epilepsy</a> can cause mild or severe seizures that may show themselves as unusual behavior (such as running frantically as if being chased, staggering, or hiding) or even by falling down, limbs rigid, and losing consciousness. Seizures are frightening to watch, but the long-term prognosis for dogs with idiopathic epilepsy is generally very good. It\\'s important to take your dog to the vet for proper diagnosis (especially since seizures can have other causes) and treatment.</li> <li><strong>Hypothyroidism:</strong> Hypothyroidism is a disorder of the thyroid gland. It\\'s thought to be responsible for conditions such as epilepsy, alopecia (hair loss), obesity, lethargy, hyperpigmentation, pyoderma, and other skin conditions. It is treated with medication and diet.</li> <li><strong>Beagle Dwarfism:</strong> This is a condition where the dog is smaller than normal. This condition may or may not be accompanied by other physical abnormalities, such as extremely short legs.</li> <li><strong>Chinese Beagle Syndrome (CBS):</strong> This is a condition that is characterized by a wide skull and slanted eyes. The dog grows normally otherwise. Quite often, dogs with CBS have heart problems and toe abnormalities.</li> <li><strong>Patellar Luxation:</strong> Also known as \"slipped stifles,\" this is a common problem in small dogs. It is caused when the patella, which has three parts — the femur (thigh bone), patella (knee cap), and tibia (calf) — is not properly lined up. This causes lameness in the leg or an abnormal gait, sort of like a skip or a hop. It is a condition that is present at birth although the actual misalignment or luxation does not always occur until much later. The rubbing caused by patellar luxation can lead to arthritis, a degenerative joint disease. There are four grades of patellar luxation, ranging from grade I, an occasional luxation causing temporary lameness in the joint, to grade IV, in which the turning of the tibia is severe and the patella cannot be realigned manually. This gives the dog a bowlegged appearance. Severe grades of patellar luxation may require surgical repair.</li></ul>If you\\'re buying a puppy, <a href=\"/finding-a-good-breeder.html\">find a good breeder</a> who will show you health clearances for both your puppy\\'s parents. Health clearances prove that a dog has been tested for and cleared of a particular condition.\\nIn Beagles, you should expect to see health clearances from the Orthopedic Foundation for Animals (OFA) for <a href=\"/hip-dysplasia.html\">hip dysplasia</a> (with a score of fair or better), elbow dysplasia, hypothyroidism, and von Willebrand\\'s disease; from Auburn University for thrombopathia; and from the Canine Eye Registry Foundation (CERF) certifying that eyes are normal. You can confirm health clearances by checking the OFA web site (offa.org).</div><div id=\"ingageunit\"></div></li><li class=\"breed-data-item js-accordion-item item-expandable-content\"><h2 class=\"js-section-heading description-title\">Care</h2><div class=\"breed-data-item-content js-breed-data-section\">A fenced backyard is a necessity with a <a href=\"/games-scent-hounds.html\">scenthound</a> such as a Beagle. When outside, your Beagle should be on lead in unconfined areas, or securely confined and supervised. He\\'s a wanderer by nature, so in case he escapes — a common occurrence with Beagles — be sure he\\'s microchipped and wearing identification tags on his collar so he can be returned to you.\\nSome people prefer to use an underground <a href=\"/electronic-fences.html\">electronic fence</a>, but this type of enclosure doesn\\'t prevent other animals from coming into your yard. Besides, if a scent is enticing enough your Beagle will be more than willing to risk a momentary shock to follow it.\\nLike all dogs, Beagles benefit from <a href=\"/training.html\">obedience training</a>. Positive reinforcement techniques work best because Beagles will simply switch off when treated harshly. Most Beagles are more than happy to do anything for a tasty treat.\\nAdolescent Beagles are full of energy and need a lot of opportunities to work it all off. They love to go for walks with their family, or, even better, a good run across a field to hunt down rabbits (not recommended unless you have trained your dog to come back to you). They\\'ll enjoy jogging with you, but wait until they\\'re 18 months or older before starting them on a repetitive exercise like this.\\nWhen mature, a Beagle can become fairly lazy, content to lie about the house all day, getting up for meals and perhaps an occasional scratching of the ears. Since this is a breed <a href=\"/weight-problems.html\">prone to obesity</a>, don\\'t let this happen.</div></li><li class=\"breed-data-item js-accordion-item item-expandable-content\"><h2 class=\"js-section-heading description-title\">Feeding</h2><div class=\"breed-data-item-content js-breed-data-section\">Recommended daily amount: 3/4 to 1.5 cups of high-quality dry food a day, divided into two meals.\\nNOTE: How much your adult dog eats depends on his size, age, build, metabolism, and activity level. Dogs are individuals, just like people, and they don\\'t all need the same amount of food. It almost goes without saying that a highly active dog will need more than a couch potato dog. The quality of dog food you buy also makes a difference — the better the dog food, the further it will go toward nourishing your dog and the less of it you\\'ll need to shake into your dog\\'s bowl.\\nBeagles are food thieves. These dogs will raid your pantry and garbage daily if given the chance, and they\\'re willing to eat until they pop. Keep yours in good shape by measuring his food and feeding him twice a day rather than leaving food out all the time. If you\\'re unsure whether he\\'s overweight, give him the eye test and the hands-on test.\\nFirst, look down at him. You should be able to see a waist. Then place your hands on his back, thumbs along the spine, with the fingers spread downward. You should be able to feel but not see his ribs without having to press hard. If you can\\'t, he <a href=\"/feeding-overweight-dogs.html\">needs less food</a> and more exercise.\\nAlso, dole out treats sparingly. Your Beagle will be just as happy to get a bite-size training treat as a bigger biscuit.\\nFor more on feeding your Beagle, see our guidelines for <a href=\"/food-nutrition.html\">buying the right food</a>, <a href=\"/feeding-puppies.html\">feeding your puppy</a>, and <a href=\"/feeding-adult-dogs.html\">feeding your adult dog</a>.</div><div class=\"ad-300x250-promo\"><aside class=\"widget_evolve_ad_gpt_widget promo\"><div class=\"gpt-ad\" data-id=\"pb_prebidjs_300x250_a\" data-offset=\"0\" id=\"pb_prebidjs_300x250_a\"><script type=\"text/javascript\">PB= PB || {};gptAds= PB.gptAds || {};var opts= {\"asBool\":false,\"adUnit\":\"\\\\/4403\\\\/th\\\\/dogtime\\\\/ros\",\"adDiv\":\"pb_prebidjs_300x250_a\",\"sizeStr\":\"[[300, 250]]\",\"mapping\":[{\"viewport\":\"[0, 0]\",\"sizes\":\"[[300, 250]]\"},{\"viewport\":\"[750, 0]\",\"sizes\":\"[[300, 250]]\"},{\"viewport\":\"[980, 0]\",\"sizes\":\"[[300, 250]]\"}],\"targeting\":{\"pos\":\"A\",\"ct\":\"article\",\"ci\":\"23012\",\"coppa\":\"0\",\"site\":\"dogtime\"},\"resize\":false,\"autoRefresh\":false};PB.waitForAS= (opts.asBool) ? true : PB.waitForAS || false;PB.evGPTBuilder.enqueueAd(opts);</script></div></aside></div></li><li class=\"breed-data-item js-accordion-item item-expandable-content\"><h2 class=\"js-section-heading description-title\">Coat Color And Grooming</h2><div class=\"breed-data-item-content js-breed-data-section\">The breed standard for Beagles says \"any hound color\" is acceptable. The most common color for Beagles is tricolor with a black saddle (the area across the back), white legs, chest, belly, and a white tip on the tail, and tan on the head and around the saddle.\\nThe second most common color combination is red and white in an Irish spotting pattern on the face, neck, legs and tip of the tail. Whatever their color, they typically have a white tip on their tails so hunters can see them when they\\'re hunting in tall grass.\\nBeagles have a smooth, dense double coat that is resistant to rain. They <a href=\"/brushing.html\">should be brushed</a> with a medium-bristle brush or a hound glove (a rubber mitt with nubs on the palm area) at least once a week to loosen and remove dead hair and encourage new hair growth.\\nBeagles shed, but because their hair is short, it isn\\'t too noticeable. Their coats tend to get thicker in the winter, so they shed more in the spring. They are clean dogs (unless, of course, they\\'ve found something appealingly stinky to roll in) and generally don\\'t require frequent <a href=\"/bathing.html\">baths</a>.\\nSince Beagles are drop-eared dogs, air doesn\\'t circulate well inside their ears and they can get infections. Check their ears at least every two weeks for signs of infection or waxy buildup. Check them also if you notice your Beagle shaking his head a lot or scratching at his ears. Never allow water or oils to enter his ears.<a href=\"/dental-care.html\">Brush your Beagle\\'s teeth</a> at least two or three times a week to remove tartar buildup and the bacteria that lurk inside it. Daily brushing is even better if you want to prevent gum disease and bad breath.<a href=\"/nails.html\">Trim his nails</a> once or twice a month if your dog doesn\\'t wear them down naturally to prevent painful tears and other problems. If you can hear them clicking on the floor, they\\'re too long. Dog toenails have blood vessels in them, and if you cut too far you can cause bleeding — and your dog may not cooperate the next time he sees the nail clippers come out. So, if you\\'re not experienced trimming dog nails, ask a vet or groomer for pointers.\\nBegin accustoming your Beagle to being brushed and examined when he\\'s a puppy. Handle his paws frequently — dogs are touchy about their feet — and look inside his mouth. Make grooming a positive experience filled with praise and rewards, and you\\'ll lay the groundwork for easy veterinary exams and other handling when he\\'s an adult.\\nAs you groom, check for sores, rashes, or signs of infection such as redness, tenderness, or inflammation on the skin, in the nose, mouth, and eyes, and on the feet. Eyes should be clear, with no redness or discharge. Your careful weekly exam will help you spot potential health problems early.</div></li><li class=\"breed-data-item js-accordion-item item-expandable-content\"><h2 class=\"js-section-heading description-title\">Children And Other Pets</h2><div class=\"breed-data-item-content js-breed-data-section\">Beagles bond with everyone in the family, especially children. They can be rambunctious when playing, however, so they need to be <a href=\"/raising-people-friendly-dog.html\">properly socialized</a> and supervised with very young children. In addition, Beagles tend to be \"mouthy,\" grabbing things, including your or your child\\'s hand, with their mouths to play. They do this in fun and can be trained not to do this.\\nAs with every breed, you should always teach children how to approach and touch dogs, and supervise any interactions. Teach your child never to approach any dog while he\\'s eating or sleeping or to try to take the dog\\'s food away. No dog, no matter how friendly, should ever be left unsupervised with a child.\\nBecause of their pack dog heritage, Beagles enjoy company and don\\'t like to be left alone. Another dog or even a cat will help meet their companionship needs.</div></li><li class=\"breed-data-item js-accordion-item item-expandable-content\"><h2 class=\"js-section-heading description-title\">Rescue Groups</h2><div class=\"breed-data-item-content js-breed-data-section\">Beagles are often acquired without any clear understanding of what goes into owning one. The following rescue groups can help you find Beagles in need of adoption or fostering.<ul> <li><a href=\"http://clubs.akc.org/NBC/beagle_rescue.htm\">Rescue: National Beagle Club of America</a></li> <li><a href=\"http://sosbeagles.org/\">SOS Beagle Rescue</a></li> <li><a href=\"http://www.cascaderescue.org/east.html\">East Cascade Beagle Rescue</a></li></ul>Check out Road to Rescue\\'s <a href=\"/tampa-bay-beagle-rescue-spotlight.html\"><em>SPOTlight on</em> Tampa Bay Beagle Rescue</a>.</div></li><li class=\"breed-data-item js-accordion-item item-expandable-content\"><h2 class=\"js-section-heading description-title\">Breed Organizations</h2><div class=\"breed-data-item-content js-breed-data-section\">Below are breed clubs, organizations, and associations where you can find additional information about the Beagle.<ul> <li><a href=\"http://clubs.akc.org/NBC\">National Beagle Club of America</a></li></ul></div></li></ul></div></div></div>'"
      ]
     },
     "execution_count": 78,
     "metadata": {},
     "output_type": "execute_result"
    }
   ],
   "source": [
    "db.dogbreeds.find_one({\"breed\" : \"beagle\"})['dogtime_content']"
   ]
  },
  {
   "cell_type": "code",
   "execution_count": 79,
   "metadata": {},
   "outputs": [
    {
     "data": {
      "text/plain": [
       "{'Adaptability': 3,\n",
       " 'Adapts Well to Apartment Living': 4,\n",
       " 'Affectionate with Family': 5,\n",
       " 'All Around Friendliness': 5,\n",
       " 'Amount Of Shedding': 3,\n",
       " 'Dog Friendly': 5,\n",
       " 'Drooling Potential': 1,\n",
       " 'Easy To Groom': 4,\n",
       " 'Easy To Train': 1,\n",
       " 'Energy Level': 4,\n",
       " 'Exercise Needs': 4,\n",
       " 'Friendly Toward Strangers': 5,\n",
       " 'General Health': 1,\n",
       " 'Good For Novice Owners': 3,\n",
       " 'Health Grooming': 3,\n",
       " 'Incredibly Kid Friendly Dogs': 5,\n",
       " 'Intelligence': 4,\n",
       " 'Intensity': 5,\n",
       " 'Potential For Mouthiness': 3,\n",
       " 'Potential For Playfulness': 5,\n",
       " 'Potential For Weight Gain': 5,\n",
       " 'Prey Drive': 5,\n",
       " 'Sensitivity Level': 4,\n",
       " 'Size': 2,\n",
       " 'Tendency To Bark Or Howl': 5,\n",
       " 'Tolerates Being Alone': 1,\n",
       " 'Tolerates Cold Weather': 2,\n",
       " 'Tolerates Hot Weather': 4,\n",
       " 'Trainability': 4,\n",
       " 'Wanderlust Potential': 5}"
      ]
     },
     "execution_count": 79,
     "metadata": {},
     "output_type": "execute_result"
    }
   ],
   "source": [
    "\n",
    "\n",
    "client = pymongo.MongoClient(\"mongodb://54.67.76.74/dogbreeds\")\n",
    "\n",
    "\n",
    "db = client.dogbreeds\n",
    "\n",
    "\n",
    "\n",
    "dogtime_test = db.dogbreeds.find_one({\"breed\" : \"beagle\"})['dogtime_content']\n",
    "\n",
    "\n",
    "\n",
    "dog_soup = BeautifulSoup(dogtime_test, \"lxml\")\n",
    "\n",
    "\n",
    "\n",
    "dog_soup.find(\"header\").find(\"p\").text\n",
    "\n",
    "\n",
    "char_dict = dict()\n",
    "for characteristic in dog_soup.find_all(class_=\"characteristic item-trigger-title\"):\n",
    "    char_dict[characteristic.text.strip()] =\\\n",
    "            int(characteristic.find_next().find_next()['class'][1].split('-')[-1])\n",
    "\n",
    "        \n",
    "char_dict"
   ]
  },
  {
   "cell_type": "code",
   "execution_count": null,
   "metadata": {
    "collapsed": true
   },
   "outputs": [],
   "source": [
    "trait_synonyms = dict()\n",
    "trait_synonyms['Adaptability'] = ['adaptable', 'flexible']\n",
    "trait_synonyms['Adapts Well to Apartment Living'] = ['apartment', 'indoor', 'indoors']\n",
    "trait_synonyms['Affectionate with Family'] = ['loving', 'affectionate', 'cuddly']\n",
    "trait_synonyms['All Around Friendliness'] = ['friendly', 'loving']\n",
    "trait_synonyms['Amount of Shedding'] = ['shedding', 'hair', 'fur']\n",
    "trait_synonyms['Dog Friendly'] = ['dogs', 'playful', 'other dogs', 'good dogs']\n",
    "trait_synonyms['Drooling Potential'] = ['drool', 'slobber']\n",
    "trait_synonyms['Easy to Groom'] = ['easy groom', 'simple grooming', 'easy grooming', 'simple groom', 'low maintenance']\n",
    "trait_synonyms['Easy to Train'] = ['easy train', 'trainable', 'obedient', 'disciplined']\n",
    "trait_synonyms['Energy Level'] = ['high-energy', 'energetic', 'hyper', 'high energy', 'play']\n",
    "trait_synonyms['Exercise Needs'] = ['exercise', 'walks', 'runs', 'walking', 'running', 'fetch']\n",
    "trait_synonyms['Friendly Toward Strangers'] = ['friendly', 'likes people', 'people dog']\n",
    "trait_synonyms['General Health'] = ['healthy', 'long-lived']\n",
    "trait_synonyms['Good for Novice Owners'] = ['novice', 'new owner', 'easygoing', 'adaptable']\n",
    "trait_synonyms['Health Grooming'] = ['low maintenance', 'healthy']\n",
    "trait_synonyms['Incredibly Kid Friendly Dogs'] = ['good kids', 'playful', 'gentle', 'tolerant']"
   ]
  }
 ],
 "metadata": {
  "kernelspec": {
   "display_name": "Python 3",
   "language": "python",
   "name": "python3"
  },
  "language_info": {
   "codemirror_mode": {
    "name": "ipython",
    "version": 3
   },
   "file_extension": ".py",
   "mimetype": "text/x-python",
   "name": "python",
   "nbconvert_exporter": "python",
   "pygments_lexer": "ipython3",
   "version": "3.6.1"
  }
 },
 "nbformat": 4,
 "nbformat_minor": 2
}
