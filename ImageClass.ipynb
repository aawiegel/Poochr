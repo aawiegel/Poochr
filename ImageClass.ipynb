{
 "cells": [
  {
   "cell_type": "code",
   "execution_count": 46,
   "metadata": {},
   "outputs": [],
   "source": [
    "from keras.models import Model\n",
    "from keras.optimizers import SGD\n",
    "from keras.models import Sequential, load_model\n",
    "from keras.layers import Conv2D, MaxPooling2D\n",
    "from keras.layers import Activation, Dropout, Flatten, Dense\n",
    "from keras.layers.pooling import GlobalAveragePooling2D\n",
    "from keras.preprocessing.image import ImageDataGenerator\n",
    "from keras.preprocessing import image\n",
    "from keras.utils.np_utils import to_categorical\n",
    "from keras.applications.xception import Xception\n",
    "from keras.applications.xception import preprocess_input\n",
    "from keras import backend as K\n",
    "from sklearn.utils import class_weight\n",
    "from collections import defaultdict\n",
    "import numpy as np\n",
    "import os\n",
    "import seaborn as sns\n",
    "import matplotlib.pyplot as plt\n",
    "%matplotlib inline"
   ]
  },
  {
   "cell_type": "code",
   "execution_count": 2,
   "metadata": {
    "collapsed": true
   },
   "outputs": [],
   "source": [
    "from keras.applications.vgg16 import VGG16\n",
    "from keras.applications.vgg16 import preprocess_input"
   ]
  },
  {
   "cell_type": "code",
   "execution_count": 7,
   "metadata": {},
   "outputs": [
    {
     "name": "stdout",
     "output_type": "stream",
     "text": [
      "Found 35850 images belonging to 2 classes.\n",
      "Found 15367 images belonging to 2 classes.\n"
     ]
    }
   ],
   "source": [
    "batch_size = 16\n",
    "\n",
    "# this is the augmentation configuration we will use for training\n",
    "train_datagen = ImageDataGenerator(rescale=1./255)\n",
    "\n",
    "# this is the augmentation configuration we will use for testing:\n",
    "# only rescaling\n",
    "test_datagen = ImageDataGenerator(rescale=1./255)\n",
    "\n",
    "# this is a generator that will read pictures found in\n",
    "# subfolers of 'data/train', and indefinitely generate\n",
    "# batches of augmented image data\n",
    "train_generator = train_datagen.flow_from_directory(\n",
    "        'data/Images/training/',  # this is the target directory\n",
    "        target_size=(224, 224),  # all images will be resized to 224x224\n",
    "        batch_size=batch_size,\n",
    "        class_mode='binary')  # since we use binary_crossentropy loss, we need binary labels\n",
    "\n",
    "# this is a similar generator, for validation data\n",
    "validation_generator = test_datagen.flow_from_directory(\n",
    "        'data/Images/test/',\n",
    "        target_size=(224, 224),\n",
    "        batch_size=batch_size,\n",
    "        class_mode='binary')"
   ]
  },
  {
   "cell_type": "code",
   "execution_count": 8,
   "metadata": {
    "collapsed": true
   },
   "outputs": [],
   "source": [
    "base_model = VGG16(weights='imagenet', include_top=False, input_shape=(224, 224, 3))"
   ]
  },
  {
   "cell_type": "code",
   "execution_count": 9,
   "metadata": {
    "collapsed": true
   },
   "outputs": [],
   "source": [
    "# Freeze convolutional layers\n",
    "for layer in base_model.layers:\n",
    "    layer.trainable = False"
   ]
  },
  {
   "cell_type": "code",
   "execution_count": 10,
   "metadata": {},
   "outputs": [
    {
     "name": "stdout",
     "output_type": "stream",
     "text": [
      "_________________________________________________________________\n",
      "Layer (type)                 Output Shape              Param #   \n",
      "=================================================================\n",
      "input_1 (InputLayer)         (None, 224, 224, 3)       0         \n",
      "_________________________________________________________________\n",
      "block1_conv1 (Conv2D)        (None, 224, 224, 64)      1792      \n",
      "_________________________________________________________________\n",
      "block1_conv2 (Conv2D)        (None, 224, 224, 64)      36928     \n",
      "_________________________________________________________________\n",
      "block1_pool (MaxPooling2D)   (None, 112, 112, 64)      0         \n",
      "_________________________________________________________________\n",
      "block2_conv1 (Conv2D)        (None, 112, 112, 128)     73856     \n",
      "_________________________________________________________________\n",
      "block2_conv2 (Conv2D)        (None, 112, 112, 128)     147584    \n",
      "_________________________________________________________________\n",
      "block2_pool (MaxPooling2D)   (None, 56, 56, 128)       0         \n",
      "_________________________________________________________________\n",
      "block3_conv1 (Conv2D)        (None, 56, 56, 256)       295168    \n",
      "_________________________________________________________________\n",
      "block3_conv2 (Conv2D)        (None, 56, 56, 256)       590080    \n",
      "_________________________________________________________________\n",
      "block3_conv3 (Conv2D)        (None, 56, 56, 256)       590080    \n",
      "_________________________________________________________________\n",
      "block3_pool (MaxPooling2D)   (None, 28, 28, 256)       0         \n",
      "_________________________________________________________________\n",
      "block4_conv1 (Conv2D)        (None, 28, 28, 512)       1180160   \n",
      "_________________________________________________________________\n",
      "block4_conv2 (Conv2D)        (None, 28, 28, 512)       2359808   \n",
      "_________________________________________________________________\n",
      "block4_conv3 (Conv2D)        (None, 28, 28, 512)       2359808   \n",
      "_________________________________________________________________\n",
      "block4_pool (MaxPooling2D)   (None, 14, 14, 512)       0         \n",
      "_________________________________________________________________\n",
      "block5_conv1 (Conv2D)        (None, 14, 14, 512)       2359808   \n",
      "_________________________________________________________________\n",
      "block5_conv2 (Conv2D)        (None, 14, 14, 512)       2359808   \n",
      "_________________________________________________________________\n",
      "block5_conv3 (Conv2D)        (None, 14, 14, 512)       2359808   \n",
      "_________________________________________________________________\n",
      "block5_pool (MaxPooling2D)   (None, 7, 7, 512)         0         \n",
      "=================================================================\n",
      "Total params: 14,714,688\n",
      "Trainable params: 0\n",
      "Non-trainable params: 14,714,688\n",
      "_________________________________________________________________\n"
     ]
    }
   ],
   "source": [
    "base_model.summary()"
   ]
  },
  {
   "cell_type": "code",
   "execution_count": 11,
   "metadata": {
    "collapsed": true
   },
   "outputs": [],
   "source": [
    "x = base_model.output\n",
    "x = Flatten()(x)\n",
    "x = Dense(256)(x)\n",
    "x = Dense(1)(x)\n",
    "x = Activation('sigmoid')(x)"
   ]
  },
  {
   "cell_type": "code",
   "execution_count": 12,
   "metadata": {
    "collapsed": true
   },
   "outputs": [],
   "source": [
    "model = Model(inputs=base_model.input, outputs=x)\n",
    "\n",
    "model.compile(optimizer=SGD(lr=0.0001, momentum=0.9),\n",
    "            loss='binary_crossentropy', metrics=['accuracy'])"
   ]
  },
  {
   "cell_type": "code",
   "execution_count": null,
   "metadata": {},
   "outputs": [
    {
     "name": "stdout",
     "output_type": "stream",
     "text": [
      "Epoch 1/5\n",
      "2240/2240 [==============================] - 1674s - loss: 0.2229 - acc: 0.9084 - val_loss: 0.1858 - val_acc: 0.9258\n",
      "Epoch 2/5\n",
      "2240/2240 [==============================] - 1667s - loss: 0.1602 - acc: 0.9365 - val_loss: 0.1645 - val_acc: 0.9369\n",
      "Epoch 4/5\n",
      "2240/2240 [==============================] - 1668s - loss: 0.1520 - acc: 0.9408 - val_loss: 0.2060 - val_acc: 0.9118\n",
      "Epoch 5/5\n",
      "2240/2240 [==============================] - 1667s - loss: 0.1425 - acc: 0.9435 - val_loss: 0.1613 - val_acc: 0.9353\n"
     ]
    }
   ],
   "source": [
    "model.fit_generator(\n",
    "        train_generator,\n",
    "        steps_per_epoch=35850 // batch_size,\n",
    "        epochs=5,\n",
    "        validation_data=validation_generator,\n",
    "        validation_steps=15367 // batch_size)\n",
    "model.save_weights('vgg16_notdog.h5')"
   ]
  },
  {
   "cell_type": "code",
   "execution_count": null,
   "metadata": {
    "collapsed": true
   },
   "outputs": [],
   "source": [
    "model.summary()"
   ]
  },
  {
   "cell_type": "code",
   "execution_count": 2,
   "metadata": {
    "collapsed": true
   },
   "outputs": [],
   "source": []
  },
  {
   "cell_type": "code",
   "execution_count": 160,
   "metadata": {},
   "outputs": [
    {
     "name": "stdout",
     "output_type": "stream",
     "text": [
      "Found 29782 images belonging to 115 classes.\n",
      "Found 20501 images belonging to 115 classes.\n"
     ]
    }
   ],
   "source": [
    "batch_size = 10\n",
    "\n",
    "# this is the augmentation configuration we will use for training\n",
    "train_datagen = ImageDataGenerator(rescale=1./255)\n",
    "\n",
    "# this is the augmentation configuration we will use for testing:\n",
    "# only rescaling\n",
    "test_datagen = ImageDataGenerator(rescale=1./255)\n",
    "\n",
    "# this is a generator that will read pictures found in\n",
    "# subfolers of 'data/train', and indefinitely generate\n",
    "# batches of augmented image data\n",
    "train_generator = train_datagen.flow_from_directory(\n",
    "        'data/Images/training/',  # this is the target directory\n",
    "        target_size=(299, 299),  # all images will be resized to 224x224\n",
    "        batch_size=batch_size,\n",
    "        class_mode='categorical')  # since we use binary_crossentropy loss, we need binary labels\n",
    "\n",
    "# this is a similar generator, for validation data\n",
    "validation_generator = test_datagen.flow_from_directory(\n",
    "        'data/Images/test/',\n",
    "        target_size=(299, 299),\n",
    "        batch_size=batch_size,\n",
    "        class_mode='categorical')"
   ]
  },
  {
   "cell_type": "code",
   "execution_count": 8,
   "metadata": {
    "collapsed": true
   },
   "outputs": [],
   "source": [
    "base_model = Xception(include_top=False, input_shape=(299, 299, 3))"
   ]
  },
  {
   "cell_type": "code",
   "execution_count": 26,
   "metadata": {},
   "outputs": [
    {
     "data": {
      "text/plain": [
       "dict_values([0, 1, 2, 3, 4, 5, 6, 7, 8, 9, 10, 11, 12, 13, 14, 15, 16, 17, 18, 19, 20, 21, 22, 23, 24, 25, 26, 27, 28, 29, 30, 31, 32, 33, 34, 35, 36, 37, 38, 39, 40, 41, 42, 43, 44, 45, 46, 47, 48, 49, 50, 51, 52, 53, 54, 55, 56, 57, 58, 59, 60, 61, 62, 63, 64, 65, 66, 67, 68, 69, 70, 71, 72, 73, 74, 75, 76, 77, 78, 79, 80, 81, 82, 83, 84, 85, 86, 87, 88, 89, 90, 91, 92, 93, 94, 95, 96, 97, 98, 99, 100, 101, 102, 103, 104, 105, 106, 107, 108, 109, 110, 111, 112, 113])"
      ]
     },
     "execution_count": 26,
     "metadata": {},
     "output_type": "execute_result"
    }
   ],
   "source": [
    "dict(validation_generator.class_indices).values()"
   ]
  },
  {
   "cell_type": "code",
   "execution_count": 5,
   "metadata": {
    "collapsed": true
   },
   "outputs": [],
   "source": [
    "class_weight = class_weight.compute_class_weight('balanced', np.unique(train_generator.classes),train_generator.classes)"
   ]
  },
  {
   "cell_type": "code",
   "execution_count": 6,
   "metadata": {
    "collapsed": true
   },
   "outputs": [],
   "source": [
    "class_weights = dict(zip(dict(validation_generator.class_indices).values(), class_weight))"
   ]
  },
  {
   "cell_type": "code",
   "execution_count": 30,
   "metadata": {},
   "outputs": [
    {
     "data": {
      "text/plain": [
       "{0: 2.6036842105263158,\n",
       " 1: 2.6036842105263158,\n",
       " 2: 2.6036842105263158,\n",
       " 3: 2.6036842105263158,\n",
       " 4: 2.6036842105263158,\n",
       " 5: 2.6036842105263158,\n",
       " 6: 2.6036842105263158,\n",
       " 7: 2.6036842105263158,\n",
       " 8: 2.6036842105263158,\n",
       " 9: 2.6036842105263158,\n",
       " 10: 2.6036842105263158,\n",
       " 11: 2.6036842105263158,\n",
       " 12: 2.6036842105263158,\n",
       " 13: 2.6036842105263158,\n",
       " 14: 2.6036842105263158,\n",
       " 15: 2.6036842105263158,\n",
       " 16: 2.6036842105263158,\n",
       " 17: 2.6036842105263158,\n",
       " 18: 2.6036842105263158,\n",
       " 19: 2.6036842105263158,\n",
       " 20: 2.6036842105263158,\n",
       " 21: 2.6036842105263158,\n",
       " 22: 2.6036842105263158,\n",
       " 23: 2.6036842105263158,\n",
       " 24: 2.6036842105263158,\n",
       " 25: 2.6036842105263158,\n",
       " 26: 2.6036842105263158,\n",
       " 27: 2.6036842105263158,\n",
       " 28: 2.6036842105263158,\n",
       " 29: 2.6036842105263158,\n",
       " 30: 2.6036842105263158,\n",
       " 31: 2.6036842105263158,\n",
       " 32: 2.6036842105263158,\n",
       " 33: 2.6036842105263158,\n",
       " 34: 2.6036842105263158,\n",
       " 35: 2.6036842105263158,\n",
       " 36: 2.6036842105263158,\n",
       " 37: 2.6036842105263158,\n",
       " 38: 2.6036842105263158,\n",
       " 39: 2.6036842105263158,\n",
       " 40: 2.6036842105263158,\n",
       " 41: 2.6036842105263158,\n",
       " 42: 2.6036842105263158,\n",
       " 43: 2.6036842105263158,\n",
       " 44: 2.6036842105263158,\n",
       " 45: 2.6036842105263158,\n",
       " 46: 2.6036842105263158,\n",
       " 47: 2.6036842105263158,\n",
       " 48: 2.6036842105263158,\n",
       " 49: 2.6036842105263158,\n",
       " 50: 2.6036842105263158,\n",
       " 51: 2.6036842105263158,\n",
       " 52: 2.6036842105263158,\n",
       " 53: 2.6036842105263158,\n",
       " 54: 2.6036842105263158,\n",
       " 55: 2.6036842105263158,\n",
       " 56: 2.6036842105263158,\n",
       " 57: 2.6036842105263158,\n",
       " 58: 2.6036842105263158,\n",
       " 59: 2.6036842105263158,\n",
       " 60: 2.6036842105263158,\n",
       " 61: 2.6036842105263158,\n",
       " 62: 2.6036842105263158,\n",
       " 63: 2.6036842105263158,\n",
       " 64: 2.6036842105263158,\n",
       " 65: 2.6036842105263158,\n",
       " 66: 2.6036842105263158,\n",
       " 67: 2.6036842105263158,\n",
       " 68: 2.6036842105263158,\n",
       " 69: 2.6036842105263158,\n",
       " 70: 2.6036842105263158,\n",
       " 71: 2.6036842105263158,\n",
       " 72: 2.6036842105263158,\n",
       " 73: 2.6036842105263158,\n",
       " 74: 2.6036842105263158,\n",
       " 75: 2.6036842105263158,\n",
       " 76: 2.6036842105263158,\n",
       " 77: 2.6036842105263158,\n",
       " 78: 2.6036842105263158,\n",
       " 79: 2.6036842105263158,\n",
       " 80: 2.6036842105263158,\n",
       " 81: 2.6036842105263158,\n",
       " 82: 2.6036842105263158,\n",
       " 83: 2.6036842105263158,\n",
       " 84: 2.6036842105263158,\n",
       " 85: 2.6036842105263158,\n",
       " 86: 2.6036842105263158,\n",
       " 87: 2.6036842105263158,\n",
       " 88: 2.6036842105263158,\n",
       " 89: 2.6036842105263158,\n",
       " 90: 2.6036842105263158,\n",
       " 91: 2.6036842105263158,\n",
       " 92: 2.6036842105263158,\n",
       " 93: 2.6036842105263158,\n",
       " 94: 2.6036842105263158,\n",
       " 95: 2.6036842105263158,\n",
       " 96: 2.6036842105263158,\n",
       " 97: 2.6036842105263158,\n",
       " 98: 2.6036842105263158,\n",
       " 99: 2.6036842105263158,\n",
       " 100: 2.6036842105263158,\n",
       " 101: 2.6036842105263158,\n",
       " 102: 2.6036842105263158,\n",
       " 103: 2.6036842105263158,\n",
       " 104: 2.6036842105263158,\n",
       " 105: 2.6036842105263158,\n",
       " 106: 2.6036842105263158,\n",
       " 107: 2.6036842105263158,\n",
       " 108: 2.6036842105263158,\n",
       " 109: 2.6036842105263158,\n",
       " 110: 2.6036842105263158,\n",
       " 111: 2.6036842105263158,\n",
       " 112: 2.6036842105263158,\n",
       " 113: 0.014164314060093112}"
      ]
     },
     "execution_count": 30,
     "metadata": {},
     "output_type": "execute_result"
    }
   ],
   "source": [
    "class_weights"
   ]
  },
  {
   "cell_type": "code",
   "execution_count": 10,
   "metadata": {
    "collapsed": true
   },
   "outputs": [],
   "source": [
    "# Freeze convolutional layers\n",
    "for layer in base_model.layers[:-3]:\n",
    "    layer.trainable = False"
   ]
  },
  {
   "cell_type": "code",
   "execution_count": 11,
   "metadata": {
    "collapsed": true,
    "scrolled": false
   },
   "outputs": [],
   "source": [
    "x = base_model.output\n",
    "x = GlobalAveragePooling2D()(x)\n",
    "x = Dense(1000)(x)\n",
    "x = Dropout(0.5, name=\"dropout\")(x)\n",
    "x = Dense(114, name=\"categories_dense\")(x)\n",
    "x = Activation('softmax')(x)"
   ]
  },
  {
   "cell_type": "code",
   "execution_count": 13,
   "metadata": {
    "collapsed": true
   },
   "outputs": [],
   "source": [
    "model = Model(inputs=base_model.input, outputs=x)\n",
    "model.load_weights('xception_breeds_weighted.h5', by_name=True)\n",
    "model.compile(optimizer=SGD(lr=0.0001, momentum=0.9),\n",
    "            loss='categorical_crossentropy', metrics=['accuracy'])"
   ]
  },
  {
   "cell_type": "code",
   "execution_count": 14,
   "metadata": {
    "scrolled": false
   },
   "outputs": [
    {
     "name": "stdout",
     "output_type": "stream",
     "text": [
      "____________________________________________________________________________________________________\n",
      "Layer (type)                     Output Shape          Param #     Connected to                     \n",
      "====================================================================================================\n",
      "input_2 (InputLayer)             (None, 299, 299, 3)   0                                            \n",
      "____________________________________________________________________________________________________\n",
      "block1_conv1 (Conv2D)            (None, 149, 149, 32)  864         input_2[0][0]                    \n",
      "____________________________________________________________________________________________________\n",
      "block1_conv1_bn (BatchNormalizat (None, 149, 149, 32)  128         block1_conv1[0][0]               \n",
      "____________________________________________________________________________________________________\n",
      "block1_conv1_act (Activation)    (None, 149, 149, 32)  0           block1_conv1_bn[0][0]            \n",
      "____________________________________________________________________________________________________\n",
      "block1_conv2 (Conv2D)            (None, 147, 147, 64)  18432       block1_conv1_act[0][0]           \n",
      "____________________________________________________________________________________________________\n",
      "block1_conv2_bn (BatchNormalizat (None, 147, 147, 64)  256         block1_conv2[0][0]               \n",
      "____________________________________________________________________________________________________\n",
      "block1_conv2_act (Activation)    (None, 147, 147, 64)  0           block1_conv2_bn[0][0]            \n",
      "____________________________________________________________________________________________________\n",
      "block2_sepconv1 (SeparableConv2D (None, 147, 147, 128) 8768        block1_conv2_act[0][0]           \n",
      "____________________________________________________________________________________________________\n",
      "block2_sepconv1_bn (BatchNormali (None, 147, 147, 128) 512         block2_sepconv1[0][0]            \n",
      "____________________________________________________________________________________________________\n",
      "block2_sepconv2_act (Activation) (None, 147, 147, 128) 0           block2_sepconv1_bn[0][0]         \n",
      "____________________________________________________________________________________________________\n",
      "block2_sepconv2 (SeparableConv2D (None, 147, 147, 128) 17536       block2_sepconv2_act[0][0]        \n",
      "____________________________________________________________________________________________________\n",
      "block2_sepconv2_bn (BatchNormali (None, 147, 147, 128) 512         block2_sepconv2[0][0]            \n",
      "____________________________________________________________________________________________________\n",
      "conv2d_5 (Conv2D)                (None, 74, 74, 128)   8192        block1_conv2_act[0][0]           \n",
      "____________________________________________________________________________________________________\n",
      "block2_pool (MaxPooling2D)       (None, 74, 74, 128)   0           block2_sepconv2_bn[0][0]         \n",
      "____________________________________________________________________________________________________\n",
      "batch_normalization_5 (BatchNorm (None, 74, 74, 128)   512         conv2d_5[0][0]                   \n",
      "____________________________________________________________________________________________________\n",
      "add_13 (Add)                     (None, 74, 74, 128)   0           block2_pool[0][0]                \n",
      "                                                                   batch_normalization_5[0][0]      \n",
      "____________________________________________________________________________________________________\n",
      "block3_sepconv1_act (Activation) (None, 74, 74, 128)   0           add_13[0][0]                     \n",
      "____________________________________________________________________________________________________\n",
      "block3_sepconv1 (SeparableConv2D (None, 74, 74, 256)   33920       block3_sepconv1_act[0][0]        \n",
      "____________________________________________________________________________________________________\n",
      "block3_sepconv1_bn (BatchNormali (None, 74, 74, 256)   1024        block3_sepconv1[0][0]            \n",
      "____________________________________________________________________________________________________\n",
      "block3_sepconv2_act (Activation) (None, 74, 74, 256)   0           block3_sepconv1_bn[0][0]         \n",
      "____________________________________________________________________________________________________\n",
      "block3_sepconv2 (SeparableConv2D (None, 74, 74, 256)   67840       block3_sepconv2_act[0][0]        \n",
      "____________________________________________________________________________________________________\n",
      "block3_sepconv2_bn (BatchNormali (None, 74, 74, 256)   1024        block3_sepconv2[0][0]            \n",
      "____________________________________________________________________________________________________\n",
      "conv2d_6 (Conv2D)                (None, 37, 37, 256)   32768       add_13[0][0]                     \n",
      "____________________________________________________________________________________________________\n",
      "block3_pool (MaxPooling2D)       (None, 37, 37, 256)   0           block3_sepconv2_bn[0][0]         \n",
      "____________________________________________________________________________________________________\n",
      "batch_normalization_6 (BatchNorm (None, 37, 37, 256)   1024        conv2d_6[0][0]                   \n",
      "____________________________________________________________________________________________________\n",
      "add_14 (Add)                     (None, 37, 37, 256)   0           block3_pool[0][0]                \n",
      "                                                                   batch_normalization_6[0][0]      \n",
      "____________________________________________________________________________________________________\n",
      "block4_sepconv1_act (Activation) (None, 37, 37, 256)   0           add_14[0][0]                     \n",
      "____________________________________________________________________________________________________\n",
      "block4_sepconv1 (SeparableConv2D (None, 37, 37, 728)   188672      block4_sepconv1_act[0][0]        \n",
      "____________________________________________________________________________________________________\n",
      "block4_sepconv1_bn (BatchNormali (None, 37, 37, 728)   2912        block4_sepconv1[0][0]            \n",
      "____________________________________________________________________________________________________\n",
      "block4_sepconv2_act (Activation) (None, 37, 37, 728)   0           block4_sepconv1_bn[0][0]         \n",
      "____________________________________________________________________________________________________\n",
      "block4_sepconv2 (SeparableConv2D (None, 37, 37, 728)   536536      block4_sepconv2_act[0][0]        \n",
      "____________________________________________________________________________________________________\n",
      "block4_sepconv2_bn (BatchNormali (None, 37, 37, 728)   2912        block4_sepconv2[0][0]            \n",
      "____________________________________________________________________________________________________\n",
      "conv2d_7 (Conv2D)                (None, 19, 19, 728)   186368      add_14[0][0]                     \n",
      "____________________________________________________________________________________________________\n",
      "block4_pool (MaxPooling2D)       (None, 19, 19, 728)   0           block4_sepconv2_bn[0][0]         \n",
      "____________________________________________________________________________________________________\n",
      "batch_normalization_7 (BatchNorm (None, 19, 19, 728)   2912        conv2d_7[0][0]                   \n",
      "____________________________________________________________________________________________________\n",
      "add_15 (Add)                     (None, 19, 19, 728)   0           block4_pool[0][0]                \n",
      "                                                                   batch_normalization_7[0][0]      \n",
      "____________________________________________________________________________________________________\n",
      "block5_sepconv1_act (Activation) (None, 19, 19, 728)   0           add_15[0][0]                     \n",
      "____________________________________________________________________________________________________\n",
      "block5_sepconv1 (SeparableConv2D (None, 19, 19, 728)   536536      block5_sepconv1_act[0][0]        \n",
      "____________________________________________________________________________________________________\n",
      "block5_sepconv1_bn (BatchNormali (None, 19, 19, 728)   2912        block5_sepconv1[0][0]            \n",
      "____________________________________________________________________________________________________\n",
      "block5_sepconv2_act (Activation) (None, 19, 19, 728)   0           block5_sepconv1_bn[0][0]         \n",
      "____________________________________________________________________________________________________\n",
      "block5_sepconv2 (SeparableConv2D (None, 19, 19, 728)   536536      block5_sepconv2_act[0][0]        \n",
      "____________________________________________________________________________________________________\n",
      "block5_sepconv2_bn (BatchNormali (None, 19, 19, 728)   2912        block5_sepconv2[0][0]            \n",
      "____________________________________________________________________________________________________\n",
      "block5_sepconv3_act (Activation) (None, 19, 19, 728)   0           block5_sepconv2_bn[0][0]         \n",
      "____________________________________________________________________________________________________\n",
      "block5_sepconv3 (SeparableConv2D (None, 19, 19, 728)   536536      block5_sepconv3_act[0][0]        \n",
      "____________________________________________________________________________________________________\n",
      "block5_sepconv3_bn (BatchNormali (None, 19, 19, 728)   2912        block5_sepconv3[0][0]            \n",
      "____________________________________________________________________________________________________\n",
      "add_16 (Add)                     (None, 19, 19, 728)   0           block5_sepconv3_bn[0][0]         \n",
      "                                                                   add_15[0][0]                     \n",
      "____________________________________________________________________________________________________\n",
      "block6_sepconv1_act (Activation) (None, 19, 19, 728)   0           add_16[0][0]                     \n",
      "____________________________________________________________________________________________________\n",
      "block6_sepconv1 (SeparableConv2D (None, 19, 19, 728)   536536      block6_sepconv1_act[0][0]        \n",
      "____________________________________________________________________________________________________\n",
      "block6_sepconv1_bn (BatchNormali (None, 19, 19, 728)   2912        block6_sepconv1[0][0]            \n",
      "____________________________________________________________________________________________________\n",
      "block6_sepconv2_act (Activation) (None, 19, 19, 728)   0           block6_sepconv1_bn[0][0]         \n",
      "____________________________________________________________________________________________________\n",
      "block6_sepconv2 (SeparableConv2D (None, 19, 19, 728)   536536      block6_sepconv2_act[0][0]        \n",
      "____________________________________________________________________________________________________\n",
      "block6_sepconv2_bn (BatchNormali (None, 19, 19, 728)   2912        block6_sepconv2[0][0]            \n",
      "____________________________________________________________________________________________________\n",
      "block6_sepconv3_act (Activation) (None, 19, 19, 728)   0           block6_sepconv2_bn[0][0]         \n",
      "____________________________________________________________________________________________________\n",
      "block6_sepconv3 (SeparableConv2D (None, 19, 19, 728)   536536      block6_sepconv3_act[0][0]        \n",
      "____________________________________________________________________________________________________\n",
      "block6_sepconv3_bn (BatchNormali (None, 19, 19, 728)   2912        block6_sepconv3[0][0]            \n",
      "____________________________________________________________________________________________________\n",
      "add_17 (Add)                     (None, 19, 19, 728)   0           block6_sepconv3_bn[0][0]         \n",
      "                                                                   add_16[0][0]                     \n",
      "____________________________________________________________________________________________________\n",
      "block7_sepconv1_act (Activation) (None, 19, 19, 728)   0           add_17[0][0]                     \n",
      "____________________________________________________________________________________________________\n",
      "block7_sepconv1 (SeparableConv2D (None, 19, 19, 728)   536536      block7_sepconv1_act[0][0]        \n",
      "____________________________________________________________________________________________________\n",
      "block7_sepconv1_bn (BatchNormali (None, 19, 19, 728)   2912        block7_sepconv1[0][0]            \n",
      "____________________________________________________________________________________________________\n",
      "block7_sepconv2_act (Activation) (None, 19, 19, 728)   0           block7_sepconv1_bn[0][0]         \n",
      "____________________________________________________________________________________________________\n",
      "block7_sepconv2 (SeparableConv2D (None, 19, 19, 728)   536536      block7_sepconv2_act[0][0]        \n",
      "____________________________________________________________________________________________________\n",
      "block7_sepconv2_bn (BatchNormali (None, 19, 19, 728)   2912        block7_sepconv2[0][0]            \n",
      "____________________________________________________________________________________________________\n",
      "block7_sepconv3_act (Activation) (None, 19, 19, 728)   0           block7_sepconv2_bn[0][0]         \n",
      "____________________________________________________________________________________________________\n",
      "block7_sepconv3 (SeparableConv2D (None, 19, 19, 728)   536536      block7_sepconv3_act[0][0]        \n",
      "____________________________________________________________________________________________________\n",
      "block7_sepconv3_bn (BatchNormali (None, 19, 19, 728)   2912        block7_sepconv3[0][0]            \n",
      "____________________________________________________________________________________________________\n",
      "add_18 (Add)                     (None, 19, 19, 728)   0           block7_sepconv3_bn[0][0]         \n",
      "                                                                   add_17[0][0]                     \n",
      "____________________________________________________________________________________________________\n",
      "block8_sepconv1_act (Activation) (None, 19, 19, 728)   0           add_18[0][0]                     \n",
      "____________________________________________________________________________________________________\n",
      "block8_sepconv1 (SeparableConv2D (None, 19, 19, 728)   536536      block8_sepconv1_act[0][0]        \n",
      "____________________________________________________________________________________________________\n",
      "block8_sepconv1_bn (BatchNormali (None, 19, 19, 728)   2912        block8_sepconv1[0][0]            \n",
      "____________________________________________________________________________________________________\n",
      "block8_sepconv2_act (Activation) (None, 19, 19, 728)   0           block8_sepconv1_bn[0][0]         \n",
      "____________________________________________________________________________________________________\n",
      "block8_sepconv2 (SeparableConv2D (None, 19, 19, 728)   536536      block8_sepconv2_act[0][0]        \n",
      "____________________________________________________________________________________________________\n",
      "block8_sepconv2_bn (BatchNormali (None, 19, 19, 728)   2912        block8_sepconv2[0][0]            \n",
      "____________________________________________________________________________________________________\n",
      "block8_sepconv3_act (Activation) (None, 19, 19, 728)   0           block8_sepconv2_bn[0][0]         \n",
      "____________________________________________________________________________________________________\n",
      "block8_sepconv3 (SeparableConv2D (None, 19, 19, 728)   536536      block8_sepconv3_act[0][0]        \n",
      "____________________________________________________________________________________________________\n",
      "block8_sepconv3_bn (BatchNormali (None, 19, 19, 728)   2912        block8_sepconv3[0][0]            \n",
      "____________________________________________________________________________________________________\n",
      "add_19 (Add)                     (None, 19, 19, 728)   0           block8_sepconv3_bn[0][0]         \n",
      "                                                                   add_18[0][0]                     \n",
      "____________________________________________________________________________________________________\n",
      "block9_sepconv1_act (Activation) (None, 19, 19, 728)   0           add_19[0][0]                     \n",
      "____________________________________________________________________________________________________\n",
      "block9_sepconv1 (SeparableConv2D (None, 19, 19, 728)   536536      block9_sepconv1_act[0][0]        \n",
      "____________________________________________________________________________________________________\n",
      "block9_sepconv1_bn (BatchNormali (None, 19, 19, 728)   2912        block9_sepconv1[0][0]            \n",
      "____________________________________________________________________________________________________\n",
      "block9_sepconv2_act (Activation) (None, 19, 19, 728)   0           block9_sepconv1_bn[0][0]         \n",
      "____________________________________________________________________________________________________\n",
      "block9_sepconv2 (SeparableConv2D (None, 19, 19, 728)   536536      block9_sepconv2_act[0][0]        \n",
      "____________________________________________________________________________________________________\n",
      "block9_sepconv2_bn (BatchNormali (None, 19, 19, 728)   2912        block9_sepconv2[0][0]            \n",
      "____________________________________________________________________________________________________\n",
      "block9_sepconv3_act (Activation) (None, 19, 19, 728)   0           block9_sepconv2_bn[0][0]         \n",
      "____________________________________________________________________________________________________\n",
      "block9_sepconv3 (SeparableConv2D (None, 19, 19, 728)   536536      block9_sepconv3_act[0][0]        \n",
      "____________________________________________________________________________________________________\n",
      "block9_sepconv3_bn (BatchNormali (None, 19, 19, 728)   2912        block9_sepconv3[0][0]            \n",
      "____________________________________________________________________________________________________\n",
      "add_20 (Add)                     (None, 19, 19, 728)   0           block9_sepconv3_bn[0][0]         \n",
      "                                                                   add_19[0][0]                     \n",
      "____________________________________________________________________________________________________\n",
      "block10_sepconv1_act (Activation (None, 19, 19, 728)   0           add_20[0][0]                     \n",
      "____________________________________________________________________________________________________\n",
      "block10_sepconv1 (SeparableConv2 (None, 19, 19, 728)   536536      block10_sepconv1_act[0][0]       \n",
      "____________________________________________________________________________________________________\n",
      "block10_sepconv1_bn (BatchNormal (None, 19, 19, 728)   2912        block10_sepconv1[0][0]           \n",
      "____________________________________________________________________________________________________\n",
      "block10_sepconv2_act (Activation (None, 19, 19, 728)   0           block10_sepconv1_bn[0][0]        \n",
      "____________________________________________________________________________________________________\n",
      "block10_sepconv2 (SeparableConv2 (None, 19, 19, 728)   536536      block10_sepconv2_act[0][0]       \n",
      "____________________________________________________________________________________________________\n",
      "block10_sepconv2_bn (BatchNormal (None, 19, 19, 728)   2912        block10_sepconv2[0][0]           \n",
      "____________________________________________________________________________________________________\n",
      "block10_sepconv3_act (Activation (None, 19, 19, 728)   0           block10_sepconv2_bn[0][0]        \n",
      "____________________________________________________________________________________________________\n",
      "block10_sepconv3 (SeparableConv2 (None, 19, 19, 728)   536536      block10_sepconv3_act[0][0]       \n",
      "____________________________________________________________________________________________________\n",
      "block10_sepconv3_bn (BatchNormal (None, 19, 19, 728)   2912        block10_sepconv3[0][0]           \n",
      "____________________________________________________________________________________________________\n",
      "add_21 (Add)                     (None, 19, 19, 728)   0           block10_sepconv3_bn[0][0]        \n",
      "                                                                   add_20[0][0]                     \n",
      "____________________________________________________________________________________________________\n",
      "block11_sepconv1_act (Activation (None, 19, 19, 728)   0           add_21[0][0]                     \n",
      "____________________________________________________________________________________________________\n",
      "block11_sepconv1 (SeparableConv2 (None, 19, 19, 728)   536536      block11_sepconv1_act[0][0]       \n",
      "____________________________________________________________________________________________________\n",
      "block11_sepconv1_bn (BatchNormal (None, 19, 19, 728)   2912        block11_sepconv1[0][0]           \n",
      "____________________________________________________________________________________________________\n",
      "block11_sepconv2_act (Activation (None, 19, 19, 728)   0           block11_sepconv1_bn[0][0]        \n",
      "____________________________________________________________________________________________________\n",
      "block11_sepconv2 (SeparableConv2 (None, 19, 19, 728)   536536      block11_sepconv2_act[0][0]       \n",
      "____________________________________________________________________________________________________\n",
      "block11_sepconv2_bn (BatchNormal (None, 19, 19, 728)   2912        block11_sepconv2[0][0]           \n",
      "____________________________________________________________________________________________________\n",
      "block11_sepconv3_act (Activation (None, 19, 19, 728)   0           block11_sepconv2_bn[0][0]        \n",
      "____________________________________________________________________________________________________\n",
      "block11_sepconv3 (SeparableConv2 (None, 19, 19, 728)   536536      block11_sepconv3_act[0][0]       \n",
      "____________________________________________________________________________________________________\n",
      "block11_sepconv3_bn (BatchNormal (None, 19, 19, 728)   2912        block11_sepconv3[0][0]           \n",
      "____________________________________________________________________________________________________\n",
      "add_22 (Add)                     (None, 19, 19, 728)   0           block11_sepconv3_bn[0][0]        \n",
      "                                                                   add_21[0][0]                     \n",
      "____________________________________________________________________________________________________\n",
      "block12_sepconv1_act (Activation (None, 19, 19, 728)   0           add_22[0][0]                     \n",
      "____________________________________________________________________________________________________\n",
      "block12_sepconv1 (SeparableConv2 (None, 19, 19, 728)   536536      block12_sepconv1_act[0][0]       \n",
      "____________________________________________________________________________________________________\n",
      "block12_sepconv1_bn (BatchNormal (None, 19, 19, 728)   2912        block12_sepconv1[0][0]           \n",
      "____________________________________________________________________________________________________\n",
      "block12_sepconv2_act (Activation (None, 19, 19, 728)   0           block12_sepconv1_bn[0][0]        \n",
      "____________________________________________________________________________________________________\n",
      "block12_sepconv2 (SeparableConv2 (None, 19, 19, 728)   536536      block12_sepconv2_act[0][0]       \n",
      "____________________________________________________________________________________________________\n",
      "block12_sepconv2_bn (BatchNormal (None, 19, 19, 728)   2912        block12_sepconv2[0][0]           \n",
      "____________________________________________________________________________________________________\n",
      "block12_sepconv3_act (Activation (None, 19, 19, 728)   0           block12_sepconv2_bn[0][0]        \n",
      "____________________________________________________________________________________________________\n",
      "block12_sepconv3 (SeparableConv2 (None, 19, 19, 728)   536536      block12_sepconv3_act[0][0]       \n",
      "____________________________________________________________________________________________________\n",
      "block12_sepconv3_bn (BatchNormal (None, 19, 19, 728)   2912        block12_sepconv3[0][0]           \n",
      "____________________________________________________________________________________________________\n",
      "add_23 (Add)                     (None, 19, 19, 728)   0           block12_sepconv3_bn[0][0]        \n",
      "                                                                   add_22[0][0]                     \n",
      "____________________________________________________________________________________________________\n",
      "block13_sepconv1_act (Activation (None, 19, 19, 728)   0           add_23[0][0]                     \n",
      "____________________________________________________________________________________________________\n",
      "block13_sepconv1 (SeparableConv2 (None, 19, 19, 728)   536536      block13_sepconv1_act[0][0]       \n",
      "____________________________________________________________________________________________________\n",
      "block13_sepconv1_bn (BatchNormal (None, 19, 19, 728)   2912        block13_sepconv1[0][0]           \n",
      "____________________________________________________________________________________________________\n",
      "block13_sepconv2_act (Activation (None, 19, 19, 728)   0           block13_sepconv1_bn[0][0]        \n",
      "____________________________________________________________________________________________________\n",
      "block13_sepconv2 (SeparableConv2 (None, 19, 19, 1024)  752024      block13_sepconv2_act[0][0]       \n",
      "____________________________________________________________________________________________________\n",
      "block13_sepconv2_bn (BatchNormal (None, 19, 19, 1024)  4096        block13_sepconv2[0][0]           \n",
      "____________________________________________________________________________________________________\n",
      "conv2d_8 (Conv2D)                (None, 10, 10, 1024)  745472      add_23[0][0]                     \n",
      "____________________________________________________________________________________________________\n",
      "block13_pool (MaxPooling2D)      (None, 10, 10, 1024)  0           block13_sepconv2_bn[0][0]        \n",
      "____________________________________________________________________________________________________\n",
      "batch_normalization_8 (BatchNorm (None, 10, 10, 1024)  4096        conv2d_8[0][0]                   \n",
      "____________________________________________________________________________________________________\n",
      "add_24 (Add)                     (None, 10, 10, 1024)  0           block13_pool[0][0]               \n",
      "                                                                   batch_normalization_8[0][0]      \n",
      "____________________________________________________________________________________________________\n",
      "block14_sepconv1 (SeparableConv2 (None, 10, 10, 1536)  1582080     add_24[0][0]                     \n",
      "____________________________________________________________________________________________________\n",
      "block14_sepconv1_bn (BatchNormal (None, 10, 10, 1536)  6144        block14_sepconv1[0][0]           \n",
      "____________________________________________________________________________________________________\n",
      "block14_sepconv1_act (Activation (None, 10, 10, 1536)  0           block14_sepconv1_bn[0][0]        \n",
      "____________________________________________________________________________________________________\n",
      "block14_sepconv2 (SeparableConv2 (None, 10, 10, 2048)  3159552     block14_sepconv1_act[0][0]       \n",
      "____________________________________________________________________________________________________\n",
      "block14_sepconv2_bn (BatchNormal (None, 10, 10, 2048)  8192        block14_sepconv2[0][0]           \n",
      "____________________________________________________________________________________________________\n",
      "block14_sepconv2_act (Activation (None, 10, 10, 2048)  0           block14_sepconv2_bn[0][0]        \n",
      "____________________________________________________________________________________________________\n",
      "global_average_pooling2d_1 (Glob (None, 2048)          0           block14_sepconv2_act[0][0]       \n",
      "____________________________________________________________________________________________________\n",
      "dense_1 (Dense)                  (None, 1000)          2049000     global_average_pooling2d_1[0][0] \n",
      "____________________________________________________________________________________________________\n",
      "dropout (Dropout)                (None, 1000)          0           dense_1[0][0]                    \n",
      "____________________________________________________________________________________________________\n",
      "categories_dense (Dense)         (None, 114)           114114      dropout[0][0]                    \n",
      "____________________________________________________________________________________________________\n",
      "activation_1 (Activation)        (None, 114)           0           categories_dense[0][0]           \n",
      "====================================================================================================\n",
      "Total params: 23,024,594\n",
      "Trainable params: 5,326,762\n",
      "Non-trainable params: 17,697,832\n",
      "____________________________________________________________________________________________________\n"
     ]
    }
   ],
   "source": [
    "model.summary()"
   ]
  },
  {
   "cell_type": "code",
   "execution_count": 40,
   "metadata": {
    "scrolled": false
   },
   "outputs": [
    {
     "name": "stdout",
     "output_type": "stream",
     "text": [
      "Epoch 1/5\n",
      "3585/3585 [==============================] - 2169s - loss: 0.3513 - acc: 0.8948 - val_loss: 0.2114 - val_acc: 0.9691\n",
      "Epoch 2/5\n",
      "3585/3585 [==============================] - 2168s - loss: 0.1531 - acc: 0.9752 - val_loss: 0.1248 - val_acc: 0.9811\n",
      "Epoch 3/5\n",
      "3585/3585 [==============================] - 2168s - loss: 0.1063 - acc: 0.9812 - val_loss: 0.0923 - val_acc: 0.9851\n",
      "Epoch 4/5\n",
      "3585/3585 [==============================] - 2168s - loss: 0.0830 - acc: 0.9833 - val_loss: 0.0751 - val_acc: 0.9874\n",
      "Epoch 5/5\n",
      "3585/3585 [==============================] - 2168s - loss: 0.0731 - acc: 0.9845 - val_loss: 0.0624 - val_acc: 0.9890\n"
     ]
    }
   ],
   "source": [
    "model.fit_generator(\n",
    "        train_generator,\n",
    "        steps_per_epoch=35850 // batch_size,\n",
    "        epochs=5,\n",
    "        verbose=2,\n",
    "        validation_data=validation_generator,\n",
    "        validation_steps=15367 // batch_size)\n",
    "model.save_weights('xception_breeds_weighted.h5')"
   ]
  },
  {
   "cell_type": "code",
   "execution_count": 20,
   "metadata": {},
   "outputs": [
    {
     "name": "stdout",
     "output_type": "stream",
     "text": [
      "Downloading data from https://github.com/fchollet/deep-learning-models/releases/download/v0.4/xception_weights_tf_dim_ordering_tf_kernels.h5\n",
      "90923008/91884032 [============================>.] - ETA: 0s"
     ]
    }
   ],
   "source": [
    "full_model = Xception(weights='imagenet', include_top=True, input_shape=(299, 299, 3))"
   ]
  },
  {
   "cell_type": "code",
   "execution_count": 21,
   "metadata": {},
   "outputs": [
    {
     "name": "stdout",
     "output_type": "stream",
     "text": [
      "____________________________________________________________________________________________________\n",
      "Layer (type)                     Output Shape          Param #     Connected to                     \n",
      "====================================================================================================\n",
      "input_2 (InputLayer)             (None, 299, 299, 3)   0                                            \n",
      "____________________________________________________________________________________________________\n",
      "block1_conv1 (Conv2D)            (None, 149, 149, 32)  864         input_2[0][0]                    \n",
      "____________________________________________________________________________________________________\n",
      "block1_conv1_bn (BatchNormalizat (None, 149, 149, 32)  128         block1_conv1[0][0]               \n",
      "____________________________________________________________________________________________________\n",
      "block1_conv1_act (Activation)    (None, 149, 149, 32)  0           block1_conv1_bn[0][0]            \n",
      "____________________________________________________________________________________________________\n",
      "block1_conv2 (Conv2D)            (None, 147, 147, 64)  18432       block1_conv1_act[0][0]           \n",
      "____________________________________________________________________________________________________\n",
      "block1_conv2_bn (BatchNormalizat (None, 147, 147, 64)  256         block1_conv2[0][0]               \n",
      "____________________________________________________________________________________________________\n",
      "block1_conv2_act (Activation)    (None, 147, 147, 64)  0           block1_conv2_bn[0][0]            \n",
      "____________________________________________________________________________________________________\n",
      "block2_sepconv1 (SeparableConv2D (None, 147, 147, 128) 8768        block1_conv2_act[0][0]           \n",
      "____________________________________________________________________________________________________\n",
      "block2_sepconv1_bn (BatchNormali (None, 147, 147, 128) 512         block2_sepconv1[0][0]            \n",
      "____________________________________________________________________________________________________\n",
      "block2_sepconv2_act (Activation) (None, 147, 147, 128) 0           block2_sepconv1_bn[0][0]         \n",
      "____________________________________________________________________________________________________\n",
      "block2_sepconv2 (SeparableConv2D (None, 147, 147, 128) 17536       block2_sepconv2_act[0][0]        \n",
      "____________________________________________________________________________________________________\n",
      "block2_sepconv2_bn (BatchNormali (None, 147, 147, 128) 512         block2_sepconv2[0][0]            \n",
      "____________________________________________________________________________________________________\n",
      "conv2d_5 (Conv2D)                (None, 74, 74, 128)   8192        block1_conv2_act[0][0]           \n",
      "____________________________________________________________________________________________________\n",
      "block2_pool (MaxPooling2D)       (None, 74, 74, 128)   0           block2_sepconv2_bn[0][0]         \n",
      "____________________________________________________________________________________________________\n",
      "batch_normalization_5 (BatchNorm (None, 74, 74, 128)   512         conv2d_5[0][0]                   \n",
      "____________________________________________________________________________________________________\n",
      "add_13 (Add)                     (None, 74, 74, 128)   0           block2_pool[0][0]                \n",
      "                                                                   batch_normalization_5[0][0]      \n",
      "____________________________________________________________________________________________________\n",
      "block3_sepconv1_act (Activation) (None, 74, 74, 128)   0           add_13[0][0]                     \n",
      "____________________________________________________________________________________________________\n",
      "block3_sepconv1 (SeparableConv2D (None, 74, 74, 256)   33920       block3_sepconv1_act[0][0]        \n",
      "____________________________________________________________________________________________________\n",
      "block3_sepconv1_bn (BatchNormali (None, 74, 74, 256)   1024        block3_sepconv1[0][0]            \n",
      "____________________________________________________________________________________________________\n",
      "block3_sepconv2_act (Activation) (None, 74, 74, 256)   0           block3_sepconv1_bn[0][0]         \n",
      "____________________________________________________________________________________________________\n",
      "block3_sepconv2 (SeparableConv2D (None, 74, 74, 256)   67840       block3_sepconv2_act[0][0]        \n",
      "____________________________________________________________________________________________________\n",
      "block3_sepconv2_bn (BatchNormali (None, 74, 74, 256)   1024        block3_sepconv2[0][0]            \n",
      "____________________________________________________________________________________________________\n",
      "conv2d_6 (Conv2D)                (None, 37, 37, 256)   32768       add_13[0][0]                     \n",
      "____________________________________________________________________________________________________\n",
      "block3_pool (MaxPooling2D)       (None, 37, 37, 256)   0           block3_sepconv2_bn[0][0]         \n",
      "____________________________________________________________________________________________________\n",
      "batch_normalization_6 (BatchNorm (None, 37, 37, 256)   1024        conv2d_6[0][0]                   \n",
      "____________________________________________________________________________________________________\n",
      "add_14 (Add)                     (None, 37, 37, 256)   0           block3_pool[0][0]                \n",
      "                                                                   batch_normalization_6[0][0]      \n",
      "____________________________________________________________________________________________________\n",
      "block4_sepconv1_act (Activation) (None, 37, 37, 256)   0           add_14[0][0]                     \n",
      "____________________________________________________________________________________________________\n",
      "block4_sepconv1 (SeparableConv2D (None, 37, 37, 728)   188672      block4_sepconv1_act[0][0]        \n",
      "____________________________________________________________________________________________________\n",
      "block4_sepconv1_bn (BatchNormali (None, 37, 37, 728)   2912        block4_sepconv1[0][0]            \n",
      "____________________________________________________________________________________________________\n",
      "block4_sepconv2_act (Activation) (None, 37, 37, 728)   0           block4_sepconv1_bn[0][0]         \n",
      "____________________________________________________________________________________________________\n",
      "block4_sepconv2 (SeparableConv2D (None, 37, 37, 728)   536536      block4_sepconv2_act[0][0]        \n",
      "____________________________________________________________________________________________________\n",
      "block4_sepconv2_bn (BatchNormali (None, 37, 37, 728)   2912        block4_sepconv2[0][0]            \n",
      "____________________________________________________________________________________________________\n",
      "conv2d_7 (Conv2D)                (None, 19, 19, 728)   186368      add_14[0][0]                     \n",
      "____________________________________________________________________________________________________\n",
      "block4_pool (MaxPooling2D)       (None, 19, 19, 728)   0           block4_sepconv2_bn[0][0]         \n",
      "____________________________________________________________________________________________________\n",
      "batch_normalization_7 (BatchNorm (None, 19, 19, 728)   2912        conv2d_7[0][0]                   \n",
      "____________________________________________________________________________________________________\n",
      "add_15 (Add)                     (None, 19, 19, 728)   0           block4_pool[0][0]                \n",
      "                                                                   batch_normalization_7[0][0]      \n",
      "____________________________________________________________________________________________________\n",
      "block5_sepconv1_act (Activation) (None, 19, 19, 728)   0           add_15[0][0]                     \n",
      "____________________________________________________________________________________________________\n",
      "block5_sepconv1 (SeparableConv2D (None, 19, 19, 728)   536536      block5_sepconv1_act[0][0]        \n",
      "____________________________________________________________________________________________________\n",
      "block5_sepconv1_bn (BatchNormali (None, 19, 19, 728)   2912        block5_sepconv1[0][0]            \n",
      "____________________________________________________________________________________________________\n",
      "block5_sepconv2_act (Activation) (None, 19, 19, 728)   0           block5_sepconv1_bn[0][0]         \n",
      "____________________________________________________________________________________________________\n",
      "block5_sepconv2 (SeparableConv2D (None, 19, 19, 728)   536536      block5_sepconv2_act[0][0]        \n",
      "____________________________________________________________________________________________________\n",
      "block5_sepconv2_bn (BatchNormali (None, 19, 19, 728)   2912        block5_sepconv2[0][0]            \n",
      "____________________________________________________________________________________________________\n",
      "block5_sepconv3_act (Activation) (None, 19, 19, 728)   0           block5_sepconv2_bn[0][0]         \n",
      "____________________________________________________________________________________________________\n",
      "block5_sepconv3 (SeparableConv2D (None, 19, 19, 728)   536536      block5_sepconv3_act[0][0]        \n",
      "____________________________________________________________________________________________________\n",
      "block5_sepconv3_bn (BatchNormali (None, 19, 19, 728)   2912        block5_sepconv3[0][0]            \n",
      "____________________________________________________________________________________________________\n",
      "add_16 (Add)                     (None, 19, 19, 728)   0           block5_sepconv3_bn[0][0]         \n",
      "                                                                   add_15[0][0]                     \n",
      "____________________________________________________________________________________________________\n",
      "block6_sepconv1_act (Activation) (None, 19, 19, 728)   0           add_16[0][0]                     \n",
      "____________________________________________________________________________________________________\n",
      "block6_sepconv1 (SeparableConv2D (None, 19, 19, 728)   536536      block6_sepconv1_act[0][0]        \n",
      "____________________________________________________________________________________________________\n",
      "block6_sepconv1_bn (BatchNormali (None, 19, 19, 728)   2912        block6_sepconv1[0][0]            \n",
      "____________________________________________________________________________________________________\n",
      "block6_sepconv2_act (Activation) (None, 19, 19, 728)   0           block6_sepconv1_bn[0][0]         \n",
      "____________________________________________________________________________________________________\n",
      "block6_sepconv2 (SeparableConv2D (None, 19, 19, 728)   536536      block6_sepconv2_act[0][0]        \n",
      "____________________________________________________________________________________________________\n",
      "block6_sepconv2_bn (BatchNormali (None, 19, 19, 728)   2912        block6_sepconv2[0][0]            \n",
      "____________________________________________________________________________________________________\n",
      "block6_sepconv3_act (Activation) (None, 19, 19, 728)   0           block6_sepconv2_bn[0][0]         \n",
      "____________________________________________________________________________________________________\n",
      "block6_sepconv3 (SeparableConv2D (None, 19, 19, 728)   536536      block6_sepconv3_act[0][0]        \n",
      "____________________________________________________________________________________________________\n",
      "block6_sepconv3_bn (BatchNormali (None, 19, 19, 728)   2912        block6_sepconv3[0][0]            \n",
      "____________________________________________________________________________________________________\n",
      "add_17 (Add)                     (None, 19, 19, 728)   0           block6_sepconv3_bn[0][0]         \n",
      "                                                                   add_16[0][0]                     \n",
      "____________________________________________________________________________________________________\n",
      "block7_sepconv1_act (Activation) (None, 19, 19, 728)   0           add_17[0][0]                     \n",
      "____________________________________________________________________________________________________\n",
      "block7_sepconv1 (SeparableConv2D (None, 19, 19, 728)   536536      block7_sepconv1_act[0][0]        \n",
      "____________________________________________________________________________________________________\n",
      "block7_sepconv1_bn (BatchNormali (None, 19, 19, 728)   2912        block7_sepconv1[0][0]            \n",
      "____________________________________________________________________________________________________\n",
      "block7_sepconv2_act (Activation) (None, 19, 19, 728)   0           block7_sepconv1_bn[0][0]         \n",
      "____________________________________________________________________________________________________\n",
      "block7_sepconv2 (SeparableConv2D (None, 19, 19, 728)   536536      block7_sepconv2_act[0][0]        \n",
      "____________________________________________________________________________________________________\n",
      "block7_sepconv2_bn (BatchNormali (None, 19, 19, 728)   2912        block7_sepconv2[0][0]            \n",
      "____________________________________________________________________________________________________\n",
      "block7_sepconv3_act (Activation) (None, 19, 19, 728)   0           block7_sepconv2_bn[0][0]         \n",
      "____________________________________________________________________________________________________\n",
      "block7_sepconv3 (SeparableConv2D (None, 19, 19, 728)   536536      block7_sepconv3_act[0][0]        \n",
      "____________________________________________________________________________________________________\n",
      "block7_sepconv3_bn (BatchNormali (None, 19, 19, 728)   2912        block7_sepconv3[0][0]            \n",
      "____________________________________________________________________________________________________\n",
      "add_18 (Add)                     (None, 19, 19, 728)   0           block7_sepconv3_bn[0][0]         \n",
      "                                                                   add_17[0][0]                     \n",
      "____________________________________________________________________________________________________\n",
      "block8_sepconv1_act (Activation) (None, 19, 19, 728)   0           add_18[0][0]                     \n",
      "____________________________________________________________________________________________________\n",
      "block8_sepconv1 (SeparableConv2D (None, 19, 19, 728)   536536      block8_sepconv1_act[0][0]        \n",
      "____________________________________________________________________________________________________\n",
      "block8_sepconv1_bn (BatchNormali (None, 19, 19, 728)   2912        block8_sepconv1[0][0]            \n",
      "____________________________________________________________________________________________________\n",
      "block8_sepconv2_act (Activation) (None, 19, 19, 728)   0           block8_sepconv1_bn[0][0]         \n",
      "____________________________________________________________________________________________________\n",
      "block8_sepconv2 (SeparableConv2D (None, 19, 19, 728)   536536      block8_sepconv2_act[0][0]        \n",
      "____________________________________________________________________________________________________\n",
      "block8_sepconv2_bn (BatchNormali (None, 19, 19, 728)   2912        block8_sepconv2[0][0]            \n",
      "____________________________________________________________________________________________________\n",
      "block8_sepconv3_act (Activation) (None, 19, 19, 728)   0           block8_sepconv2_bn[0][0]         \n",
      "____________________________________________________________________________________________________\n",
      "block8_sepconv3 (SeparableConv2D (None, 19, 19, 728)   536536      block8_sepconv3_act[0][0]        \n",
      "____________________________________________________________________________________________________\n",
      "block8_sepconv3_bn (BatchNormali (None, 19, 19, 728)   2912        block8_sepconv3[0][0]            \n",
      "____________________________________________________________________________________________________\n",
      "add_19 (Add)                     (None, 19, 19, 728)   0           block8_sepconv3_bn[0][0]         \n",
      "                                                                   add_18[0][0]                     \n",
      "____________________________________________________________________________________________________\n",
      "block9_sepconv1_act (Activation) (None, 19, 19, 728)   0           add_19[0][0]                     \n",
      "____________________________________________________________________________________________________\n",
      "block9_sepconv1 (SeparableConv2D (None, 19, 19, 728)   536536      block9_sepconv1_act[0][0]        \n",
      "____________________________________________________________________________________________________\n",
      "block9_sepconv1_bn (BatchNormali (None, 19, 19, 728)   2912        block9_sepconv1[0][0]            \n",
      "____________________________________________________________________________________________________\n",
      "block9_sepconv2_act (Activation) (None, 19, 19, 728)   0           block9_sepconv1_bn[0][0]         \n",
      "____________________________________________________________________________________________________\n",
      "block9_sepconv2 (SeparableConv2D (None, 19, 19, 728)   536536      block9_sepconv2_act[0][0]        \n",
      "____________________________________________________________________________________________________\n",
      "block9_sepconv2_bn (BatchNormali (None, 19, 19, 728)   2912        block9_sepconv2[0][0]            \n",
      "____________________________________________________________________________________________________\n",
      "block9_sepconv3_act (Activation) (None, 19, 19, 728)   0           block9_sepconv2_bn[0][0]         \n",
      "____________________________________________________________________________________________________\n",
      "block9_sepconv3 (SeparableConv2D (None, 19, 19, 728)   536536      block9_sepconv3_act[0][0]        \n",
      "____________________________________________________________________________________________________\n",
      "block9_sepconv3_bn (BatchNormali (None, 19, 19, 728)   2912        block9_sepconv3[0][0]            \n",
      "____________________________________________________________________________________________________\n",
      "add_20 (Add)                     (None, 19, 19, 728)   0           block9_sepconv3_bn[0][0]         \n",
      "                                                                   add_19[0][0]                     \n",
      "____________________________________________________________________________________________________\n",
      "block10_sepconv1_act (Activation (None, 19, 19, 728)   0           add_20[0][0]                     \n",
      "____________________________________________________________________________________________________\n",
      "block10_sepconv1 (SeparableConv2 (None, 19, 19, 728)   536536      block10_sepconv1_act[0][0]       \n",
      "____________________________________________________________________________________________________\n",
      "block10_sepconv1_bn (BatchNormal (None, 19, 19, 728)   2912        block10_sepconv1[0][0]           \n",
      "____________________________________________________________________________________________________\n",
      "block10_sepconv2_act (Activation (None, 19, 19, 728)   0           block10_sepconv1_bn[0][0]        \n",
      "____________________________________________________________________________________________________\n",
      "block10_sepconv2 (SeparableConv2 (None, 19, 19, 728)   536536      block10_sepconv2_act[0][0]       \n",
      "____________________________________________________________________________________________________\n",
      "block10_sepconv2_bn (BatchNormal (None, 19, 19, 728)   2912        block10_sepconv2[0][0]           \n",
      "____________________________________________________________________________________________________\n",
      "block10_sepconv3_act (Activation (None, 19, 19, 728)   0           block10_sepconv2_bn[0][0]        \n",
      "____________________________________________________________________________________________________\n",
      "block10_sepconv3 (SeparableConv2 (None, 19, 19, 728)   536536      block10_sepconv3_act[0][0]       \n",
      "____________________________________________________________________________________________________\n",
      "block10_sepconv3_bn (BatchNormal (None, 19, 19, 728)   2912        block10_sepconv3[0][0]           \n",
      "____________________________________________________________________________________________________\n",
      "add_21 (Add)                     (None, 19, 19, 728)   0           block10_sepconv3_bn[0][0]        \n",
      "                                                                   add_20[0][0]                     \n",
      "____________________________________________________________________________________________________\n",
      "block11_sepconv1_act (Activation (None, 19, 19, 728)   0           add_21[0][0]                     \n",
      "____________________________________________________________________________________________________\n",
      "block11_sepconv1 (SeparableConv2 (None, 19, 19, 728)   536536      block11_sepconv1_act[0][0]       \n",
      "____________________________________________________________________________________________________\n",
      "block11_sepconv1_bn (BatchNormal (None, 19, 19, 728)   2912        block11_sepconv1[0][0]           \n",
      "____________________________________________________________________________________________________\n",
      "block11_sepconv2_act (Activation (None, 19, 19, 728)   0           block11_sepconv1_bn[0][0]        \n",
      "____________________________________________________________________________________________________\n",
      "block11_sepconv2 (SeparableConv2 (None, 19, 19, 728)   536536      block11_sepconv2_act[0][0]       \n",
      "____________________________________________________________________________________________________\n",
      "block11_sepconv2_bn (BatchNormal (None, 19, 19, 728)   2912        block11_sepconv2[0][0]           \n",
      "____________________________________________________________________________________________________\n",
      "block11_sepconv3_act (Activation (None, 19, 19, 728)   0           block11_sepconv2_bn[0][0]        \n",
      "____________________________________________________________________________________________________\n",
      "block11_sepconv3 (SeparableConv2 (None, 19, 19, 728)   536536      block11_sepconv3_act[0][0]       \n",
      "____________________________________________________________________________________________________\n",
      "block11_sepconv3_bn (BatchNormal (None, 19, 19, 728)   2912        block11_sepconv3[0][0]           \n",
      "____________________________________________________________________________________________________\n",
      "add_22 (Add)                     (None, 19, 19, 728)   0           block11_sepconv3_bn[0][0]        \n",
      "                                                                   add_21[0][0]                     \n",
      "____________________________________________________________________________________________________\n",
      "block12_sepconv1_act (Activation (None, 19, 19, 728)   0           add_22[0][0]                     \n",
      "____________________________________________________________________________________________________\n",
      "block12_sepconv1 (SeparableConv2 (None, 19, 19, 728)   536536      block12_sepconv1_act[0][0]       \n",
      "____________________________________________________________________________________________________\n",
      "block12_sepconv1_bn (BatchNormal (None, 19, 19, 728)   2912        block12_sepconv1[0][0]           \n",
      "____________________________________________________________________________________________________\n",
      "block12_sepconv2_act (Activation (None, 19, 19, 728)   0           block12_sepconv1_bn[0][0]        \n",
      "____________________________________________________________________________________________________\n",
      "block12_sepconv2 (SeparableConv2 (None, 19, 19, 728)   536536      block12_sepconv2_act[0][0]       \n",
      "____________________________________________________________________________________________________\n",
      "block12_sepconv2_bn (BatchNormal (None, 19, 19, 728)   2912        block12_sepconv2[0][0]           \n",
      "____________________________________________________________________________________________________\n",
      "block12_sepconv3_act (Activation (None, 19, 19, 728)   0           block12_sepconv2_bn[0][0]        \n",
      "____________________________________________________________________________________________________\n",
      "block12_sepconv3 (SeparableConv2 (None, 19, 19, 728)   536536      block12_sepconv3_act[0][0]       \n",
      "____________________________________________________________________________________________________\n",
      "block12_sepconv3_bn (BatchNormal (None, 19, 19, 728)   2912        block12_sepconv3[0][0]           \n",
      "____________________________________________________________________________________________________\n",
      "add_23 (Add)                     (None, 19, 19, 728)   0           block12_sepconv3_bn[0][0]        \n",
      "                                                                   add_22[0][0]                     \n",
      "____________________________________________________________________________________________________\n",
      "block13_sepconv1_act (Activation (None, 19, 19, 728)   0           add_23[0][0]                     \n",
      "____________________________________________________________________________________________________\n",
      "block13_sepconv1 (SeparableConv2 (None, 19, 19, 728)   536536      block13_sepconv1_act[0][0]       \n",
      "____________________________________________________________________________________________________\n",
      "block13_sepconv1_bn (BatchNormal (None, 19, 19, 728)   2912        block13_sepconv1[0][0]           \n",
      "____________________________________________________________________________________________________\n",
      "block13_sepconv2_act (Activation (None, 19, 19, 728)   0           block13_sepconv1_bn[0][0]        \n",
      "____________________________________________________________________________________________________\n",
      "block13_sepconv2 (SeparableConv2 (None, 19, 19, 1024)  752024      block13_sepconv2_act[0][0]       \n",
      "____________________________________________________________________________________________________\n",
      "block13_sepconv2_bn (BatchNormal (None, 19, 19, 1024)  4096        block13_sepconv2[0][0]           \n",
      "____________________________________________________________________________________________________\n",
      "conv2d_8 (Conv2D)                (None, 10, 10, 1024)  745472      add_23[0][0]                     \n",
      "____________________________________________________________________________________________________\n",
      "block13_pool (MaxPooling2D)      (None, 10, 10, 1024)  0           block13_sepconv2_bn[0][0]        \n",
      "____________________________________________________________________________________________________\n",
      "batch_normalization_8 (BatchNorm (None, 10, 10, 1024)  4096        conv2d_8[0][0]                   \n",
      "____________________________________________________________________________________________________\n",
      "add_24 (Add)                     (None, 10, 10, 1024)  0           block13_pool[0][0]               \n",
      "                                                                   batch_normalization_8[0][0]      \n",
      "____________________________________________________________________________________________________\n",
      "block14_sepconv1 (SeparableConv2 (None, 10, 10, 1536)  1582080     add_24[0][0]                     \n",
      "____________________________________________________________________________________________________\n",
      "block14_sepconv1_bn (BatchNormal (None, 10, 10, 1536)  6144        block14_sepconv1[0][0]           \n",
      "____________________________________________________________________________________________________\n",
      "block14_sepconv1_act (Activation (None, 10, 10, 1536)  0           block14_sepconv1_bn[0][0]        \n",
      "____________________________________________________________________________________________________\n",
      "block14_sepconv2 (SeparableConv2 (None, 10, 10, 2048)  3159552     block14_sepconv1_act[0][0]       \n",
      "____________________________________________________________________________________________________\n",
      "block14_sepconv2_bn (BatchNormal (None, 10, 10, 2048)  8192        block14_sepconv2[0][0]           \n",
      "____________________________________________________________________________________________________\n",
      "block14_sepconv2_act (Activation (None, 10, 10, 2048)  0           block14_sepconv2_bn[0][0]        \n",
      "____________________________________________________________________________________________________\n",
      "avg_pool (GlobalAveragePooling2D (None, 2048)          0           block14_sepconv2_act[0][0]       \n",
      "____________________________________________________________________________________________________\n",
      "predictions (Dense)              (None, 1000)          2049000     avg_pool[0][0]                   \n",
      "====================================================================================================\n",
      "Total params: 22,910,480\n",
      "Trainable params: 22,855,952\n",
      "Non-trainable params: 54,528\n",
      "____________________________________________________________________________________________________\n"
     ]
    }
   ],
   "source": [
    "full_model.summary()"
   ]
  },
  {
   "cell_type": "markdown",
   "metadata": {
    "collapsed": true
   },
   "source": [
    "## Initial multiclass classifier (114 dense layer), just predicting \"not dog\", ignoring breeds\n",
    "\n",
    "Epoch 1/5\n",
    "3274/3274 [==============================] - 2196s - loss: 4.2286 - acc: 0.6370 - val_loss: 4.2056 - val_acc: 0.5291\n",
    "\n",
    "Epoch 2/5\n",
    "3274/3274 [==============================] - 2195s - loss: 3.8577 - acc: 0.6550 - val_loss: 3.8597 - val_acc: 0.5292\n",
    "\n",
    "Epoch 3/5\n",
    "3274/3274 [==============================] - 2195s - loss: 3.2350 - acc: 0.6548 - val_loss: 3.3696 - val_acc: 0.5292\n",
    "\n",
    "Epoch 4/5\n",
    "3274/3274 [==============================] - 2195s - loss: 2.5512 - acc: 0.6549 - val_loss: 2.9330 - val_acc: 0.5293\n",
    "\n",
    "Epoch 5/5\n",
    "3274/3274 [==============================] - 2196s - loss: 2.1126 - acc: 0.6551 - val_loss: 2.5876 - val_acc: 0.5288\n",
    "\n",
    "(1000 dense layer -> 114 dense layer)\n",
    "\n",
    "Epoch 1/5\n",
    "3274/3274 [==============================] - 2139s - loss: 3.9772 - acc: 0.6458 - val_loss: 3.6064 - val_acc: 0.5291\n",
    "\n",
    "Epoch 2/5\n",
    "3274/3274 [==============================] - 2136s - loss: 2.2391 - acc: 0.6550 - val_loss: 2.3954 - val_acc: 0.5289\n",
    "\n",
    "Epoch 3/5\n",
    "3274/3274 [==============================] - 2134s - loss: 1.7989 - acc: 0.6550 - val_loss: 2.0715 - val_acc: 0.5290\n",
    "\n",
    "Epoch 4/5\n",
    "3274/3274 [==============================] - 2134s - loss: 1.6013 - acc: 0.6549 - val_loss: 1.7951 - val_acc: 0.5294\n",
    "\n",
    "Epoch 5/5\n",
    "3274/3274 [==============================] - 2136s - loss: 1.4372 - acc: 0.6549 - val_loss: 1.5885 - val_acc: 0.5293\n",
    "\n",
    "## class weighted results\n",
    "Epoch 1/2\n",
    "3561/3561 [==============================] - 2397s - loss: 4.5732 - acc: 0.0482 - val_loss: 4.4836 - val_acc: 0.2049\n",
    "\n",
    "Epoch 2/2\n",
    "3561/3561 [==============================] - 2394s - loss: 4.2764 - acc: 0.3650 - val_loss: 4.1095 - val_acc: 0.6115\n"
   ]
  },
  {
   "cell_type": "markdown",
   "metadata": {
    "collapsed": true
   },
   "source": [
    "### Test model results trained in xception_dogbreeds.py"
   ]
  },
  {
   "cell_type": "code",
   "execution_count": 4,
   "metadata": {
    "collapsed": true
   },
   "outputs": [],
   "source": [
    "base_model = Xception(include_top=False, input_shape=(299, 299, 3))"
   ]
  },
  {
   "cell_type": "code",
   "execution_count": 6,
   "metadata": {
    "collapsed": true
   },
   "outputs": [],
   "source": [
    "x = base_model.output\n",
    "x = GlobalAveragePooling2D()(x)\n",
    "x = Dense(1000)(x)\n",
    "x = Dense(115, name=\"categories_dense2\")(x)\n",
    "x = Activation('softmax')(x)"
   ]
  },
  {
   "cell_type": "code",
   "execution_count": 7,
   "metadata": {
    "collapsed": true
   },
   "outputs": [],
   "source": [
    "model = Model(inputs=base_model.input, outputs=x)"
   ]
  },
  {
   "cell_type": "code",
   "execution_count": 8,
   "metadata": {
    "collapsed": true
   },
   "outputs": [],
   "source": [
    "model.load_weights('xception_breeds_wgt_reg_conv5.h5', by_name=True)"
   ]
  },
  {
   "cell_type": "code",
   "execution_count": 9,
   "metadata": {
    "collapsed": true
   },
   "outputs": [],
   "source": [
    "model.compile(optimizer=SGD(lr=0.0001, momentum=0.9),\n",
    "            loss='categorical_crossentropy', metrics=['accuracy'])"
   ]
  },
  {
   "cell_type": "code",
   "execution_count": 152,
   "metadata": {
    "collapsed": true
   },
   "outputs": [],
   "source": [
    "img = image.load_img('./data/Images/test/n02113978-Mexican_hairless/n02113978_2726.jpg', target_size=(299, 299))"
   ]
  },
  {
   "cell_type": "code",
   "execution_count": 153,
   "metadata": {
    "collapsed": true
   },
   "outputs": [],
   "source": [
    "x = image.img_to_array(img)"
   ]
  },
  {
   "cell_type": "code",
   "execution_count": 154,
   "metadata": {
    "collapsed": true
   },
   "outputs": [],
   "source": [
    "x = np.expand_dims(x, axis=0)\n",
    "x = x / 255"
   ]
  },
  {
   "cell_type": "code",
   "execution_count": 159,
   "metadata": {},
   "outputs": [
    {
     "data": {
      "text/plain": [
       "array([[[[ 0.97647059,  0.89411765,  0.78039217],\n",
       "         [ 0.97647059,  0.89411765,  0.78039217],\n",
       "         [ 0.97647059,  0.89411765,  0.78039217],\n",
       "         ..., \n",
       "         [ 0.82352942,  0.75294119,  0.65882355],\n",
       "         [ 0.82352942,  0.75294119,  0.65882355],\n",
       "         [ 0.81568629,  0.75686276,  0.67450982]],\n",
       "\n",
       "        [[ 0.97647059,  0.89411765,  0.78039217],\n",
       "         [ 0.97647059,  0.89411765,  0.78039217],\n",
       "         [ 0.97647059,  0.89411765,  0.78039217],\n",
       "         ..., \n",
       "         [ 0.82352942,  0.75294119,  0.65882355],\n",
       "         [ 0.82352942,  0.75294119,  0.65882355],\n",
       "         [ 0.81568629,  0.75686276,  0.67450982]],\n",
       "\n",
       "        [[ 0.97647059,  0.89411765,  0.78039217],\n",
       "         [ 0.98039216,  0.89803922,  0.78431374],\n",
       "         [ 0.98039216,  0.89803922,  0.78431374],\n",
       "         ..., \n",
       "         [ 0.82745099,  0.75686276,  0.66274512],\n",
       "         [ 0.82745099,  0.75686276,  0.66274512],\n",
       "         [ 0.81568629,  0.75686276,  0.67450982]],\n",
       "\n",
       "        ..., \n",
       "        [[ 0.09019608,  0.08627451,  0.07058824],\n",
       "         [ 0.09803922,  0.09411765,  0.07843138],\n",
       "         [ 0.09803922,  0.09411765,  0.07843138],\n",
       "         ..., \n",
       "         [ 0.08627451,  0.08627451,  0.07843138],\n",
       "         [ 0.08627451,  0.08627451,  0.07843138],\n",
       "         [ 0.08627451,  0.08627451,  0.07843138]],\n",
       "\n",
       "        [[ 0.09019608,  0.08627451,  0.07058824],\n",
       "         [ 0.09803922,  0.09411765,  0.07843138],\n",
       "         [ 0.09803922,  0.09411765,  0.07843138],\n",
       "         ..., \n",
       "         [ 0.08627451,  0.08627451,  0.07843138],\n",
       "         [ 0.08627451,  0.08627451,  0.07843138],\n",
       "         [ 0.08627451,  0.08627451,  0.07843138]],\n",
       "\n",
       "        [[ 0.09019608,  0.08627451,  0.07058824],\n",
       "         [ 0.09803922,  0.09411765,  0.07843138],\n",
       "         [ 0.09803922,  0.09411765,  0.07843138],\n",
       "         ..., \n",
       "         [ 0.08627451,  0.08627451,  0.07843138],\n",
       "         [ 0.08627451,  0.08627451,  0.07843138],\n",
       "         [ 0.08627451,  0.08627451,  0.07843138]]]], dtype=float32)"
      ]
     },
     "execution_count": 159,
     "metadata": {},
     "output_type": "execute_result"
    }
   ],
   "source": [
    "x"
   ]
  },
  {
   "cell_type": "code",
   "execution_count": 155,
   "metadata": {
    "collapsed": true
   },
   "outputs": [],
   "source": [
    "pred = model.predict(x)"
   ]
  },
  {
   "cell_type": "code",
   "execution_count": 156,
   "metadata": {},
   "outputs": [
    {
     "data": {
      "text/plain": [
       "array([[ 0.01222456,  0.00684785,  0.00609357,  0.00795943,  0.01669548,\n",
       "         0.00452985,  0.0068268 ,  0.00471877,  0.01236691,  0.00945483,\n",
       "         0.00966364,  0.00855907,  0.00697188,  0.00427885,  0.01233376,\n",
       "         0.00708083,  0.00594953,  0.0193153 ,  0.00763925,  0.00650031,\n",
       "         0.01613616,  0.01874757,  0.01291719,  0.01219758,  0.00304813,\n",
       "         0.00485176,  0.01354216,  0.02200034,  0.00377239,  0.00699306,\n",
       "         0.00503643,  0.00721296,  0.01001197,  0.00416043,  0.00526523,\n",
       "         0.00408465,  0.0065349 ,  0.02015107,  0.00637622,  0.01131909,\n",
       "         0.00681481,  0.00555064,  0.01033565,  0.00977571,  0.00599983,\n",
       "         0.00790501,  0.00534145,  0.00826216,  0.01192865,  0.010133  ,\n",
       "         0.00685717,  0.01126021,  0.01708028,  0.01894017,  0.00473224,\n",
       "         0.01209072,  0.00416408,  0.0128312 ,  0.01571565,  0.01345249,\n",
       "         0.01352553,  0.00444354,  0.00314646,  0.00655013,  0.00286633,\n",
       "         0.00617009,  0.0027627 ,  0.00226009,  0.00344364,  0.00312198,\n",
       "         0.0084564 ,  0.00217023,  0.01017039,  0.01029328,  0.01702924,\n",
       "         0.00887042,  0.01050285,  0.00596774,  0.00629055,  0.00540546,\n",
       "         0.00394346,  0.00865236,  0.01245289,  0.00949722,  0.01474378,\n",
       "         0.0053394 ,  0.01032586,  0.00484312,  0.00662359,  0.00680656,\n",
       "         0.00533655,  0.00921801,  0.00535937,  0.00682012,  0.02055703,\n",
       "         0.00680857,  0.00571566,  0.00378098,  0.0059403 ,  0.01272594,\n",
       "         0.00658935,  0.01727822,  0.00498133,  0.00683585,  0.00642642,\n",
       "         0.00956175,  0.00342103,  0.00513278,  0.0040592 ,  0.00380213,\n",
       "         0.01845801,  0.01237497,  0.01043892,  0.01169084,  0.01047063]], dtype=float32)"
      ]
     },
     "execution_count": 156,
     "metadata": {},
     "output_type": "execute_result"
    }
   ],
   "source": [
    "pred"
   ]
  },
  {
   "cell_type": "code",
   "execution_count": 157,
   "metadata": {},
   "outputs": [
    {
     "data": {
      "text/plain": [
       "array([27])"
      ]
     },
     "execution_count": 157,
     "metadata": {},
     "output_type": "execute_result"
    }
   ],
   "source": [
    "pred.argmax(axis=-1)"
   ]
  },
  {
   "cell_type": "code",
   "execution_count": 151,
   "metadata": {},
   "outputs": [
    {
     "data": {
      "text/plain": [
       "{'n02085620-Chihuahua': 0,\n",
       " 'n02085782-Japanese_spaniel': 1,\n",
       " 'n02085936-Maltese_dog': 2,\n",
       " 'n02086079-Pekinese': 3,\n",
       " 'n02086240-Shih-Tzu': 4,\n",
       " 'n02086646-Blenheim_spaniel': 5,\n",
       " 'n02086910-papillon': 6,\n",
       " 'n02087046-toy_terrier': 7,\n",
       " 'n02087394-Rhodesian_ridgeback': 8,\n",
       " 'n02088094-Afghan_hound': 9,\n",
       " 'n02088238-basset': 10,\n",
       " 'n02088364-beagle': 11,\n",
       " 'n02088466-bloodhound': 12,\n",
       " 'n02088632-bluetick': 13,\n",
       " 'n02089078-black-and-tan_coonhound': 14,\n",
       " 'n02089867-Walker_hound': 15,\n",
       " 'n02089973-English_foxhound': 16,\n",
       " 'n02090379-redbone': 17,\n",
       " 'n02090622-borzoi': 18,\n",
       " 'n02090721-Irish_wolfhound': 19,\n",
       " 'n02091032-Italian_greyhound': 20,\n",
       " 'n02091134-whippet': 21,\n",
       " 'n02091244-Ibizan_hound': 22,\n",
       " 'n02091467-Norwegian_elkhound': 23,\n",
       " 'n02091635-otterhound': 24,\n",
       " 'n02091831-Saluki': 25,\n",
       " 'n02092002-Scottish_deerhound': 26,\n",
       " 'n02092339-Weimaraner': 27,\n",
       " 'n02093256-Staffordshire_bullterrier': 28,\n",
       " 'n02093428-American_Staffordshire_terrier': 29,\n",
       " 'n02093647-Bedlington_terrier': 30,\n",
       " 'n02093754-Border_terrier': 31,\n",
       " 'n02093859-Kerry_blue_terrier': 32,\n",
       " 'n02093991-Irish_terrier': 33,\n",
       " 'n02094114-Norfolk_terrier': 34,\n",
       " 'n02094258-Norwich_terrier': 35,\n",
       " 'n02094433-Yorkshire_terrier': 36,\n",
       " 'n02095314-wire-haired_fox_terrier': 37,\n",
       " 'n02095570-Lakeland_terrier': 38,\n",
       " 'n02095889-Sealyham_terrier': 39,\n",
       " 'n02096051-Airedale': 40,\n",
       " 'n02096177-cairn': 41,\n",
       " 'n02096294-Australian_terrier': 42,\n",
       " 'n02096437-Dandie_Dinmont': 43,\n",
       " 'n02096585-Boston_bull': 44,\n",
       " 'n02097047-miniature_schnauzer': 45,\n",
       " 'n02097130-giant_schnauzer': 46,\n",
       " 'n02097209-standard_schnauzer': 47,\n",
       " 'n02097298-Scotch_terrier': 48,\n",
       " 'n02097474-Tibetan_terrier': 49,\n",
       " 'n02097658-silky_terrier': 50,\n",
       " 'n02098105-soft-coated_wheaten_terrier': 51,\n",
       " 'n02098286-West_Highland_white_terrier': 52,\n",
       " 'n02098413-Lhasa': 53,\n",
       " 'n02099267-flat-coated_retriever': 54,\n",
       " 'n02099429-curly-coated_retriever': 55,\n",
       " 'n02099601-golden_retriever': 56,\n",
       " 'n02099712-Labrador_retriever': 57,\n",
       " 'n02099849-Chesapeake_Bay_retriever': 58,\n",
       " 'n02100236-German_short-haired_pointer': 59,\n",
       " 'n02100583-vizsla': 60,\n",
       " 'n02100735-English_setter': 61,\n",
       " 'n02100877-Irish_setter': 62,\n",
       " 'n02101006-Gordon_setter': 63,\n",
       " 'n02101388-Brittany_spaniel': 64,\n",
       " 'n02101556-clumber': 65,\n",
       " 'n02102040-English_springer': 66,\n",
       " 'n02102177-Welsh_springer_spaniel': 67,\n",
       " 'n02102318-cocker_spaniel': 68,\n",
       " 'n02102480-Sussex_spaniel': 69,\n",
       " 'n02102973-Irish_water_spaniel': 70,\n",
       " 'n02104029-kuvasz': 71,\n",
       " 'n02104365-schipperke': 72,\n",
       " 'n02105056-groenendael': 73,\n",
       " 'n02105162-malinois': 74,\n",
       " 'n02105251-briard': 75,\n",
       " 'n02105505-komondor': 76,\n",
       " 'n02105641-Old_English_sheepdog': 77,\n",
       " 'n02105855-Shetland_sheepdog': 78,\n",
       " 'n02106030-collie': 79,\n",
       " 'n02106166-Border_collie': 80,\n",
       " 'n02106382-Bouvier_des_Flandres': 81,\n",
       " 'n02106550-Rottweiler': 82,\n",
       " 'n02106662-German_shepherd': 83,\n",
       " 'n02107142-Doberman': 84,\n",
       " 'n02107312-miniature_pinscher': 85,\n",
       " 'n02107574-Greater_Swiss_Mountain_dog': 86,\n",
       " 'n02107683-Bernese_mountain_dog': 87,\n",
       " 'n02107908-Appenzeller': 88,\n",
       " 'n02108000-EntleBucher': 89,\n",
       " 'n02108089-boxer': 90,\n",
       " 'n02108422-bull_mastiff': 91,\n",
       " 'n02108551-Tibetan_mastiff': 92,\n",
       " 'n02108915-French_bulldog': 93,\n",
       " 'n02109047-Great_Dane': 94,\n",
       " 'n02109525-Saint_Bernard': 95,\n",
       " 'n02109961-Eskimo_dog': 96,\n",
       " 'n02110063-malamute': 97,\n",
       " 'n02110185-Siberian_husky': 98,\n",
       " 'n02110627-affenpinscher': 99,\n",
       " 'n02110806-basenji': 100,\n",
       " 'n02110958-pug': 101,\n",
       " 'n02111129-Leonberg': 102,\n",
       " 'n02111277-Newfoundland': 103,\n",
       " 'n02111500-Great_Pyrenees': 104,\n",
       " 'n02111889-Samoyed': 105,\n",
       " 'n02112018-Pomeranian': 106,\n",
       " 'n02112137-chow': 107,\n",
       " 'n02112350-keeshond': 108,\n",
       " 'n02112706-Brabancon_griffon': 109,\n",
       " 'n02113023-Pembroke': 110,\n",
       " 'n02113186-Cardigan': 111,\n",
       " 'n02113799-standard_poodle': 112,\n",
       " 'n02113978-Mexican_hairless': 113,\n",
       " 'not_dog': 114}"
      ]
     },
     "execution_count": 151,
     "metadata": {},
     "output_type": "execute_result"
    }
   ],
   "source": [
    "validation_generator.class_indices"
   ]
  },
  {
   "cell_type": "code",
   "execution_count": 158,
   "metadata": {},
   "outputs": [
    {
     "name": "stdout",
     "output_type": "stream",
     "text": [
      "____________________________________________________________________________________________________\n",
      "Layer (type)                     Output Shape          Param #     Connected to                     \n",
      "====================================================================================================\n",
      "input_1 (InputLayer)             (None, 299, 299, 3)   0                                            \n",
      "____________________________________________________________________________________________________\n",
      "block1_conv1 (Conv2D)            (None, 149, 149, 32)  864         input_1[0][0]                    \n",
      "____________________________________________________________________________________________________\n",
      "block1_conv1_bn (BatchNormalizat (None, 149, 149, 32)  128         block1_conv1[0][0]               \n",
      "____________________________________________________________________________________________________\n",
      "block1_conv1_act (Activation)    (None, 149, 149, 32)  0           block1_conv1_bn[0][0]            \n",
      "____________________________________________________________________________________________________\n",
      "block1_conv2 (Conv2D)            (None, 147, 147, 64)  18432       block1_conv1_act[0][0]           \n",
      "____________________________________________________________________________________________________\n",
      "block1_conv2_bn (BatchNormalizat (None, 147, 147, 64)  256         block1_conv2[0][0]               \n",
      "____________________________________________________________________________________________________\n",
      "block1_conv2_act (Activation)    (None, 147, 147, 64)  0           block1_conv2_bn[0][0]            \n",
      "____________________________________________________________________________________________________\n",
      "block2_sepconv1 (SeparableConv2D (None, 147, 147, 128) 8768        block1_conv2_act[0][0]           \n",
      "____________________________________________________________________________________________________\n",
      "block2_sepconv1_bn (BatchNormali (None, 147, 147, 128) 512         block2_sepconv1[0][0]            \n",
      "____________________________________________________________________________________________________\n",
      "block2_sepconv2_act (Activation) (None, 147, 147, 128) 0           block2_sepconv1_bn[0][0]         \n",
      "____________________________________________________________________________________________________\n",
      "block2_sepconv2 (SeparableConv2D (None, 147, 147, 128) 17536       block2_sepconv2_act[0][0]        \n",
      "____________________________________________________________________________________________________\n",
      "block2_sepconv2_bn (BatchNormali (None, 147, 147, 128) 512         block2_sepconv2[0][0]            \n",
      "____________________________________________________________________________________________________\n",
      "conv2d_1 (Conv2D)                (None, 74, 74, 128)   8192        block1_conv2_act[0][0]           \n",
      "____________________________________________________________________________________________________\n",
      "block2_pool (MaxPooling2D)       (None, 74, 74, 128)   0           block2_sepconv2_bn[0][0]         \n",
      "____________________________________________________________________________________________________\n",
      "batch_normalization_1 (BatchNorm (None, 74, 74, 128)   512         conv2d_1[0][0]                   \n",
      "____________________________________________________________________________________________________\n",
      "add_1 (Add)                      (None, 74, 74, 128)   0           block2_pool[0][0]                \n",
      "                                                                   batch_normalization_1[0][0]      \n",
      "____________________________________________________________________________________________________\n",
      "block3_sepconv1_act (Activation) (None, 74, 74, 128)   0           add_1[0][0]                      \n",
      "____________________________________________________________________________________________________\n",
      "block3_sepconv1 (SeparableConv2D (None, 74, 74, 256)   33920       block3_sepconv1_act[0][0]        \n",
      "____________________________________________________________________________________________________\n",
      "block3_sepconv1_bn (BatchNormali (None, 74, 74, 256)   1024        block3_sepconv1[0][0]            \n",
      "____________________________________________________________________________________________________\n",
      "block3_sepconv2_act (Activation) (None, 74, 74, 256)   0           block3_sepconv1_bn[0][0]         \n",
      "____________________________________________________________________________________________________\n",
      "block3_sepconv2 (SeparableConv2D (None, 74, 74, 256)   67840       block3_sepconv2_act[0][0]        \n",
      "____________________________________________________________________________________________________\n",
      "block3_sepconv2_bn (BatchNormali (None, 74, 74, 256)   1024        block3_sepconv2[0][0]            \n",
      "____________________________________________________________________________________________________\n",
      "conv2d_2 (Conv2D)                (None, 37, 37, 256)   32768       add_1[0][0]                      \n",
      "____________________________________________________________________________________________________\n",
      "block3_pool (MaxPooling2D)       (None, 37, 37, 256)   0           block3_sepconv2_bn[0][0]         \n",
      "____________________________________________________________________________________________________\n",
      "batch_normalization_2 (BatchNorm (None, 37, 37, 256)   1024        conv2d_2[0][0]                   \n",
      "____________________________________________________________________________________________________\n",
      "add_2 (Add)                      (None, 37, 37, 256)   0           block3_pool[0][0]                \n",
      "                                                                   batch_normalization_2[0][0]      \n",
      "____________________________________________________________________________________________________\n",
      "block4_sepconv1_act (Activation) (None, 37, 37, 256)   0           add_2[0][0]                      \n",
      "____________________________________________________________________________________________________\n",
      "block4_sepconv1 (SeparableConv2D (None, 37, 37, 728)   188672      block4_sepconv1_act[0][0]        \n",
      "____________________________________________________________________________________________________\n",
      "block4_sepconv1_bn (BatchNormali (None, 37, 37, 728)   2912        block4_sepconv1[0][0]            \n",
      "____________________________________________________________________________________________________\n",
      "block4_sepconv2_act (Activation) (None, 37, 37, 728)   0           block4_sepconv1_bn[0][0]         \n",
      "____________________________________________________________________________________________________\n",
      "block4_sepconv2 (SeparableConv2D (None, 37, 37, 728)   536536      block4_sepconv2_act[0][0]        \n",
      "____________________________________________________________________________________________________\n",
      "block4_sepconv2_bn (BatchNormali (None, 37, 37, 728)   2912        block4_sepconv2[0][0]            \n",
      "____________________________________________________________________________________________________\n",
      "conv2d_3 (Conv2D)                (None, 19, 19, 728)   186368      add_2[0][0]                      \n",
      "____________________________________________________________________________________________________\n",
      "block4_pool (MaxPooling2D)       (None, 19, 19, 728)   0           block4_sepconv2_bn[0][0]         \n",
      "____________________________________________________________________________________________________\n",
      "batch_normalization_3 (BatchNorm (None, 19, 19, 728)   2912        conv2d_3[0][0]                   \n",
      "____________________________________________________________________________________________________\n",
      "add_3 (Add)                      (None, 19, 19, 728)   0           block4_pool[0][0]                \n",
      "                                                                   batch_normalization_3[0][0]      \n",
      "____________________________________________________________________________________________________\n",
      "block5_sepconv1_act (Activation) (None, 19, 19, 728)   0           add_3[0][0]                      \n",
      "____________________________________________________________________________________________________\n",
      "block5_sepconv1 (SeparableConv2D (None, 19, 19, 728)   536536      block5_sepconv1_act[0][0]        \n",
      "____________________________________________________________________________________________________\n",
      "block5_sepconv1_bn (BatchNormali (None, 19, 19, 728)   2912        block5_sepconv1[0][0]            \n",
      "____________________________________________________________________________________________________\n",
      "block5_sepconv2_act (Activation) (None, 19, 19, 728)   0           block5_sepconv1_bn[0][0]         \n",
      "____________________________________________________________________________________________________\n",
      "block5_sepconv2 (SeparableConv2D (None, 19, 19, 728)   536536      block5_sepconv2_act[0][0]        \n",
      "____________________________________________________________________________________________________\n",
      "block5_sepconv2_bn (BatchNormali (None, 19, 19, 728)   2912        block5_sepconv2[0][0]            \n",
      "____________________________________________________________________________________________________\n",
      "block5_sepconv3_act (Activation) (None, 19, 19, 728)   0           block5_sepconv2_bn[0][0]         \n",
      "____________________________________________________________________________________________________\n",
      "block5_sepconv3 (SeparableConv2D (None, 19, 19, 728)   536536      block5_sepconv3_act[0][0]        \n",
      "____________________________________________________________________________________________________\n",
      "block5_sepconv3_bn (BatchNormali (None, 19, 19, 728)   2912        block5_sepconv3[0][0]            \n",
      "____________________________________________________________________________________________________\n",
      "add_4 (Add)                      (None, 19, 19, 728)   0           block5_sepconv3_bn[0][0]         \n",
      "                                                                   add_3[0][0]                      \n",
      "____________________________________________________________________________________________________\n",
      "block6_sepconv1_act (Activation) (None, 19, 19, 728)   0           add_4[0][0]                      \n",
      "____________________________________________________________________________________________________\n",
      "block6_sepconv1 (SeparableConv2D (None, 19, 19, 728)   536536      block6_sepconv1_act[0][0]        \n",
      "____________________________________________________________________________________________________\n",
      "block6_sepconv1_bn (BatchNormali (None, 19, 19, 728)   2912        block6_sepconv1[0][0]            \n",
      "____________________________________________________________________________________________________\n",
      "block6_sepconv2_act (Activation) (None, 19, 19, 728)   0           block6_sepconv1_bn[0][0]         \n",
      "____________________________________________________________________________________________________\n",
      "block6_sepconv2 (SeparableConv2D (None, 19, 19, 728)   536536      block6_sepconv2_act[0][0]        \n",
      "____________________________________________________________________________________________________\n",
      "block6_sepconv2_bn (BatchNormali (None, 19, 19, 728)   2912        block6_sepconv2[0][0]            \n",
      "____________________________________________________________________________________________________\n",
      "block6_sepconv3_act (Activation) (None, 19, 19, 728)   0           block6_sepconv2_bn[0][0]         \n",
      "____________________________________________________________________________________________________\n",
      "block6_sepconv3 (SeparableConv2D (None, 19, 19, 728)   536536      block6_sepconv3_act[0][0]        \n",
      "____________________________________________________________________________________________________\n",
      "block6_sepconv3_bn (BatchNormali (None, 19, 19, 728)   2912        block6_sepconv3[0][0]            \n",
      "____________________________________________________________________________________________________\n",
      "add_5 (Add)                      (None, 19, 19, 728)   0           block6_sepconv3_bn[0][0]         \n",
      "                                                                   add_4[0][0]                      \n",
      "____________________________________________________________________________________________________\n",
      "block7_sepconv1_act (Activation) (None, 19, 19, 728)   0           add_5[0][0]                      \n",
      "____________________________________________________________________________________________________\n",
      "block7_sepconv1 (SeparableConv2D (None, 19, 19, 728)   536536      block7_sepconv1_act[0][0]        \n",
      "____________________________________________________________________________________________________\n",
      "block7_sepconv1_bn (BatchNormali (None, 19, 19, 728)   2912        block7_sepconv1[0][0]            \n",
      "____________________________________________________________________________________________________\n",
      "block7_sepconv2_act (Activation) (None, 19, 19, 728)   0           block7_sepconv1_bn[0][0]         \n",
      "____________________________________________________________________________________________________\n",
      "block7_sepconv2 (SeparableConv2D (None, 19, 19, 728)   536536      block7_sepconv2_act[0][0]        \n",
      "____________________________________________________________________________________________________\n",
      "block7_sepconv2_bn (BatchNormali (None, 19, 19, 728)   2912        block7_sepconv2[0][0]            \n",
      "____________________________________________________________________________________________________\n",
      "block7_sepconv3_act (Activation) (None, 19, 19, 728)   0           block7_sepconv2_bn[0][0]         \n",
      "____________________________________________________________________________________________________\n",
      "block7_sepconv3 (SeparableConv2D (None, 19, 19, 728)   536536      block7_sepconv3_act[0][0]        \n",
      "____________________________________________________________________________________________________\n",
      "block7_sepconv3_bn (BatchNormali (None, 19, 19, 728)   2912        block7_sepconv3[0][0]            \n",
      "____________________________________________________________________________________________________\n",
      "add_6 (Add)                      (None, 19, 19, 728)   0           block7_sepconv3_bn[0][0]         \n",
      "                                                                   add_5[0][0]                      \n",
      "____________________________________________________________________________________________________\n",
      "block8_sepconv1_act (Activation) (None, 19, 19, 728)   0           add_6[0][0]                      \n",
      "____________________________________________________________________________________________________\n",
      "block8_sepconv1 (SeparableConv2D (None, 19, 19, 728)   536536      block8_sepconv1_act[0][0]        \n",
      "____________________________________________________________________________________________________\n",
      "block8_sepconv1_bn (BatchNormali (None, 19, 19, 728)   2912        block8_sepconv1[0][0]            \n",
      "____________________________________________________________________________________________________\n",
      "block8_sepconv2_act (Activation) (None, 19, 19, 728)   0           block8_sepconv1_bn[0][0]         \n",
      "____________________________________________________________________________________________________\n",
      "block8_sepconv2 (SeparableConv2D (None, 19, 19, 728)   536536      block8_sepconv2_act[0][0]        \n",
      "____________________________________________________________________________________________________\n",
      "block8_sepconv2_bn (BatchNormali (None, 19, 19, 728)   2912        block8_sepconv2[0][0]            \n",
      "____________________________________________________________________________________________________\n",
      "block8_sepconv3_act (Activation) (None, 19, 19, 728)   0           block8_sepconv2_bn[0][0]         \n",
      "____________________________________________________________________________________________________\n",
      "block8_sepconv3 (SeparableConv2D (None, 19, 19, 728)   536536      block8_sepconv3_act[0][0]        \n",
      "____________________________________________________________________________________________________\n",
      "block8_sepconv3_bn (BatchNormali (None, 19, 19, 728)   2912        block8_sepconv3[0][0]            \n",
      "____________________________________________________________________________________________________\n",
      "add_7 (Add)                      (None, 19, 19, 728)   0           block8_sepconv3_bn[0][0]         \n",
      "                                                                   add_6[0][0]                      \n",
      "____________________________________________________________________________________________________\n",
      "block9_sepconv1_act (Activation) (None, 19, 19, 728)   0           add_7[0][0]                      \n",
      "____________________________________________________________________________________________________\n",
      "block9_sepconv1 (SeparableConv2D (None, 19, 19, 728)   536536      block9_sepconv1_act[0][0]        \n",
      "____________________________________________________________________________________________________\n",
      "block9_sepconv1_bn (BatchNormali (None, 19, 19, 728)   2912        block9_sepconv1[0][0]            \n",
      "____________________________________________________________________________________________________\n",
      "block9_sepconv2_act (Activation) (None, 19, 19, 728)   0           block9_sepconv1_bn[0][0]         \n",
      "____________________________________________________________________________________________________\n",
      "block9_sepconv2 (SeparableConv2D (None, 19, 19, 728)   536536      block9_sepconv2_act[0][0]        \n",
      "____________________________________________________________________________________________________\n",
      "block9_sepconv2_bn (BatchNormali (None, 19, 19, 728)   2912        block9_sepconv2[0][0]            \n",
      "____________________________________________________________________________________________________\n",
      "block9_sepconv3_act (Activation) (None, 19, 19, 728)   0           block9_sepconv2_bn[0][0]         \n",
      "____________________________________________________________________________________________________\n",
      "block9_sepconv3 (SeparableConv2D (None, 19, 19, 728)   536536      block9_sepconv3_act[0][0]        \n",
      "____________________________________________________________________________________________________\n",
      "block9_sepconv3_bn (BatchNormali (None, 19, 19, 728)   2912        block9_sepconv3[0][0]            \n",
      "____________________________________________________________________________________________________\n",
      "add_8 (Add)                      (None, 19, 19, 728)   0           block9_sepconv3_bn[0][0]         \n",
      "                                                                   add_7[0][0]                      \n",
      "____________________________________________________________________________________________________\n",
      "block10_sepconv1_act (Activation (None, 19, 19, 728)   0           add_8[0][0]                      \n",
      "____________________________________________________________________________________________________\n",
      "block10_sepconv1 (SeparableConv2 (None, 19, 19, 728)   536536      block10_sepconv1_act[0][0]       \n",
      "____________________________________________________________________________________________________\n",
      "block10_sepconv1_bn (BatchNormal (None, 19, 19, 728)   2912        block10_sepconv1[0][0]           \n",
      "____________________________________________________________________________________________________\n",
      "block10_sepconv2_act (Activation (None, 19, 19, 728)   0           block10_sepconv1_bn[0][0]        \n",
      "____________________________________________________________________________________________________\n",
      "block10_sepconv2 (SeparableConv2 (None, 19, 19, 728)   536536      block10_sepconv2_act[0][0]       \n",
      "____________________________________________________________________________________________________\n",
      "block10_sepconv2_bn (BatchNormal (None, 19, 19, 728)   2912        block10_sepconv2[0][0]           \n",
      "____________________________________________________________________________________________________\n",
      "block10_sepconv3_act (Activation (None, 19, 19, 728)   0           block10_sepconv2_bn[0][0]        \n",
      "____________________________________________________________________________________________________\n",
      "block10_sepconv3 (SeparableConv2 (None, 19, 19, 728)   536536      block10_sepconv3_act[0][0]       \n",
      "____________________________________________________________________________________________________\n",
      "block10_sepconv3_bn (BatchNormal (None, 19, 19, 728)   2912        block10_sepconv3[0][0]           \n",
      "____________________________________________________________________________________________________\n",
      "add_9 (Add)                      (None, 19, 19, 728)   0           block10_sepconv3_bn[0][0]        \n",
      "                                                                   add_8[0][0]                      \n",
      "____________________________________________________________________________________________________\n",
      "block11_sepconv1_act (Activation (None, 19, 19, 728)   0           add_9[0][0]                      \n",
      "____________________________________________________________________________________________________\n",
      "block11_sepconv1 (SeparableConv2 (None, 19, 19, 728)   536536      block11_sepconv1_act[0][0]       \n",
      "____________________________________________________________________________________________________\n",
      "block11_sepconv1_bn (BatchNormal (None, 19, 19, 728)   2912        block11_sepconv1[0][0]           \n",
      "____________________________________________________________________________________________________\n",
      "block11_sepconv2_act (Activation (None, 19, 19, 728)   0           block11_sepconv1_bn[0][0]        \n",
      "____________________________________________________________________________________________________\n",
      "block11_sepconv2 (SeparableConv2 (None, 19, 19, 728)   536536      block11_sepconv2_act[0][0]       \n",
      "____________________________________________________________________________________________________\n",
      "block11_sepconv2_bn (BatchNormal (None, 19, 19, 728)   2912        block11_sepconv2[0][0]           \n",
      "____________________________________________________________________________________________________\n",
      "block11_sepconv3_act (Activation (None, 19, 19, 728)   0           block11_sepconv2_bn[0][0]        \n",
      "____________________________________________________________________________________________________\n",
      "block11_sepconv3 (SeparableConv2 (None, 19, 19, 728)   536536      block11_sepconv3_act[0][0]       \n",
      "____________________________________________________________________________________________________\n",
      "block11_sepconv3_bn (BatchNormal (None, 19, 19, 728)   2912        block11_sepconv3[0][0]           \n",
      "____________________________________________________________________________________________________\n",
      "add_10 (Add)                     (None, 19, 19, 728)   0           block11_sepconv3_bn[0][0]        \n",
      "                                                                   add_9[0][0]                      \n",
      "____________________________________________________________________________________________________\n",
      "block12_sepconv1_act (Activation (None, 19, 19, 728)   0           add_10[0][0]                     \n",
      "____________________________________________________________________________________________________\n",
      "block12_sepconv1 (SeparableConv2 (None, 19, 19, 728)   536536      block12_sepconv1_act[0][0]       \n",
      "____________________________________________________________________________________________________\n",
      "block12_sepconv1_bn (BatchNormal (None, 19, 19, 728)   2912        block12_sepconv1[0][0]           \n",
      "____________________________________________________________________________________________________\n",
      "block12_sepconv2_act (Activation (None, 19, 19, 728)   0           block12_sepconv1_bn[0][0]        \n",
      "____________________________________________________________________________________________________\n",
      "block12_sepconv2 (SeparableConv2 (None, 19, 19, 728)   536536      block12_sepconv2_act[0][0]       \n",
      "____________________________________________________________________________________________________\n",
      "block12_sepconv2_bn (BatchNormal (None, 19, 19, 728)   2912        block12_sepconv2[0][0]           \n",
      "____________________________________________________________________________________________________\n",
      "block12_sepconv3_act (Activation (None, 19, 19, 728)   0           block12_sepconv2_bn[0][0]        \n",
      "____________________________________________________________________________________________________\n",
      "block12_sepconv3 (SeparableConv2 (None, 19, 19, 728)   536536      block12_sepconv3_act[0][0]       \n",
      "____________________________________________________________________________________________________\n",
      "block12_sepconv3_bn (BatchNormal (None, 19, 19, 728)   2912        block12_sepconv3[0][0]           \n",
      "____________________________________________________________________________________________________\n",
      "add_11 (Add)                     (None, 19, 19, 728)   0           block12_sepconv3_bn[0][0]        \n",
      "                                                                   add_10[0][0]                     \n",
      "____________________________________________________________________________________________________\n",
      "block13_sepconv1_act (Activation (None, 19, 19, 728)   0           add_11[0][0]                     \n",
      "____________________________________________________________________________________________________\n",
      "block13_sepconv1 (SeparableConv2 (None, 19, 19, 728)   536536      block13_sepconv1_act[0][0]       \n",
      "____________________________________________________________________________________________________\n",
      "block13_sepconv1_bn (BatchNormal (None, 19, 19, 728)   2912        block13_sepconv1[0][0]           \n",
      "____________________________________________________________________________________________________\n",
      "block13_sepconv2_act (Activation (None, 19, 19, 728)   0           block13_sepconv1_bn[0][0]        \n",
      "____________________________________________________________________________________________________\n",
      "block13_sepconv2 (SeparableConv2 (None, 19, 19, 1024)  752024      block13_sepconv2_act[0][0]       \n",
      "____________________________________________________________________________________________________\n",
      "block13_sepconv2_bn (BatchNormal (None, 19, 19, 1024)  4096        block13_sepconv2[0][0]           \n",
      "____________________________________________________________________________________________________\n",
      "conv2d_4 (Conv2D)                (None, 10, 10, 1024)  745472      add_11[0][0]                     \n",
      "____________________________________________________________________________________________________\n",
      "block13_pool (MaxPooling2D)      (None, 10, 10, 1024)  0           block13_sepconv2_bn[0][0]        \n",
      "____________________________________________________________________________________________________\n",
      "batch_normalization_4 (BatchNorm (None, 10, 10, 1024)  4096        conv2d_4[0][0]                   \n",
      "____________________________________________________________________________________________________\n",
      "add_12 (Add)                     (None, 10, 10, 1024)  0           block13_pool[0][0]               \n",
      "                                                                   batch_normalization_4[0][0]      \n",
      "____________________________________________________________________________________________________\n",
      "block14_sepconv1 (SeparableConv2 (None, 10, 10, 1536)  1582080     add_12[0][0]                     \n",
      "____________________________________________________________________________________________________\n",
      "block14_sepconv1_bn (BatchNormal (None, 10, 10, 1536)  6144        block14_sepconv1[0][0]           \n",
      "____________________________________________________________________________________________________\n",
      "block14_sepconv1_act (Activation (None, 10, 10, 1536)  0           block14_sepconv1_bn[0][0]        \n",
      "____________________________________________________________________________________________________\n",
      "block14_sepconv2 (SeparableConv2 (None, 10, 10, 2048)  3159552     block14_sepconv1_act[0][0]       \n",
      "____________________________________________________________________________________________________\n",
      "block14_sepconv2_bn (BatchNormal (None, 10, 10, 2048)  8192        block14_sepconv2[0][0]           \n",
      "____________________________________________________________________________________________________\n",
      "block14_sepconv2_act (Activation (None, 10, 10, 2048)  0           block14_sepconv2_bn[0][0]        \n",
      "____________________________________________________________________________________________________\n",
      "global_average_pooling2d_2 (Glob (None, 2048)          0           block14_sepconv2_act[0][0]       \n",
      "____________________________________________________________________________________________________\n",
      "dense_2 (Dense)                  (None, 1000)          2049000     global_average_pooling2d_2[0][0] \n",
      "____________________________________________________________________________________________________\n",
      "categories_dense2 (Dense)        (None, 115)           115115      dense_2[0][0]                    \n",
      "____________________________________________________________________________________________________\n",
      "activation_2 (Activation)        (None, 115)           0           categories_dense2[0][0]          \n",
      "====================================================================================================\n",
      "Total params: 23,025,595\n",
      "Trainable params: 22,971,067\n",
      "Non-trainable params: 54,528\n",
      "____________________________________________________________________________________________________\n"
     ]
    }
   ],
   "source": [
    "model.summary()"
   ]
  },
  {
   "cell_type": "code",
   "execution_count": 2,
   "metadata": {
    "collapsed": true
   },
   "outputs": [],
   "source": [
    "model = load_model('xbreeds_model.h5')"
   ]
  },
  {
   "cell_type": "code",
   "execution_count": 6,
   "metadata": {},
   "outputs": [
    {
     "name": "stdout",
     "output_type": "stream",
     "text": [
      "____________________________________________________________________________________________________\n",
      "Layer (type)                     Output Shape          Param #     Connected to                     \n",
      "====================================================================================================\n",
      "input_1 (InputLayer)             (None, 299, 299, 3)   0                                            \n",
      "____________________________________________________________________________________________________\n",
      "block1_conv1 (Conv2D)            (None, 149, 149, 32)  864         input_1[0][0]                    \n",
      "____________________________________________________________________________________________________\n",
      "block1_conv1_bn (BatchNormalizat (None, 149, 149, 32)  128         block1_conv1[0][0]               \n",
      "____________________________________________________________________________________________________\n",
      "block1_conv1_act (Activation)    (None, 149, 149, 32)  0           block1_conv1_bn[0][0]            \n",
      "____________________________________________________________________________________________________\n",
      "block1_conv2 (Conv2D)            (None, 147, 147, 64)  18432       block1_conv1_act[0][0]           \n",
      "____________________________________________________________________________________________________\n",
      "block1_conv2_bn (BatchNormalizat (None, 147, 147, 64)  256         block1_conv2[0][0]               \n",
      "____________________________________________________________________________________________________\n",
      "block1_conv2_act (Activation)    (None, 147, 147, 64)  0           block1_conv2_bn[0][0]            \n",
      "____________________________________________________________________________________________________\n",
      "block2_sepconv1 (SeparableConv2D (None, 147, 147, 128) 8768        block1_conv2_act[0][0]           \n",
      "____________________________________________________________________________________________________\n",
      "block2_sepconv1_bn (BatchNormali (None, 147, 147, 128) 512         block2_sepconv1[0][0]            \n",
      "____________________________________________________________________________________________________\n",
      "block2_sepconv2_act (Activation) (None, 147, 147, 128) 0           block2_sepconv1_bn[0][0]         \n",
      "____________________________________________________________________________________________________\n",
      "block2_sepconv2 (SeparableConv2D (None, 147, 147, 128) 17536       block2_sepconv2_act[0][0]        \n",
      "____________________________________________________________________________________________________\n",
      "block2_sepconv2_bn (BatchNormali (None, 147, 147, 128) 512         block2_sepconv2[0][0]            \n",
      "____________________________________________________________________________________________________\n",
      "conv2d_1 (Conv2D)                (None, 74, 74, 128)   8192        block1_conv2_act[0][0]           \n",
      "____________________________________________________________________________________________________\n",
      "block2_pool (MaxPooling2D)       (None, 74, 74, 128)   0           block2_sepconv2_bn[0][0]         \n",
      "____________________________________________________________________________________________________\n",
      "batch_normalization_1 (BatchNorm (None, 74, 74, 128)   512         conv2d_1[0][0]                   \n",
      "____________________________________________________________________________________________________\n",
      "add_1 (Add)                      (None, 74, 74, 128)   0           block2_pool[0][0]                \n",
      "                                                                   batch_normalization_1[0][0]      \n",
      "____________________________________________________________________________________________________\n",
      "block3_sepconv1_act (Activation) (None, 74, 74, 128)   0           add_1[0][0]                      \n",
      "____________________________________________________________________________________________________\n",
      "block3_sepconv1 (SeparableConv2D (None, 74, 74, 256)   33920       block3_sepconv1_act[0][0]        \n",
      "____________________________________________________________________________________________________\n",
      "block3_sepconv1_bn (BatchNormali (None, 74, 74, 256)   1024        block3_sepconv1[0][0]            \n",
      "____________________________________________________________________________________________________\n",
      "block3_sepconv2_act (Activation) (None, 74, 74, 256)   0           block3_sepconv1_bn[0][0]         \n",
      "____________________________________________________________________________________________________\n",
      "block3_sepconv2 (SeparableConv2D (None, 74, 74, 256)   67840       block3_sepconv2_act[0][0]        \n",
      "____________________________________________________________________________________________________\n",
      "block3_sepconv2_bn (BatchNormali (None, 74, 74, 256)   1024        block3_sepconv2[0][0]            \n",
      "____________________________________________________________________________________________________\n",
      "conv2d_2 (Conv2D)                (None, 37, 37, 256)   32768       add_1[0][0]                      \n",
      "____________________________________________________________________________________________________\n",
      "block3_pool (MaxPooling2D)       (None, 37, 37, 256)   0           block3_sepconv2_bn[0][0]         \n",
      "____________________________________________________________________________________________________\n",
      "batch_normalization_2 (BatchNorm (None, 37, 37, 256)   1024        conv2d_2[0][0]                   \n",
      "____________________________________________________________________________________________________\n",
      "add_2 (Add)                      (None, 37, 37, 256)   0           block3_pool[0][0]                \n",
      "                                                                   batch_normalization_2[0][0]      \n",
      "____________________________________________________________________________________________________\n",
      "block4_sepconv1_act (Activation) (None, 37, 37, 256)   0           add_2[0][0]                      \n",
      "____________________________________________________________________________________________________\n",
      "block4_sepconv1 (SeparableConv2D (None, 37, 37, 728)   188672      block4_sepconv1_act[0][0]        \n",
      "____________________________________________________________________________________________________\n",
      "block4_sepconv1_bn (BatchNormali (None, 37, 37, 728)   2912        block4_sepconv1[0][0]            \n",
      "____________________________________________________________________________________________________\n",
      "block4_sepconv2_act (Activation) (None, 37, 37, 728)   0           block4_sepconv1_bn[0][0]         \n",
      "____________________________________________________________________________________________________\n",
      "block4_sepconv2 (SeparableConv2D (None, 37, 37, 728)   536536      block4_sepconv2_act[0][0]        \n",
      "____________________________________________________________________________________________________\n",
      "block4_sepconv2_bn (BatchNormali (None, 37, 37, 728)   2912        block4_sepconv2[0][0]            \n",
      "____________________________________________________________________________________________________\n",
      "conv2d_3 (Conv2D)                (None, 19, 19, 728)   186368      add_2[0][0]                      \n",
      "____________________________________________________________________________________________________\n",
      "block4_pool (MaxPooling2D)       (None, 19, 19, 728)   0           block4_sepconv2_bn[0][0]         \n",
      "____________________________________________________________________________________________________\n",
      "batch_normalization_3 (BatchNorm (None, 19, 19, 728)   2912        conv2d_3[0][0]                   \n",
      "____________________________________________________________________________________________________\n",
      "add_3 (Add)                      (None, 19, 19, 728)   0           block4_pool[0][0]                \n",
      "                                                                   batch_normalization_3[0][0]      \n",
      "____________________________________________________________________________________________________\n",
      "block5_sepconv1_act (Activation) (None, 19, 19, 728)   0           add_3[0][0]                      \n",
      "____________________________________________________________________________________________________\n",
      "block5_sepconv1 (SeparableConv2D (None, 19, 19, 728)   536536      block5_sepconv1_act[0][0]        \n",
      "____________________________________________________________________________________________________\n",
      "block5_sepconv1_bn (BatchNormali (None, 19, 19, 728)   2912        block5_sepconv1[0][0]            \n",
      "____________________________________________________________________________________________________\n",
      "block5_sepconv2_act (Activation) (None, 19, 19, 728)   0           block5_sepconv1_bn[0][0]         \n",
      "____________________________________________________________________________________________________\n",
      "block5_sepconv2 (SeparableConv2D (None, 19, 19, 728)   536536      block5_sepconv2_act[0][0]        \n",
      "____________________________________________________________________________________________________\n",
      "block5_sepconv2_bn (BatchNormali (None, 19, 19, 728)   2912        block5_sepconv2[0][0]            \n",
      "____________________________________________________________________________________________________\n",
      "block5_sepconv3_act (Activation) (None, 19, 19, 728)   0           block5_sepconv2_bn[0][0]         \n",
      "____________________________________________________________________________________________________\n",
      "block5_sepconv3 (SeparableConv2D (None, 19, 19, 728)   536536      block5_sepconv3_act[0][0]        \n",
      "____________________________________________________________________________________________________\n",
      "block5_sepconv3_bn (BatchNormali (None, 19, 19, 728)   2912        block5_sepconv3[0][0]            \n",
      "____________________________________________________________________________________________________\n",
      "add_4 (Add)                      (None, 19, 19, 728)   0           block5_sepconv3_bn[0][0]         \n",
      "                                                                   add_3[0][0]                      \n",
      "____________________________________________________________________________________________________\n",
      "block6_sepconv1_act (Activation) (None, 19, 19, 728)   0           add_4[0][0]                      \n",
      "____________________________________________________________________________________________________\n",
      "block6_sepconv1 (SeparableConv2D (None, 19, 19, 728)   536536      block6_sepconv1_act[0][0]        \n",
      "____________________________________________________________________________________________________\n",
      "block6_sepconv1_bn (BatchNormali (None, 19, 19, 728)   2912        block6_sepconv1[0][0]            \n",
      "____________________________________________________________________________________________________\n",
      "block6_sepconv2_act (Activation) (None, 19, 19, 728)   0           block6_sepconv1_bn[0][0]         \n",
      "____________________________________________________________________________________________________\n",
      "block6_sepconv2 (SeparableConv2D (None, 19, 19, 728)   536536      block6_sepconv2_act[0][0]        \n",
      "____________________________________________________________________________________________________\n",
      "block6_sepconv2_bn (BatchNormali (None, 19, 19, 728)   2912        block6_sepconv2[0][0]            \n",
      "____________________________________________________________________________________________________\n",
      "block6_sepconv3_act (Activation) (None, 19, 19, 728)   0           block6_sepconv2_bn[0][0]         \n",
      "____________________________________________________________________________________________________\n",
      "block6_sepconv3 (SeparableConv2D (None, 19, 19, 728)   536536      block6_sepconv3_act[0][0]        \n",
      "____________________________________________________________________________________________________\n",
      "block6_sepconv3_bn (BatchNormali (None, 19, 19, 728)   2912        block6_sepconv3[0][0]            \n",
      "____________________________________________________________________________________________________\n",
      "add_5 (Add)                      (None, 19, 19, 728)   0           block6_sepconv3_bn[0][0]         \n",
      "                                                                   add_4[0][0]                      \n",
      "____________________________________________________________________________________________________\n",
      "block7_sepconv1_act (Activation) (None, 19, 19, 728)   0           add_5[0][0]                      \n",
      "____________________________________________________________________________________________________\n",
      "block7_sepconv1 (SeparableConv2D (None, 19, 19, 728)   536536      block7_sepconv1_act[0][0]        \n",
      "____________________________________________________________________________________________________\n",
      "block7_sepconv1_bn (BatchNormali (None, 19, 19, 728)   2912        block7_sepconv1[0][0]            \n",
      "____________________________________________________________________________________________________\n",
      "block7_sepconv2_act (Activation) (None, 19, 19, 728)   0           block7_sepconv1_bn[0][0]         \n",
      "____________________________________________________________________________________________________\n",
      "block7_sepconv2 (SeparableConv2D (None, 19, 19, 728)   536536      block7_sepconv2_act[0][0]        \n",
      "____________________________________________________________________________________________________\n",
      "block7_sepconv2_bn (BatchNormali (None, 19, 19, 728)   2912        block7_sepconv2[0][0]            \n",
      "____________________________________________________________________________________________________\n",
      "block7_sepconv3_act (Activation) (None, 19, 19, 728)   0           block7_sepconv2_bn[0][0]         \n",
      "____________________________________________________________________________________________________\n",
      "block7_sepconv3 (SeparableConv2D (None, 19, 19, 728)   536536      block7_sepconv3_act[0][0]        \n",
      "____________________________________________________________________________________________________\n",
      "block7_sepconv3_bn (BatchNormali (None, 19, 19, 728)   2912        block7_sepconv3[0][0]            \n",
      "____________________________________________________________________________________________________\n",
      "add_6 (Add)                      (None, 19, 19, 728)   0           block7_sepconv3_bn[0][0]         \n",
      "                                                                   add_5[0][0]                      \n",
      "____________________________________________________________________________________________________\n",
      "block8_sepconv1_act (Activation) (None, 19, 19, 728)   0           add_6[0][0]                      \n",
      "____________________________________________________________________________________________________\n",
      "block8_sepconv1 (SeparableConv2D (None, 19, 19, 728)   536536      block8_sepconv1_act[0][0]        \n",
      "____________________________________________________________________________________________________\n",
      "block8_sepconv1_bn (BatchNormali (None, 19, 19, 728)   2912        block8_sepconv1[0][0]            \n",
      "____________________________________________________________________________________________________\n",
      "block8_sepconv2_act (Activation) (None, 19, 19, 728)   0           block8_sepconv1_bn[0][0]         \n",
      "____________________________________________________________________________________________________\n",
      "block8_sepconv2 (SeparableConv2D (None, 19, 19, 728)   536536      block8_sepconv2_act[0][0]        \n",
      "____________________________________________________________________________________________________\n",
      "block8_sepconv2_bn (BatchNormali (None, 19, 19, 728)   2912        block8_sepconv2[0][0]            \n",
      "____________________________________________________________________________________________________\n",
      "block8_sepconv3_act (Activation) (None, 19, 19, 728)   0           block8_sepconv2_bn[0][0]         \n",
      "____________________________________________________________________________________________________\n",
      "block8_sepconv3 (SeparableConv2D (None, 19, 19, 728)   536536      block8_sepconv3_act[0][0]        \n",
      "____________________________________________________________________________________________________\n",
      "block8_sepconv3_bn (BatchNormali (None, 19, 19, 728)   2912        block8_sepconv3[0][0]            \n",
      "____________________________________________________________________________________________________\n",
      "add_7 (Add)                      (None, 19, 19, 728)   0           block8_sepconv3_bn[0][0]         \n",
      "                                                                   add_6[0][0]                      \n",
      "____________________________________________________________________________________________________\n",
      "block9_sepconv1_act (Activation) (None, 19, 19, 728)   0           add_7[0][0]                      \n",
      "____________________________________________________________________________________________________\n",
      "block9_sepconv1 (SeparableConv2D (None, 19, 19, 728)   536536      block9_sepconv1_act[0][0]        \n",
      "____________________________________________________________________________________________________\n",
      "block9_sepconv1_bn (BatchNormali (None, 19, 19, 728)   2912        block9_sepconv1[0][0]            \n",
      "____________________________________________________________________________________________________\n",
      "block9_sepconv2_act (Activation) (None, 19, 19, 728)   0           block9_sepconv1_bn[0][0]         \n",
      "____________________________________________________________________________________________________\n",
      "block9_sepconv2 (SeparableConv2D (None, 19, 19, 728)   536536      block9_sepconv2_act[0][0]        \n",
      "____________________________________________________________________________________________________\n",
      "block9_sepconv2_bn (BatchNormali (None, 19, 19, 728)   2912        block9_sepconv2[0][0]            \n",
      "____________________________________________________________________________________________________\n",
      "block9_sepconv3_act (Activation) (None, 19, 19, 728)   0           block9_sepconv2_bn[0][0]         \n",
      "____________________________________________________________________________________________________\n",
      "block9_sepconv3 (SeparableConv2D (None, 19, 19, 728)   536536      block9_sepconv3_act[0][0]        \n",
      "____________________________________________________________________________________________________\n",
      "block9_sepconv3_bn (BatchNormali (None, 19, 19, 728)   2912        block9_sepconv3[0][0]            \n",
      "____________________________________________________________________________________________________\n",
      "add_8 (Add)                      (None, 19, 19, 728)   0           block9_sepconv3_bn[0][0]         \n",
      "                                                                   add_7[0][0]                      \n",
      "____________________________________________________________________________________________________\n",
      "block10_sepconv1_act (Activation (None, 19, 19, 728)   0           add_8[0][0]                      \n",
      "____________________________________________________________________________________________________\n",
      "block10_sepconv1 (SeparableConv2 (None, 19, 19, 728)   536536      block10_sepconv1_act[0][0]       \n",
      "____________________________________________________________________________________________________\n",
      "block10_sepconv1_bn (BatchNormal (None, 19, 19, 728)   2912        block10_sepconv1[0][0]           \n",
      "____________________________________________________________________________________________________\n",
      "block10_sepconv2_act (Activation (None, 19, 19, 728)   0           block10_sepconv1_bn[0][0]        \n",
      "____________________________________________________________________________________________________\n",
      "block10_sepconv2 (SeparableConv2 (None, 19, 19, 728)   536536      block10_sepconv2_act[0][0]       \n",
      "____________________________________________________________________________________________________\n",
      "block10_sepconv2_bn (BatchNormal (None, 19, 19, 728)   2912        block10_sepconv2[0][0]           \n",
      "____________________________________________________________________________________________________\n",
      "block10_sepconv3_act (Activation (None, 19, 19, 728)   0           block10_sepconv2_bn[0][0]        \n",
      "____________________________________________________________________________________________________\n",
      "block10_sepconv3 (SeparableConv2 (None, 19, 19, 728)   536536      block10_sepconv3_act[0][0]       \n",
      "____________________________________________________________________________________________________\n",
      "block10_sepconv3_bn (BatchNormal (None, 19, 19, 728)   2912        block10_sepconv3[0][0]           \n",
      "____________________________________________________________________________________________________\n",
      "add_9 (Add)                      (None, 19, 19, 728)   0           block10_sepconv3_bn[0][0]        \n",
      "                                                                   add_8[0][0]                      \n",
      "____________________________________________________________________________________________________\n",
      "block11_sepconv1_act (Activation (None, 19, 19, 728)   0           add_9[0][0]                      \n",
      "____________________________________________________________________________________________________\n",
      "block11_sepconv1 (SeparableConv2 (None, 19, 19, 728)   536536      block11_sepconv1_act[0][0]       \n",
      "____________________________________________________________________________________________________\n",
      "block11_sepconv1_bn (BatchNormal (None, 19, 19, 728)   2912        block11_sepconv1[0][0]           \n",
      "____________________________________________________________________________________________________\n",
      "block11_sepconv2_act (Activation (None, 19, 19, 728)   0           block11_sepconv1_bn[0][0]        \n",
      "____________________________________________________________________________________________________\n",
      "block11_sepconv2 (SeparableConv2 (None, 19, 19, 728)   536536      block11_sepconv2_act[0][0]       \n",
      "____________________________________________________________________________________________________\n",
      "block11_sepconv2_bn (BatchNormal (None, 19, 19, 728)   2912        block11_sepconv2[0][0]           \n",
      "____________________________________________________________________________________________________\n",
      "block11_sepconv3_act (Activation (None, 19, 19, 728)   0           block11_sepconv2_bn[0][0]        \n",
      "____________________________________________________________________________________________________\n",
      "block11_sepconv3 (SeparableConv2 (None, 19, 19, 728)   536536      block11_sepconv3_act[0][0]       \n",
      "____________________________________________________________________________________________________\n",
      "block11_sepconv3_bn (BatchNormal (None, 19, 19, 728)   2912        block11_sepconv3[0][0]           \n",
      "____________________________________________________________________________________________________\n",
      "add_10 (Add)                     (None, 19, 19, 728)   0           block11_sepconv3_bn[0][0]        \n",
      "                                                                   add_9[0][0]                      \n",
      "____________________________________________________________________________________________________\n",
      "block12_sepconv1_act (Activation (None, 19, 19, 728)   0           add_10[0][0]                     \n",
      "____________________________________________________________________________________________________\n",
      "block12_sepconv1 (SeparableConv2 (None, 19, 19, 728)   536536      block12_sepconv1_act[0][0]       \n",
      "____________________________________________________________________________________________________\n",
      "block12_sepconv1_bn (BatchNormal (None, 19, 19, 728)   2912        block12_sepconv1[0][0]           \n",
      "____________________________________________________________________________________________________\n",
      "block12_sepconv2_act (Activation (None, 19, 19, 728)   0           block12_sepconv1_bn[0][0]        \n",
      "____________________________________________________________________________________________________\n",
      "block12_sepconv2 (SeparableConv2 (None, 19, 19, 728)   536536      block12_sepconv2_act[0][0]       \n",
      "____________________________________________________________________________________________________\n",
      "block12_sepconv2_bn (BatchNormal (None, 19, 19, 728)   2912        block12_sepconv2[0][0]           \n",
      "____________________________________________________________________________________________________\n",
      "block12_sepconv3_act (Activation (None, 19, 19, 728)   0           block12_sepconv2_bn[0][0]        \n",
      "____________________________________________________________________________________________________\n",
      "block12_sepconv3 (SeparableConv2 (None, 19, 19, 728)   536536      block12_sepconv3_act[0][0]       \n",
      "____________________________________________________________________________________________________\n",
      "block12_sepconv3_bn (BatchNormal (None, 19, 19, 728)   2912        block12_sepconv3[0][0]           \n",
      "____________________________________________________________________________________________________\n",
      "add_11 (Add)                     (None, 19, 19, 728)   0           block12_sepconv3_bn[0][0]        \n",
      "                                                                   add_10[0][0]                     \n",
      "____________________________________________________________________________________________________\n",
      "block13_sepconv1_act (Activation (None, 19, 19, 728)   0           add_11[0][0]                     \n",
      "____________________________________________________________________________________________________\n",
      "block13_sepconv1 (SeparableConv2 (None, 19, 19, 728)   536536      block13_sepconv1_act[0][0]       \n",
      "____________________________________________________________________________________________________\n",
      "block13_sepconv1_bn (BatchNormal (None, 19, 19, 728)   2912        block13_sepconv1[0][0]           \n",
      "____________________________________________________________________________________________________\n",
      "block13_sepconv2_act (Activation (None, 19, 19, 728)   0           block13_sepconv1_bn[0][0]        \n",
      "____________________________________________________________________________________________________\n",
      "block13_sepconv2 (SeparableConv2 (None, 19, 19, 1024)  752024      block13_sepconv2_act[0][0]       \n",
      "____________________________________________________________________________________________________\n",
      "block13_sepconv2_bn (BatchNormal (None, 19, 19, 1024)  4096        block13_sepconv2[0][0]           \n",
      "____________________________________________________________________________________________________\n",
      "conv2d_4 (Conv2D)                (None, 10, 10, 1024)  745472      add_11[0][0]                     \n",
      "____________________________________________________________________________________________________\n",
      "block13_pool (MaxPooling2D)      (None, 10, 10, 1024)  0           block13_sepconv2_bn[0][0]        \n",
      "____________________________________________________________________________________________________\n",
      "batch_normalization_4 (BatchNorm (None, 10, 10, 1024)  4096        conv2d_4[0][0]                   \n",
      "____________________________________________________________________________________________________\n",
      "add_12 (Add)                     (None, 10, 10, 1024)  0           block13_pool[0][0]               \n",
      "                                                                   batch_normalization_4[0][0]      \n",
      "____________________________________________________________________________________________________\n",
      "block14_sepconv1 (SeparableConv2 (None, 10, 10, 1536)  1582080     add_12[0][0]                     \n",
      "____________________________________________________________________________________________________\n",
      "block14_sepconv1_bn (BatchNormal (None, 10, 10, 1536)  6144        block14_sepconv1[0][0]           \n",
      "____________________________________________________________________________________________________\n",
      "block14_sepconv1_act (Activation (None, 10, 10, 1536)  0           block14_sepconv1_bn[0][0]        \n",
      "____________________________________________________________________________________________________\n",
      "block14_sepconv2 (SeparableConv2 (None, 10, 10, 2048)  3159552     block14_sepconv1_act[0][0]       \n",
      "____________________________________________________________________________________________________\n",
      "block14_sepconv2_bn (BatchNormal (None, 10, 10, 2048)  8192        block14_sepconv2[0][0]           \n",
      "____________________________________________________________________________________________________\n",
      "block14_sepconv2_act (Activation (None, 10, 10, 2048)  0           block14_sepconv2_bn[0][0]        \n",
      "____________________________________________________________________________________________________\n",
      "global_average_pooling2d_1 (Glob (None, 2048)          0           block14_sepconv2_act[0][0]       \n",
      "____________________________________________________________________________________________________\n",
      "dense_1 (Dense)                  (None, 1000)          2049000     global_average_pooling2d_1[0][0] \n",
      "____________________________________________________________________________________________________\n",
      "dropout (Dropout)                (None, 1000)          0           dense_1[0][0]                    \n",
      "____________________________________________________________________________________________________\n",
      "categories_dense2 (Dense)        (None, 115)           115115      dropout[0][0]                    \n",
      "____________________________________________________________________________________________________\n",
      "activation_1 (Activation)        (None, 115)           0           categories_dense2[0][0]          \n",
      "====================================================================================================\n",
      "Total params: 23,025,595\n",
      "Trainable params: 5,327,763\n",
      "Non-trainable params: 17,697,832\n",
      "____________________________________________________________________________________________________\n"
     ]
    }
   ],
   "source": [
    "model.summary()"
   ]
  },
  {
   "cell_type": "code",
   "execution_count": 59,
   "metadata": {
    "collapsed": true
   },
   "outputs": [],
   "source": [
    "img = image.load_img('./data/Images/test/n02113978-Mexican_hairless/n02113978_131.jpg', target_size=(299, 299))"
   ]
  },
  {
   "cell_type": "code",
   "execution_count": 60,
   "metadata": {
    "collapsed": true
   },
   "outputs": [],
   "source": [
    "x = image.img_to_array(img)"
   ]
  },
  {
   "cell_type": "code",
   "execution_count": 61,
   "metadata": {
    "collapsed": true
   },
   "outputs": [],
   "source": [
    "x = np.expand_dims(x, axis=0)"
   ]
  },
  {
   "cell_type": "code",
   "execution_count": 62,
   "metadata": {
    "collapsed": true
   },
   "outputs": [],
   "source": [
    "x = preprocess_input(x)"
   ]
  },
  {
   "cell_type": "code",
   "execution_count": 63,
   "metadata": {
    "collapsed": true
   },
   "outputs": [],
   "source": [
    "pred = model.predict(x)"
   ]
  },
  {
   "cell_type": "code",
   "execution_count": 64,
   "metadata": {},
   "outputs": [
    {
     "data": {
      "text/plain": [
       "array([113])"
      ]
     },
     "execution_count": 64,
     "metadata": {},
     "output_type": "execute_result"
    }
   ],
   "source": [
    "pred.argmax(axis=-1)"
   ]
  },
  {
   "cell_type": "code",
   "execution_count": 3,
   "metadata": {
    "collapsed": true
   },
   "outputs": [],
   "source": [
    "breeds = np.load('breed_indices.npy').tolist()"
   ]
  },
  {
   "cell_type": "code",
   "execution_count": 4,
   "metadata": {
    "collapsed": true
   },
   "outputs": [],
   "source": [
    "directory = './data/Images/test/'"
   ]
  },
  {
   "cell_type": "code",
   "execution_count": 125,
   "metadata": {},
   "outputs": [
    {
     "ename": "TypeError",
     "evalue": "'dict_keys' object does not support indexing",
     "output_type": "error",
     "traceback": [
      "\u001b[0;31m---------------------------------------------------------------------------\u001b[0m",
      "\u001b[0;31mTypeError\u001b[0m                                 Traceback (most recent call last)",
      "\u001b[0;32m<ipython-input-125-5b23b1c4fee2>\u001b[0m in \u001b[0;36m<module>\u001b[0;34m()\u001b[0m\n\u001b[0;32m----> 1\u001b[0;31m \u001b[0mbreeds\u001b[0m\u001b[0;34m.\u001b[0m\u001b[0mkeys\u001b[0m\u001b[0;34m(\u001b[0m\u001b[0;34m)\u001b[0m\u001b[0;34m[\u001b[0m\u001b[0;34m-\u001b[0m\u001b[0;36m1\u001b[0m\u001b[0;34m]\u001b[0m\u001b[0;34m\u001b[0m\u001b[0m\n\u001b[0m",
      "\u001b[0;31mTypeError\u001b[0m: 'dict_keys' object does not support indexing"
     ]
    }
   ],
   "source": []
  },
  {
   "cell_type": "code",
   "execution_count": 5,
   "metadata": {
    "collapsed": true
   },
   "outputs": [],
   "source": [
    "class_preds = defaultdict(list)\n",
    "for breed in breeds.keys():\n",
    "    if breed == 'not_dog':\n",
    "        continue\n",
    "    breed_dir = os.path.join(directory, breed)\n",
    "    breed_images = os.listdir(breed_dir)\n",
    "    for img in breed_images:\n",
    "        img = image.load_img(os.path.join(breed_dir, img), target_size=(299, 299))\n",
    "        x = image.img_to_array(img)\n",
    "        x = np.expand_dims(x, axis=0)\n",
    "        x = preprocess_input(x)\n",
    "        pred = model.predict(x)\n",
    "        class_pred.argmax(axis=-1):\n",
    "             class_acc[breed] += 1\n",
    "                \n",
    "    class_acc[breed] /= len(breed_images)\n",
    "    "
   ]
  },
  {
   "cell_type": "code",
   "execution_count": 6,
   "metadata": {},
   "outputs": [
    {
     "data": {
      "text/plain": [
       "defaultdict(int,\n",
       "            {'n02085620-Chihuahua': 0.19230769230769232,\n",
       "             'n02085782-Japanese_spaniel': 0.6941176470588235,\n",
       "             'n02085936-Maltese_dog': 0.7039473684210527,\n",
       "             'n02086079-Pekinese': 0.4489795918367347,\n",
       "             'n02086240-Shih-Tzu': 0.14912280701754385,\n",
       "             'n02086646-Blenheim_spaniel': 0.4772727272727273,\n",
       "             'n02086910-papillon': 0.6979166666666666,\n",
       "             'n02087046-toy_terrier': 0.25,\n",
       "             'n02087394-Rhodesian_ridgeback': 0.18055555555555555,\n",
       "             'n02088094-Afghan_hound': 0.7985611510791367,\n",
       "             'n02088238-basset': 0.3466666666666667,\n",
       "             'n02088364-beagle': 0.4105263157894737,\n",
       "             'n02088466-bloodhound': 0.3563218390804598,\n",
       "             'n02088632-bluetick': 0.04225352112676056,\n",
       "             'n02089078-black-and-tan_coonhound': 0.06779661016949153,\n",
       "             'n02089867-Walker_hound': 0.33962264150943394,\n",
       "             'n02089973-English_foxhound': 0.42105263157894735,\n",
       "             'n02090379-redbone': 0.0625,\n",
       "             'n02090622-borzoi': 0.49019607843137253,\n",
       "             'n02090721-Irish_wolfhound': 0.17796610169491525,\n",
       "             'n02091032-Italian_greyhound': 0.15853658536585366,\n",
       "             'n02091134-whippet': 0.39080459770114945,\n",
       "             'n02091244-Ibizan_hound': 0.6704545454545454,\n",
       "             'n02091467-Norwegian_elkhound': 0.3125,\n",
       "             'n02091635-otterhound': 0.2549019607843137,\n",
       "             'n02091831-Saluki': 0.59,\n",
       "             'n02092002-Scottish_deerhound': 0.1590909090909091,\n",
       "             'n02092339-Weimaraner': 0.6833333333333333,\n",
       "             'n02093256-Staffordshire_bullterrier': 0.14545454545454545,\n",
       "             'n02093428-American_Staffordshire_terrier': 0.5625,\n",
       "             'n02093647-Bedlington_terrier': 0.573170731707317,\n",
       "             'n02093754-Border_terrier': 0.1111111111111111,\n",
       "             'n02093859-Kerry_blue_terrier': 0.4177215189873418,\n",
       "             'n02093991-Irish_terrier': 0.2608695652173913,\n",
       "             'n02094114-Norfolk_terrier': 0.4166666666666667,\n",
       "             'n02094258-Norwich_terrier': 0.2823529411764706,\n",
       "             'n02094433-Yorkshire_terrier': 0.3125,\n",
       "             'n02095314-wire-haired_fox_terrier': 0.5789473684210527,\n",
       "             'n02095570-Lakeland_terrier': 0.18556701030927836,\n",
       "             'n02095889-Sealyham_terrier': 0.6176470588235294,\n",
       "             'n02096051-Airedale': 0.06862745098039216,\n",
       "             'n02096177-cairn': 0.13402061855670103,\n",
       "             'n02096294-Australian_terrier': 0.21875,\n",
       "             'n02096437-Dandie_Dinmont': 0.25,\n",
       "             'n02096585-Boston_bull': 0.04878048780487805,\n",
       "             'n02097047-miniature_schnauzer': 0.37037037037037035,\n",
       "             'n02097130-giant_schnauzer': 0.14035087719298245,\n",
       "             'n02097209-standard_schnauzer': 0.21818181818181817,\n",
       "             'n02097298-Scotch_terrier': 0.25862068965517243,\n",
       "             'n02097474-Tibetan_terrier': 0.4056603773584906,\n",
       "             'n02097658-silky_terrier': 0.08433734939759036,\n",
       "             'n02098105-soft-coated_wheaten_terrier': 0.125,\n",
       "             'n02098286-West_Highland_white_terrier': 0.43478260869565216,\n",
       "             'n02098413-Lhasa': 0.43023255813953487,\n",
       "             'n02099267-flat-coated_retriever': 0.15384615384615385,\n",
       "             'n02099429-curly-coated_retriever': 0.1568627450980392,\n",
       "             'n02099601-golden_retriever': 0.34,\n",
       "             'n02099712-Labrador_retriever': 0.43661971830985913,\n",
       "             'n02099849-Chesapeake_Bay_retriever': 0.14925373134328357,\n",
       "             'n02100236-German_short-haired_pointer': 0.25,\n",
       "             'n02100583-vizsla': 0.35185185185185186,\n",
       "             'n02100735-English_setter': 0.7213114754098361,\n",
       "             'n02100877-Irish_setter': 0.18181818181818182,\n",
       "             'n02101006-Gordon_setter': 0.03773584905660377,\n",
       "             'n02101388-Brittany_spaniel': 0.6346153846153846,\n",
       "             'n02101556-clumber': 0.52,\n",
       "             'n02102040-English_springer': 0.1864406779661017,\n",
       "             'n02102177-Welsh_springer_spaniel': 0.12,\n",
       "             'n02102318-cocker_spaniel': 0.4406779661016949,\n",
       "             'n02102480-Sussex_spaniel': 0.4117647058823529,\n",
       "             'n02102973-Irish_water_spaniel': 0.14,\n",
       "             'n02104029-kuvasz': 0.24,\n",
       "             'n02104365-schipperke': 0.35185185185185186,\n",
       "             'n02105056-groenendael': 0.42,\n",
       "             'n02105162-malinois': 0.08,\n",
       "             'n02105251-briard': 0.17307692307692307,\n",
       "             'n02105505-komondor': 0.6111111111111112,\n",
       "             'n02105641-Old_English_sheepdog': 0.5942028985507246,\n",
       "             'n02105855-Shetland_sheepdog': 0.47368421052631576,\n",
       "             'n02106030-collie': 0.33962264150943394,\n",
       "             'n02106166-Border_collie': 0.08,\n",
       "             'n02106382-Bouvier_des_Flandres': 0.24,\n",
       "             'n02106550-Rottweiler': 0.019230769230769232,\n",
       "             'n02106662-German_shepherd': 0.057692307692307696,\n",
       "             'n02107142-Doberman': 0.06,\n",
       "             'n02107312-miniature_pinscher': 0.023809523809523808,\n",
       "             'n02107574-Greater_Swiss_Mountain_dog': 0.07352941176470588,\n",
       "             'n02107683-Bernese_mountain_dog': 0.13559322033898305,\n",
       "             'n02107908-Appenzeller': 0.0196078431372549,\n",
       "             'n02108000-EntleBucher': 0.19607843137254902,\n",
       "             'n02108089-boxer': 0.13725490196078433,\n",
       "             'n02108422-bull_mastiff': 0.35714285714285715,\n",
       "             'n02108551-Tibetan_mastiff': 0.28846153846153844,\n",
       "             'n02108915-French_bulldog': 0.5423728813559322,\n",
       "             'n02109047-Great_Dane': 0.5892857142857143,\n",
       "             'n02109525-Saint_Bernard': 0.35714285714285715,\n",
       "             'n02109961-Eskimo_dog': 0.1,\n",
       "             'n02110063-malamute': 0.21794871794871795,\n",
       "             'n02110185-Siberian_husky': 0.6739130434782609,\n",
       "             'n02110627-affenpinscher': 0.08,\n",
       "             'n02110806-basenji': 0.47706422018348627,\n",
       "             'n02110958-pug': 0.28,\n",
       "             'n02111129-Leonberg': 0.14545454545454545,\n",
       "             'n02111277-Newfoundland': 0.11578947368421053,\n",
       "             'n02111500-Great_Pyrenees': 0.584070796460177,\n",
       "             'n02111889-Samoyed': 0.9830508474576272,\n",
       "             'n02112018-Pomeranian': 0.7310924369747899,\n",
       "             'n02112137-chow': 0.5625,\n",
       "             'n02112350-keeshond': 0.39655172413793105,\n",
       "             'n02112706-Brabancon_griffon': 0.2641509433962264,\n",
       "             'n02113023-Pembroke': 0.4074074074074074,\n",
       "             'n02113186-Cardigan': 0.2727272727272727,\n",
       "             'n02113799-standard_poodle': 0.4406779661016949,\n",
       "             'n02113978-Mexican_hairless': 0.4727272727272727})"
      ]
     },
     "execution_count": 6,
     "metadata": {},
     "output_type": "execute_result"
    }
   ],
   "source": [
    "class_acc"
   ]
  },
  {
   "cell_type": "code",
   "execution_count": 108,
   "metadata": {},
   "outputs": [
    {
     "data": {
      "text/plain": [
       "0.4727272727272727"
      ]
     },
     "execution_count": 108,
     "metadata": {},
     "output_type": "execute_result"
    }
   ],
   "source": [
    "count/len(os.listdir(directory))"
   ]
  },
  {
   "cell_type": "code",
   "execution_count": 7,
   "metadata": {
    "collapsed": true
   },
   "outputs": [],
   "source": [
    "np.save('breed_acc.npy', class_acc)"
   ]
  },
  {
   "cell_type": "code",
   "execution_count": 86,
   "metadata": {
    "collapsed": true
   },
   "outputs": [],
   "source": [
    "breeds = np.load('breed_indices.npy').tolist()"
   ]
  },
  {
   "cell_type": "code",
   "execution_count": 11,
   "metadata": {
    "collapsed": true
   },
   "outputs": [],
   "source": [
    "import matplotlib.pyplot as plt"
   ]
  },
  {
   "cell_type": "code",
   "execution_count": 12,
   "metadata": {
    "collapsed": true
   },
   "outputs": [],
   "source": [
    "%matplotlib inline"
   ]
  },
  {
   "cell_type": "code",
   "execution_count": 25,
   "metadata": {},
   "outputs": [
    {
     "data": {
      "text/plain": [
       "<Container object of 114 artists>"
      ]
     },
     "execution_count": 25,
     "metadata": {},
     "output_type": "execute_result"
    },
    {
     "data": {
      "image/png": "[encoded data removed]",
      "text/plain": [
       "<matplotlib.figure.Figure at 0x7f1f481474a8>"
      ]
     },
     "metadata": {},
     "output_type": "display_data"
    }
   ],
   "source": [
    "plt.bar(np.arange(len(accuracies)), sorted(accuracies))"
   ]
  },
  {
   "cell_type": "code",
   "execution_count": 32,
   "metadata": {
    "collapsed": true
   },
   "outputs": [],
   "source": [
    "y = [np.array([3, 5, 6])]"
   ]
  },
  {
   "cell_type": "code",
   "execution_count": 34,
   "metadata": {
    "collapsed": true
   },
   "outputs": [],
   "source": [
    "y.append(np.array([3, 6, 6]))"
   ]
  },
  {
   "cell_type": "code",
   "execution_count": 35,
   "metadata": {},
   "outputs": [
    {
     "data": {
      "text/plain": [
       "[array([3, 5, 6]), array([3, 6, 6])]"
      ]
     },
     "execution_count": 35,
     "metadata": {},
     "output_type": "execute_result"
    }
   ],
   "source": [
    "y"
   ]
  },
  {
   "cell_type": "code",
   "execution_count": 87,
   "metadata": {
    "collapsed": true
   },
   "outputs": [],
   "source": [
    "first_dense_output = K.function([model.layers[0].input, K.learning_phase()],\n",
    "                                  [model.layers[-3].output])"
   ]
  },
  {
   "cell_type": "code",
   "execution_count": 88,
   "metadata": {
    "collapsed": true
   },
   "outputs": [],
   "source": [
    "second_dense_output = K.function([model.layers[0].input, K.learning_phase()],\n",
    "                                  [model.layers[-2].output])"
   ]
  },
  {
   "cell_type": "code",
   "execution_count": 90,
   "metadata": {
    "collapsed": true
   },
   "outputs": [],
   "source": [
    "breed_first_dense = defaultdict(list)\n",
    "breed_second_dense = defaultdict(list)\n",
    "for breed in breeds.keys():\n",
    "    breed_dir = os.path.join(directory, breed)\n",
    "    breed_images = os.listdir(breed_dir)\n",
    "    for img in breed_images:\n",
    "        img = image.load_img(os.path.join(breed_dir, img), target_size=(299, 299))\n",
    "        x = image.img_to_array(img)\n",
    "        x = np.expand_dims(x, axis=0)\n",
    "        x = preprocess_input(x)\n",
    "\n",
    "        breed_first_dense[breed].append(list(first_dense_output([x, 0])))\n",
    "        breed_second_dense[breed].append(list(second_dense_output([x, 0])))\n",
    "                "
   ]
  },
  {
   "cell_type": "code",
   "execution_count": 96,
   "metadata": {
    "collapsed": true,
    "scrolled": false
   },
   "outputs": [],
   "source": [
    "np.save('test_second_layer.npy', breed_second_dense)"
   ]
  },
  {
   "cell_type": "code",
   "execution_count": 97,
   "metadata": {
    "collapsed": true
   },
   "outputs": [],
   "source": [
    "np.save('test_first_layer.npy', breed_first_dense)"
   ]
  },
  {
   "cell_type": "code",
   "execution_count": 130,
   "metadata": {
    "collapsed": true
   },
   "outputs": [],
   "source": [
    "second_dense_avg = dict()\n",
    "for breed, vectors in breed_second_dense.items():\n",
    "    vector_sum = np.zeros_like(vectors[0][0][0])\n",
    "    for vector in vectors:\n",
    "        vector_sum += vector[0][0]\n",
    "    second_dense_avg[breed] = vector_sum/len(vectors)"
   ]
  },
  {
   "cell_type": "code",
   "execution_count": 131,
   "metadata": {},
   "outputs": [
    {
     "data": {
      "text/plain": [
       "array([ 0.33011729,  1.30627155, -0.06499024,  0.35378909, -0.4241001 ,\n",
       "       -0.51912665,  1.38026488, -0.09033717, -1.00918996, -0.99526066,\n",
       "       -1.24197304,  0.06910338, -1.65910769,  0.0551159 , -1.9337014 ,\n",
       "       -0.5928508 , -0.80293477, -1.09146953,  2.15480733, -0.49237236,\n",
       "       -1.20351481, -0.62583011, -0.34841684,  3.81540275, -1.41887963,\n",
       "        1.35484719, -1.39254737,  0.04605744, -1.0911957 , -0.07586011,\n",
       "        0.56740844, -1.60294628, -0.37931722, -0.93318176, -0.18422531,\n",
       "       -0.23212184, -1.00265193, -0.39912891,  0.29542452, -1.05056345,\n",
       "       -0.04772978, -1.77292693, -2.10403132, -0.66768897, -0.51567882,\n",
       "       -0.24218544, -0.866799  , -0.62420356, -1.18627107, -0.2594147 ,\n",
       "       -0.98190945, -1.54377079,  0.74595588, -0.22448906, -1.27570057,\n",
       "       -0.8279379 ,  0.31278726,  0.17571101,  0.51871473, -0.14146376,\n",
       "       -0.13703248,  0.66723645, -0.52700347, -1.99188364,  0.46581176,\n",
       "        0.6775437 ,  0.29330438, -1.42271781, -1.29297483, -0.45686129,\n",
       "       -1.07826698,  3.24680257,  1.11046815,  0.6734271 , -0.87746692,\n",
       "       -1.2715168 , -0.62887859,  1.8954798 ,  1.91775358,  2.51261902,\n",
       "        1.92827702, -1.39878964, -1.74502659,  0.85339123, -1.39054251,\n",
       "       -1.26275158, -0.88758516, -0.74706995, -1.61456633, -2.29029679,\n",
       "       -1.83302391, -1.86155856,  1.30556607, -0.68906063, -0.28376657,\n",
       "       -0.27421987,  7.90235996,  7.83014154,  8.56033516, -2.41949439,\n",
       "       -0.3572928 , -0.41551009, -0.31837356, -0.1309406 ,  4.39860725,\n",
       "        6.81769133,  2.69705796,  1.78784943,  2.56282854, -2.02358985,\n",
       "        0.9538464 ,  0.47494119,  1.01610374, -2.15323687,  1.52114296], dtype=float32)"
      ]
     },
     "execution_count": 131,
     "metadata": {},
     "output_type": "execute_result"
    }
   ],
   "source": [
    "second_dense_avg['n02110063-malamute']"
   ]
  },
  {
   "cell_type": "code",
   "execution_count": 139,
   "metadata": {
    "collapsed": true
   },
   "outputs": [],
   "source": [
    "second_dense_max = dict()\n",
    "for breed, vectors in breed_second_dense.items():\n",
    "    vector_max = np.zeros_like(vectors[0][0][0])\n",
    "    vector_max -= 100\n",
    "    for vector in vectors:\n",
    "        vector_max = np.maximum(vector[0][0], vector_max)\n",
    "    second_dense_max[breed] = vector_max"
   ]
  },
  {
   "cell_type": "code",
   "execution_count": 142,
   "metadata": {
    "collapsed": true
   },
   "outputs": [],
   "source": [
    "np.save('breed_max_vec.npy', second_dense_max)"
   ]
  },
  {
   "cell_type": "code",
   "execution_count": 144,
   "metadata": {},
   "outputs": [
    {
     "data": {
      "text/plain": [
       "89"
      ]
     },
     "execution_count": 144,
     "metadata": {},
     "output_type": "execute_result"
    }
   ],
   "source": [
    "second_dense_max['n02108000-EntleBucher'].argmax()"
   ]
  },
  {
   "cell_type": "markdown",
   "metadata": {
    "collapsed": true
   },
   "source": [
    "### Confusion matrix"
   ]
  },
  {
   "cell_type": "code",
   "execution_count": 2,
   "metadata": {
    "collapsed": true
   },
   "outputs": [],
   "source": [
    "breeds = np.load('breed_indices.npy').tolist()"
   ]
  },
  {
   "cell_type": "code",
   "execution_count": 12,
   "metadata": {},
   "outputs": [],
   "source": [
    "second_dense = np.load('test_second_layer.npy').tolist()"
   ]
  },
  {
   "cell_type": "code",
   "execution_count": 118,
   "metadata": {},
   "outputs": [],
   "source": [
    "confusion = np.zeros((len(breeds), len(breeds)))\n",
    "for breed, index in breeds.items():\n",
    "    for vector in second_dense[breed]:\n",
    "        best_guess = vector[0][0].argmax(axis=-1)\n",
    "        confusion[index][best_guess] += 1\n",
    "    confusion[index] = confusion[index]/confusion[index].sum()"
   ]
  },
  {
   "cell_type": "code",
   "execution_count": 137,
   "metadata": {},
   "outputs": [
    {
     "data": {
      "image/png": "[encoded data removed]",
      "text/plain": [
       "<matplotlib.figure.Figure at 0x7fd4716b3f28>"
      ]
     },
     "metadata": {},
     "output_type": "display_data"
    }
   ],
   "source": [
    "fig, ax = plt.subplots(figsize=(12, 10))\n",
    "\n",
    "\n",
    "sns.heatmap(confusion, ax = ax,\n",
    "            xticklabels=10, yticklabels=10,\n",
    "            cbar_kws={'label' : 'Normalized Class Predictions'},\n",
    "            cmap=\"magma\")\n",
    "ax.set_xlabel(\"Selected Class\")\n",
    "ax.set_ylabel(\"Actual Class\")\n",
    "fig.savefig('confusion_matrix.png', fmt='png', dpi=600, bbox_inches='tight')\n",
    "plt.show();"
   ]
  },
  {
   "cell_type": "code",
   "execution_count": 131,
   "metadata": {},
   "outputs": [
    {
     "data": {
      "text/plain": [
       "array([ 0.19230769,  0.        ,  0.        ,  0.        ,  0.        ,\n",
       "        0.        ,  0.03846154,  0.01923077,  0.        ,  0.        ,\n",
       "        0.        ,  0.        ,  0.        ,  0.        ,  0.        ,\n",
       "        0.        ,  0.        ,  0.        ,  0.        ,  0.        ,\n",
       "        0.        ,  0.        ,  0.        ,  0.        ,  0.        ,\n",
       "        0.        ,  0.        ,  0.        ,  0.        ,  0.01923077,\n",
       "        0.        ,  0.        ,  0.        ,  0.        ,  0.        ,\n",
       "        0.        ,  0.        ,  0.        ,  0.03846154,  0.        ,\n",
       "        0.        ,  0.        ,  0.        ,  0.        ,  0.        ,\n",
       "        0.        ,  0.        ,  0.        ,  0.        ,  0.        ,\n",
       "        0.        ,  0.        ,  0.        ,  0.        ,  0.        ,\n",
       "        0.        ,  0.        ,  0.03846154,  0.01923077,  0.        ,\n",
       "        0.        ,  0.        ,  0.        ,  0.        ,  0.        ,\n",
       "        0.        ,  0.        ,  0.        ,  0.        ,  0.        ,\n",
       "        0.        ,  0.        ,  0.        ,  0.        ,  0.        ,\n",
       "        0.        ,  0.        ,  0.        ,  0.        ,  0.        ,\n",
       "        0.        ,  0.        ,  0.        ,  0.        ,  0.        ,\n",
       "        0.        ,  0.        ,  0.        ,  0.        ,  0.        ,\n",
       "        0.        ,  0.        ,  0.        ,  0.03846154,  0.        ,\n",
       "        0.        ,  0.03846154,  0.        ,  0.15384615,  0.        ,\n",
       "        0.        ,  0.        ,  0.        ,  0.        ,  0.01923077,\n",
       "        0.07692308,  0.01923077,  0.        ,  0.        ,  0.        ,\n",
       "        0.        ,  0.        ,  0.        ,  0.        ,  0.28846154])"
      ]
     },
     "execution_count": 131,
     "metadata": {},
     "output_type": "execute_result"
    }
   ],
   "source": [
    "confusion[0]"
   ]
  },
  {
   "cell_type": "code",
   "execution_count": null,
   "metadata": {},
   "outputs": [],
   "source": []
  },
  {
   "cell_type": "code",
   "execution_count": 103,
   "metadata": {},
   "outputs": [
    {
     "data": {
      "text/plain": [
       "(115, 115)"
      ]
     },
     "execution_count": 103,
     "metadata": {},
     "output_type": "execute_result"
    }
   ],
   "source": [
    "confusion.shape"
   ]
  },
  {
   "cell_type": "code",
   "execution_count": null,
   "metadata": {
    "collapsed": true
   },
   "outputs": [],
   "source": []
  }
 ],
 "metadata": {
  "kernelspec": {
   "display_name": "Python 3",
   "language": "python",
   "name": "python3"
  },
  "language_info": {
   "codemirror_mode": {
    "name": "ipython",
    "version": 3
   },
   "file_extension": ".py",
   "mimetype": "text/x-python",
   "name": "python",
   "nbconvert_exporter": "python",
   "pygments_lexer": "ipython3",
   "version": "3.6.2"
  }
 },
 "nbformat": 4,
 "nbformat_minor": 2
}
